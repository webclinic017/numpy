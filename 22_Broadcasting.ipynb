{
  "nbformat": 4,
  "nbformat_minor": 5,
  "metadata": {
    "hide_input": false,
    "kernelspec": {
      "display_name": "Python 3",
      "language": "python",
      "name": "python3"
    },
    "language_info": {
      "codemirror_mode": {
        "name": "ipython",
        "version": 3
      },
      "file_extension": ".py",
      "mimetype": "text/x-python",
      "name": "python",
      "nbconvert_exporter": "python",
      "pygments_lexer": "ipython3",
      "version": "3.7.10"
    },
    "toc": {
      "base_numbering": 1,
      "nav_menu": {},
      "number_sections": false,
      "sideBar": true,
      "skip_h1_title": true,
      "title_cell": "Table of Contents",
      "title_sidebar": "Contents",
      "toc_cell": false,
      "toc_position": {},
      "toc_section_display": true,
      "toc_window_display": false
    },
    "colab": {
      "name": "22_Broadcasting.ipynb",
      "provenance": [],
      "include_colab_link": true
    }
  },
  "cells": [
    {
      "cell_type": "markdown",
      "metadata": {
        "id": "view-in-github",
        "colab_type": "text"
      },
      "source": [
        "<a href=\"https://colab.research.google.com/github/patelsaumya/numpy/blob/master/22_Broadcasting.ipynb\" target=\"_parent\"><img src=\"https://colab.research.google.com/assets/colab-badge.svg\" alt=\"Open In Colab\"/></a>"
      ]
    },
    {
      "cell_type": "markdown",
      "metadata": {
        "id": "80cf7b33"
      },
      "source": [
        "<div style=\"color:#006666; padding:0px 10px; border-radius:5px; font-size:18px; text-align:center\"><h1 style='margin:10px 5px'>Broadcasting</h1>\n",
        "<hr>\n",
        "<p style=\"color:#006666; text-align:right;font-size:10px\">\n",
        "Copyright by MachineLearningPlus. All Rights Reserved.\n",
        "</p>\n",
        "\n",
        "</div>"
      ],
      "id": "80cf7b33"
    },
    {
      "cell_type": "markdown",
      "metadata": {
        "id": "59a6903d"
      },
      "source": [
        "Broadcasting determines how mathematical operations are handled by arrays of different shapes. \n",
        "\n",
        "Numpy intuitively does the right thing, when you try to multiply, add or do some for of math between differently.  \n",
        "\n",
        "1. Subject to certain constraints, the smaller array is “broadcast” across the larger array so that they have compatible shapes. \n",
        "2. Broadcasting provides a means of vectorizing array operations so that looping occurs in C instead of Python. \n",
        "3. It does this without making needless copies of data and usually leads to efficient algorithm implementations. \n",
        "\n",
        "A simple example of broadcasting is simply to multiply an array by a scalar (number). Numpy knows what you intend to compute and simply does it."
      ],
      "id": "59a6903d"
    },
    {
      "cell_type": "code",
      "metadata": {
        "id": "d3238898",
        "outputId": "241daae8-e56c-4176-a5b4-a31bfaa1b358"
      },
      "source": [
        "import numpy as np\n",
        "arr = np.arange(10)\n",
        "arr"
      ],
      "id": "d3238898",
      "execution_count": null,
      "outputs": [
        {
          "data": {
            "text/plain": [
              "array([0, 1, 2, 3, 4, 5, 6, 7, 8, 9])"
            ]
          },
          "execution_count": 2,
          "metadata": {},
          "output_type": "execute_result"
        }
      ]
    },
    {
      "cell_type": "markdown",
      "metadata": {
        "id": "e32cfcc3"
      },
      "source": [
        "Broadcast multiplication by 2 to all elements."
      ],
      "id": "e32cfcc3"
    },
    {
      "cell_type": "code",
      "metadata": {
        "id": "09977b95",
        "outputId": "d7cbae26-3c19-4d8f-b6b1-3b8fee199cec"
      },
      "source": [
        "arr * 2"
      ],
      "id": "09977b95",
      "execution_count": null,
      "outputs": [
        {
          "data": {
            "text/plain": [
              "array([ 0,  2,  4,  6,  8, 10, 12, 14, 16, 18])"
            ]
          },
          "execution_count": 4,
          "metadata": {},
          "output_type": "execute_result"
        }
      ]
    },
    {
      "cell_type": "markdown",
      "metadata": {
        "id": "ae3044d7"
      },
      "source": [
        "![image-2.png](attachment:image-2.png)\n",
        "\n",
        "[Image Source](https://jakevdp.github.io/PythonDataScienceHandbook/02.05-computation-on-arrays-broadcasting.html)"
      ],
      "id": "ae3044d7"
    },
    {
      "cell_type": "markdown",
      "metadata": {
        "id": "a833f653"
      },
      "source": [
        "<div class=\"alert alert-info\" style=\"background-color:#006666; color:white; padding:0px 10px; border-radius:5px;\"><h2 style='margin:7px 5px; font-size:16px'>2D Example</h2>\n",
        "</div>"
      ],
      "id": "a833f653"
    },
    {
      "cell_type": "code",
      "metadata": {
        "id": "ae0944ce",
        "outputId": "1fdcd46b-1c7d-408a-a8a9-70fa91311657"
      },
      "source": [
        "arr_2d = np.random.randint(1, 12, size=(5,3))\n",
        "arr_2d"
      ],
      "id": "ae0944ce",
      "execution_count": null,
      "outputs": [
        {
          "data": {
            "text/plain": [
              "array([[ 7,  7,  4],\n",
              "       [ 2,  5,  5],\n",
              "       [ 3,  4, 11],\n",
              "       [ 8,  2, 11],\n",
              "       [ 6,  8, 10]])"
            ]
          },
          "execution_count": 3,
          "metadata": {},
          "output_type": "execute_result"
        }
      ]
    },
    {
      "cell_type": "code",
      "metadata": {
        "id": "2c0508d6",
        "outputId": "8254bb5b-7c13-4123-89f1-1a97633b0714"
      },
      "source": [
        "mean_cols = arr_2d.mean(axis=0)\n",
        "mean_cols"
      ],
      "id": "2c0508d6",
      "execution_count": null,
      "outputs": [
        {
          "data": {
            "text/plain": [
              "array([4.2, 3.6, 5. ])"
            ]
          },
          "execution_count": 11,
          "metadata": {},
          "output_type": "execute_result"
        }
      ]
    },
    {
      "cell_type": "markdown",
      "metadata": {
        "id": "39f4fb8b"
      },
      "source": [
        "Suppose you want to subtract the mean from every row, you can simply subtract. __NumPy takes care of how to align the axis automatically and broadcast it__."
      ],
      "id": "39f4fb8b"
    },
    {
      "cell_type": "code",
      "metadata": {
        "scrolled": true,
        "id": "b0c41067",
        "outputId": "ba36ab53-4f5e-4c95-8a88-bd2d6c6304da"
      },
      "source": [
        "arr_2d - mean_cols"
      ],
      "id": "b0c41067",
      "execution_count": null,
      "outputs": [
        {
          "data": {
            "text/plain": [
              "array([[-2.2, -2.6,  1. ],\n",
              "       [ 0.8, -0.6, -2. ],\n",
              "       [-2.2,  0.4,  5. ],\n",
              "       [ 4.8,  0.4, -4. ],\n",
              "       [-1.2,  2.4,  0. ]])"
            ]
          },
          "execution_count": 12,
          "metadata": {},
          "output_type": "execute_result"
        }
      ]
    },
    {
      "cell_type": "markdown",
      "metadata": {
        "id": "3052d726"
      },
      "source": [
        "__Subtract row means__\n",
        "\n",
        "To do this, you need to explicitly reshape `mean_rows` to align vertically with `arr_2d` and then do the subtraction."
      ],
      "id": "3052d726"
    },
    {
      "cell_type": "code",
      "metadata": {
        "id": "0f705c1d",
        "outputId": "d7309b56-0dce-4d51-c51d-37b6a4f412dc"
      },
      "source": [
        "mean_rows = arr_2d.mean(axis=1)\n",
        "mean_rows"
      ],
      "id": "0f705c1d",
      "execution_count": null,
      "outputs": [
        {
          "data": {
            "text/plain": [
              "array([6., 4., 6., 7., 8.])"
            ]
          },
          "execution_count": 4,
          "metadata": {},
          "output_type": "execute_result"
        }
      ]
    },
    {
      "cell_type": "code",
      "metadata": {
        "id": "2d5e7ddb",
        "outputId": "0b30066c-cf73-4b96-aa4a-2dd800c06d34"
      },
      "source": [
        "# Won't work!\n",
        "arr_2d - mean_rows"
      ],
      "id": "2d5e7ddb",
      "execution_count": null,
      "outputs": [
        {
          "ename": "ValueError",
          "evalue": "operands could not be broadcast together with shapes (5,3) (5,) ",
          "output_type": "error",
          "traceback": [
            "\u001b[1;31m---------------------------------------------------------------------------\u001b[0m",
            "\u001b[1;31mValueError\u001b[0m                                Traceback (most recent call last)",
            "\u001b[1;32m<ipython-input-5-9b32c1bc5692>\u001b[0m in \u001b[0;36m<module>\u001b[1;34m\u001b[0m\n\u001b[0;32m      1\u001b[0m \u001b[1;31m# Won't work!\u001b[0m\u001b[1;33m\u001b[0m\u001b[1;33m\u001b[0m\u001b[1;33m\u001b[0m\u001b[0m\n\u001b[1;32m----> 2\u001b[1;33m \u001b[0marr_2d\u001b[0m \u001b[1;33m-\u001b[0m \u001b[0mmean_rows\u001b[0m\u001b[1;33m\u001b[0m\u001b[1;33m\u001b[0m\u001b[0m\n\u001b[0m",
            "\u001b[1;31mValueError\u001b[0m: operands could not be broadcast together with shapes (5,3) (5,) "
          ]
        }
      ]
    },
    {
      "cell_type": "code",
      "metadata": {
        "id": "2cd2172b",
        "outputId": "a36f9af1-5463-43e9-ddce-d61cd499ff9a"
      },
      "source": [
        "arr_2d - mean_rows.reshape(5, 1)"
      ],
      "id": "2cd2172b",
      "execution_count": null,
      "outputs": [
        {
          "data": {
            "text/plain": [
              "array([[ 1.,  1., -2.],\n",
              "       [-2.,  1.,  1.],\n",
              "       [-3., -2.,  5.],\n",
              "       [ 1., -5.,  4.],\n",
              "       [-2.,  0.,  2.]])"
            ]
          },
          "execution_count": 6,
          "metadata": {},
          "output_type": "execute_result"
        }
      ]
    },
    {
      "cell_type": "markdown",
      "metadata": {
        "id": "3b101e66"
      },
      "source": [
        "<div class=\"alert alert-info\" style=\"background-color:#006666; color:white; padding:0px 10px; border-radius:5px;\"><h2 style='margin:7px 5px; font-size:16px'>Mini Challenge</h2>\n",
        "</div>\n",
        "\n",
        "Scale every row of the following two dimensional array. That is, subtract every row by its mean and then divide by its standard deviation. By doing this, every row should have mean = 0 and sd = 1.\n",
        "\n",
        "```python\n",
        "import numpy as np\n",
        "np.random.seed(100)\n",
        "X = np.random.random((10, 7)).round(3)\n",
        "```\n",
        "\n",
        "__Code URL:__ https://git.io/Jn13u"
      ],
      "id": "3b101e66"
    },
    {
      "cell_type": "markdown",
      "metadata": {
        "id": "9467f414"
      },
      "source": [
        "__Solution__"
      ],
      "id": "9467f414"
    },
    {
      "cell_type": "code",
      "metadata": {
        "id": "f7100cb5"
      },
      "source": [
        ""
      ],
      "id": "f7100cb5",
      "execution_count": null,
      "outputs": []
    },
    {
      "cell_type": "code",
      "metadata": {
        "id": "b4e20d00"
      },
      "source": [
        ""
      ],
      "id": "b4e20d00",
      "execution_count": null,
      "outputs": []
    },
    {
      "cell_type": "code",
      "metadata": {
        "id": "2eb0e099"
      },
      "source": [
        ""
      ],
      "id": "2eb0e099",
      "execution_count": null,
      "outputs": []
    },
    {
      "cell_type": "code",
      "metadata": {
        "id": "9fb6d0ab"
      },
      "source": [
        ""
      ],
      "id": "9fb6d0ab",
      "execution_count": null,
      "outputs": []
    },
    {
      "cell_type": "code",
      "metadata": {
        "id": "c174a4f2"
      },
      "source": [
        ""
      ],
      "id": "c174a4f2",
      "execution_count": null,
      "outputs": []
    },
    {
      "cell_type": "code",
      "metadata": {
        "id": "4a61df1f"
      },
      "source": [
        ""
      ],
      "id": "4a61df1f",
      "execution_count": null,
      "outputs": []
    },
    {
      "cell_type": "code",
      "metadata": {
        "id": "481db93b"
      },
      "source": [
        ""
      ],
      "id": "481db93b",
      "execution_count": null,
      "outputs": []
    },
    {
      "cell_type": "code",
      "metadata": {
        "id": "951f8c7e"
      },
      "source": [
        ""
      ],
      "id": "951f8c7e",
      "execution_count": null,
      "outputs": []
    },
    {
      "cell_type": "code",
      "metadata": {
        "id": "b1eceb61"
      },
      "source": [
        ""
      ],
      "id": "b1eceb61",
      "execution_count": null,
      "outputs": []
    },
    {
      "cell_type": "code",
      "metadata": {
        "id": "b9133c6c"
      },
      "source": [
        ""
      ],
      "id": "b9133c6c",
      "execution_count": null,
      "outputs": []
    },
    {
      "cell_type": "code",
      "metadata": {
        "id": "61392fd4"
      },
      "source": [
        ""
      ],
      "id": "61392fd4",
      "execution_count": null,
      "outputs": []
    },
    {
      "cell_type": "code",
      "metadata": {
        "id": "5b0c295f"
      },
      "source": [
        ""
      ],
      "id": "5b0c295f",
      "execution_count": null,
      "outputs": []
    },
    {
      "cell_type": "code",
      "metadata": {
        "id": "8c4fa366"
      },
      "source": [
        ""
      ],
      "id": "8c4fa366",
      "execution_count": null,
      "outputs": []
    },
    {
      "cell_type": "code",
      "metadata": {
        "id": "596d3450"
      },
      "source": [
        ""
      ],
      "id": "596d3450",
      "execution_count": null,
      "outputs": []
    },
    {
      "cell_type": "code",
      "metadata": {
        "id": "e6eb8e3e"
      },
      "source": [
        "import numpy as np\n",
        "np.random.seed(100)\n",
        "X = np.random.random((10, 7)).round(3)"
      ],
      "id": "e6eb8e3e",
      "execution_count": null,
      "outputs": []
    },
    {
      "cell_type": "code",
      "metadata": {
        "id": "f6d817be",
        "outputId": "6dd4ccfe-f7c7-458f-b078-7550b5d9c9c6"
      },
      "source": [
        "X"
      ],
      "id": "f6d817be",
      "execution_count": null,
      "outputs": [
        {
          "data": {
            "text/plain": [
              "array([[0.543, 0.278, 0.425, 0.845, 0.005, 0.122, 0.671],\n",
              "       [0.826, 0.137, 0.575, 0.891, 0.209, 0.185, 0.108],\n",
              "       [0.22 , 0.979, 0.812, 0.172, 0.816, 0.274, 0.432],\n",
              "       [0.94 , 0.818, 0.336, 0.175, 0.373, 0.006, 0.252],\n",
              "       [0.796, 0.015, 0.599, 0.604, 0.105, 0.382, 0.036],\n",
              "       [0.89 , 0.981, 0.06 , 0.891, 0.577, 0.742, 0.63 ],\n",
              "       [0.582, 0.02 , 0.21 , 0.545, 0.769, 0.251, 0.286],\n",
              "       [0.852, 0.975, 0.885, 0.36 , 0.599, 0.355, 0.34 ],\n",
              "       [0.178, 0.238, 0.045, 0.505, 0.376, 0.593, 0.63 ],\n",
              "       [0.143, 0.934, 0.946, 0.602, 0.388, 0.363, 0.204]])"
            ]
          },
          "execution_count": 8,
          "metadata": {},
          "output_type": "execute_result"
        }
      ]
    },
    {
      "cell_type": "code",
      "metadata": {
        "id": "4dcd93a1",
        "outputId": "c3227f41-5e14-4066-ba9f-85a40ab282f1"
      },
      "source": [
        "means = X.mean(1).reshape(-1, 1)\n",
        "sds = X.std(1).reshape(-1, 1)\n",
        "X_centered = X - means\n",
        "X_centered"
      ],
      "id": "4dcd93a1",
      "execution_count": null,
      "outputs": [
        {
          "data": {
            "text/plain": [
              "array([[ 0.13028571, -0.13471429,  0.01228571,  0.43228571, -0.40771429,\n",
              "        -0.29071429,  0.25828571],\n",
              "       [ 0.40728571, -0.28171429,  0.15628571,  0.47228571, -0.20971429,\n",
              "        -0.23371429, -0.31071429],\n",
              "       [-0.30928571,  0.44971429,  0.28271429, -0.35728571,  0.28671429,\n",
              "        -0.25528571, -0.09728571],\n",
              "       [ 0.52571429,  0.40371429, -0.07828571, -0.23928571, -0.04128571,\n",
              "        -0.40828571, -0.16228571],\n",
              "       [ 0.43357143, -0.34742857,  0.23657143,  0.24157143, -0.25742857,\n",
              "         0.01957143, -0.32642857],\n",
              "       [ 0.20842857,  0.29942857, -0.62157143,  0.20942857, -0.10457143,\n",
              "         0.06042857, -0.05157143],\n",
              "       [ 0.20157143, -0.36042857, -0.17042857,  0.16457143,  0.38857143,\n",
              "        -0.12942857, -0.09442857],\n",
              "       [ 0.22828571,  0.35128571,  0.26128571, -0.26371429, -0.02471429,\n",
              "        -0.26871429, -0.28371429],\n",
              "       [-0.18842857, -0.12842857, -0.32142857,  0.13857143,  0.00957143,\n",
              "         0.22657143,  0.26357143],\n",
              "       [-0.36842857,  0.42257143,  0.43457143,  0.09057143, -0.12342857,\n",
              "        -0.14842857, -0.30742857]])"
            ]
          },
          "execution_count": 9,
          "metadata": {},
          "output_type": "execute_result"
        }
      ]
    },
    {
      "cell_type": "code",
      "metadata": {
        "id": "80f41734",
        "outputId": "6427799a-a8a5-440f-9d71-4de88e6200db"
      },
      "source": [
        "X_scaled = X_centered / sds\n",
        "X_scaled.round(3)"
      ],
      "id": "80f41734",
      "execution_count": null,
      "outputs": [
        {
          "data": {
            "text/plain": [
              "array([[ 0.469, -0.485,  0.044,  1.557, -1.468, -1.047,  0.93 ],\n",
              "       [ 1.299, -0.899,  0.499,  1.507, -0.669, -0.746, -0.991],\n",
              "       [-1.005,  1.462,  0.919, -1.162,  0.932, -0.83 , -0.316],\n",
              "       [ 1.665,  1.279, -0.248, -0.758, -0.131, -1.293, -0.514],\n",
              "       [ 1.486, -1.19 ,  0.811,  0.828, -0.882,  0.067, -1.118],\n",
              "       [ 0.724,  1.04 , -2.158,  0.727, -0.363,  0.21 , -0.179],\n",
              "       [ 0.84 , -1.502, -0.71 ,  0.686,  1.619, -0.539, -0.393],\n",
              "       [ 0.884,  1.361,  1.012, -1.021, -0.096, -1.041, -1.099],\n",
              "       [-0.917, -0.625, -1.565,  0.675,  0.047,  1.103,  1.283],\n",
              "       [-1.215,  1.394,  1.434,  0.299, -0.407, -0.49 , -1.014]])"
            ]
          },
          "execution_count": 10,
          "metadata": {},
          "output_type": "execute_result"
        }
      ]
    },
    {
      "cell_type": "code",
      "metadata": {
        "id": "cf68facd",
        "outputId": "e665bd37-6c51-4dfd-d30f-2b6d530c57b4"
      },
      "source": [
        "# Check mean = 0 and std = 1\n",
        "print(\"row means:\", X_scaled.mean(1).round(3))\n",
        "print(\"row stds: \", X_scaled.std(1))"
      ],
      "id": "cf68facd",
      "execution_count": null,
      "outputs": [
        {
          "name": "stdout",
          "output_type": "stream",
          "text": [
            "row means: [-0. -0.  0.  0. -0. -0.  0.  0. -0.  0.]\n",
            "row stds:  [1. 1. 1. 1. 1. 1. 1. 1. 1. 1.]\n"
          ]
        }
      ]
    },
    {
      "cell_type": "code",
      "metadata": {
        "id": "2b30e00e"
      },
      "source": [
        ""
      ],
      "id": "2b30e00e",
      "execution_count": null,
      "outputs": []
    }
  ]
}