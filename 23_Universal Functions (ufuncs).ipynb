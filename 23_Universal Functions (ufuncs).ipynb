{
  "nbformat": 4,
  "nbformat_minor": 5,
  "metadata": {
    "hide_input": false,
    "kernelspec": {
      "display_name": "Python 3",
      "language": "python",
      "name": "python3"
    },
    "language_info": {
      "codemirror_mode": {
        "name": "ipython",
        "version": 3
      },
      "file_extension": ".py",
      "mimetype": "text/x-python",
      "name": "python",
      "nbconvert_exporter": "python",
      "pygments_lexer": "ipython3",
      "version": "3.7.10"
    },
    "toc": {
      "base_numbering": 1,
      "nav_menu": {},
      "number_sections": false,
      "sideBar": true,
      "skip_h1_title": true,
      "title_cell": "Table of Contents",
      "title_sidebar": "Contents",
      "toc_cell": false,
      "toc_position": {},
      "toc_section_display": true,
      "toc_window_display": false
    },
    "colab": {
      "name": "23_Universal Functions (ufuncs).ipynb",
      "provenance": [],
      "include_colab_link": true
    }
  },
  "cells": [
    {
      "cell_type": "markdown",
      "metadata": {
        "id": "view-in-github",
        "colab_type": "text"
      },
      "source": [
        "<a href=\"https://colab.research.google.com/github/patelsaumya/numpy/blob/master/23_Universal%20Functions%20(ufuncs).ipynb\" target=\"_parent\"><img src=\"https://colab.research.google.com/assets/colab-badge.svg\" alt=\"Open In Colab\"/></a>"
      ]
    },
    {
      "cell_type": "markdown",
      "metadata": {
        "id": "bcf0edc1"
      },
      "source": [
        "<div style=\"color:#006666; padding:0px 10px; border-radius:5px; font-size:18px; text-align:center\"><h1 style='margin:10px 5px'>UFuncs in NumPy</h1>\n",
        "<hr>\n",
        "<p style=\"color:#006666; text-align:right;font-size:10px\">\n",
        "Copyright by MachineLearningPlus. All Rights Reserved.\n",
        "</p>\n",
        "\n",
        "</div>"
      ],
      "id": "bcf0edc1"
    },
    {
      "cell_type": "markdown",
      "metadata": {
        "id": "396b447a"
      },
      "source": [
        "ufuncs are functions that operate element by element on whole arrays. It supports broadcasting, type casting. \n",
        "\n",
        "Many of the commonly used numpy functions are ufuncs. Ex: `amin`, `amax`, `percentile`, `median`, `mean`, `std`, `var`, `sin`, `cos` etc. \n",
        "\n",
        "They are written in C because of the speed and are linked to Python via NumPy's `ufunc` facility.\n",
        "\n",
        "In other words, a ufunc is a 'vectorized' wrapper for a function that takes fixed number of arguments and gives spedcific outputs.\n",
        "\n",
        "In numpy, many of the functions are originally written and compiled in C code. In NumPy, you can also create an instance of `ufunc` using `frompyfunc` function.\n",
        "\n"
      ],
      "id": "396b447a"
    },
    {
      "cell_type": "code",
      "metadata": {
        "id": "cb0d67fe"
      },
      "source": [
        "def hyp(s1, s2):\n",
        "    return ((s1**2) + (s2**2))**0.5"
      ],
      "id": "cb0d67fe",
      "execution_count": null,
      "outputs": []
    },
    {
      "cell_type": "markdown",
      "metadata": {
        "id": "5523c52a"
      },
      "source": [
        "Works on a scalar input"
      ],
      "id": "5523c52a"
    },
    {
      "cell_type": "code",
      "metadata": {
        "id": "4687695b",
        "outputId": "5d7307f8-9c97-4b61-e70e-ee695d4ad670"
      },
      "source": [
        "hyp(6, 8)"
      ],
      "id": "4687695b",
      "execution_count": null,
      "outputs": [
        {
          "data": {
            "text/plain": [
              "10.0"
            ]
          },
          "execution_count": 2,
          "metadata": {},
          "output_type": "execute_result"
        }
      ]
    },
    {
      "cell_type": "markdown",
      "metadata": {
        "id": "15f273f3"
      },
      "source": [
        "But errors out when applied on a list of numbers."
      ],
      "id": "15f273f3"
    },
    {
      "cell_type": "code",
      "metadata": {
        "id": "c829c009"
      },
      "source": [
        "s1 = [2,3,4,5,6]\n",
        "s2 = [2,3,3,7,8]"
      ],
      "id": "c829c009",
      "execution_count": null,
      "outputs": []
    },
    {
      "cell_type": "code",
      "metadata": {
        "id": "a9f76021",
        "outputId": "5d0f850e-5d62-49da-be7f-e950816389a9"
      },
      "source": [
        "# # Does not work on  list of numbers\n",
        "hyp(s1, s2)"
      ],
      "id": "a9f76021",
      "execution_count": null,
      "outputs": [
        {
          "ename": "TypeError",
          "evalue": "unsupported operand type(s) for ** or pow(): 'list' and 'int'",
          "output_type": "error",
          "traceback": [
            "\u001b[1;31m---------------------------------------------------------------------------\u001b[0m",
            "\u001b[1;31mTypeError\u001b[0m                                 Traceback (most recent call last)",
            "\u001b[1;32m<ipython-input-4-7803da94c390>\u001b[0m in \u001b[0;36m<module>\u001b[1;34m\u001b[0m\n\u001b[0;32m      1\u001b[0m \u001b[1;31m# # Does not work on  list of numbers\u001b[0m\u001b[1;33m\u001b[0m\u001b[1;33m\u001b[0m\u001b[1;33m\u001b[0m\u001b[0m\n\u001b[1;32m----> 2\u001b[1;33m \u001b[0mhyp\u001b[0m\u001b[1;33m(\u001b[0m\u001b[0ms1\u001b[0m\u001b[1;33m,\u001b[0m \u001b[0ms2\u001b[0m\u001b[1;33m)\u001b[0m\u001b[1;33m\u001b[0m\u001b[1;33m\u001b[0m\u001b[0m\n\u001b[0m",
            "\u001b[1;32m<ipython-input-1-d39fb90a9eec>\u001b[0m in \u001b[0;36mhyp\u001b[1;34m(s1, s2)\u001b[0m\n\u001b[0;32m      1\u001b[0m \u001b[1;32mdef\u001b[0m \u001b[0mhyp\u001b[0m\u001b[1;33m(\u001b[0m\u001b[0ms1\u001b[0m\u001b[1;33m,\u001b[0m \u001b[0ms2\u001b[0m\u001b[1;33m)\u001b[0m\u001b[1;33m:\u001b[0m\u001b[1;33m\u001b[0m\u001b[1;33m\u001b[0m\u001b[0m\n\u001b[1;32m----> 2\u001b[1;33m     \u001b[1;32mreturn\u001b[0m \u001b[1;33m(\u001b[0m\u001b[1;33m(\u001b[0m\u001b[0ms1\u001b[0m\u001b[1;33m**\u001b[0m\u001b[1;36m2\u001b[0m\u001b[1;33m)\u001b[0m \u001b[1;33m+\u001b[0m \u001b[1;33m(\u001b[0m\u001b[0ms2\u001b[0m\u001b[1;33m**\u001b[0m\u001b[1;36m2\u001b[0m\u001b[1;33m)\u001b[0m\u001b[1;33m)\u001b[0m\u001b[1;33m**\u001b[0m\u001b[1;36m0.5\u001b[0m\u001b[1;33m\u001b[0m\u001b[1;33m\u001b[0m\u001b[0m\n\u001b[0m",
            "\u001b[1;31mTypeError\u001b[0m: unsupported operand type(s) for ** or pow(): 'list' and 'int'"
          ]
        }
      ]
    },
    {
      "cell_type": "markdown",
      "metadata": {
        "id": "f93ab395"
      },
      "source": [
        "<div class=\"alert alert-info\" style=\"background-color:#006666; color:white; padding:0px 10px; border-radius:5px;\"><h2 style='margin:7px 5px; font-size:16px'>Making a uFunc</h2>\n",
        "</div>"
      ],
      "id": "f93ab395"
    },
    {
      "cell_type": "code",
      "metadata": {
        "id": "50f38da2"
      },
      "source": [
        "import numpy as np"
      ],
      "id": "50f38da2",
      "execution_count": null,
      "outputs": []
    },
    {
      "cell_type": "code",
      "metadata": {
        "scrolled": true,
        "id": "bdaa671a",
        "outputId": "02d58ecd-cad1-4319-e694-66f17918666f"
      },
      "source": [
        "hyp_v = np.frompyfunc(hyp, nin=2, nout=1)\n",
        "hyp_v"
      ],
      "id": "bdaa671a",
      "execution_count": null,
      "outputs": [
        {
          "data": {
            "text/plain": [
              "<ufunc '? (vectorized)'>"
            ]
          },
          "execution_count": 6,
          "metadata": {},
          "output_type": "execute_result"
        }
      ]
    },
    {
      "cell_type": "code",
      "metadata": {
        "id": "83b47428",
        "outputId": "89db0454-f4e8-4e1a-8bc3-458483917d97"
      },
      "source": [
        "hyp_v(s1, s2)"
      ],
      "id": "83b47428",
      "execution_count": null,
      "outputs": [
        {
          "data": {
            "text/plain": [
              "array([2.8284271247461903, 4.242640687119285, 5.0, 8.602325267042627,\n",
              "       10.0], dtype=object)"
            ]
          },
          "execution_count": 7,
          "metadata": {},
          "output_type": "execute_result"
        }
      ]
    },
    {
      "cell_type": "markdown",
      "metadata": {
        "id": "715a3436"
      },
      "source": [
        "__Difference with vectorize__\n",
        "\n",
        "We have seen something very similar in `np.vectorize()`. How is this any different? \n",
        "\n",
        "The difference is a the output function from `np.frompyfunc` always returns a python object type. Whereas `np.vectorize` allows you to specify the type of the output object, which is convenient."
      ],
      "id": "715a3436"
    },
    {
      "cell_type": "code",
      "metadata": {
        "id": "0eb4ba07",
        "outputId": "4b3823a5-0bbe-4955-cf9a-2d439f6e629c"
      },
      "source": [
        "hyp_vec = np.vectorize(hyp, otypes=[np.float64])\n",
        "hyp_vec"
      ],
      "id": "0eb4ba07",
      "execution_count": null,
      "outputs": [
        {
          "data": {
            "text/plain": [
              "<numpy.vectorize at 0x1804e791548>"
            ]
          },
          "execution_count": 8,
          "metadata": {},
          "output_type": "execute_result"
        }
      ]
    },
    {
      "cell_type": "code",
      "metadata": {
        "id": "d153f0cc",
        "outputId": "ccf9e49c-4336-4195-f583-24d4ecefe98f"
      },
      "source": [
        "out = hyp_vec(s1, s2)\n",
        "out"
      ],
      "id": "d153f0cc",
      "execution_count": null,
      "outputs": [
        {
          "data": {
            "text/plain": [
              "array([ 2.82842712,  4.24264069,  5.        ,  8.60232527, 10.        ])"
            ]
          },
          "execution_count": 9,
          "metadata": {},
          "output_type": "execute_result"
        }
      ]
    },
    {
      "cell_type": "code",
      "metadata": {
        "id": "b575cd14",
        "outputId": "3a300e98-a23a-4bcf-e2a0-c186e6973b73"
      },
      "source": [
        "out.dtype"
      ],
      "id": "b575cd14",
      "execution_count": null,
      "outputs": [
        {
          "data": {
            "text/plain": [
              "dtype('float64')"
            ]
          },
          "execution_count": 10,
          "metadata": {},
          "output_type": "execute_result"
        }
      ]
    },
    {
      "cell_type": "code",
      "metadata": {
        "id": "63c8de05"
      },
      "source": [
        ""
      ],
      "id": "63c8de05",
      "execution_count": null,
      "outputs": []
    }
  ]
}