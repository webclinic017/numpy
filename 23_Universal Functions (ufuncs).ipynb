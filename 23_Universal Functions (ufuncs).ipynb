{
 "cells": [
  {
   "cell_type": "markdown",
   "id": "bcf0edc1",
   "metadata": {},
   "source": [
    "<div style=\"color:#006666; padding:0px 10px; border-radius:5px; font-size:18px; text-align:center\"><h1 style='margin:10px 5px'>UFuncs in NumPy</h1>\n",
    "<hr>\n",
    "<p style=\"color:#006666; text-align:right;font-size:10px\">\n",
    "Copyright by MachineLearningPlus. All Rights Reserved.\n",
    "</p>\n",
    "\n",
    "</div>"
   ]
  },
  {
   "cell_type": "markdown",
   "id": "396b447a",
   "metadata": {},
   "source": [
    "ufuncs are functions that operate element by element on whole arrays. It supports broadcasting, type casting. \n",
    "\n",
    "Many of the commonly used numpy functions are ufuncs. Ex: `amin`, `amax`, `percentile`, `median`, `mean`, `std`, `var`, `sin`, `cos` etc. \n",
    "\n",
    "They are written in C because of the speed and are linked to Python via NumPy's `ufunc` facility.\n",
    "\n",
    "In other words, a ufunc is a 'vectorized' wrapper for a function that takes fixed number of arguments and gives spedcific outputs.\n",
    "\n",
    "In numpy, many of the functions are originally written and compiled in C code. In NumPy, you can also create an instance of `ufunc` using `frompyfunc` function.\n",
    "\n"
   ]
  },
  {
   "cell_type": "code",
   "execution_count": 1,
   "id": "cb0d67fe",
   "metadata": {},
   "outputs": [],
   "source": [
    "def hyp(s1, s2):\n",
    "    return ((s1**2) + (s2**2))**0.5"
   ]
  },
  {
   "cell_type": "markdown",
   "id": "5523c52a",
   "metadata": {},
   "source": [
    "Works on a scalar input"
   ]
  },
  {
   "cell_type": "code",
   "execution_count": 2,
   "id": "4687695b",
   "metadata": {},
   "outputs": [
    {
     "data": {
      "text/plain": [
       "10.0"
      ]
     },
     "execution_count": 2,
     "metadata": {},
     "output_type": "execute_result"
    }
   ],
   "source": [
    "hyp(6, 8)"
   ]
  },
  {
   "cell_type": "markdown",
   "id": "15f273f3",
   "metadata": {},
   "source": [
    "But errors out when applied on a list of numbers."
   ]
  },
  {
   "cell_type": "code",
   "execution_count": 3,
   "id": "c829c009",
   "metadata": {},
   "outputs": [],
   "source": [
    "s1 = [2,3,4,5,6]\n",
    "s2 = [2,3,3,7,8]"
   ]
  },
  {
   "cell_type": "code",
   "execution_count": 4,
   "id": "a9f76021",
   "metadata": {},
   "outputs": [
    {
     "ename": "TypeError",
     "evalue": "unsupported operand type(s) for ** or pow(): 'list' and 'int'",
     "output_type": "error",
     "traceback": [
      "\u001b[1;31m---------------------------------------------------------------------------\u001b[0m",
      "\u001b[1;31mTypeError\u001b[0m                                 Traceback (most recent call last)",
      "\u001b[1;32m<ipython-input-4-7803da94c390>\u001b[0m in \u001b[0;36m<module>\u001b[1;34m\u001b[0m\n\u001b[0;32m      1\u001b[0m \u001b[1;31m# # Does not work on  list of numbers\u001b[0m\u001b[1;33m\u001b[0m\u001b[1;33m\u001b[0m\u001b[1;33m\u001b[0m\u001b[0m\n\u001b[1;32m----> 2\u001b[1;33m \u001b[0mhyp\u001b[0m\u001b[1;33m(\u001b[0m\u001b[0ms1\u001b[0m\u001b[1;33m,\u001b[0m \u001b[0ms2\u001b[0m\u001b[1;33m)\u001b[0m\u001b[1;33m\u001b[0m\u001b[1;33m\u001b[0m\u001b[0m\n\u001b[0m",
      "\u001b[1;32m<ipython-input-1-d39fb90a9eec>\u001b[0m in \u001b[0;36mhyp\u001b[1;34m(s1, s2)\u001b[0m\n\u001b[0;32m      1\u001b[0m \u001b[1;32mdef\u001b[0m \u001b[0mhyp\u001b[0m\u001b[1;33m(\u001b[0m\u001b[0ms1\u001b[0m\u001b[1;33m,\u001b[0m \u001b[0ms2\u001b[0m\u001b[1;33m)\u001b[0m\u001b[1;33m:\u001b[0m\u001b[1;33m\u001b[0m\u001b[1;33m\u001b[0m\u001b[0m\n\u001b[1;32m----> 2\u001b[1;33m     \u001b[1;32mreturn\u001b[0m \u001b[1;33m(\u001b[0m\u001b[1;33m(\u001b[0m\u001b[0ms1\u001b[0m\u001b[1;33m**\u001b[0m\u001b[1;36m2\u001b[0m\u001b[1;33m)\u001b[0m \u001b[1;33m+\u001b[0m \u001b[1;33m(\u001b[0m\u001b[0ms2\u001b[0m\u001b[1;33m**\u001b[0m\u001b[1;36m2\u001b[0m\u001b[1;33m)\u001b[0m\u001b[1;33m)\u001b[0m\u001b[1;33m**\u001b[0m\u001b[1;36m0.5\u001b[0m\u001b[1;33m\u001b[0m\u001b[1;33m\u001b[0m\u001b[0m\n\u001b[0m",
      "\u001b[1;31mTypeError\u001b[0m: unsupported operand type(s) for ** or pow(): 'list' and 'int'"
     ]
    }
   ],
   "source": [
    "# # Does not work on  list of numbers\n",
    "hyp(s1, s2)"
   ]
  },
  {
   "cell_type": "markdown",
   "id": "f93ab395",
   "metadata": {},
   "source": [
    "<div class=\"alert alert-info\" style=\"background-color:#006666; color:white; padding:0px 10px; border-radius:5px;\"><h2 style='margin:7px 5px; font-size:16px'>Making a uFunc</h2>\n",
    "</div>"
   ]
  },
  {
   "cell_type": "code",
   "execution_count": 5,
   "id": "50f38da2",
   "metadata": {},
   "outputs": [],
   "source": [
    "import numpy as np"
   ]
  },
  {
   "cell_type": "code",
   "execution_count": 6,
   "id": "bdaa671a",
   "metadata": {
    "scrolled": true
   },
   "outputs": [
    {
     "data": {
      "text/plain": [
       "<ufunc '? (vectorized)'>"
      ]
     },
     "execution_count": 6,
     "metadata": {},
     "output_type": "execute_result"
    }
   ],
   "source": [
    "hyp_v = np.frompyfunc(hyp, nin=2, nout=1)\n",
    "hyp_v"
   ]
  },
  {
   "cell_type": "code",
   "execution_count": 7,
   "id": "83b47428",
   "metadata": {},
   "outputs": [
    {
     "data": {
      "text/plain": [
       "array([2.8284271247461903, 4.242640687119285, 5.0, 8.602325267042627,\n",
       "       10.0], dtype=object)"
      ]
     },
     "execution_count": 7,
     "metadata": {},
     "output_type": "execute_result"
    }
   ],
   "source": [
    "hyp_v(s1, s2)"
   ]
  },
  {
   "cell_type": "markdown",
   "id": "715a3436",
   "metadata": {},
   "source": [
    "__Difference with vectorize__\n",
    "\n",
    "We have seen something very similar in `np.vectorize()`. How is this any different? \n",
    "\n",
    "The difference is a the output function from `np.frompyfunc` always returns a python object type. Whereas `np.vectorize` allows you to specify the type of the output object, which is convenient."
   ]
  },
  {
   "cell_type": "code",
   "execution_count": 8,
   "id": "0eb4ba07",
   "metadata": {},
   "outputs": [
    {
     "data": {
      "text/plain": [
       "<numpy.vectorize at 0x1804e791548>"
      ]
     },
     "execution_count": 8,
     "metadata": {},
     "output_type": "execute_result"
    }
   ],
   "source": [
    "hyp_vec = np.vectorize(hyp, otypes=[np.float64])\n",
    "hyp_vec"
   ]
  },
  {
   "cell_type": "code",
   "execution_count": 9,
   "id": "d153f0cc",
   "metadata": {},
   "outputs": [
    {
     "data": {
      "text/plain": [
       "array([ 2.82842712,  4.24264069,  5.        ,  8.60232527, 10.        ])"
      ]
     },
     "execution_count": 9,
     "metadata": {},
     "output_type": "execute_result"
    }
   ],
   "source": [
    "out = hyp_vec(s1, s2)\n",
    "out"
   ]
  },
  {
   "cell_type": "code",
   "execution_count": 10,
   "id": "b575cd14",
   "metadata": {},
   "outputs": [
    {
     "data": {
      "text/plain": [
       "dtype('float64')"
      ]
     },
     "execution_count": 10,
     "metadata": {},
     "output_type": "execute_result"
    }
   ],
   "source": [
    "out.dtype"
   ]
  },
  {
   "cell_type": "code",
   "execution_count": null,
   "id": "63c8de05",
   "metadata": {},
   "outputs": [],
   "source": []
  }
 ],
 "metadata": {
  "hide_input": false,
  "kernelspec": {
   "display_name": "Python 3",
   "language": "python",
   "name": "python3"
  },
  "language_info": {
   "codemirror_mode": {
    "name": "ipython",
    "version": 3
   },
   "file_extension": ".py",
   "mimetype": "text/x-python",
   "name": "python",
   "nbconvert_exporter": "python",
   "pygments_lexer": "ipython3",
   "version": "3.7.10"
  },
  "toc": {
   "base_numbering": 1,
   "nav_menu": {},
   "number_sections": false,
   "sideBar": true,
   "skip_h1_title": true,
   "title_cell": "Table of Contents",
   "title_sidebar": "Contents",
   "toc_cell": false,
   "toc_position": {},
   "toc_section_display": true,
   "toc_window_display": false
  }
 },
 "nbformat": 4,
 "nbformat_minor": 5
}
