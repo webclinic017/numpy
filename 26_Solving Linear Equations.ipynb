{
  "nbformat": 4,
  "nbformat_minor": 5,
  "metadata": {
    "hide_input": false,
    "kernelspec": {
      "display_name": "Python 3",
      "language": "python",
      "name": "python3"
    },
    "language_info": {
      "codemirror_mode": {
        "name": "ipython",
        "version": 3
      },
      "file_extension": ".py",
      "mimetype": "text/x-python",
      "name": "python",
      "nbconvert_exporter": "python",
      "pygments_lexer": "ipython3",
      "version": "3.7.10"
    },
    "toc": {
      "base_numbering": 1,
      "nav_menu": {},
      "number_sections": false,
      "sideBar": true,
      "skip_h1_title": true,
      "title_cell": "Table of Contents",
      "title_sidebar": "Contents",
      "toc_cell": false,
      "toc_position": {
        "height": "calc(100% - 180px)",
        "left": "10px",
        "top": "150px",
        "width": "254.275px"
      },
      "toc_section_display": true,
      "toc_window_display": false
    },
    "colab": {
      "name": "26_Solving Linear Equations.ipynb",
      "provenance": [],
      "include_colab_link": true
    }
  },
  "cells": [
    {
      "cell_type": "markdown",
      "metadata": {
        "id": "view-in-github",
        "colab_type": "text"
      },
      "source": [
        "<a href=\"https://colab.research.google.com/github/patelsaumya/numpy/blob/master/26_Solving%20Linear%20Equations.ipynb\" target=\"_parent\"><img src=\"https://colab.research.google.com/assets/colab-badge.svg\" alt=\"Open In Colab\"/></a>"
      ]
    },
    {
      "cell_type": "markdown",
      "metadata": {
        "id": "e612d997"
      },
      "source": [
        "<div style=\"color:#006666; padding:0px 10px; border-radius:5px; font-size:18px; text-align:center\"><h1 style='margin:10px 5px'>Solving Linear Equations</h1>\n",
        "<hr>\n",
        "<p style=\"color:#006666; text-align:right;font-size:10px\">\n",
        "Copyright by MachineLearningPlus. All Rights Reserved.\n",
        "</p>\n",
        "\n",
        "</div>"
      ],
      "id": "e612d997"
    },
    {
      "cell_type": "markdown",
      "metadata": {
        "id": "e3ef1cce"
      },
      "source": [
        "Linear equations can be easily solved with numpy using the `np.linalg.solve()` method. \n",
        "\n",
        "To do this, you need to define the LHS and RHS of the equarions as two different arrays and use them as arguments to `np.linalg.solve`.\n",
        "\n",
        "Example: \n",
        "Company A offers to pay 450 Dollars per week and Company B pays 10 Dollars per hour. You work 40 hours per week. Which company offers a better rate of pay? \n",
        "\n"
      ],
      "id": "e3ef1cce"
    },
    {
      "cell_type": "markdown",
      "metadata": {
        "id": "cc4a6672"
      },
      "source": [
        "<div class=\"alert alert-info\" style=\"background-color:#006666; color:white; padding:0px 10px; border-radius:5px;\"><h2 style='margin:7px 5px; font-size:16px'>Equation with Two Variables</h2>\n",
        "</div>"
      ],
      "id": "cc4a6672"
    },
    {
      "cell_type": "code",
      "metadata": {
        "id": "7fdd93b3"
      },
      "source": [
        "import numpy as np\n",
        "  \n",
        "# Coefficients\n",
        "A = np.array([[1, 2], [3, 4]])\n",
        "\n",
        "# Constants\n",
        "b = np.array([8, 10])"
      ],
      "id": "7fdd93b3",
      "execution_count": null,
      "outputs": []
    },
    {
      "cell_type": "markdown",
      "metadata": {
        "id": "10404f7c"
      },
      "source": [
        "__Equations:__\n",
        "\n",
        "1X + 2Y = 8\n",
        "\n",
        "3X + 4Y = 10"
      ],
      "id": "10404f7c"
    },
    {
      "cell_type": "markdown",
      "metadata": {
        "id": "542d90d9"
      },
      "source": [
        "__Solve__"
      ],
      "id": "542d90d9"
    },
    {
      "cell_type": "code",
      "metadata": {
        "id": "222ff6c6",
        "outputId": "7ac83f4a-ad79-4e12-af38-13943bdbc09d"
      },
      "source": [
        "x = np.linalg.solve(A, b)\n",
        "print(\"Solution\", x)"
      ],
      "id": "222ff6c6",
      "execution_count": null,
      "outputs": [
        {
          "name": "stdout",
          "output_type": "stream",
          "text": [
            "Solution [-6.  7.]\n"
          ]
        }
      ]
    },
    {
      "cell_type": "markdown",
      "metadata": {
        "id": "8dd3c047"
      },
      "source": [
        "__Check__"
      ],
      "id": "8dd3c047"
    },
    {
      "cell_type": "code",
      "metadata": {
        "id": "63967ffe",
        "outputId": "7244224e-8177-430c-fc53-151d07f75ecd"
      },
      "source": [
        "np.dot(A , x)"
      ],
      "id": "63967ffe",
      "execution_count": null,
      "outputs": [
        {
          "data": {
            "text/plain": [
              "array([ 8., 10.])"
            ]
          },
          "execution_count": 3,
          "metadata": {},
          "output_type": "execute_result"
        }
      ]
    },
    {
      "cell_type": "markdown",
      "metadata": {
        "id": "fe691cce"
      },
      "source": [
        "<div class=\"alert alert-info\" style=\"background-color:#006666; color:white; padding:0px 10px; border-radius:5px;\"><h2 style='margin:7px 5px; font-size:16px'>Three Variable Example</h2>\n",
        "</div>"
      ],
      "id": "fe691cce"
    },
    {
      "cell_type": "code",
      "metadata": {
        "id": "efdafd25",
        "outputId": "85081f71-f772-45b2-e630-b9a98a4e6581"
      },
      "source": [
        "A = np.mat([[1, -2,  1],\n",
        "            [0,  2, -8],\n",
        "            [-4, 5,  9]])\n",
        "\n",
        "print(\"A\\n\", A)\n",
        "\n",
        "b = np.array([0, 8, 4])\n",
        "print(\"b\\n\", b)"
      ],
      "id": "efdafd25",
      "execution_count": null,
      "outputs": [
        {
          "name": "stdout",
          "output_type": "stream",
          "text": [
            "A\n",
            " [[ 1 -2  1]\n",
            " [ 0  2 -8]\n",
            " [-4  5  9]]\n",
            "b\n",
            " [0 8 4]\n"
          ]
        }
      ]
    },
    {
      "cell_type": "markdown",
      "metadata": {
        "id": "b0e13603"
      },
      "source": [
        "__Equations:__\n",
        "\n",
        "1X - 2Y + Z = 0\n",
        "\n",
        "0X + 2Y - 8Z = 8\n",
        "\n",
        "-4X + 5Y + 9Z = 4\n"
      ],
      "id": "b0e13603"
    },
    {
      "cell_type": "markdown",
      "metadata": {
        "id": "22f6024e"
      },
      "source": [
        "__Solve__"
      ],
      "id": "22f6024e"
    },
    {
      "cell_type": "code",
      "metadata": {
        "id": "3b631dcb",
        "outputId": "d7cb7a2a-b980-4889-dbf9-5e9fd0cc5a54"
      },
      "source": [
        "x = np.linalg.solve(A, b)\n",
        "print(\"Solution\", x)"
      ],
      "id": "3b631dcb",
      "execution_count": null,
      "outputs": [
        {
          "name": "stdout",
          "output_type": "stream",
          "text": [
            "Solution [120.  68.  16.]\n"
          ]
        }
      ]
    },
    {
      "cell_type": "markdown",
      "metadata": {
        "id": "22f4fab8"
      },
      "source": [
        "__Check Solutions__"
      ],
      "id": "22f4fab8"
    },
    {
      "cell_type": "code",
      "metadata": {
        "id": "b1b1fc89",
        "outputId": "f4971e31-a2d6-440a-a282-92cc5f592ab6"
      },
      "source": [
        "np.dot(A , x)"
      ],
      "id": "b1b1fc89",
      "execution_count": null,
      "outputs": [
        {
          "data": {
            "text/plain": [
              "matrix([[0., 8., 4.]])"
            ]
          },
          "execution_count": 6,
          "metadata": {},
          "output_type": "execute_result"
        }
      ]
    }
  ]
}