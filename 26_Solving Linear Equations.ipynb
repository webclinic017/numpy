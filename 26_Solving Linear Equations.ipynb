{
 "cells": [
  {
   "cell_type": "markdown",
   "id": "e612d997",
   "metadata": {},
   "source": [
    "<div style=\"color:#006666; padding:0px 10px; border-radius:5px; font-size:18px; text-align:center\"><h1 style='margin:10px 5px'>Solving Linear Equations</h1>\n",
    "<hr>\n",
    "<p style=\"color:#006666; text-align:right;font-size:10px\">\n",
    "Copyright by MachineLearningPlus. All Rights Reserved.\n",
    "</p>\n",
    "\n",
    "</div>"
   ]
  },
  {
   "cell_type": "markdown",
   "id": "e3ef1cce",
   "metadata": {},
   "source": [
    "Linear equations can be easily solved with numpy using the `np.linalg.solve()` method. \n",
    "\n",
    "To do this, you need to define the LHS and RHS of the equarions as two different arrays and use them as arguments to `np.linalg.solve`.\n",
    "\n",
    "Example: \n",
    "Company A offers to pay 450 Dollars per week and Company B pays 10 Dollars per hour. You work 40 hours per week. Which company offers a better rate of pay? \n",
    "\n"
   ]
  },
  {
   "cell_type": "markdown",
   "id": "cc4a6672",
   "metadata": {},
   "source": [
    "<div class=\"alert alert-info\" style=\"background-color:#006666; color:white; padding:0px 10px; border-radius:5px;\"><h2 style='margin:7px 5px; font-size:16px'>Equation with Two Variables</h2>\n",
    "</div>"
   ]
  },
  {
   "cell_type": "code",
   "execution_count": 1,
   "id": "7fdd93b3",
   "metadata": {},
   "outputs": [],
   "source": [
    "import numpy as np\n",
    "  \n",
    "# Coefficients\n",
    "A = np.array([[1, 2], [3, 4]])\n",
    "\n",
    "# Constants\n",
    "b = np.array([8, 10])"
   ]
  },
  {
   "cell_type": "markdown",
   "id": "10404f7c",
   "metadata": {},
   "source": [
    "__Equations:__\n",
    "\n",
    "1X + 2Y = 8\n",
    "\n",
    "3X + 4Y = 10"
   ]
  },
  {
   "cell_type": "markdown",
   "id": "542d90d9",
   "metadata": {},
   "source": [
    "__Solve__"
   ]
  },
  {
   "cell_type": "code",
   "execution_count": 2,
   "id": "222ff6c6",
   "metadata": {},
   "outputs": [
    {
     "name": "stdout",
     "output_type": "stream",
     "text": [
      "Solution [-6.  7.]\n"
     ]
    }
   ],
   "source": [
    "x = np.linalg.solve(A, b)\n",
    "print(\"Solution\", x)"
   ]
  },
  {
   "cell_type": "markdown",
   "id": "8dd3c047",
   "metadata": {},
   "source": [
    "__Check__"
   ]
  },
  {
   "cell_type": "code",
   "execution_count": 3,
   "id": "63967ffe",
   "metadata": {},
   "outputs": [
    {
     "data": {
      "text/plain": [
       "array([ 8., 10.])"
      ]
     },
     "execution_count": 3,
     "metadata": {},
     "output_type": "execute_result"
    }
   ],
   "source": [
    "np.dot(A , x)"
   ]
  },
  {
   "cell_type": "markdown",
   "id": "fe691cce",
   "metadata": {},
   "source": [
    "<div class=\"alert alert-info\" style=\"background-color:#006666; color:white; padding:0px 10px; border-radius:5px;\"><h2 style='margin:7px 5px; font-size:16px'>Three Variable Example</h2>\n",
    "</div>"
   ]
  },
  {
   "cell_type": "code",
   "execution_count": 4,
   "id": "efdafd25",
   "metadata": {},
   "outputs": [
    {
     "name": "stdout",
     "output_type": "stream",
     "text": [
      "A\n",
      " [[ 1 -2  1]\n",
      " [ 0  2 -8]\n",
      " [-4  5  9]]\n",
      "b\n",
      " [0 8 4]\n"
     ]
    }
   ],
   "source": [
    "A = np.mat([[1, -2,  1],\n",
    "            [0,  2, -8],\n",
    "            [-4, 5,  9]])\n",
    "\n",
    "print(\"A\\n\", A)\n",
    "\n",
    "b = np.array([0, 8, 4])\n",
    "print(\"b\\n\", b)"
   ]
  },
  {
   "cell_type": "markdown",
   "id": "b0e13603",
   "metadata": {},
   "source": [
    "__Equations:__\n",
    "\n",
    "1X - 2Y + Z = 0\n",
    "\n",
    "0X + 2Y - 8Z = 8\n",
    "\n",
    "-4X + 5Y + 9Z = 4\n"
   ]
  },
  {
   "cell_type": "markdown",
   "id": "22f6024e",
   "metadata": {},
   "source": [
    "__Solve__"
   ]
  },
  {
   "cell_type": "code",
   "execution_count": 5,
   "id": "3b631dcb",
   "metadata": {},
   "outputs": [
    {
     "name": "stdout",
     "output_type": "stream",
     "text": [
      "Solution [120.  68.  16.]\n"
     ]
    }
   ],
   "source": [
    "x = np.linalg.solve(A, b)\n",
    "print(\"Solution\", x)"
   ]
  },
  {
   "cell_type": "markdown",
   "id": "22f4fab8",
   "metadata": {},
   "source": [
    "__Check Solutions__"
   ]
  },
  {
   "cell_type": "code",
   "execution_count": 6,
   "id": "b1b1fc89",
   "metadata": {},
   "outputs": [
    {
     "data": {
      "text/plain": [
       "matrix([[0., 8., 4.]])"
      ]
     },
     "execution_count": 6,
     "metadata": {},
     "output_type": "execute_result"
    }
   ],
   "source": [
    "np.dot(A , x)"
   ]
  }
 ],
 "metadata": {
  "hide_input": false,
  "kernelspec": {
   "display_name": "Python 3",
   "language": "python",
   "name": "python3"
  },
  "language_info": {
   "codemirror_mode": {
    "name": "ipython",
    "version": 3
   },
   "file_extension": ".py",
   "mimetype": "text/x-python",
   "name": "python",
   "nbconvert_exporter": "python",
   "pygments_lexer": "ipython3",
   "version": "3.7.10"
  },
  "toc": {
   "base_numbering": 1,
   "nav_menu": {},
   "number_sections": false,
   "sideBar": true,
   "skip_h1_title": true,
   "title_cell": "Table of Contents",
   "title_sidebar": "Contents",
   "toc_cell": false,
   "toc_position": {
    "height": "calc(100% - 180px)",
    "left": "10px",
    "top": "150px",
    "width": "254.275px"
   },
   "toc_section_display": true,
   "toc_window_display": false
  }
 },
 "nbformat": 4,
 "nbformat_minor": 5
}
