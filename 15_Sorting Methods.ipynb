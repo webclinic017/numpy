{
  "nbformat": 4,
  "nbformat_minor": 5,
  "metadata": {
    "hide_input": false,
    "kernelspec": {
      "display_name": "Python 3",
      "language": "python",
      "name": "python3"
    },
    "language_info": {
      "codemirror_mode": {
        "name": "ipython",
        "version": 3
      },
      "file_extension": ".py",
      "mimetype": "text/x-python",
      "name": "python",
      "nbconvert_exporter": "python",
      "pygments_lexer": "ipython3",
      "version": "3.7.10"
    },
    "toc": {
      "base_numbering": 1,
      "nav_menu": {},
      "number_sections": false,
      "sideBar": true,
      "skip_h1_title": true,
      "title_cell": "Table of Contents",
      "title_sidebar": "Contents",
      "toc_cell": false,
      "toc_position": {},
      "toc_section_display": true,
      "toc_window_display": false
    },
    "colab": {
      "name": "15_Sorting Methods.ipynb",
      "provenance": [],
      "include_colab_link": true
    }
  },
  "cells": [
    {
      "cell_type": "markdown",
      "metadata": {
        "id": "view-in-github",
        "colab_type": "text"
      },
      "source": [
        "<a href=\"https://colab.research.google.com/github/patelsaumya/numpy/blob/master/15_Sorting%20Methods.ipynb\" target=\"_parent\"><img src=\"https://colab.research.google.com/assets/colab-badge.svg\" alt=\"Open In Colab\"/></a>"
      ]
    },
    {
      "cell_type": "markdown",
      "metadata": {
        "id": "87b25d3b"
      },
      "source": [
        "<div style=\"color:#006666; padding:0px 10px; border-radius:5px; font-size:18px; text-align:center\"><h1 style='margin:10px 5px'>Sorting Methods</h1>\n",
        "<hr>\n",
        "<p style=\"color:#006666; text-align:right;font-size:10px\">\n",
        "Copyright by MachineLearningPlus. All Rights Reserved.\n",
        "</p>\n",
        "\n",
        "</div>\n",
        "\n",
        "1. Regular Sorting\n",
        "2. argsort\n",
        "3. lexsort"
      ],
      "id": "87b25d3b"
    },
    {
      "cell_type": "code",
      "metadata": {
        "id": "c78abfc0"
      },
      "source": [
        "import numpy as np\n",
        "np.set_printoptions(suppress=True)  "
      ],
      "id": "c78abfc0",
      "execution_count": null,
      "outputs": []
    },
    {
      "cell_type": "code",
      "metadata": {
        "id": "9b4dd78f",
        "outputId": "e5d72997-df82-4b17-9e33-6be2ccfd35f6"
      },
      "source": [
        "data = np.genfromtxt(\"Datasets/Lifecyclesavings.csv\", delimiter=\",\", skip_header=1)\n",
        "data[:10]"
      ],
      "id": "9b4dd78f",
      "execution_count": null,
      "outputs": [
        {
          "data": {
            "text/plain": [
              "array([[  11.43,   29.35,    2.87, 2329.68,    2.87],\n",
              "       [  12.07,   23.32,    4.41, 1507.99,    3.93],\n",
              "       [  13.17,   23.8 ,    4.43, 2108.47,    3.82],\n",
              "       [   5.75,   41.89,    1.67,  189.13,    0.22],\n",
              "       [  12.88,   42.19,    0.83,  728.47,    4.56],\n",
              "       [   8.79,   31.72,    2.85, 2982.88,    2.43],\n",
              "       [   0.6 ,   39.74,    1.34,  662.86,    2.67],\n",
              "       [  11.9 ,   44.75,    0.67,  289.52,    6.51],\n",
              "       [   4.98,   46.64,    1.06,  276.65,    3.08],\n",
              "       [  10.78,   47.64,    1.14,  471.24,    2.8 ]])"
            ]
          },
          "execution_count": 2,
          "metadata": {},
          "output_type": "execute_result"
        }
      ]
    },
    {
      "cell_type": "code",
      "metadata": {
        "id": "c08311d0"
      },
      "source": [
        "# Define Column names and Datatype \n",
        "dt = {'names':[\"sr\",\"pop15\",\"pop75\",\"dpi\",\"ddpi\"], \n",
        "      'formats':[np.float, np.float, np.float, np.float, np.float]}\n",
        "data.dtype=dt"
      ],
      "id": "c08311d0",
      "execution_count": null,
      "outputs": []
    },
    {
      "cell_type": "code",
      "metadata": {
        "id": "07565fa0",
        "outputId": "22035ca8-0a35-41e6-8955-466659a1afef"
      },
      "source": [
        "data.shape"
      ],
      "id": "07565fa0",
      "execution_count": null,
      "outputs": [
        {
          "data": {
            "text/plain": [
              "(50, 1)"
            ]
          },
          "execution_count": 4,
          "metadata": {},
          "output_type": "execute_result"
        }
      ]
    },
    {
      "cell_type": "code",
      "metadata": {
        "id": "67127445",
        "outputId": "dc6894c1-5362-4c28-a4e9-6405cd0e94e9"
      },
      "source": [
        "data[:10]"
      ],
      "id": "67127445",
      "execution_count": null,
      "outputs": [
        {
          "data": {
            "text/plain": [
              "array([[(11.43, 29.35, 2.87, 2329.68, 2.87)],\n",
              "       [(12.07, 23.32, 4.41, 1507.99, 3.93)],\n",
              "       [(13.17, 23.8 , 4.43, 2108.47, 3.82)],\n",
              "       [( 5.75, 41.89, 1.67,  189.13, 0.22)],\n",
              "       [(12.88, 42.19, 0.83,  728.47, 4.56)],\n",
              "       [( 8.79, 31.72, 2.85, 2982.88, 2.43)],\n",
              "       [( 0.6 , 39.74, 1.34,  662.86, 2.67)],\n",
              "       [(11.9 , 44.75, 0.67,  289.52, 6.51)],\n",
              "       [( 4.98, 46.64, 1.06,  276.65, 3.08)],\n",
              "       [(10.78, 47.64, 1.14,  471.24, 2.8 )]],\n",
              "      dtype=[('sr', '<f8'), ('pop15', '<f8'), ('pop75', '<f8'), ('dpi', '<f8'), ('ddpi', '<f8')])"
            ]
          },
          "execution_count": 5,
          "metadata": {},
          "output_type": "execute_result"
        }
      ]
    },
    {
      "cell_type": "markdown",
      "metadata": {
        "id": "87d1e803"
      },
      "source": [
        "`data.sort()` will sort the values inplace."
      ],
      "id": "87d1e803"
    },
    {
      "cell_type": "code",
      "metadata": {
        "id": "33fd0506",
        "outputId": "f2f81e12-cebf-4727-babf-f94f9719f448"
      },
      "source": [
        "# Sort Row wise\n",
        "data.sort(axis=0)\n",
        "data[:10]"
      ],
      "id": "33fd0506",
      "execution_count": null,
      "outputs": [
        {
          "data": {
            "text/plain": [
              "array([[(0.6 , 39.74, 1.34,  662.86, 2.67)],\n",
              "       [(1.27, 34.03, 3.08, 1900.1 , 1.12)],\n",
              "       [(2.02, 41.18, 1.05,  220.56, 1.03)],\n",
              "       [(2.81, 46.12, 1.21,  249.87, 1.13)],\n",
              "       [(3.01, 46.05, 0.87,  289.71, 1.48)],\n",
              "       [(3.59, 46.31, 1.19,  287.77, 2.19)],\n",
              "       [(3.98, 41.74, 0.91,  207.68, 5.81)],\n",
              "       [(4.44, 43.56, 1.2 ,  568.56, 3.61)],\n",
              "       [(4.71, 47.2 , 0.66,  242.69, 5.08)],\n",
              "       [(4.98, 46.64, 1.06,  276.65, 3.08)]],\n",
              "      dtype=[('sr', '<f8'), ('pop15', '<f8'), ('pop75', '<f8'), ('dpi', '<f8'), ('ddpi', '<f8')])"
            ]
          },
          "execution_count": 6,
          "metadata": {},
          "output_type": "execute_result"
        }
      ]
    },
    {
      "cell_type": "markdown",
      "metadata": {
        "id": "828b7641"
      },
      "source": [
        "<div class=\"alert alert-info\" style=\"background-color:#006666; color:white; padding:0px 10px; border-radius:5px;\"><h2 style='margin:7px 5px; font-size:16px'>Descending Sort</h2>\n",
        "</div>"
      ],
      "id": "828b7641"
    },
    {
      "cell_type": "code",
      "metadata": {
        "id": "e5389f64",
        "outputId": "ed607842-1ca3-4d3d-8cac-0587da6437c5"
      },
      "source": [
        "# Descending sort\n",
        "data.sort(axis=0)\n",
        "data[::-1][:10]"
      ],
      "id": "e5389f64",
      "execution_count": null,
      "outputs": [
        {
          "data": {
            "text/plain": [
              "array([[(21.1 , 27.01, 1.91, 1257.28, 8.21)],\n",
              "       [(18.56, 45.25, 0.56,  138.33, 5.14)],\n",
              "       [(16.85, 24.42, 3.93, 2496.53, 3.99)],\n",
              "       [(15.48, 32.54, 2.47,  601.05, 8.12)],\n",
              "       [(14.65, 24.71, 3.25, 1740.7 , 7.66)],\n",
              "       [(14.28, 24.52, 3.48, 1390.  , 3.54)],\n",
              "       [(14.13, 23.49, 3.73, 2630.96, 2.7 )],\n",
              "       [(13.3 , 31.92, 1.52,  250.96, 2.  )],\n",
              "       [(13.17, 23.8 , 4.43, 2108.47, 3.82)],\n",
              "       [(12.88, 42.19, 0.83,  728.47, 4.56)]],\n",
              "      dtype=[('sr', '<f8'), ('pop15', '<f8'), ('pop75', '<f8'), ('dpi', '<f8'), ('ddpi', '<f8')])"
            ]
          },
          "execution_count": 7,
          "metadata": {},
          "output_type": "execute_result"
        }
      ]
    },
    {
      "cell_type": "markdown",
      "metadata": {
        "id": "58959a8c"
      },
      "source": [
        "<div class=\"alert alert-info\" style=\"background-color:#006666; color:white; padding:0px 10px; border-radius:5px;\"><h2 style='margin:7px 5px; font-size:16px'>Let's work with data in the 2D format, without the dtype</h2>\n",
        "</div>"
      ],
      "id": "58959a8c"
    },
    {
      "cell_type": "code",
      "metadata": {
        "id": "b52da200",
        "outputId": "c6166e8f-eed0-4a1b-b2ab-5f45c4631b84"
      },
      "source": [
        "data = np.genfromtxt(\"Datasets/Lifecyclesavings.csv\", delimiter=\",\", skip_header=1)\n",
        "data[:10]"
      ],
      "id": "b52da200",
      "execution_count": null,
      "outputs": [
        {
          "data": {
            "text/plain": [
              "array([[  11.43,   29.35,    2.87, 2329.68,    2.87],\n",
              "       [  12.07,   23.32,    4.41, 1507.99,    3.93],\n",
              "       [  13.17,   23.8 ,    4.43, 2108.47,    3.82],\n",
              "       [   5.75,   41.89,    1.67,  189.13,    0.22],\n",
              "       [  12.88,   42.19,    0.83,  728.47,    4.56],\n",
              "       [   8.79,   31.72,    2.85, 2982.88,    2.43],\n",
              "       [   0.6 ,   39.74,    1.34,  662.86,    2.67],\n",
              "       [  11.9 ,   44.75,    0.67,  289.52,    6.51],\n",
              "       [   4.98,   46.64,    1.06,  276.65,    3.08],\n",
              "       [  10.78,   47.64,    1.14,  471.24,    2.8 ]])"
            ]
          },
          "execution_count": 8,
          "metadata": {},
          "output_type": "execute_result"
        }
      ]
    },
    {
      "cell_type": "code",
      "metadata": {
        "id": "f7f2ccfb",
        "outputId": "ae381815-b391-4d96-c89b-062ab1010314"
      },
      "source": [
        "data.shape"
      ],
      "id": "f7f2ccfb",
      "execution_count": null,
      "outputs": [
        {
          "data": {
            "text/plain": [
              "(50, 5)"
            ]
          },
          "execution_count": 9,
          "metadata": {},
          "output_type": "execute_result"
        }
      ]
    },
    {
      "cell_type": "markdown",
      "metadata": {
        "id": "5ee174c8"
      },
      "source": [
        "Trying to sort a 2D array will sort every column of that array. As a result, the row contents get disturbed. Careful!"
      ],
      "id": "5ee174c8"
    },
    {
      "cell_type": "code",
      "metadata": {
        "id": "50c07867",
        "outputId": "d8c45b71-822e-4fc4-ea3f-c0d00f48de89"
      },
      "source": [
        "data.sort(axis=0)\n",
        "data[:10]"
      ],
      "id": "50c07867",
      "execution_count": null,
      "outputs": [
        {
          "data": {
            "text/plain": [
              "array([[  0.6 ,  21.44,   0.56,  88.94,   0.22],\n",
              "       [  1.27,  21.8 ,   0.58, 123.58,   0.53],\n",
              "       [  2.02,  23.27,   0.66, 138.33,   0.67],\n",
              "       [  2.81,  23.31,   0.67, 152.01,   1.03],\n",
              "       [  3.01,  23.32,   0.83, 189.13,   1.12],\n",
              "       [  3.59,  23.49,   0.87, 207.68,   1.13],\n",
              "       [  3.98,  23.8 ,   0.9 , 220.56,   1.48],\n",
              "       [  4.44,  24.42,   0.91, 232.44,   1.54],\n",
              "       [  4.71,  24.52,   0.96, 242.69,   1.57],\n",
              "       [  4.98,  24.71,   1.05, 249.87,   1.76]])"
            ]
          },
          "execution_count": 10,
          "metadata": {},
          "output_type": "execute_result"
        }
      ]
    },
    {
      "cell_type": "markdown",
      "metadata": {
        "id": "2314da73"
      },
      "source": [
        "Re-import original data and use argsort instead."
      ],
      "id": "2314da73"
    },
    {
      "cell_type": "code",
      "metadata": {
        "id": "790e6e8d",
        "outputId": "db181ac1-1413-4e2b-fa69-768403f64ef0"
      },
      "source": [
        "data = np.genfromtxt(\"Datasets/Lifecyclesavings.csv\", delimiter=\",\", skip_header=1)\n",
        "data[:10]"
      ],
      "id": "790e6e8d",
      "execution_count": null,
      "outputs": [
        {
          "data": {
            "text/plain": [
              "array([[  11.43,   29.35,    2.87, 2329.68,    2.87],\n",
              "       [  12.07,   23.32,    4.41, 1507.99,    3.93],\n",
              "       [  13.17,   23.8 ,    4.43, 2108.47,    3.82],\n",
              "       [   5.75,   41.89,    1.67,  189.13,    0.22],\n",
              "       [  12.88,   42.19,    0.83,  728.47,    4.56],\n",
              "       [   8.79,   31.72,    2.85, 2982.88,    2.43],\n",
              "       [   0.6 ,   39.74,    1.34,  662.86,    2.67],\n",
              "       [  11.9 ,   44.75,    0.67,  289.52,    6.51],\n",
              "       [   4.98,   46.64,    1.06,  276.65,    3.08],\n",
              "       [  10.78,   47.64,    1.14,  471.24,    2.8 ]])"
            ]
          },
          "execution_count": 11,
          "metadata": {},
          "output_type": "execute_result"
        }
      ]
    },
    {
      "cell_type": "markdown",
      "metadata": {
        "id": "bce25f6a"
      },
      "source": [
        "`np.argsort` gives the row positions of the numbers in increasing order."
      ],
      "id": "bce25f6a"
    },
    {
      "cell_type": "code",
      "metadata": {
        "id": "4459f8e6",
        "outputId": "41910ceb-b14a-4b4d-8567-e4574a1bdd09"
      },
      "source": [
        "# get row positions of increasing values.\n",
        "x = np.argsort(data[:, 0])\n",
        "x"
      ],
      "id": "4459f8e6",
      "execution_count": null,
      "outputs": [
        {
          "data": {
            "text/plain": [
              "array([ 6, 18, 31, 41, 16, 11, 23, 30, 49,  8, 40,  3, 38, 29, 43, 17, 46,\n",
              "       42,  5, 48, 19, 44, 47, 26, 24, 28, 15,  9, 35, 12, 20,  0, 37,  7,\n",
              "        1, 34, 14, 13, 32, 33,  4,  2, 36, 39, 21, 27, 25, 10, 45, 22],\n",
              "      dtype=int64)"
            ]
          },
          "execution_count": 12,
          "metadata": {},
          "output_type": "execute_result"
        }
      ]
    },
    {
      "cell_type": "code",
      "metadata": {
        "id": "bb0f58f2",
        "outputId": "65f157c6-5d86-4d15-80c4-3b8d5d984e58"
      },
      "source": [
        "# sort the data\n",
        "data[x, :][:10]"
      ],
      "id": "bb0f58f2",
      "execution_count": null,
      "outputs": [
        {
          "data": {
            "text/plain": [
              "array([[   0.6 ,   39.74,    1.34,  662.86,    2.67],\n",
              "       [   1.27,   34.03,    3.08, 1900.1 ,    1.12],\n",
              "       [   2.02,   41.18,    1.05,  220.56,    1.03],\n",
              "       [   2.81,   46.12,    1.21,  249.87,    1.13],\n",
              "       [   3.01,   46.05,    0.87,  289.71,    1.48],\n",
              "       [   3.59,   46.31,    1.19,  287.77,    2.19],\n",
              "       [   3.98,   41.74,    0.91,  207.68,    5.81],\n",
              "       [   4.44,   43.56,    1.2 ,  568.56,    3.61],\n",
              "       [   4.71,   47.2 ,    0.66,  242.69,    5.08],\n",
              "       [   4.98,   46.64,    1.06,  276.65,    3.08]])"
            ]
          },
          "execution_count": 13,
          "metadata": {},
          "output_type": "execute_result"
        }
      ]
    },
    {
      "cell_type": "markdown",
      "metadata": {
        "id": "866dc3ce"
      },
      "source": [
        "Reverse sort"
      ],
      "id": "866dc3ce"
    },
    {
      "cell_type": "code",
      "metadata": {
        "id": "47cb3e94",
        "outputId": "586a0905-f9c6-4c41-f21f-97f696a97e23"
      },
      "source": [
        "# reverse sort\n",
        "data[x[::-1], :][:10]"
      ],
      "id": "47cb3e94",
      "execution_count": null,
      "outputs": [
        {
          "data": {
            "text/plain": [
              "array([[  21.1 ,   27.01,    1.91, 1257.28,    8.21],\n",
              "       [  18.56,   45.25,    0.56,  138.33,    5.14],\n",
              "       [  16.85,   24.42,    3.93, 2496.53,    3.99],\n",
              "       [  15.48,   32.54,    2.47,  601.05,    8.12],\n",
              "       [  14.65,   24.71,    3.25, 1740.7 ,    7.66],\n",
              "       [  14.28,   24.52,    3.48, 1390.  ,    3.54],\n",
              "       [  14.13,   23.49,    3.73, 2630.96,    2.7 ],\n",
              "       [  13.3 ,   31.92,    1.52,  250.96,    2.  ],\n",
              "       [  13.17,   23.8 ,    4.43, 2108.47,    3.82],\n",
              "       [  12.88,   42.19,    0.83,  728.47,    4.56]])"
            ]
          },
          "execution_count": 14,
          "metadata": {},
          "output_type": "execute_result"
        }
      ]
    },
    {
      "cell_type": "markdown",
      "metadata": {
        "id": "59fba9b7"
      },
      "source": [
        "<div class=\"alert alert-info\" style=\"background-color:#006666; color:white; padding:0px 10px; border-radius:5px;\"><h2 style='margin:7px 5px; font-size:16px'>Lexsort</h2>\n",
        "</div>"
      ],
      "id": "59fba9b7"
    },
    {
      "cell_type": "markdown",
      "metadata": {
        "id": "af6f17bb"
      },
      "source": [
        "IF you want to sort based on more than one column, use `lexsort`."
      ],
      "id": "af6f17bb"
    },
    {
      "cell_type": "markdown",
      "metadata": {
        "id": "77c42f48"
      },
      "source": [
        "Let's first round the data, so some values repeat."
      ],
      "id": "77c42f48"
    },
    {
      "cell_type": "code",
      "metadata": {
        "id": "a8a874b9",
        "outputId": "0f6d5ff4-b1c7-42d8-bcb6-370af68bb4aa"
      },
      "source": [
        "data = data.round()\n",
        "data[:10]"
      ],
      "id": "a8a874b9",
      "execution_count": null,
      "outputs": [
        {
          "data": {
            "text/plain": [
              "array([[  11.,   29.,    3., 2330.,    3.],\n",
              "       [  12.,   23.,    4., 1508.,    4.],\n",
              "       [  13.,   24.,    4., 2108.,    4.],\n",
              "       [   6.,   42.,    2.,  189.,    0.],\n",
              "       [  13.,   42.,    1.,  728.,    5.],\n",
              "       [   9.,   32.,    3., 2983.,    2.],\n",
              "       [   1.,   40.,    1.,  663.,    3.],\n",
              "       [  12.,   45.,    1.,  290.,    7.],\n",
              "       [   5.,   47.,    1.,  277.,    3.],\n",
              "       [  11.,   48.,    1.,  471.,    3.]])"
            ]
          },
          "execution_count": 15,
          "metadata": {},
          "output_type": "execute_result"
        }
      ]
    },
    {
      "cell_type": "markdown",
      "metadata": {
        "id": "cd11f61d"
      },
      "source": [
        "__Sort by 0th column first then by 1st column__"
      ],
      "id": "cd11f61d"
    },
    {
      "cell_type": "code",
      "metadata": {
        "id": "998e20cb",
        "outputId": "4749b98b-4279-44ff-fa7d-bc7c59d3da1d"
      },
      "source": [
        "x = np.lexsort((data[:, 1].tolist(), data[:, 0].tolist())) \n",
        "x"
      ],
      "id": "998e20cb",
      "execution_count": null,
      "outputs": [
        {
          "data": {
            "text/plain": [
              "array([18,  6, 31, 16, 41, 23, 30, 11, 40,  8, 49,  3, 38, 29, 42, 43, 46,\n",
              "       17, 47,  5, 19, 48, 44, 24, 26, 15, 12,  0, 20, 35, 28,  9,  1, 37,\n",
              "       34,  7, 14,  2, 13, 36,  4, 32, 33, 39, 21, 27, 25, 10, 45, 22],\n",
              "      dtype=int64)"
            ]
          },
          "execution_count": 16,
          "metadata": {},
          "output_type": "execute_result"
        }
      ]
    },
    {
      "cell_type": "code",
      "metadata": {
        "id": "8692ea74",
        "outputId": "693f9f2b-08eb-48ee-fb46-23d3564793e3"
      },
      "source": [
        "data[x, :][:15,:]"
      ],
      "id": "8692ea74",
      "execution_count": null,
      "outputs": [
        {
          "data": {
            "text/plain": [
              "array([[   1.,   34.,    3., 1900.,    1.],\n",
              "       [   1.,   40.,    1.,  663.,    3.],\n",
              "       [   2.,   41.,    1.,  221.,    1.],\n",
              "       [   3.,   46.,    1.,  290.,    1.],\n",
              "       [   3.,   46.,    1.,  250.,    1.],\n",
              "       [   4.,   42.,    1.,  208.,    6.],\n",
              "       [   4.,   44.,    1.,  569.,    4.],\n",
              "       [   4.,   46.,    1.,  288.,    2.],\n",
              "       [   5.,   43.,    1.,  390.,    3.],\n",
              "       [   5.,   47.,    1.,  277.,    3.],\n",
              "       [   5.,   47.,    1.,  243.,    5.],\n",
              "       [   6.,   42.,    2.,  189.,    0.],\n",
              "       [   7.,   21.,    5., 3299.,    3.],\n",
              "       [   7.,   45.,    1.,  326.,    2.],\n",
              "       [   8.,   23.,    4., 1814.,    2.]])"
            ]
          },
          "execution_count": 17,
          "metadata": {},
          "output_type": "execute_result"
        }
      ]
    },
    {
      "cell_type": "markdown",
      "metadata": {
        "id": "f0eb3db1"
      },
      "source": [
        "<div class=\"alert alert-info\" style=\"background-color:#006666; color:white; padding:0px 10px; border-radius:5px;\"><h2 style='margin:7px 5px; font-size:16px'>Mini Challenge</h2>\n",
        "</div>"
      ],
      "id": "f0eb3db1"
    },
    {
      "cell_type": "markdown",
      "metadata": {
        "id": "fe7720fb"
      },
      "source": [
        "Q. Sort 2nd column in ascending order and 4th column in descending order.\n",
        "\n",
        "```python\n",
        "import numpy as np\n",
        "np.set_printoptions(suppress=True)  \n",
        "\n",
        "data = np.genfromtxt(\"Datasets/Lifecyclesavings.csv\", delimiter=\",\", skip_header=1)\n",
        "data = data.round()\n",
        "data[:10]\n",
        "```\n",
        "\n",
        "__Code URL:__ https://git.io/Jn8Ru"
      ],
      "id": "fe7720fb"
    },
    {
      "cell_type": "markdown",
      "metadata": {
        "id": "ff0f4307"
      },
      "source": [
        "__Solution__"
      ],
      "id": "ff0f4307"
    },
    {
      "cell_type": "code",
      "metadata": {
        "id": "2e0a4b18"
      },
      "source": [
        ""
      ],
      "id": "2e0a4b18",
      "execution_count": null,
      "outputs": []
    },
    {
      "cell_type": "code",
      "metadata": {
        "id": "f223c35c"
      },
      "source": [
        ""
      ],
      "id": "f223c35c",
      "execution_count": null,
      "outputs": []
    },
    {
      "cell_type": "code",
      "metadata": {
        "id": "9c2949d3"
      },
      "source": [
        ""
      ],
      "id": "9c2949d3",
      "execution_count": null,
      "outputs": []
    },
    {
      "cell_type": "code",
      "metadata": {
        "id": "1175e83a"
      },
      "source": [
        ""
      ],
      "id": "1175e83a",
      "execution_count": null,
      "outputs": []
    },
    {
      "cell_type": "code",
      "metadata": {
        "id": "350988a8"
      },
      "source": [
        ""
      ],
      "id": "350988a8",
      "execution_count": null,
      "outputs": []
    },
    {
      "cell_type": "code",
      "metadata": {
        "id": "667e408a"
      },
      "source": [
        ""
      ],
      "id": "667e408a",
      "execution_count": null,
      "outputs": []
    },
    {
      "cell_type": "code",
      "metadata": {
        "id": "1a660669"
      },
      "source": [
        ""
      ],
      "id": "1a660669",
      "execution_count": null,
      "outputs": []
    },
    {
      "cell_type": "code",
      "metadata": {
        "id": "3bf96e74"
      },
      "source": [
        ""
      ],
      "id": "3bf96e74",
      "execution_count": null,
      "outputs": []
    },
    {
      "cell_type": "code",
      "metadata": {
        "id": "fe89a9b3"
      },
      "source": [
        ""
      ],
      "id": "fe89a9b3",
      "execution_count": null,
      "outputs": []
    },
    {
      "cell_type": "code",
      "metadata": {
        "scrolled": true,
        "id": "749ba1d2",
        "outputId": "d788ba6e-1709-4495-cf5e-12f59be3124b"
      },
      "source": [
        "import numpy as np\n",
        "np.set_printoptions(suppress=True)  \n",
        "\n",
        "data = np.genfromtxt(\"Datasets/Lifecyclesavings.csv\", delimiter=\",\", skip_header=1)\n",
        "data = data.round()\n",
        "data[:10]"
      ],
      "id": "749ba1d2",
      "execution_count": null,
      "outputs": [
        {
          "data": {
            "text/plain": [
              "array([[  11.,   29.,    3., 2330.,    3.],\n",
              "       [  12.,   23.,    4., 1508.,    4.],\n",
              "       [  13.,   24.,    4., 2108.,    4.],\n",
              "       [   6.,   42.,    2.,  189.,    0.],\n",
              "       [  13.,   42.,    1.,  728.,    5.],\n",
              "       [   9.,   32.,    3., 2983.,    2.],\n",
              "       [   1.,   40.,    1.,  663.,    3.],\n",
              "       [  12.,   45.,    1.,  290.,    7.],\n",
              "       [   5.,   47.,    1.,  277.,    3.],\n",
              "       [  11.,   48.,    1.,  471.,    3.]])"
            ]
          },
          "execution_count": 18,
          "metadata": {},
          "output_type": "execute_result"
        }
      ]
    },
    {
      "cell_type": "code",
      "metadata": {
        "id": "2e8f9207",
        "outputId": "e465c9f4-94db-4cc1-8ef6-f1a63ed049a1"
      },
      "source": [
        "# Sort 2nd ascending, 4th in descending.\n",
        "x = np.lexsort([-data[:, 4], data[:, 2]])\n",
        "data[x, :]"
      ],
      "id": "2e8f9207",
      "execution_count": null,
      "outputs": [
        {
          "data": {
            "text/plain": [
              "array([[  12.,   45.,    1.,  290.,    7.],\n",
              "       [   4.,   42.,    1.,  208.,    6.],\n",
              "       [  13.,   42.,    1.,  728.,    5.],\n",
              "       [  19.,   45.,    1.,  138.,    5.],\n",
              "       [   5.,   47.,    1.,  243.,    5.],\n",
              "       [   4.,   44.,    1.,  569.,    4.],\n",
              "       [   1.,   40.,    1.,  663.,    3.],\n",
              "       [   5.,   47.,    1.,  277.,    3.],\n",
              "       [  11.,   48.,    1.,  471.,    3.],\n",
              "       [   8.,   47.,    1.,  232.,    3.],\n",
              "       [   5.,   43.,    1.,  390.,    3.],\n",
              "       [   4.,   46.,    1.,  288.,    2.],\n",
              "       [   9.,   41.,    1.,   89.,    2.],\n",
              "       [   7.,   45.,    1.,  326.,    2.],\n",
              "       [  13.,   46.,    1.,  152.,    2.],\n",
              "       [   3.,   46.,    1.,  290.,    1.],\n",
              "       [   2.,   41.,    1.,  221.,    1.],\n",
              "       [  13.,   44.,    1.,  400.,    1.],\n",
              "       [   3.,   46.,    1.,  250.,    1.],\n",
              "       [   9.,   46.,    1.,  813.,    1.],\n",
              "       [   9.,   44.,    2.,  124.,   17.],\n",
              "       [   8.,   41.,    2.,  380.,   10.],\n",
              "       [  21.,   27.,    2., 1257.,    8.],\n",
              "       [  15.,   33.,    2.,  601.,    8.],\n",
              "       [  11.,   28.,    2., 1681.,    4.],\n",
              "       [  11.,   32.,    2.,  651.,    2.],\n",
              "       [  13.,   32.,    2.,  251.,    2.],\n",
              "       [   6.,   42.,    2.,  189.,    0.],\n",
              "       [  15.,   25.,    3., 1741.,    8.],\n",
              "       [  12.,   29.,    3.,  580.,    7.],\n",
              "       [  11.,   26.,    3.,  871.,    6.],\n",
              "       [  14.,   25.,    3., 1390.,    4.],\n",
              "       [  12.,   28.,    3.,  769.,    4.],\n",
              "       [  11.,   29.,    3., 2330.,    3.],\n",
              "       [  13.,   23.,    3., 2457.,    3.],\n",
              "       [   9.,   32.,    3., 2983.,    2.],\n",
              "       [  11.,   33.,    3., 1488.,    2.],\n",
              "       [   8.,   30.,    3., 4002.,    2.],\n",
              "       [   9.,   28.,    3.,  767.,    2.],\n",
              "       [   1.,   34.,    3., 1900.,    1.],\n",
              "       [  12.,   23.,    4., 1508.,    4.],\n",
              "       [  13.,   24.,    4., 2108.,    4.],\n",
              "       [  17.,   24.,    4., 2497.,    4.],\n",
              "       [  10.,   26.,    4., 2231.,    4.],\n",
              "       [  11.,   31.,    4., 1140.,    3.],\n",
              "       [  14.,   23.,    4., 2631.,    3.],\n",
              "       [  10.,   22.,    4., 2449.,    2.],\n",
              "       [   8.,   23.,    4., 1814.,    2.],\n",
              "       [  13.,   25.,    5., 2214.,    5.],\n",
              "       [   7.,   21.,    5., 3299.,    3.]])"
            ]
          },
          "execution_count": 19,
          "metadata": {},
          "output_type": "execute_result"
        }
      ]
    },
    {
      "cell_type": "code",
      "metadata": {
        "id": "7eed603f"
      },
      "source": [
        ""
      ],
      "id": "7eed603f",
      "execution_count": null,
      "outputs": []
    }
  ]
}