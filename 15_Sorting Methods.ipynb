{
 "cells": [
  {
   "cell_type": "markdown",
   "id": "87b25d3b",
   "metadata": {},
   "source": [
    "<div style=\"color:#006666; padding:0px 10px; border-radius:5px; font-size:18px; text-align:center\"><h1 style='margin:10px 5px'>Sorting Methods</h1>\n",
    "<hr>\n",
    "<p style=\"color:#006666; text-align:right;font-size:10px\">\n",
    "Copyright by MachineLearningPlus. All Rights Reserved.\n",
    "</p>\n",
    "\n",
    "</div>\n",
    "\n",
    "1. Regular Sorting\n",
    "2. argsort\n",
    "3. lexsort"
   ]
  },
  {
   "cell_type": "code",
   "execution_count": 1,
   "id": "c78abfc0",
   "metadata": {},
   "outputs": [],
   "source": [
    "import numpy as np\n",
    "np.set_printoptions(suppress=True)  "
   ]
  },
  {
   "cell_type": "code",
   "execution_count": 2,
   "id": "9b4dd78f",
   "metadata": {},
   "outputs": [
    {
     "data": {
      "text/plain": [
       "array([[  11.43,   29.35,    2.87, 2329.68,    2.87],\n",
       "       [  12.07,   23.32,    4.41, 1507.99,    3.93],\n",
       "       [  13.17,   23.8 ,    4.43, 2108.47,    3.82],\n",
       "       [   5.75,   41.89,    1.67,  189.13,    0.22],\n",
       "       [  12.88,   42.19,    0.83,  728.47,    4.56],\n",
       "       [   8.79,   31.72,    2.85, 2982.88,    2.43],\n",
       "       [   0.6 ,   39.74,    1.34,  662.86,    2.67],\n",
       "       [  11.9 ,   44.75,    0.67,  289.52,    6.51],\n",
       "       [   4.98,   46.64,    1.06,  276.65,    3.08],\n",
       "       [  10.78,   47.64,    1.14,  471.24,    2.8 ]])"
      ]
     },
     "execution_count": 2,
     "metadata": {},
     "output_type": "execute_result"
    }
   ],
   "source": [
    "data = np.genfromtxt(\"Datasets/Lifecyclesavings.csv\", delimiter=\",\", skip_header=1)\n",
    "data[:10]"
   ]
  },
  {
   "cell_type": "code",
   "execution_count": 3,
   "id": "c08311d0",
   "metadata": {},
   "outputs": [],
   "source": [
    "# Define Column names and Datatype \n",
    "dt = {'names':[\"sr\",\"pop15\",\"pop75\",\"dpi\",\"ddpi\"], \n",
    "      'formats':[np.float, np.float, np.float, np.float, np.float]}\n",
    "data.dtype=dt"
   ]
  },
  {
   "cell_type": "code",
   "execution_count": 4,
   "id": "07565fa0",
   "metadata": {},
   "outputs": [
    {
     "data": {
      "text/plain": [
       "(50, 1)"
      ]
     },
     "execution_count": 4,
     "metadata": {},
     "output_type": "execute_result"
    }
   ],
   "source": [
    "data.shape"
   ]
  },
  {
   "cell_type": "code",
   "execution_count": 5,
   "id": "67127445",
   "metadata": {},
   "outputs": [
    {
     "data": {
      "text/plain": [
       "array([[(11.43, 29.35, 2.87, 2329.68, 2.87)],\n",
       "       [(12.07, 23.32, 4.41, 1507.99, 3.93)],\n",
       "       [(13.17, 23.8 , 4.43, 2108.47, 3.82)],\n",
       "       [( 5.75, 41.89, 1.67,  189.13, 0.22)],\n",
       "       [(12.88, 42.19, 0.83,  728.47, 4.56)],\n",
       "       [( 8.79, 31.72, 2.85, 2982.88, 2.43)],\n",
       "       [( 0.6 , 39.74, 1.34,  662.86, 2.67)],\n",
       "       [(11.9 , 44.75, 0.67,  289.52, 6.51)],\n",
       "       [( 4.98, 46.64, 1.06,  276.65, 3.08)],\n",
       "       [(10.78, 47.64, 1.14,  471.24, 2.8 )]],\n",
       "      dtype=[('sr', '<f8'), ('pop15', '<f8'), ('pop75', '<f8'), ('dpi', '<f8'), ('ddpi', '<f8')])"
      ]
     },
     "execution_count": 5,
     "metadata": {},
     "output_type": "execute_result"
    }
   ],
   "source": [
    "data[:10]"
   ]
  },
  {
   "cell_type": "markdown",
   "id": "87d1e803",
   "metadata": {},
   "source": [
    "`data.sort()` will sort the values inplace."
   ]
  },
  {
   "cell_type": "code",
   "execution_count": 6,
   "id": "33fd0506",
   "metadata": {},
   "outputs": [
    {
     "data": {
      "text/plain": [
       "array([[(0.6 , 39.74, 1.34,  662.86, 2.67)],\n",
       "       [(1.27, 34.03, 3.08, 1900.1 , 1.12)],\n",
       "       [(2.02, 41.18, 1.05,  220.56, 1.03)],\n",
       "       [(2.81, 46.12, 1.21,  249.87, 1.13)],\n",
       "       [(3.01, 46.05, 0.87,  289.71, 1.48)],\n",
       "       [(3.59, 46.31, 1.19,  287.77, 2.19)],\n",
       "       [(3.98, 41.74, 0.91,  207.68, 5.81)],\n",
       "       [(4.44, 43.56, 1.2 ,  568.56, 3.61)],\n",
       "       [(4.71, 47.2 , 0.66,  242.69, 5.08)],\n",
       "       [(4.98, 46.64, 1.06,  276.65, 3.08)]],\n",
       "      dtype=[('sr', '<f8'), ('pop15', '<f8'), ('pop75', '<f8'), ('dpi', '<f8'), ('ddpi', '<f8')])"
      ]
     },
     "execution_count": 6,
     "metadata": {},
     "output_type": "execute_result"
    }
   ],
   "source": [
    "# Sort Row wise\n",
    "data.sort(axis=0)\n",
    "data[:10]"
   ]
  },
  {
   "cell_type": "markdown",
   "id": "828b7641",
   "metadata": {},
   "source": [
    "<div class=\"alert alert-info\" style=\"background-color:#006666; color:white; padding:0px 10px; border-radius:5px;\"><h2 style='margin:7px 5px; font-size:16px'>Descending Sort</h2>\n",
    "</div>"
   ]
  },
  {
   "cell_type": "code",
   "execution_count": 7,
   "id": "e5389f64",
   "metadata": {},
   "outputs": [
    {
     "data": {
      "text/plain": [
       "array([[(21.1 , 27.01, 1.91, 1257.28, 8.21)],\n",
       "       [(18.56, 45.25, 0.56,  138.33, 5.14)],\n",
       "       [(16.85, 24.42, 3.93, 2496.53, 3.99)],\n",
       "       [(15.48, 32.54, 2.47,  601.05, 8.12)],\n",
       "       [(14.65, 24.71, 3.25, 1740.7 , 7.66)],\n",
       "       [(14.28, 24.52, 3.48, 1390.  , 3.54)],\n",
       "       [(14.13, 23.49, 3.73, 2630.96, 2.7 )],\n",
       "       [(13.3 , 31.92, 1.52,  250.96, 2.  )],\n",
       "       [(13.17, 23.8 , 4.43, 2108.47, 3.82)],\n",
       "       [(12.88, 42.19, 0.83,  728.47, 4.56)]],\n",
       "      dtype=[('sr', '<f8'), ('pop15', '<f8'), ('pop75', '<f8'), ('dpi', '<f8'), ('ddpi', '<f8')])"
      ]
     },
     "execution_count": 7,
     "metadata": {},
     "output_type": "execute_result"
    }
   ],
   "source": [
    "# Descending sort\n",
    "data.sort(axis=0)\n",
    "data[::-1][:10]"
   ]
  },
  {
   "cell_type": "markdown",
   "id": "58959a8c",
   "metadata": {},
   "source": [
    "<div class=\"alert alert-info\" style=\"background-color:#006666; color:white; padding:0px 10px; border-radius:5px;\"><h2 style='margin:7px 5px; font-size:16px'>Let's work with data in the 2D format, without the dtype</h2>\n",
    "</div>"
   ]
  },
  {
   "cell_type": "code",
   "execution_count": 8,
   "id": "b52da200",
   "metadata": {},
   "outputs": [
    {
     "data": {
      "text/plain": [
       "array([[  11.43,   29.35,    2.87, 2329.68,    2.87],\n",
       "       [  12.07,   23.32,    4.41, 1507.99,    3.93],\n",
       "       [  13.17,   23.8 ,    4.43, 2108.47,    3.82],\n",
       "       [   5.75,   41.89,    1.67,  189.13,    0.22],\n",
       "       [  12.88,   42.19,    0.83,  728.47,    4.56],\n",
       "       [   8.79,   31.72,    2.85, 2982.88,    2.43],\n",
       "       [   0.6 ,   39.74,    1.34,  662.86,    2.67],\n",
       "       [  11.9 ,   44.75,    0.67,  289.52,    6.51],\n",
       "       [   4.98,   46.64,    1.06,  276.65,    3.08],\n",
       "       [  10.78,   47.64,    1.14,  471.24,    2.8 ]])"
      ]
     },
     "execution_count": 8,
     "metadata": {},
     "output_type": "execute_result"
    }
   ],
   "source": [
    "data = np.genfromtxt(\"Datasets/Lifecyclesavings.csv\", delimiter=\",\", skip_header=1)\n",
    "data[:10]"
   ]
  },
  {
   "cell_type": "code",
   "execution_count": 9,
   "id": "f7f2ccfb",
   "metadata": {},
   "outputs": [
    {
     "data": {
      "text/plain": [
       "(50, 5)"
      ]
     },
     "execution_count": 9,
     "metadata": {},
     "output_type": "execute_result"
    }
   ],
   "source": [
    "data.shape"
   ]
  },
  {
   "cell_type": "markdown",
   "id": "5ee174c8",
   "metadata": {},
   "source": [
    "Trying to sort a 2D array will sort every column of that array. As a result, the row contents get disturbed. Careful!"
   ]
  },
  {
   "cell_type": "code",
   "execution_count": 10,
   "id": "50c07867",
   "metadata": {},
   "outputs": [
    {
     "data": {
      "text/plain": [
       "array([[  0.6 ,  21.44,   0.56,  88.94,   0.22],\n",
       "       [  1.27,  21.8 ,   0.58, 123.58,   0.53],\n",
       "       [  2.02,  23.27,   0.66, 138.33,   0.67],\n",
       "       [  2.81,  23.31,   0.67, 152.01,   1.03],\n",
       "       [  3.01,  23.32,   0.83, 189.13,   1.12],\n",
       "       [  3.59,  23.49,   0.87, 207.68,   1.13],\n",
       "       [  3.98,  23.8 ,   0.9 , 220.56,   1.48],\n",
       "       [  4.44,  24.42,   0.91, 232.44,   1.54],\n",
       "       [  4.71,  24.52,   0.96, 242.69,   1.57],\n",
       "       [  4.98,  24.71,   1.05, 249.87,   1.76]])"
      ]
     },
     "execution_count": 10,
     "metadata": {},
     "output_type": "execute_result"
    }
   ],
   "source": [
    "data.sort(axis=0)\n",
    "data[:10]"
   ]
  },
  {
   "cell_type": "markdown",
   "id": "2314da73",
   "metadata": {},
   "source": [
    "Re-import original data and use argsort instead."
   ]
  },
  {
   "cell_type": "code",
   "execution_count": 11,
   "id": "790e6e8d",
   "metadata": {},
   "outputs": [
    {
     "data": {
      "text/plain": [
       "array([[  11.43,   29.35,    2.87, 2329.68,    2.87],\n",
       "       [  12.07,   23.32,    4.41, 1507.99,    3.93],\n",
       "       [  13.17,   23.8 ,    4.43, 2108.47,    3.82],\n",
       "       [   5.75,   41.89,    1.67,  189.13,    0.22],\n",
       "       [  12.88,   42.19,    0.83,  728.47,    4.56],\n",
       "       [   8.79,   31.72,    2.85, 2982.88,    2.43],\n",
       "       [   0.6 ,   39.74,    1.34,  662.86,    2.67],\n",
       "       [  11.9 ,   44.75,    0.67,  289.52,    6.51],\n",
       "       [   4.98,   46.64,    1.06,  276.65,    3.08],\n",
       "       [  10.78,   47.64,    1.14,  471.24,    2.8 ]])"
      ]
     },
     "execution_count": 11,
     "metadata": {},
     "output_type": "execute_result"
    }
   ],
   "source": [
    "data = np.genfromtxt(\"Datasets/Lifecyclesavings.csv\", delimiter=\",\", skip_header=1)\n",
    "data[:10]"
   ]
  },
  {
   "cell_type": "markdown",
   "id": "bce25f6a",
   "metadata": {},
   "source": [
    "`np.argsort` gives the row positions of the numbers in increasing order."
   ]
  },
  {
   "cell_type": "code",
   "execution_count": 12,
   "id": "4459f8e6",
   "metadata": {},
   "outputs": [
    {
     "data": {
      "text/plain": [
       "array([ 6, 18, 31, 41, 16, 11, 23, 30, 49,  8, 40,  3, 38, 29, 43, 17, 46,\n",
       "       42,  5, 48, 19, 44, 47, 26, 24, 28, 15,  9, 35, 12, 20,  0, 37,  7,\n",
       "        1, 34, 14, 13, 32, 33,  4,  2, 36, 39, 21, 27, 25, 10, 45, 22],\n",
       "      dtype=int64)"
      ]
     },
     "execution_count": 12,
     "metadata": {},
     "output_type": "execute_result"
    }
   ],
   "source": [
    "# get row positions of increasing values.\n",
    "x = np.argsort(data[:, 0])\n",
    "x"
   ]
  },
  {
   "cell_type": "code",
   "execution_count": 13,
   "id": "bb0f58f2",
   "metadata": {},
   "outputs": [
    {
     "data": {
      "text/plain": [
       "array([[   0.6 ,   39.74,    1.34,  662.86,    2.67],\n",
       "       [   1.27,   34.03,    3.08, 1900.1 ,    1.12],\n",
       "       [   2.02,   41.18,    1.05,  220.56,    1.03],\n",
       "       [   2.81,   46.12,    1.21,  249.87,    1.13],\n",
       "       [   3.01,   46.05,    0.87,  289.71,    1.48],\n",
       "       [   3.59,   46.31,    1.19,  287.77,    2.19],\n",
       "       [   3.98,   41.74,    0.91,  207.68,    5.81],\n",
       "       [   4.44,   43.56,    1.2 ,  568.56,    3.61],\n",
       "       [   4.71,   47.2 ,    0.66,  242.69,    5.08],\n",
       "       [   4.98,   46.64,    1.06,  276.65,    3.08]])"
      ]
     },
     "execution_count": 13,
     "metadata": {},
     "output_type": "execute_result"
    }
   ],
   "source": [
    "# sort the data\n",
    "data[x, :][:10]"
   ]
  },
  {
   "cell_type": "markdown",
   "id": "866dc3ce",
   "metadata": {},
   "source": [
    "Reverse sort"
   ]
  },
  {
   "cell_type": "code",
   "execution_count": 14,
   "id": "47cb3e94",
   "metadata": {},
   "outputs": [
    {
     "data": {
      "text/plain": [
       "array([[  21.1 ,   27.01,    1.91, 1257.28,    8.21],\n",
       "       [  18.56,   45.25,    0.56,  138.33,    5.14],\n",
       "       [  16.85,   24.42,    3.93, 2496.53,    3.99],\n",
       "       [  15.48,   32.54,    2.47,  601.05,    8.12],\n",
       "       [  14.65,   24.71,    3.25, 1740.7 ,    7.66],\n",
       "       [  14.28,   24.52,    3.48, 1390.  ,    3.54],\n",
       "       [  14.13,   23.49,    3.73, 2630.96,    2.7 ],\n",
       "       [  13.3 ,   31.92,    1.52,  250.96,    2.  ],\n",
       "       [  13.17,   23.8 ,    4.43, 2108.47,    3.82],\n",
       "       [  12.88,   42.19,    0.83,  728.47,    4.56]])"
      ]
     },
     "execution_count": 14,
     "metadata": {},
     "output_type": "execute_result"
    }
   ],
   "source": [
    "# reverse sort\n",
    "data[x[::-1], :][:10]"
   ]
  },
  {
   "cell_type": "markdown",
   "id": "59fba9b7",
   "metadata": {},
   "source": [
    "<div class=\"alert alert-info\" style=\"background-color:#006666; color:white; padding:0px 10px; border-radius:5px;\"><h2 style='margin:7px 5px; font-size:16px'>Lexsort</h2>\n",
    "</div>"
   ]
  },
  {
   "cell_type": "markdown",
   "id": "af6f17bb",
   "metadata": {},
   "source": [
    "IF you want to sort based on more than one column, use `lexsort`."
   ]
  },
  {
   "cell_type": "markdown",
   "id": "77c42f48",
   "metadata": {},
   "source": [
    "Let's first round the data, so some values repeat."
   ]
  },
  {
   "cell_type": "code",
   "execution_count": 15,
   "id": "a8a874b9",
   "metadata": {},
   "outputs": [
    {
     "data": {
      "text/plain": [
       "array([[  11.,   29.,    3., 2330.,    3.],\n",
       "       [  12.,   23.,    4., 1508.,    4.],\n",
       "       [  13.,   24.,    4., 2108.,    4.],\n",
       "       [   6.,   42.,    2.,  189.,    0.],\n",
       "       [  13.,   42.,    1.,  728.,    5.],\n",
       "       [   9.,   32.,    3., 2983.,    2.],\n",
       "       [   1.,   40.,    1.,  663.,    3.],\n",
       "       [  12.,   45.,    1.,  290.,    7.],\n",
       "       [   5.,   47.,    1.,  277.,    3.],\n",
       "       [  11.,   48.,    1.,  471.,    3.]])"
      ]
     },
     "execution_count": 15,
     "metadata": {},
     "output_type": "execute_result"
    }
   ],
   "source": [
    "data = data.round()\n",
    "data[:10]"
   ]
  },
  {
   "cell_type": "markdown",
   "id": "cd11f61d",
   "metadata": {},
   "source": [
    "__Sort by 0th column first then by 1st column__"
   ]
  },
  {
   "cell_type": "code",
   "execution_count": 16,
   "id": "998e20cb",
   "metadata": {},
   "outputs": [
    {
     "data": {
      "text/plain": [
       "array([18,  6, 31, 16, 41, 23, 30, 11, 40,  8, 49,  3, 38, 29, 42, 43, 46,\n",
       "       17, 47,  5, 19, 48, 44, 24, 26, 15, 12,  0, 20, 35, 28,  9,  1, 37,\n",
       "       34,  7, 14,  2, 13, 36,  4, 32, 33, 39, 21, 27, 25, 10, 45, 22],\n",
       "      dtype=int64)"
      ]
     },
     "execution_count": 16,
     "metadata": {},
     "output_type": "execute_result"
    }
   ],
   "source": [
    "x = np.lexsort((data[:, 1].tolist(), data[:, 0].tolist())) \n",
    "x"
   ]
  },
  {
   "cell_type": "code",
   "execution_count": 17,
   "id": "8692ea74",
   "metadata": {},
   "outputs": [
    {
     "data": {
      "text/plain": [
       "array([[   1.,   34.,    3., 1900.,    1.],\n",
       "       [   1.,   40.,    1.,  663.,    3.],\n",
       "       [   2.,   41.,    1.,  221.,    1.],\n",
       "       [   3.,   46.,    1.,  290.,    1.],\n",
       "       [   3.,   46.,    1.,  250.,    1.],\n",
       "       [   4.,   42.,    1.,  208.,    6.],\n",
       "       [   4.,   44.,    1.,  569.,    4.],\n",
       "       [   4.,   46.,    1.,  288.,    2.],\n",
       "       [   5.,   43.,    1.,  390.,    3.],\n",
       "       [   5.,   47.,    1.,  277.,    3.],\n",
       "       [   5.,   47.,    1.,  243.,    5.],\n",
       "       [   6.,   42.,    2.,  189.,    0.],\n",
       "       [   7.,   21.,    5., 3299.,    3.],\n",
       "       [   7.,   45.,    1.,  326.,    2.],\n",
       "       [   8.,   23.,    4., 1814.,    2.]])"
      ]
     },
     "execution_count": 17,
     "metadata": {},
     "output_type": "execute_result"
    }
   ],
   "source": [
    "data[x, :][:15,:]"
   ]
  },
  {
   "cell_type": "markdown",
   "id": "f0eb3db1",
   "metadata": {},
   "source": [
    "<div class=\"alert alert-info\" style=\"background-color:#006666; color:white; padding:0px 10px; border-radius:5px;\"><h2 style='margin:7px 5px; font-size:16px'>Mini Challenge</h2>\n",
    "</div>"
   ]
  },
  {
   "cell_type": "markdown",
   "id": "fe7720fb",
   "metadata": {},
   "source": [
    "Q. Sort 2nd column in ascending order and 4th column in descending order.\n",
    "\n",
    "```python\n",
    "import numpy as np\n",
    "np.set_printoptions(suppress=True)  \n",
    "\n",
    "data = np.genfromtxt(\"Datasets/Lifecyclesavings.csv\", delimiter=\",\", skip_header=1)\n",
    "data = data.round()\n",
    "data[:10]\n",
    "```\n",
    "\n",
    "__Code URL:__ https://git.io/Jn8Ru"
   ]
  },
  {
   "cell_type": "markdown",
   "id": "ff0f4307",
   "metadata": {},
   "source": [
    "__Solution__"
   ]
  },
  {
   "cell_type": "code",
   "execution_count": null,
   "id": "2e0a4b18",
   "metadata": {},
   "outputs": [],
   "source": []
  },
  {
   "cell_type": "code",
   "execution_count": null,
   "id": "f223c35c",
   "metadata": {},
   "outputs": [],
   "source": []
  },
  {
   "cell_type": "code",
   "execution_count": null,
   "id": "9c2949d3",
   "metadata": {},
   "outputs": [],
   "source": []
  },
  {
   "cell_type": "code",
   "execution_count": null,
   "id": "1175e83a",
   "metadata": {},
   "outputs": [],
   "source": []
  },
  {
   "cell_type": "code",
   "execution_count": null,
   "id": "350988a8",
   "metadata": {},
   "outputs": [],
   "source": []
  },
  {
   "cell_type": "code",
   "execution_count": null,
   "id": "667e408a",
   "metadata": {},
   "outputs": [],
   "source": []
  },
  {
   "cell_type": "code",
   "execution_count": null,
   "id": "1a660669",
   "metadata": {},
   "outputs": [],
   "source": []
  },
  {
   "cell_type": "code",
   "execution_count": null,
   "id": "3bf96e74",
   "metadata": {},
   "outputs": [],
   "source": []
  },
  {
   "cell_type": "code",
   "execution_count": null,
   "id": "fe89a9b3",
   "metadata": {},
   "outputs": [],
   "source": []
  },
  {
   "cell_type": "code",
   "execution_count": 18,
   "id": "749ba1d2",
   "metadata": {
    "scrolled": true
   },
   "outputs": [
    {
     "data": {
      "text/plain": [
       "array([[  11.,   29.,    3., 2330.,    3.],\n",
       "       [  12.,   23.,    4., 1508.,    4.],\n",
       "       [  13.,   24.,    4., 2108.,    4.],\n",
       "       [   6.,   42.,    2.,  189.,    0.],\n",
       "       [  13.,   42.,    1.,  728.,    5.],\n",
       "       [   9.,   32.,    3., 2983.,    2.],\n",
       "       [   1.,   40.,    1.,  663.,    3.],\n",
       "       [  12.,   45.,    1.,  290.,    7.],\n",
       "       [   5.,   47.,    1.,  277.,    3.],\n",
       "       [  11.,   48.,    1.,  471.,    3.]])"
      ]
     },
     "execution_count": 18,
     "metadata": {},
     "output_type": "execute_result"
    }
   ],
   "source": [
    "import numpy as np\n",
    "np.set_printoptions(suppress=True)  \n",
    "\n",
    "data = np.genfromtxt(\"Datasets/Lifecyclesavings.csv\", delimiter=\",\", skip_header=1)\n",
    "data = data.round()\n",
    "data[:10]"
   ]
  },
  {
   "cell_type": "code",
   "execution_count": 19,
   "id": "2e8f9207",
   "metadata": {},
   "outputs": [
    {
     "data": {
      "text/plain": [
       "array([[  12.,   45.,    1.,  290.,    7.],\n",
       "       [   4.,   42.,    1.,  208.,    6.],\n",
       "       [  13.,   42.,    1.,  728.,    5.],\n",
       "       [  19.,   45.,    1.,  138.,    5.],\n",
       "       [   5.,   47.,    1.,  243.,    5.],\n",
       "       [   4.,   44.,    1.,  569.,    4.],\n",
       "       [   1.,   40.,    1.,  663.,    3.],\n",
       "       [   5.,   47.,    1.,  277.,    3.],\n",
       "       [  11.,   48.,    1.,  471.,    3.],\n",
       "       [   8.,   47.,    1.,  232.,    3.],\n",
       "       [   5.,   43.,    1.,  390.,    3.],\n",
       "       [   4.,   46.,    1.,  288.,    2.],\n",
       "       [   9.,   41.,    1.,   89.,    2.],\n",
       "       [   7.,   45.,    1.,  326.,    2.],\n",
       "       [  13.,   46.,    1.,  152.,    2.],\n",
       "       [   3.,   46.,    1.,  290.,    1.],\n",
       "       [   2.,   41.,    1.,  221.,    1.],\n",
       "       [  13.,   44.,    1.,  400.,    1.],\n",
       "       [   3.,   46.,    1.,  250.,    1.],\n",
       "       [   9.,   46.,    1.,  813.,    1.],\n",
       "       [   9.,   44.,    2.,  124.,   17.],\n",
       "       [   8.,   41.,    2.,  380.,   10.],\n",
       "       [  21.,   27.,    2., 1257.,    8.],\n",
       "       [  15.,   33.,    2.,  601.,    8.],\n",
       "       [  11.,   28.,    2., 1681.,    4.],\n",
       "       [  11.,   32.,    2.,  651.,    2.],\n",
       "       [  13.,   32.,    2.,  251.,    2.],\n",
       "       [   6.,   42.,    2.,  189.,    0.],\n",
       "       [  15.,   25.,    3., 1741.,    8.],\n",
       "       [  12.,   29.,    3.,  580.,    7.],\n",
       "       [  11.,   26.,    3.,  871.,    6.],\n",
       "       [  14.,   25.,    3., 1390.,    4.],\n",
       "       [  12.,   28.,    3.,  769.,    4.],\n",
       "       [  11.,   29.,    3., 2330.,    3.],\n",
       "       [  13.,   23.,    3., 2457.,    3.],\n",
       "       [   9.,   32.,    3., 2983.,    2.],\n",
       "       [  11.,   33.,    3., 1488.,    2.],\n",
       "       [   8.,   30.,    3., 4002.,    2.],\n",
       "       [   9.,   28.,    3.,  767.,    2.],\n",
       "       [   1.,   34.,    3., 1900.,    1.],\n",
       "       [  12.,   23.,    4., 1508.,    4.],\n",
       "       [  13.,   24.,    4., 2108.,    4.],\n",
       "       [  17.,   24.,    4., 2497.,    4.],\n",
       "       [  10.,   26.,    4., 2231.,    4.],\n",
       "       [  11.,   31.,    4., 1140.,    3.],\n",
       "       [  14.,   23.,    4., 2631.,    3.],\n",
       "       [  10.,   22.,    4., 2449.,    2.],\n",
       "       [   8.,   23.,    4., 1814.,    2.],\n",
       "       [  13.,   25.,    5., 2214.,    5.],\n",
       "       [   7.,   21.,    5., 3299.,    3.]])"
      ]
     },
     "execution_count": 19,
     "metadata": {},
     "output_type": "execute_result"
    }
   ],
   "source": [
    "# Sort 2nd ascending, 4th in descending.\n",
    "x = np.lexsort([-data[:, 4], data[:, 2]])\n",
    "data[x, :]"
   ]
  },
  {
   "cell_type": "code",
   "execution_count": null,
   "id": "7eed603f",
   "metadata": {},
   "outputs": [],
   "source": []
  }
 ],
 "metadata": {
  "hide_input": false,
  "kernelspec": {
   "display_name": "Python 3",
   "language": "python",
   "name": "python3"
  },
  "language_info": {
   "codemirror_mode": {
    "name": "ipython",
    "version": 3
   },
   "file_extension": ".py",
   "mimetype": "text/x-python",
   "name": "python",
   "nbconvert_exporter": "python",
   "pygments_lexer": "ipython3",
   "version": "3.7.10"
  },
  "toc": {
   "base_numbering": 1,
   "nav_menu": {},
   "number_sections": false,
   "sideBar": true,
   "skip_h1_title": true,
   "title_cell": "Table of Contents",
   "title_sidebar": "Contents",
   "toc_cell": false,
   "toc_position": {},
   "toc_section_display": true,
   "toc_window_display": false
  }
 },
 "nbformat": 4,
 "nbformat_minor": 5
}
