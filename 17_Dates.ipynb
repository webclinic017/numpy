{
 "cells": [
  {
   "cell_type": "markdown",
   "id": "4c50808a",
   "metadata": {},
   "source": [
    "<div style=\"color:#006666; padding:0px 10px; border-radius:5px; font-size:18px; text-align:center\"><h1 style='margin:10px 5px'>Handling Dates</h1>\n",
    "<hr>\n",
    "<p style=\"color:#006666; text-align:right;font-size:10px\">\n",
    "Copyright by MachineLearningPlus. All Rights Reserved.\n",
    "</p>\n",
    "\n",
    "</div>"
   ]
  },
  {
   "cell_type": "code",
   "execution_count": 1,
   "id": "77b733e8",
   "metadata": {},
   "outputs": [
    {
     "name": "stdout",
     "output_type": "stream",
     "text": [
      "Date is: 2000-12-31\n"
     ]
    }
   ],
   "source": [
    "import numpy as np\n",
    "  \n",
    "# Creating a date\n",
    "today = np.datetime64('2000-12-31')\n",
    "print(\"Date is:\", today)"
   ]
  },
  {
   "cell_type": "markdown",
   "id": "0593815b",
   "metadata": {},
   "source": [
    "Date Representations"
   ]
  },
  {
   "cell_type": "code",
   "execution_count": 2,
   "id": "33d94fce",
   "metadata": {},
   "outputs": [
    {
     "name": "stdout",
     "output_type": "stream",
     "text": [
      "Year is         : 2000\n",
      "Month is        : 2000-12\n",
      "Date is         : 2000-12-31\n",
      "Hour is         : 2000-12-31T00\n",
      "Minute is       : 2000-12-31T00:00\n",
      "Second is       : 2000-12-31T00:00:00\n",
      "Milli Second is : 2000-12-31T00:00:00.000\n",
      "Nano Second is  : 2000-12-31T00:00:00.000000000\n"
     ]
    }
   ],
   "source": [
    "print(\"Year is         :\", np.datetime64(today, 'Y'))\n",
    "print(\"Month is        :\", np.datetime64(today, 'M'))\n",
    "print(\"Date is         :\", np.datetime64(today, 'D'))\n",
    "print(\"Hour is         :\", np.datetime64(today, 'h'))\n",
    "print(\"Minute is       :\", np.datetime64(today, 'm'))\n",
    "print(\"Second is       :\", np.datetime64(today, 's'))\n",
    "print(\"Milli Second is :\", np.datetime64(today, 'ms'))\n",
    "print(\"Nano Second is  :\", np.datetime64(today, 'ns'))"
   ]
  },
  {
   "cell_type": "code",
   "execution_count": 3,
   "id": "e5dbde08",
   "metadata": {},
   "outputs": [
    {
     "data": {
      "text/plain": [
       "numpy.datetime64('2000-12-31T00:00:00')"
      ]
     },
     "execution_count": 3,
     "metadata": {},
     "output_type": "execute_result"
    }
   ],
   "source": [
    "today_s = np.datetime64(today, 's')\n",
    "today_s"
   ]
  },
  {
   "cell_type": "markdown",
   "id": "ca58d182",
   "metadata": {},
   "source": [
    "You can pass the time as a string as well"
   ]
  },
  {
   "cell_type": "code",
   "execution_count": 4,
   "id": "ff4db74b",
   "metadata": {},
   "outputs": [
    {
     "data": {
      "text/plain": [
       "numpy.datetime64('2000-12-31T00:00:00')"
      ]
     },
     "execution_count": 4,
     "metadata": {},
     "output_type": "execute_result"
    }
   ],
   "source": [
    "today_s = np.datetime64('2000-12-31 00:00:00')\n",
    "today_s"
   ]
  },
  {
   "cell_type": "markdown",
   "id": "2e24b0fd",
   "metadata": {},
   "source": [
    "<div class=\"alert alert-info\" style=\"background-color:#006666; color:white; padding:0px 10px; border-radius:5px;\"><h2 style='margin:7px 5px; font-size:16px'>Sequence of Dates</h2>\n",
    "</div>"
   ]
  },
  {
   "cell_type": "code",
   "execution_count": 5,
   "id": "1a3ae94d",
   "metadata": {},
   "outputs": [
    {
     "name": "stdout",
     "output_type": "stream",
     "text": [
      "\n",
      "Dates of February, 2017:\n",
      " ['2001-02-01' '2001-02-02' '2001-02-03' '2001-02-04' '2001-02-05'\n",
      " '2001-02-06' '2001-02-07' '2001-02-08' '2001-02-09' '2001-02-10'\n",
      " '2001-02-11' '2001-02-12' '2001-02-13' '2001-02-14' '2001-02-15'\n",
      " '2001-02-16' '2001-02-17' '2001-02-18' '2001-02-19' '2001-02-20'\n",
      " '2001-02-21' '2001-02-22' '2001-02-23' '2001-02-24' '2001-02-25'\n",
      " '2001-02-26' '2001-02-27' '2001-02-28']\n",
      "Today is February: False\n"
     ]
    }
   ],
   "source": [
    "# creating array of dates in a month\n",
    "dates = np.arange('2001-02', '2001-03', dtype='datetime64[D]')\n",
    "print(\"\\nDates of February, 2017:\\n\", dates)\n",
    "print(\"Today is February:\", today in dates)"
   ]
  },
  {
   "cell_type": "markdown",
   "id": "a729bc58",
   "metadata": {},
   "source": [
    "__Number of Days between two dates__"
   ]
  },
  {
   "cell_type": "code",
   "execution_count": 6,
   "id": "da8be55f",
   "metadata": {},
   "outputs": [
    {
     "name": "stdout",
     "output_type": "stream",
     "text": [
      "\n",
      "No. of days: 365 days\n",
      "No. of weeks: 52 weeks\n"
     ]
    }
   ],
   "source": [
    "# arithmetic operation on dates\n",
    "dur = np.datetime64('2017-05-22') - np.datetime64('2016-05-22')\n",
    "print(\"\\nNo. of days:\", dur)\n",
    "print(\"No. of weeks:\", np.timedelta64(dur, 'W'))"
   ]
  },
  {
   "cell_type": "markdown",
   "id": "6537d4d6",
   "metadata": {},
   "source": [
    "__Sort Dates__"
   ]
  },
  {
   "cell_type": "code",
   "execution_count": 7,
   "id": "994e7bf3",
   "metadata": {},
   "outputs": [
    {
     "name": "stdout",
     "output_type": "stream",
     "text": [
      "\n",
      "Dates in sorted order: ['2016-10-13' '2017-02-12' '2019-05-22']\n"
     ]
    }
   ],
   "source": [
    "# sorting dates\n",
    "a = np.array(['2017-02-12', '2016-10-13', '2019-05-22'], dtype='datetime64')\n",
    "print(\"\\nDates in sorted order:\", np.sort(a))"
   ]
  },
  {
   "cell_type": "markdown",
   "id": "5049a596",
   "metadata": {},
   "source": [
    "__Next Business Day__"
   ]
  },
  {
   "cell_type": "markdown",
   "id": "a2fd500d",
   "metadata": {},
   "source": [
    "_Add 1 business day_"
   ]
  },
  {
   "cell_type": "code",
   "execution_count": 8,
   "id": "fbf22cc1",
   "metadata": {},
   "outputs": [
    {
     "data": {
      "text/plain": [
       "numpy.datetime64('2011-06-24')"
      ]
     },
     "execution_count": 8,
     "metadata": {},
     "output_type": "execute_result"
    }
   ],
   "source": [
    "np.busday_offset('2011-06-23', 1)"
   ]
  },
  {
   "cell_type": "markdown",
   "id": "0d80f1d7",
   "metadata": {},
   "source": [
    "_Add two business days_"
   ]
  },
  {
   "cell_type": "code",
   "execution_count": 9,
   "id": "344e91e6",
   "metadata": {},
   "outputs": [
    {
     "data": {
      "text/plain": [
       "numpy.datetime64('2011-06-27')"
      ]
     },
     "execution_count": 9,
     "metadata": {},
     "output_type": "execute_result"
    }
   ],
   "source": [
    "np.busday_offset('2011-06-23', 2)"
   ]
  },
  {
   "cell_type": "markdown",
   "id": "156d025f",
   "metadata": {},
   "source": [
    "_Add two regular days_"
   ]
  },
  {
   "cell_type": "code",
   "execution_count": 10,
   "id": "66af1f07",
   "metadata": {},
   "outputs": [
    {
     "data": {
      "text/plain": [
       "numpy.datetime64('2011-06-25')"
      ]
     },
     "execution_count": 10,
     "metadata": {},
     "output_type": "execute_result"
    }
   ],
   "source": [
    "after_2_days = np.datetime64('2011-06-23', 'D') + np.timedelta64(2, 'D')\n",
    "after_2_days"
   ]
  },
  {
   "cell_type": "markdown",
   "id": "1286426a",
   "metadata": {},
   "source": [
    "__Number of Business days__"
   ]
  },
  {
   "cell_type": "code",
   "execution_count": 11,
   "id": "9759fad9",
   "metadata": {},
   "outputs": [
    {
     "data": {
      "text/plain": [
       "22"
      ]
     },
     "execution_count": 11,
     "metadata": {},
     "output_type": "execute_result"
    }
   ],
   "source": [
    "np.busday_count(np.datetime64('2001-01-01'), np.datetime64('2001-01-31'))"
   ]
  },
  {
   "cell_type": "markdown",
   "id": "c26735a2",
   "metadata": {},
   "source": [
    "__Example: First Friday of a given month__"
   ]
  },
  {
   "cell_type": "code",
   "execution_count": 12,
   "id": "507f4733",
   "metadata": {},
   "outputs": [
    {
     "name": "stdout",
     "output_type": "stream",
     "text": [
      "2010-02-05\n"
     ]
    }
   ],
   "source": [
    "# First friday of given month\n",
    "yearMonth = '2010-02'\n",
    "  \n",
    "# getting date of first friday\n",
    "date = np.busday_offset(yearMonth, 0, \n",
    "                        roll='forward', \n",
    "                        weekmask='Fri')\n",
    "  \n",
    "print(date)"
   ]
  },
  {
   "cell_type": "markdown",
   "id": "5d227160",
   "metadata": {},
   "source": [
    "__Example: Last Friday of a given month__"
   ]
  },
  {
   "cell_type": "code",
   "execution_count": 13,
   "id": "b798ad2b",
   "metadata": {},
   "outputs": [
    {
     "name": "stdout",
     "output_type": "stream",
     "text": [
      "2010-02-26\n"
     ]
    }
   ],
   "source": [
    "# last friday of given month\n",
    "yearMonth = '2010-02'\n",
    "\n",
    "# Go to next month and roll backward\n",
    "nextMonth = '2010-03'    \n",
    "    \n",
    "# getting date of first friday\n",
    "date = np.busday_offset(nextMonth, 0, \n",
    "                           roll='backward', \n",
    "                           weekmask='Fri')\n",
    "  \n",
    "print(date)"
   ]
  },
  {
   "cell_type": "markdown",
   "id": "d5bb91ff",
   "metadata": {},
   "source": [
    "__Convert to datetime Object__"
   ]
  },
  {
   "cell_type": "code",
   "execution_count": 14,
   "id": "ad84643a",
   "metadata": {},
   "outputs": [
    {
     "data": {
      "text/plain": [
       "datetime.date(2005, 5, 5)"
      ]
     },
     "execution_count": 14,
     "metadata": {},
     "output_type": "execute_result"
    }
   ],
   "source": [
    "from datetime import datetime\n",
    "np.datetime64('2005-05-05').astype(datetime)"
   ]
  },
  {
   "cell_type": "markdown",
   "id": "1e38c9f8",
   "metadata": {},
   "source": [
    "<div class=\"alert alert-info\" style=\"background-color:#006666; color:white; padding:0px 10px; border-radius:5px;\"><h2 style='margin:7px 5px; font-size:16px'>Mini Challenge</h2>\n",
    "</div>\n",
    "\n",
    "Make a python numpy `arange` array of dates (for every 2 days) with:\n",
    "\n",
    "- Start Date: \"2000-01-01\"\n",
    "- End Date: \"2000-01-31\"\n",
    "\n",
    "Using: \n",
    "\n",
    "1. np.datetime64\n",
    "2. datetime.datetime (optional)\n",
    "\n"
   ]
  },
  {
   "cell_type": "code",
   "execution_count": null,
   "id": "497c30fd",
   "metadata": {},
   "outputs": [],
   "source": []
  },
  {
   "cell_type": "code",
   "execution_count": null,
   "id": "2136bc4a",
   "metadata": {},
   "outputs": [],
   "source": []
  },
  {
   "cell_type": "code",
   "execution_count": null,
   "id": "ca6a8e5c",
   "metadata": {},
   "outputs": [],
   "source": []
  },
  {
   "cell_type": "code",
   "execution_count": null,
   "id": "c02fd0ce",
   "metadata": {},
   "outputs": [],
   "source": []
  },
  {
   "cell_type": "code",
   "execution_count": null,
   "id": "b583f326",
   "metadata": {},
   "outputs": [],
   "source": []
  },
  {
   "cell_type": "code",
   "execution_count": null,
   "id": "ece1a8bc",
   "metadata": {},
   "outputs": [],
   "source": []
  },
  {
   "cell_type": "code",
   "execution_count": null,
   "id": "bcfffd3b",
   "metadata": {},
   "outputs": [],
   "source": []
  },
  {
   "cell_type": "code",
   "execution_count": null,
   "id": "01a9602b",
   "metadata": {},
   "outputs": [],
   "source": []
  },
  {
   "cell_type": "code",
   "execution_count": null,
   "id": "bad87f30",
   "metadata": {},
   "outputs": [],
   "source": []
  },
  {
   "cell_type": "code",
   "execution_count": null,
   "id": "af4593ec",
   "metadata": {},
   "outputs": [],
   "source": []
  },
  {
   "cell_type": "code",
   "execution_count": null,
   "id": "36ae9342",
   "metadata": {},
   "outputs": [],
   "source": []
  },
  {
   "cell_type": "code",
   "execution_count": null,
   "id": "ad167331",
   "metadata": {},
   "outputs": [],
   "source": []
  },
  {
   "cell_type": "code",
   "execution_count": 15,
   "id": "5794bcdf",
   "metadata": {},
   "outputs": [],
   "source": [
    "import numpy as np\n",
    "import datetime"
   ]
  },
  {
   "cell_type": "markdown",
   "id": "b56d0d8e",
   "metadata": {},
   "source": [
    "__1__"
   ]
  },
  {
   "cell_type": "code",
   "execution_count": 16,
   "id": "8bb929bd",
   "metadata": {},
   "outputs": [
    {
     "data": {
      "text/plain": [
       "array(['2000-01-01', '2000-01-03', '2000-01-05', '2000-01-07',\n",
       "       '2000-01-09', '2000-01-11', '2000-01-13', '2000-01-15',\n",
       "       '2000-01-17', '2000-01-19', '2000-01-21', '2000-01-23',\n",
       "       '2000-01-25', '2000-01-27', '2000-01-29'], dtype='datetime64[D]')"
      ]
     },
     "execution_count": 16,
     "metadata": {},
     "output_type": "execute_result"
    }
   ],
   "source": [
    "# 1. solution\n",
    "dates = np.arange('2000-01-01', '2000-01-31', 2, dtype='datetime64[D]')\n",
    "dates"
   ]
  },
  {
   "cell_type": "markdown",
   "id": "d4e469c8",
   "metadata": {},
   "source": [
    "__2__"
   ]
  },
  {
   "cell_type": "code",
   "execution_count": 17,
   "id": "f846419b",
   "metadata": {},
   "outputs": [
    {
     "name": "stdout",
     "output_type": "stream",
     "text": [
      "[datetime.datetime(2000, 1, 1, 0, 0) datetime.datetime(2000, 1, 3, 0, 0)\n",
      " datetime.datetime(2000, 1, 5, 0, 0) datetime.datetime(2000, 1, 7, 0, 0)\n",
      " datetime.datetime(2000, 1, 9, 0, 0) datetime.datetime(2000, 1, 11, 0, 0)\n",
      " datetime.datetime(2000, 1, 13, 0, 0) datetime.datetime(2000, 1, 15, 0, 0)\n",
      " datetime.datetime(2000, 1, 17, 0, 0) datetime.datetime(2000, 1, 19, 0, 0)\n",
      " datetime.datetime(2000, 1, 21, 0, 0) datetime.datetime(2000, 1, 23, 0, 0)\n",
      " datetime.datetime(2000, 1, 25, 0, 0) datetime.datetime(2000, 1, 27, 0, 0)\n",
      " datetime.datetime(2000, 1, 29, 0, 0) datetime.datetime(2000, 1, 31, 0, 0)]\n"
     ]
    }
   ],
   "source": [
    "# 2. solution\n",
    "base = datetime.datetime(2000, 1, 1)\n",
    "arr = np.array([base + datetime.timedelta(days=i) for i in range(0, 31, 2)])\n",
    "print(arr)"
   ]
  },
  {
   "cell_type": "code",
   "execution_count": null,
   "id": "08af3942",
   "metadata": {},
   "outputs": [],
   "source": []
  }
 ],
 "metadata": {
  "hide_input": false,
  "kernelspec": {
   "display_name": "Python 3",
   "language": "python",
   "name": "python3"
  },
  "language_info": {
   "codemirror_mode": {
    "name": "ipython",
    "version": 3
   },
   "file_extension": ".py",
   "mimetype": "text/x-python",
   "name": "python",
   "nbconvert_exporter": "python",
   "pygments_lexer": "ipython3",
   "version": "3.7.10"
  },
  "toc": {
   "base_numbering": 1,
   "nav_menu": {},
   "number_sections": false,
   "sideBar": true,
   "skip_h1_title": true,
   "title_cell": "Table of Contents",
   "title_sidebar": "Contents",
   "toc_cell": false,
   "toc_position": {},
   "toc_section_display": true,
   "toc_window_display": false
  }
 },
 "nbformat": 4,
 "nbformat_minor": 5
}
