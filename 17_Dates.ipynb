{
  "nbformat": 4,
  "nbformat_minor": 5,
  "metadata": {
    "hide_input": false,
    "kernelspec": {
      "display_name": "Python 3",
      "language": "python",
      "name": "python3"
    },
    "language_info": {
      "codemirror_mode": {
        "name": "ipython",
        "version": 3
      },
      "file_extension": ".py",
      "mimetype": "text/x-python",
      "name": "python",
      "nbconvert_exporter": "python",
      "pygments_lexer": "ipython3",
      "version": "3.7.10"
    },
    "toc": {
      "base_numbering": 1,
      "nav_menu": {},
      "number_sections": false,
      "sideBar": true,
      "skip_h1_title": true,
      "title_cell": "Table of Contents",
      "title_sidebar": "Contents",
      "toc_cell": false,
      "toc_position": {},
      "toc_section_display": true,
      "toc_window_display": false
    },
    "colab": {
      "name": "17_Dates.ipynb",
      "provenance": [],
      "include_colab_link": true
    }
  },
  "cells": [
    {
      "cell_type": "markdown",
      "metadata": {
        "id": "view-in-github",
        "colab_type": "text"
      },
      "source": [
        "<a href=\"https://colab.research.google.com/github/patelsaumya/numpy/blob/master/17_Dates.ipynb\" target=\"_parent\"><img src=\"https://colab.research.google.com/assets/colab-badge.svg\" alt=\"Open In Colab\"/></a>"
      ]
    },
    {
      "cell_type": "markdown",
      "metadata": {
        "id": "4c50808a"
      },
      "source": [
        "<div style=\"color:#006666; padding:0px 10px; border-radius:5px; font-size:18px; text-align:center\"><h1 style='margin:10px 5px'>Handling Dates</h1>\n",
        "<hr>\n",
        "<p style=\"color:#006666; text-align:right;font-size:10px\">\n",
        "Copyright by MachineLearningPlus. All Rights Reserved.\n",
        "</p>\n",
        "\n",
        "</div>"
      ],
      "id": "4c50808a"
    },
    {
      "cell_type": "code",
      "metadata": {
        "id": "77b733e8",
        "outputId": "18a96763-91f2-417e-b11b-14c9047fe1ba"
      },
      "source": [
        "import numpy as np\n",
        "  \n",
        "# Creating a date\n",
        "today = np.datetime64('2000-12-31')\n",
        "print(\"Date is:\", today)"
      ],
      "id": "77b733e8",
      "execution_count": null,
      "outputs": [
        {
          "name": "stdout",
          "output_type": "stream",
          "text": [
            "Date is: 2000-12-31\n"
          ]
        }
      ]
    },
    {
      "cell_type": "markdown",
      "metadata": {
        "id": "0593815b"
      },
      "source": [
        "Date Representations"
      ],
      "id": "0593815b"
    },
    {
      "cell_type": "code",
      "metadata": {
        "id": "33d94fce",
        "outputId": "5bc9a323-29b5-42c2-e65d-369b11db2510"
      },
      "source": [
        "print(\"Year is         :\", np.datetime64(today, 'Y'))\n",
        "print(\"Month is        :\", np.datetime64(today, 'M'))\n",
        "print(\"Date is         :\", np.datetime64(today, 'D'))\n",
        "print(\"Hour is         :\", np.datetime64(today, 'h'))\n",
        "print(\"Minute is       :\", np.datetime64(today, 'm'))\n",
        "print(\"Second is       :\", np.datetime64(today, 's'))\n",
        "print(\"Milli Second is :\", np.datetime64(today, 'ms'))\n",
        "print(\"Nano Second is  :\", np.datetime64(today, 'ns'))"
      ],
      "id": "33d94fce",
      "execution_count": null,
      "outputs": [
        {
          "name": "stdout",
          "output_type": "stream",
          "text": [
            "Year is         : 2000\n",
            "Month is        : 2000-12\n",
            "Date is         : 2000-12-31\n",
            "Hour is         : 2000-12-31T00\n",
            "Minute is       : 2000-12-31T00:00\n",
            "Second is       : 2000-12-31T00:00:00\n",
            "Milli Second is : 2000-12-31T00:00:00.000\n",
            "Nano Second is  : 2000-12-31T00:00:00.000000000\n"
          ]
        }
      ]
    },
    {
      "cell_type": "code",
      "metadata": {
        "id": "e5dbde08",
        "outputId": "d416d9ca-50d6-402f-f8c5-3e7a51565d84"
      },
      "source": [
        "today_s = np.datetime64(today, 's')\n",
        "today_s"
      ],
      "id": "e5dbde08",
      "execution_count": null,
      "outputs": [
        {
          "data": {
            "text/plain": [
              "numpy.datetime64('2000-12-31T00:00:00')"
            ]
          },
          "execution_count": 3,
          "metadata": {},
          "output_type": "execute_result"
        }
      ]
    },
    {
      "cell_type": "markdown",
      "metadata": {
        "id": "ca58d182"
      },
      "source": [
        "You can pass the time as a string as well"
      ],
      "id": "ca58d182"
    },
    {
      "cell_type": "code",
      "metadata": {
        "id": "ff4db74b",
        "outputId": "7eb049dc-72ab-4bb7-a597-4edcf1eb586e"
      },
      "source": [
        "today_s = np.datetime64('2000-12-31 00:00:00')\n",
        "today_s"
      ],
      "id": "ff4db74b",
      "execution_count": null,
      "outputs": [
        {
          "data": {
            "text/plain": [
              "numpy.datetime64('2000-12-31T00:00:00')"
            ]
          },
          "execution_count": 4,
          "metadata": {},
          "output_type": "execute_result"
        }
      ]
    },
    {
      "cell_type": "markdown",
      "metadata": {
        "id": "2e24b0fd"
      },
      "source": [
        "<div class=\"alert alert-info\" style=\"background-color:#006666; color:white; padding:0px 10px; border-radius:5px;\"><h2 style='margin:7px 5px; font-size:16px'>Sequence of Dates</h2>\n",
        "</div>"
      ],
      "id": "2e24b0fd"
    },
    {
      "cell_type": "code",
      "metadata": {
        "id": "1a3ae94d",
        "outputId": "65c035bb-50eb-4b0b-ae6a-7103634ad9f3"
      },
      "source": [
        "# creating array of dates in a month\n",
        "dates = np.arange('2001-02', '2001-03', dtype='datetime64[D]')\n",
        "print(\"\\nDates of February, 2017:\\n\", dates)\n",
        "print(\"Today is February:\", today in dates)"
      ],
      "id": "1a3ae94d",
      "execution_count": null,
      "outputs": [
        {
          "name": "stdout",
          "output_type": "stream",
          "text": [
            "\n",
            "Dates of February, 2017:\n",
            " ['2001-02-01' '2001-02-02' '2001-02-03' '2001-02-04' '2001-02-05'\n",
            " '2001-02-06' '2001-02-07' '2001-02-08' '2001-02-09' '2001-02-10'\n",
            " '2001-02-11' '2001-02-12' '2001-02-13' '2001-02-14' '2001-02-15'\n",
            " '2001-02-16' '2001-02-17' '2001-02-18' '2001-02-19' '2001-02-20'\n",
            " '2001-02-21' '2001-02-22' '2001-02-23' '2001-02-24' '2001-02-25'\n",
            " '2001-02-26' '2001-02-27' '2001-02-28']\n",
            "Today is February: False\n"
          ]
        }
      ]
    },
    {
      "cell_type": "markdown",
      "metadata": {
        "id": "a729bc58"
      },
      "source": [
        "__Number of Days between two dates__"
      ],
      "id": "a729bc58"
    },
    {
      "cell_type": "code",
      "metadata": {
        "id": "da8be55f",
        "outputId": "a090bf57-cdba-4cbb-9a57-a9a0ade7f23b"
      },
      "source": [
        "# arithmetic operation on dates\n",
        "dur = np.datetime64('2017-05-22') - np.datetime64('2016-05-22')\n",
        "print(\"\\nNo. of days:\", dur)\n",
        "print(\"No. of weeks:\", np.timedelta64(dur, 'W'))"
      ],
      "id": "da8be55f",
      "execution_count": null,
      "outputs": [
        {
          "name": "stdout",
          "output_type": "stream",
          "text": [
            "\n",
            "No. of days: 365 days\n",
            "No. of weeks: 52 weeks\n"
          ]
        }
      ]
    },
    {
      "cell_type": "markdown",
      "metadata": {
        "id": "6537d4d6"
      },
      "source": [
        "__Sort Dates__"
      ],
      "id": "6537d4d6"
    },
    {
      "cell_type": "code",
      "metadata": {
        "id": "994e7bf3",
        "outputId": "80dd45fc-56ab-4ccc-c344-dcd15f3e7e31"
      },
      "source": [
        "# sorting dates\n",
        "a = np.array(['2017-02-12', '2016-10-13', '2019-05-22'], dtype='datetime64')\n",
        "print(\"\\nDates in sorted order:\", np.sort(a))"
      ],
      "id": "994e7bf3",
      "execution_count": null,
      "outputs": [
        {
          "name": "stdout",
          "output_type": "stream",
          "text": [
            "\n",
            "Dates in sorted order: ['2016-10-13' '2017-02-12' '2019-05-22']\n"
          ]
        }
      ]
    },
    {
      "cell_type": "markdown",
      "metadata": {
        "id": "5049a596"
      },
      "source": [
        "__Next Business Day__"
      ],
      "id": "5049a596"
    },
    {
      "cell_type": "markdown",
      "metadata": {
        "id": "a2fd500d"
      },
      "source": [
        "_Add 1 business day_"
      ],
      "id": "a2fd500d"
    },
    {
      "cell_type": "code",
      "metadata": {
        "id": "fbf22cc1",
        "outputId": "12f1b9e7-b158-442e-cb11-44ec07385b3e"
      },
      "source": [
        "np.busday_offset('2011-06-23', 1)"
      ],
      "id": "fbf22cc1",
      "execution_count": null,
      "outputs": [
        {
          "data": {
            "text/plain": [
              "numpy.datetime64('2011-06-24')"
            ]
          },
          "execution_count": 8,
          "metadata": {},
          "output_type": "execute_result"
        }
      ]
    },
    {
      "cell_type": "markdown",
      "metadata": {
        "id": "0d80f1d7"
      },
      "source": [
        "_Add two business days_"
      ],
      "id": "0d80f1d7"
    },
    {
      "cell_type": "code",
      "metadata": {
        "id": "344e91e6",
        "outputId": "0d972942-4133-4599-e66f-e541f85f7dcd"
      },
      "source": [
        "np.busday_offset('2011-06-23', 2)"
      ],
      "id": "344e91e6",
      "execution_count": null,
      "outputs": [
        {
          "data": {
            "text/plain": [
              "numpy.datetime64('2011-06-27')"
            ]
          },
          "execution_count": 9,
          "metadata": {},
          "output_type": "execute_result"
        }
      ]
    },
    {
      "cell_type": "markdown",
      "metadata": {
        "id": "156d025f"
      },
      "source": [
        "_Add two regular days_"
      ],
      "id": "156d025f"
    },
    {
      "cell_type": "code",
      "metadata": {
        "id": "66af1f07",
        "outputId": "c5810cf9-4d08-434a-d1f3-231557310d38"
      },
      "source": [
        "after_2_days = np.datetime64('2011-06-23', 'D') + np.timedelta64(2, 'D')\n",
        "after_2_days"
      ],
      "id": "66af1f07",
      "execution_count": null,
      "outputs": [
        {
          "data": {
            "text/plain": [
              "numpy.datetime64('2011-06-25')"
            ]
          },
          "execution_count": 10,
          "metadata": {},
          "output_type": "execute_result"
        }
      ]
    },
    {
      "cell_type": "markdown",
      "metadata": {
        "id": "1286426a"
      },
      "source": [
        "__Number of Business days__"
      ],
      "id": "1286426a"
    },
    {
      "cell_type": "code",
      "metadata": {
        "id": "9759fad9",
        "outputId": "e8603306-7dc0-4a2a-d9d5-76dac6a13bdc"
      },
      "source": [
        "np.busday_count(np.datetime64('2001-01-01'), np.datetime64('2001-01-31'))"
      ],
      "id": "9759fad9",
      "execution_count": null,
      "outputs": [
        {
          "data": {
            "text/plain": [
              "22"
            ]
          },
          "execution_count": 11,
          "metadata": {},
          "output_type": "execute_result"
        }
      ]
    },
    {
      "cell_type": "markdown",
      "metadata": {
        "id": "c26735a2"
      },
      "source": [
        "__Example: First Friday of a given month__"
      ],
      "id": "c26735a2"
    },
    {
      "cell_type": "code",
      "metadata": {
        "id": "507f4733",
        "outputId": "518e50dd-abef-473c-ca03-5c4bb5e76111"
      },
      "source": [
        "# First friday of given month\n",
        "yearMonth = '2010-02'\n",
        "  \n",
        "# getting date of first friday\n",
        "date = np.busday_offset(yearMonth, 0, \n",
        "                        roll='forward', \n",
        "                        weekmask='Fri')\n",
        "  \n",
        "print(date)"
      ],
      "id": "507f4733",
      "execution_count": null,
      "outputs": [
        {
          "name": "stdout",
          "output_type": "stream",
          "text": [
            "2010-02-05\n"
          ]
        }
      ]
    },
    {
      "cell_type": "markdown",
      "metadata": {
        "id": "5d227160"
      },
      "source": [
        "__Example: Last Friday of a given month__"
      ],
      "id": "5d227160"
    },
    {
      "cell_type": "code",
      "metadata": {
        "id": "b798ad2b",
        "outputId": "7ca4dd27-fc4e-4153-a2b0-db2c3d9cd6ae"
      },
      "source": [
        "# last friday of given month\n",
        "yearMonth = '2010-02'\n",
        "\n",
        "# Go to next month and roll backward\n",
        "nextMonth = '2010-03'    \n",
        "    \n",
        "# getting date of first friday\n",
        "date = np.busday_offset(nextMonth, 0, \n",
        "                           roll='backward', \n",
        "                           weekmask='Fri')\n",
        "  \n",
        "print(date)"
      ],
      "id": "b798ad2b",
      "execution_count": null,
      "outputs": [
        {
          "name": "stdout",
          "output_type": "stream",
          "text": [
            "2010-02-26\n"
          ]
        }
      ]
    },
    {
      "cell_type": "markdown",
      "metadata": {
        "id": "d5bb91ff"
      },
      "source": [
        "__Convert to datetime Object__"
      ],
      "id": "d5bb91ff"
    },
    {
      "cell_type": "code",
      "metadata": {
        "id": "ad84643a",
        "outputId": "36dc07b8-193e-43ad-afb9-410fef252c25"
      },
      "source": [
        "from datetime import datetime\n",
        "np.datetime64('2005-05-05').astype(datetime)"
      ],
      "id": "ad84643a",
      "execution_count": null,
      "outputs": [
        {
          "data": {
            "text/plain": [
              "datetime.date(2005, 5, 5)"
            ]
          },
          "execution_count": 14,
          "metadata": {},
          "output_type": "execute_result"
        }
      ]
    },
    {
      "cell_type": "markdown",
      "metadata": {
        "id": "1e38c9f8"
      },
      "source": [
        "<div class=\"alert alert-info\" style=\"background-color:#006666; color:white; padding:0px 10px; border-radius:5px;\"><h2 style='margin:7px 5px; font-size:16px'>Mini Challenge</h2>\n",
        "</div>\n",
        "\n",
        "Make a python numpy `arange` array of dates (for every 2 days) with:\n",
        "\n",
        "- Start Date: \"2000-01-01\"\n",
        "- End Date: \"2000-01-31\"\n",
        "\n",
        "Using: \n",
        "\n",
        "1. np.datetime64\n",
        "2. datetime.datetime (optional)\n",
        "\n"
      ],
      "id": "1e38c9f8"
    },
    {
      "cell_type": "code",
      "metadata": {
        "id": "497c30fd"
      },
      "source": [
        ""
      ],
      "id": "497c30fd",
      "execution_count": null,
      "outputs": []
    },
    {
      "cell_type": "code",
      "metadata": {
        "id": "2136bc4a"
      },
      "source": [
        ""
      ],
      "id": "2136bc4a",
      "execution_count": null,
      "outputs": []
    },
    {
      "cell_type": "code",
      "metadata": {
        "id": "ca6a8e5c"
      },
      "source": [
        ""
      ],
      "id": "ca6a8e5c",
      "execution_count": null,
      "outputs": []
    },
    {
      "cell_type": "code",
      "metadata": {
        "id": "c02fd0ce"
      },
      "source": [
        ""
      ],
      "id": "c02fd0ce",
      "execution_count": null,
      "outputs": []
    },
    {
      "cell_type": "code",
      "metadata": {
        "id": "b583f326"
      },
      "source": [
        ""
      ],
      "id": "b583f326",
      "execution_count": null,
      "outputs": []
    },
    {
      "cell_type": "code",
      "metadata": {
        "id": "ece1a8bc"
      },
      "source": [
        ""
      ],
      "id": "ece1a8bc",
      "execution_count": null,
      "outputs": []
    },
    {
      "cell_type": "code",
      "metadata": {
        "id": "bcfffd3b"
      },
      "source": [
        ""
      ],
      "id": "bcfffd3b",
      "execution_count": null,
      "outputs": []
    },
    {
      "cell_type": "code",
      "metadata": {
        "id": "01a9602b"
      },
      "source": [
        ""
      ],
      "id": "01a9602b",
      "execution_count": null,
      "outputs": []
    },
    {
      "cell_type": "code",
      "metadata": {
        "id": "bad87f30"
      },
      "source": [
        ""
      ],
      "id": "bad87f30",
      "execution_count": null,
      "outputs": []
    },
    {
      "cell_type": "code",
      "metadata": {
        "id": "af4593ec"
      },
      "source": [
        ""
      ],
      "id": "af4593ec",
      "execution_count": null,
      "outputs": []
    },
    {
      "cell_type": "code",
      "metadata": {
        "id": "36ae9342"
      },
      "source": [
        ""
      ],
      "id": "36ae9342",
      "execution_count": null,
      "outputs": []
    },
    {
      "cell_type": "code",
      "metadata": {
        "id": "ad167331"
      },
      "source": [
        ""
      ],
      "id": "ad167331",
      "execution_count": null,
      "outputs": []
    },
    {
      "cell_type": "code",
      "metadata": {
        "id": "5794bcdf"
      },
      "source": [
        "import numpy as np\n",
        "import datetime"
      ],
      "id": "5794bcdf",
      "execution_count": null,
      "outputs": []
    },
    {
      "cell_type": "markdown",
      "metadata": {
        "id": "b56d0d8e"
      },
      "source": [
        "__1__"
      ],
      "id": "b56d0d8e"
    },
    {
      "cell_type": "code",
      "metadata": {
        "id": "8bb929bd",
        "outputId": "7eed3429-db4d-4d56-e2ad-26bea267c420"
      },
      "source": [
        "# 1. solution\n",
        "dates = np.arange('2000-01-01', '2000-01-31', 2, dtype='datetime64[D]')\n",
        "dates"
      ],
      "id": "8bb929bd",
      "execution_count": null,
      "outputs": [
        {
          "data": {
            "text/plain": [
              "array(['2000-01-01', '2000-01-03', '2000-01-05', '2000-01-07',\n",
              "       '2000-01-09', '2000-01-11', '2000-01-13', '2000-01-15',\n",
              "       '2000-01-17', '2000-01-19', '2000-01-21', '2000-01-23',\n",
              "       '2000-01-25', '2000-01-27', '2000-01-29'], dtype='datetime64[D]')"
            ]
          },
          "execution_count": 16,
          "metadata": {},
          "output_type": "execute_result"
        }
      ]
    },
    {
      "cell_type": "markdown",
      "metadata": {
        "id": "d4e469c8"
      },
      "source": [
        "__2__"
      ],
      "id": "d4e469c8"
    },
    {
      "cell_type": "code",
      "metadata": {
        "id": "f846419b",
        "outputId": "4188156f-9c5c-4b9e-ac2f-af0d4bd69e11"
      },
      "source": [
        "# 2. solution\n",
        "base = datetime.datetime(2000, 1, 1)\n",
        "arr = np.array([base + datetime.timedelta(days=i) for i in range(0, 31, 2)])\n",
        "print(arr)"
      ],
      "id": "f846419b",
      "execution_count": null,
      "outputs": [
        {
          "name": "stdout",
          "output_type": "stream",
          "text": [
            "[datetime.datetime(2000, 1, 1, 0, 0) datetime.datetime(2000, 1, 3, 0, 0)\n",
            " datetime.datetime(2000, 1, 5, 0, 0) datetime.datetime(2000, 1, 7, 0, 0)\n",
            " datetime.datetime(2000, 1, 9, 0, 0) datetime.datetime(2000, 1, 11, 0, 0)\n",
            " datetime.datetime(2000, 1, 13, 0, 0) datetime.datetime(2000, 1, 15, 0, 0)\n",
            " datetime.datetime(2000, 1, 17, 0, 0) datetime.datetime(2000, 1, 19, 0, 0)\n",
            " datetime.datetime(2000, 1, 21, 0, 0) datetime.datetime(2000, 1, 23, 0, 0)\n",
            " datetime.datetime(2000, 1, 25, 0, 0) datetime.datetime(2000, 1, 27, 0, 0)\n",
            " datetime.datetime(2000, 1, 29, 0, 0) datetime.datetime(2000, 1, 31, 0, 0)]\n"
          ]
        }
      ]
    },
    {
      "cell_type": "code",
      "metadata": {
        "id": "08af3942"
      },
      "source": [
        ""
      ],
      "id": "08af3942",
      "execution_count": null,
      "outputs": []
    }
  ]
}