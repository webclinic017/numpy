{
 "cells": [
  {
   "cell_type": "markdown",
   "id": "7d8e9334",
   "metadata": {},
   "source": [
    "<div style=\"color:#006666; padding:0px 10px; border-radius:5px; font-size:18px; text-align:center\"><h1 style='margin:10px 5px'>Why Datatype Matters?</h1>\n",
    "<hr>\n",
    "<p style=\"color:#006666; text-align:right;font-size:10px\">\n",
    "Copyright by MachineLearningPlus. All Rights Reserved.\n",
    "</p>\n",
    "\n",
    "</div>"
   ]
  },
  {
   "cell_type": "markdown",
   "id": "2d35eeff",
   "metadata": {},
   "source": [
    "Numpy provides different datatypes to hold various forms of data. You can expicitly control which datatype to hold your data in."
   ]
  },
  {
   "cell_type": "code",
   "execution_count": 1,
   "id": "e44e3300",
   "metadata": {},
   "outputs": [
    {
     "data": {
      "text/plain": [
       "array([1, 2, 3, 4])"
      ]
     },
     "execution_count": 1,
     "metadata": {},
     "output_type": "execute_result"
    }
   ],
   "source": [
    "import numpy as np\n",
    "arr = np.array([1,2,3,4])\n",
    "arr"
   ]
  },
  {
   "cell_type": "code",
   "execution_count": 2,
   "id": "9476ef0c",
   "metadata": {},
   "outputs": [
    {
     "data": {
      "text/plain": [
       "dtype('int32')"
      ]
     },
     "execution_count": 2,
     "metadata": {},
     "output_type": "execute_result"
    }
   ],
   "source": [
    "arr.dtype"
   ]
  },
  {
   "cell_type": "markdown",
   "id": "8bce96b8",
   "metadata": {},
   "source": [
    "By default, numpy assigned a default datatype of `int32`. Each item of this array consumes 32bits = 32/8 = 4 bytes of memory. "
   ]
  },
  {
   "cell_type": "code",
   "execution_count": 3,
   "id": "c50a92d4",
   "metadata": {},
   "outputs": [
    {
     "data": {
      "text/plain": [
       "16"
      ]
     },
     "execution_count": 3,
     "metadata": {},
     "output_type": "execute_result"
    }
   ],
   "source": [
    "arr.nbytes"
   ]
  },
  {
   "cell_type": "markdown",
   "id": "00aedd70",
   "metadata": {},
   "source": [
    "That means there is a certain maximum and minumum value it can hold."
   ]
  },
  {
   "cell_type": "code",
   "execution_count": 4,
   "id": "a170826a",
   "metadata": {},
   "outputs": [
    {
     "data": {
      "text/plain": [
       "iinfo(min=-2147483648, max=2147483647, dtype=int32)"
      ]
     },
     "execution_count": 4,
     "metadata": {},
     "output_type": "execute_result"
    }
   ],
   "source": [
    "np.iinfo('int32')"
   ]
  },
  {
   "cell_type": "markdown",
   "id": "9d97d1da",
   "metadata": {},
   "source": [
    "But you might not need `int32`. If this variable is supposed to represent the month of the year, the max value needed is just 12. In such case, `int8` would be sufficient to handle this data, freeing up memory for much needed computations.\n",
    "\n",
    "So, when creating the variable, explicitly mention the datatype. This will matter more when the data size gets larger."
   ]
  },
  {
   "cell_type": "code",
   "execution_count": 5,
   "id": "75bcae96",
   "metadata": {},
   "outputs": [
    {
     "data": {
      "text/plain": [
       "array([1, 2, 3, 4], dtype=int8)"
      ]
     },
     "execution_count": 5,
     "metadata": {},
     "output_type": "execute_result"
    }
   ],
   "source": [
    "arr = np.array([1,2,3,4], dtype=np.int8)\n",
    "arr"
   ]
  },
  {
   "cell_type": "markdown",
   "id": "b3b45839",
   "metadata": {},
   "source": [
    "<div class=\"alert alert-info\" style=\"background-color:#006666; color:white; padding:0px 10px; border-radius:5px;\"><h2 style='margin:7px 5px; font-size:16px'>Supported Data Types</h2>\n",
    "</div>"
   ]
  },
  {
   "cell_type": "markdown",
   "id": "1fef38ff",
   "metadata": {},
   "source": [
    "The primary datatypes supported by numpy are as follows:"
   ]
  },
  {
   "cell_type": "code",
   "execution_count": null,
   "id": "e22a5b1a",
   "metadata": {},
   "outputs": [],
   "source": [
    "np.int    # integer\n",
    "np.uint   # unsigned integer\n",
    "np.float  # float\n",
    "np.bool   # boolean\n",
    "np.object # python object\n",
    "np.str    # string"
   ]
  },
  {
   "cell_type": "markdown",
   "id": "95e8afba",
   "metadata": {},
   "source": [
    "To find out the minimum and the maximum range a given integer type can store, use `np.iinfo` method."
   ]
  },
  {
   "cell_type": "code",
   "execution_count": 6,
   "id": "9aa4380e",
   "metadata": {},
   "outputs": [
    {
     "name": "stdout",
     "output_type": "stream",
     "text": [
      "int8 Machine parameters for int8\n",
      "---------------------------------------------------------------\n",
      "min = -128\n",
      "max = 127\n",
      "---------------------------------------------------------------\n",
      "\n",
      "int16 Machine parameters for int16\n",
      "---------------------------------------------------------------\n",
      "min = -32768\n",
      "max = 32767\n",
      "---------------------------------------------------------------\n",
      "\n",
      "int32 Machine parameters for int32\n",
      "---------------------------------------------------------------\n",
      "min = -2147483648\n",
      "max = 2147483647\n",
      "---------------------------------------------------------------\n",
      "\n",
      "int64 Machine parameters for int64\n",
      "---------------------------------------------------------------\n",
      "min = -9223372036854775808\n",
      "max = 9223372036854775807\n",
      "---------------------------------------------------------------\n",
      "\n",
      "uint8 Machine parameters for uint8\n",
      "---------------------------------------------------------------\n",
      "min = 0\n",
      "max = 255\n",
      "---------------------------------------------------------------\n",
      "\n",
      "uint16 Machine parameters for uint16\n",
      "---------------------------------------------------------------\n",
      "min = 0\n",
      "max = 65535\n",
      "---------------------------------------------------------------\n",
      "\n",
      "uint32 Machine parameters for uint32\n",
      "---------------------------------------------------------------\n",
      "min = 0\n",
      "max = 4294967295\n",
      "---------------------------------------------------------------\n",
      "\n",
      "uint64 Machine parameters for uint64\n",
      "---------------------------------------------------------------\n",
      "min = 0\n",
      "max = 18446744073709551615\n",
      "---------------------------------------------------------------\n",
      "\n"
     ]
    }
   ],
   "source": [
    "# int\n",
    "print(\"int8\", np.iinfo(np.int8))\n",
    "print(\"int16\", np.iinfo(np.int16))\n",
    "print(\"int32\", np.iinfo(np.int32))\n",
    "print(\"int64\", np.iinfo(np.int64))\n",
    "\n",
    "# unsigned int\n",
    "print(\"uint8\", np.iinfo(np.uint8))\n",
    "print(\"uint16\", np.iinfo(np.uint16))\n",
    "print(\"uint32\", np.iinfo(np.uint32))\n",
    "print(\"uint64\", np.iinfo(np.uint64))"
   ]
  },
  {
   "cell_type": "markdown",
   "id": "f13ffaba",
   "metadata": {},
   "source": [
    "<div class=\"alert alert-info\" style=\"background-color:#006666; color:white; padding:0px 10px; border-radius:5px;\"><h2 style='margin:7px 5px; font-size:16px'>Creating array that contains a mix of both numbers and characters and even any python object</h2>\n",
    "</div>"
   ]
  },
  {
   "cell_type": "code",
   "execution_count": 7,
   "id": "6e044b6d",
   "metadata": {},
   "outputs": [
    {
     "data": {
      "text/plain": [
       "dtype('O')"
      ]
     },
     "execution_count": 7,
     "metadata": {},
     "output_type": "execute_result"
    }
   ],
   "source": [
    "arr = np.array(['a', 'b', 'c', 1], dtype='object')\n",
    "arr.dtype"
   ]
  },
  {
   "cell_type": "markdown",
   "id": "a94c5f54",
   "metadata": {},
   "source": [
    "Some python objects as well into the list."
   ]
  },
  {
   "cell_type": "code",
   "execution_count": 8,
   "id": "8a2e3976",
   "metadata": {},
   "outputs": [
    {
     "data": {
      "text/plain": [
       "dtype('O')"
      ]
     },
     "execution_count": 8,
     "metadata": {},
     "output_type": "execute_result"
    }
   ],
   "source": [
    "arr = np.array(['a', 'b', 'c', 1, None, [21]], dtype='object')\n",
    "arr.dtype"
   ]
  },
  {
   "cell_type": "code",
   "execution_count": 9,
   "id": "df9527a8",
   "metadata": {},
   "outputs": [
    {
     "data": {
      "text/plain": [
       "array(['a', 'b', 'c', 1, None, list([21])], dtype=object)"
      ]
     },
     "execution_count": 9,
     "metadata": {},
     "output_type": "execute_result"
    }
   ],
   "source": [
    "arr"
   ]
  },
  {
   "cell_type": "markdown",
   "id": "964fc400",
   "metadata": {},
   "source": [
    "<div class=\"alert alert-info\" style=\"background-color:#006666; color:white; padding:0px 10px; border-radius:5px;\"><h2 style='margin:7px 5px; font-size:16px'>Code Challenge</h2>\n",
    "</div>\n",
    "\n",
    "1. Convert the following numpy array to optimal datatype (one that requires least space).\n",
    "\n",
    "```python\n",
    "import numpy as np\n",
    "arr = np.array([1,20,300,4000,50000])\n",
    "arr\n",
    "```\n",
    "\n",
    "2. Create a numpy array that contains the following tuples. What is the difference between the two?\n",
    "```python\n",
    "T1 = [(1, 10, 10), (2,20), (3,30)]\n",
    "T2 = [(1, 10), (2,20), (3,30)]\n",
    "```\n",
    "\n",
    "__Code Url:__ https://git.io/Jcc8D"
   ]
  },
  {
   "cell_type": "code",
   "execution_count": null,
   "id": "7b075913",
   "metadata": {},
   "outputs": [],
   "source": []
  },
  {
   "cell_type": "code",
   "execution_count": null,
   "id": "49f92aa3",
   "metadata": {},
   "outputs": [],
   "source": []
  },
  {
   "cell_type": "code",
   "execution_count": null,
   "id": "8a105403",
   "metadata": {},
   "outputs": [],
   "source": []
  },
  {
   "cell_type": "code",
   "execution_count": null,
   "id": "1370af08",
   "metadata": {},
   "outputs": [],
   "source": []
  },
  {
   "cell_type": "code",
   "execution_count": null,
   "id": "20505db1",
   "metadata": {},
   "outputs": [],
   "source": []
  },
  {
   "cell_type": "code",
   "execution_count": null,
   "id": "aab0fac4",
   "metadata": {},
   "outputs": [],
   "source": []
  },
  {
   "cell_type": "code",
   "execution_count": null,
   "id": "544c371a",
   "metadata": {},
   "outputs": [],
   "source": []
  },
  {
   "cell_type": "code",
   "execution_count": null,
   "id": "28b49c72",
   "metadata": {},
   "outputs": [],
   "source": []
  },
  {
   "cell_type": "code",
   "execution_count": null,
   "id": "c74ba4eb",
   "metadata": {},
   "outputs": [],
   "source": []
  },
  {
   "cell_type": "markdown",
   "id": "cd0699af",
   "metadata": {},
   "source": [
    "__Solution 1__"
   ]
  },
  {
   "cell_type": "code",
   "execution_count": 10,
   "id": "8e825089",
   "metadata": {},
   "outputs": [
    {
     "data": {
      "text/plain": [
       "array([    1,    20,   300,  4000, 50000])"
      ]
     },
     "execution_count": 10,
     "metadata": {},
     "output_type": "execute_result"
    }
   ],
   "source": [
    "import numpy as np\n",
    "arr = np.array([1,20,300,4000,50000])\n",
    "arr"
   ]
  },
  {
   "cell_type": "code",
   "execution_count": 11,
   "id": "79685bd5",
   "metadata": {},
   "outputs": [
    {
     "name": "stdout",
     "output_type": "stream",
     "text": [
      "Machine parameters for int8\n",
      "---------------------------------------------------------------\n",
      "min = -128\n",
      "max = 127\n",
      "---------------------------------------------------------------\n",
      "\n",
      "Machine parameters for int16\n",
      "---------------------------------------------------------------\n",
      "min = -32768\n",
      "max = 32767\n",
      "---------------------------------------------------------------\n",
      "\n",
      "Machine parameters for int32\n",
      "---------------------------------------------------------------\n",
      "min = -2147483648\n",
      "max = 2147483647\n",
      "---------------------------------------------------------------\n",
      "\n"
     ]
    }
   ],
   "source": [
    "print(np.iinfo('int8'))\n",
    "print(np.iinfo('int16'))\n",
    "print(np.iinfo('int32'))"
   ]
  },
  {
   "cell_type": "code",
   "execution_count": 12,
   "id": "b57b5b5d",
   "metadata": {},
   "outputs": [
    {
     "data": {
      "text/plain": [
       "array([  1,  20,  44, -96,  80], dtype=int8)"
      ]
     },
     "execution_count": 12,
     "metadata": {},
     "output_type": "execute_result"
    }
   ],
   "source": [
    "# Loss of data\n",
    "arr.astype(np.int8)"
   ]
  },
  {
   "cell_type": "code",
   "execution_count": 13,
   "id": "1257cc65",
   "metadata": {},
   "outputs": [
    {
     "data": {
      "text/plain": [
       "array([     1,     20,    300,   4000, -15536], dtype=int16)"
      ]
     },
     "execution_count": 13,
     "metadata": {},
     "output_type": "execute_result"
    }
   ],
   "source": [
    "# Loss of data again\n",
    "arr.astype(np.int16)"
   ]
  },
  {
   "cell_type": "code",
   "execution_count": 14,
   "id": "579338f1",
   "metadata": {},
   "outputs": [
    {
     "data": {
      "text/plain": [
       "array([    1,    20,   300,  4000, 50000])"
      ]
     },
     "execution_count": 14,
     "metadata": {},
     "output_type": "execute_result"
    }
   ],
   "source": [
    "# Ok\n",
    "arr.astype(np.int32)"
   ]
  },
  {
   "cell_type": "markdown",
   "id": "51ff0477",
   "metadata": {},
   "source": [
    "__Solution 2__"
   ]
  },
  {
   "cell_type": "code",
   "execution_count": 15,
   "id": "a8fbfcec",
   "metadata": {},
   "outputs": [],
   "source": [
    "T1 = [(1, 10, 10), (2, 20), (3, 30)]\n",
    "T2 = [(1, 10), (2, 20), (3, 30)]"
   ]
  },
  {
   "cell_type": "code",
   "execution_count": 16,
   "id": "ef0495a7",
   "metadata": {},
   "outputs": [
    {
     "data": {
      "text/plain": [
       "array([(1, 10, 10), (2, 20), (3, 30)], dtype=object)"
      ]
     },
     "execution_count": 16,
     "metadata": {},
     "output_type": "execute_result"
    }
   ],
   "source": [
    "a1 = np.array(T1, dtype='object')\n",
    "a1"
   ]
  },
  {
   "cell_type": "code",
   "execution_count": 17,
   "id": "5a142b39",
   "metadata": {},
   "outputs": [
    {
     "data": {
      "text/plain": [
       "(3,)"
      ]
     },
     "execution_count": 17,
     "metadata": {},
     "output_type": "execute_result"
    }
   ],
   "source": [
    "# forms 1d array of tuples\n",
    "a1.shape"
   ]
  },
  {
   "cell_type": "code",
   "execution_count": 18,
   "id": "9ebfdb6c",
   "metadata": {},
   "outputs": [
    {
     "data": {
      "text/plain": [
       "array([[1, 10],\n",
       "       [2, 20],\n",
       "       [3, 30]], dtype=object)"
      ]
     },
     "execution_count": 18,
     "metadata": {},
     "output_type": "execute_result"
    }
   ],
   "source": [
    "a2 = np.array(T2, dtype='object')\n",
    "a2"
   ]
  },
  {
   "cell_type": "code",
   "execution_count": 19,
   "id": "46147c86",
   "metadata": {},
   "outputs": [
    {
     "data": {
      "text/plain": [
       "(3, 2)"
      ]
     },
     "execution_count": 19,
     "metadata": {},
     "output_type": "execute_result"
    }
   ],
   "source": [
    "# forms 2d array intuitively.\n",
    "a2.shape"
   ]
  },
  {
   "cell_type": "code",
   "execution_count": null,
   "id": "84439424",
   "metadata": {},
   "outputs": [],
   "source": []
  }
 ],
 "metadata": {
  "hide_input": false,
  "kernelspec": {
   "display_name": "Python 3",
   "language": "python",
   "name": "python3"
  },
  "language_info": {
   "codemirror_mode": {
    "name": "ipython",
    "version": 3
   },
   "file_extension": ".py",
   "mimetype": "text/x-python",
   "name": "python",
   "nbconvert_exporter": "python",
   "pygments_lexer": "ipython3",
   "version": "3.7.10"
  },
  "toc": {
   "base_numbering": 1,
   "nav_menu": {},
   "number_sections": false,
   "sideBar": true,
   "skip_h1_title": true,
   "title_cell": "Table of Contents",
   "title_sidebar": "Contents",
   "toc_cell": false,
   "toc_position": {},
   "toc_section_display": true,
   "toc_window_display": false
  }
 },
 "nbformat": 4,
 "nbformat_minor": 5
}
