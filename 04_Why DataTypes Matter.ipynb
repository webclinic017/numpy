{
  "nbformat": 4,
  "nbformat_minor": 5,
  "metadata": {
    "hide_input": false,
    "kernelspec": {
      "display_name": "Python 3",
      "language": "python",
      "name": "python3"
    },
    "language_info": {
      "codemirror_mode": {
        "name": "ipython",
        "version": 3
      },
      "file_extension": ".py",
      "mimetype": "text/x-python",
      "name": "python",
      "nbconvert_exporter": "python",
      "pygments_lexer": "ipython3",
      "version": "3.7.10"
    },
    "toc": {
      "base_numbering": 1,
      "nav_menu": {},
      "number_sections": false,
      "sideBar": true,
      "skip_h1_title": true,
      "title_cell": "Table of Contents",
      "title_sidebar": "Contents",
      "toc_cell": false,
      "toc_position": {},
      "toc_section_display": true,
      "toc_window_display": false
    },
    "colab": {
      "name": "04_Why DataTypes Matter.ipynb",
      "provenance": [],
      "include_colab_link": true
    }
  },
  "cells": [
    {
      "cell_type": "markdown",
      "metadata": {
        "id": "view-in-github",
        "colab_type": "text"
      },
      "source": [
        "<a href=\"https://colab.research.google.com/github/patelsaumya/numpy/blob/master/04_Why%20DataTypes%20Matter.ipynb\" target=\"_parent\"><img src=\"https://colab.research.google.com/assets/colab-badge.svg\" alt=\"Open In Colab\"/></a>"
      ]
    },
    {
      "cell_type": "markdown",
      "metadata": {
        "id": "7d8e9334"
      },
      "source": [
        "<div style=\"color:#006666; padding:0px 10px; border-radius:5px; font-size:18px; text-align:center\"><h1 style='margin:10px 5px'>Why Datatype Matters?</h1>\n",
        "<hr>\n",
        "<p style=\"color:#006666; text-align:right;font-size:10px\">\n",
        "Copyright by MachineLearningPlus. All Rights Reserved.\n",
        "</p>\n",
        "\n",
        "</div>"
      ],
      "id": "7d8e9334"
    },
    {
      "cell_type": "markdown",
      "metadata": {
        "id": "2d35eeff"
      },
      "source": [
        "Numpy provides different datatypes to hold various forms of data. You can expicitly control which datatype to hold your data in."
      ],
      "id": "2d35eeff"
    },
    {
      "cell_type": "code",
      "metadata": {
        "id": "e44e3300",
        "outputId": "b3351f84-1a37-4b26-8210-6e8f9971ee69",
        "colab": {
          "base_uri": "https://localhost:8080/"
        }
      },
      "source": [
        "import numpy as np\n",
        "arr = np.array([1,2,3,4])\n",
        "arr"
      ],
      "id": "e44e3300",
      "execution_count": 1,
      "outputs": [
        {
          "output_type": "execute_result",
          "data": {
            "text/plain": [
              "array([1, 2, 3, 4])"
            ]
          },
          "metadata": {},
          "execution_count": 1
        }
      ]
    },
    {
      "cell_type": "code",
      "metadata": {
        "id": "9476ef0c",
        "outputId": "1b9c03bb-e5d4-4146-f3c9-e0fcfec00bd1"
      },
      "source": [
        "arr.dtype"
      ],
      "id": "9476ef0c",
      "execution_count": null,
      "outputs": [
        {
          "data": {
            "text/plain": [
              "dtype('int32')"
            ]
          },
          "execution_count": 2,
          "metadata": {},
          "output_type": "execute_result"
        }
      ]
    },
    {
      "cell_type": "markdown",
      "metadata": {
        "id": "8bce96b8"
      },
      "source": [
        "By default, numpy assigned a default datatype of `int32`. Each item of this array consumes 32bits = 32/8 = 4 bytes of memory. "
      ],
      "id": "8bce96b8"
    },
    {
      "cell_type": "code",
      "metadata": {
        "id": "c50a92d4",
        "outputId": "5ba79d4a-2db7-4d41-c13b-f179bd2d9d4c"
      },
      "source": [
        "arr.nbytes"
      ],
      "id": "c50a92d4",
      "execution_count": null,
      "outputs": [
        {
          "data": {
            "text/plain": [
              "16"
            ]
          },
          "execution_count": 3,
          "metadata": {},
          "output_type": "execute_result"
        }
      ]
    },
    {
      "cell_type": "markdown",
      "metadata": {
        "id": "00aedd70"
      },
      "source": [
        "That means there is a certain maximum and minumum value it can hold."
      ],
      "id": "00aedd70"
    },
    {
      "cell_type": "code",
      "metadata": {
        "id": "a170826a",
        "outputId": "6cca66cd-c702-41e0-b069-64f687432c27"
      },
      "source": [
        "np.iinfo('int32')"
      ],
      "id": "a170826a",
      "execution_count": null,
      "outputs": [
        {
          "data": {
            "text/plain": [
              "iinfo(min=-2147483648, max=2147483647, dtype=int32)"
            ]
          },
          "execution_count": 4,
          "metadata": {},
          "output_type": "execute_result"
        }
      ]
    },
    {
      "cell_type": "markdown",
      "metadata": {
        "id": "9d97d1da"
      },
      "source": [
        "But you might not need `int32`. If this variable is supposed to represent the month of the year, the max value needed is just 12. In such case, `int8` would be sufficient to handle this data, freeing up memory for much needed computations.\n",
        "\n",
        "So, when creating the variable, explicitly mention the datatype. This will matter more when the data size gets larger."
      ],
      "id": "9d97d1da"
    },
    {
      "cell_type": "code",
      "metadata": {
        "id": "75bcae96",
        "outputId": "65fca919-affc-4b3e-d590-3e6bf358dcae"
      },
      "source": [
        "arr = np.array([1,2,3,4], dtype=np.int8)\n",
        "arr"
      ],
      "id": "75bcae96",
      "execution_count": null,
      "outputs": [
        {
          "data": {
            "text/plain": [
              "array([1, 2, 3, 4], dtype=int8)"
            ]
          },
          "execution_count": 5,
          "metadata": {},
          "output_type": "execute_result"
        }
      ]
    },
    {
      "cell_type": "markdown",
      "metadata": {
        "id": "b3b45839"
      },
      "source": [
        "<div class=\"alert alert-info\" style=\"background-color:#006666; color:white; padding:0px 10px; border-radius:5px;\"><h2 style='margin:7px 5px; font-size:16px'>Supported Data Types</h2>\n",
        "</div>"
      ],
      "id": "b3b45839"
    },
    {
      "cell_type": "markdown",
      "metadata": {
        "id": "1fef38ff"
      },
      "source": [
        "The primary datatypes supported by numpy are as follows:"
      ],
      "id": "1fef38ff"
    },
    {
      "cell_type": "code",
      "metadata": {
        "id": "e22a5b1a"
      },
      "source": [
        "np.int    # integer\n",
        "np.uint   # unsigned integer\n",
        "np.float  # float\n",
        "np.bool   # boolean\n",
        "np.object # python object\n",
        "np.str    # string"
      ],
      "id": "e22a5b1a",
      "execution_count": null,
      "outputs": []
    },
    {
      "cell_type": "markdown",
      "metadata": {
        "id": "95e8afba"
      },
      "source": [
        "To find out the minimum and the maximum range a given integer type can store, use `np.iinfo` method."
      ],
      "id": "95e8afba"
    },
    {
      "cell_type": "code",
      "metadata": {
        "id": "9aa4380e",
        "outputId": "2f3553c7-837b-4d27-bc20-47244dc30a41"
      },
      "source": [
        "# int\n",
        "print(\"int8\", np.iinfo(np.int8))\n",
        "print(\"int16\", np.iinfo(np.int16))\n",
        "print(\"int32\", np.iinfo(np.int32))\n",
        "print(\"int64\", np.iinfo(np.int64))\n",
        "\n",
        "# unsigned int\n",
        "print(\"uint8\", np.iinfo(np.uint8))\n",
        "print(\"uint16\", np.iinfo(np.uint16))\n",
        "print(\"uint32\", np.iinfo(np.uint32))\n",
        "print(\"uint64\", np.iinfo(np.uint64))"
      ],
      "id": "9aa4380e",
      "execution_count": null,
      "outputs": [
        {
          "name": "stdout",
          "output_type": "stream",
          "text": [
            "int8 Machine parameters for int8\n",
            "---------------------------------------------------------------\n",
            "min = -128\n",
            "max = 127\n",
            "---------------------------------------------------------------\n",
            "\n",
            "int16 Machine parameters for int16\n",
            "---------------------------------------------------------------\n",
            "min = -32768\n",
            "max = 32767\n",
            "---------------------------------------------------------------\n",
            "\n",
            "int32 Machine parameters for int32\n",
            "---------------------------------------------------------------\n",
            "min = -2147483648\n",
            "max = 2147483647\n",
            "---------------------------------------------------------------\n",
            "\n",
            "int64 Machine parameters for int64\n",
            "---------------------------------------------------------------\n",
            "min = -9223372036854775808\n",
            "max = 9223372036854775807\n",
            "---------------------------------------------------------------\n",
            "\n",
            "uint8 Machine parameters for uint8\n",
            "---------------------------------------------------------------\n",
            "min = 0\n",
            "max = 255\n",
            "---------------------------------------------------------------\n",
            "\n",
            "uint16 Machine parameters for uint16\n",
            "---------------------------------------------------------------\n",
            "min = 0\n",
            "max = 65535\n",
            "---------------------------------------------------------------\n",
            "\n",
            "uint32 Machine parameters for uint32\n",
            "---------------------------------------------------------------\n",
            "min = 0\n",
            "max = 4294967295\n",
            "---------------------------------------------------------------\n",
            "\n",
            "uint64 Machine parameters for uint64\n",
            "---------------------------------------------------------------\n",
            "min = 0\n",
            "max = 18446744073709551615\n",
            "---------------------------------------------------------------\n",
            "\n"
          ]
        }
      ]
    },
    {
      "cell_type": "markdown",
      "metadata": {
        "id": "f13ffaba"
      },
      "source": [
        "<div class=\"alert alert-info\" style=\"background-color:#006666; color:white; padding:0px 10px; border-radius:5px;\"><h2 style='margin:7px 5px; font-size:16px'>Creating array that contains a mix of both numbers and characters and even any python object</h2>\n",
        "</div>"
      ],
      "id": "f13ffaba"
    },
    {
      "cell_type": "code",
      "metadata": {
        "id": "6e044b6d",
        "outputId": "f6832f55-7edb-4257-93b9-a6ff687059bb"
      },
      "source": [
        "arr = np.array(['a', 'b', 'c', 1], dtype='object')\n",
        "arr.dtype"
      ],
      "id": "6e044b6d",
      "execution_count": null,
      "outputs": [
        {
          "data": {
            "text/plain": [
              "dtype('O')"
            ]
          },
          "execution_count": 7,
          "metadata": {},
          "output_type": "execute_result"
        }
      ]
    },
    {
      "cell_type": "markdown",
      "metadata": {
        "id": "a94c5f54"
      },
      "source": [
        "Some python objects as well into the list."
      ],
      "id": "a94c5f54"
    },
    {
      "cell_type": "code",
      "metadata": {
        "id": "8a2e3976",
        "outputId": "accc0006-73d1-4acf-ce6f-55ffd425076f"
      },
      "source": [
        "arr = np.array(['a', 'b', 'c', 1, None, [21]], dtype='object')\n",
        "arr.dtype"
      ],
      "id": "8a2e3976",
      "execution_count": null,
      "outputs": [
        {
          "data": {
            "text/plain": [
              "dtype('O')"
            ]
          },
          "execution_count": 8,
          "metadata": {},
          "output_type": "execute_result"
        }
      ]
    },
    {
      "cell_type": "code",
      "metadata": {
        "id": "df9527a8",
        "outputId": "66d5b917-631f-44b8-b8c0-ab974218b435"
      },
      "source": [
        "arr"
      ],
      "id": "df9527a8",
      "execution_count": null,
      "outputs": [
        {
          "data": {
            "text/plain": [
              "array(['a', 'b', 'c', 1, None, list([21])], dtype=object)"
            ]
          },
          "execution_count": 9,
          "metadata": {},
          "output_type": "execute_result"
        }
      ]
    },
    {
      "cell_type": "markdown",
      "metadata": {
        "id": "964fc400"
      },
      "source": [
        "<div class=\"alert alert-info\" style=\"background-color:#006666; color:white; padding:0px 10px; border-radius:5px;\"><h2 style='margin:7px 5px; font-size:16px'>Code Challenge</h2>\n",
        "</div>\n",
        "\n",
        "1. Convert the following numpy array to optimal datatype (one that requires least space).\n",
        "\n",
        "```python\n",
        "import numpy as np\n",
        "arr = np.array([1,20,300,4000,50000])\n",
        "arr\n",
        "```\n",
        "\n",
        "2. Create a numpy array that contains the following tuples. What is the difference between the two?\n",
        "```python\n",
        "T1 = [(1, 10, 10), (2,20), (3,30)]\n",
        "T2 = [(1, 10), (2,20), (3,30)]\n",
        "```\n",
        "\n",
        "__Code Url:__ https://git.io/Jcc8D"
      ],
      "id": "964fc400"
    },
    {
      "cell_type": "code",
      "metadata": {
        "id": "7b075913"
      },
      "source": [
        ""
      ],
      "id": "7b075913",
      "execution_count": null,
      "outputs": []
    },
    {
      "cell_type": "code",
      "metadata": {
        "id": "49f92aa3"
      },
      "source": [
        ""
      ],
      "id": "49f92aa3",
      "execution_count": null,
      "outputs": []
    },
    {
      "cell_type": "code",
      "metadata": {
        "id": "8a105403"
      },
      "source": [
        ""
      ],
      "id": "8a105403",
      "execution_count": null,
      "outputs": []
    },
    {
      "cell_type": "code",
      "metadata": {
        "id": "1370af08"
      },
      "source": [
        ""
      ],
      "id": "1370af08",
      "execution_count": null,
      "outputs": []
    },
    {
      "cell_type": "code",
      "metadata": {
        "id": "20505db1"
      },
      "source": [
        ""
      ],
      "id": "20505db1",
      "execution_count": null,
      "outputs": []
    },
    {
      "cell_type": "code",
      "metadata": {
        "id": "aab0fac4"
      },
      "source": [
        ""
      ],
      "id": "aab0fac4",
      "execution_count": null,
      "outputs": []
    },
    {
      "cell_type": "code",
      "metadata": {
        "id": "544c371a"
      },
      "source": [
        ""
      ],
      "id": "544c371a",
      "execution_count": null,
      "outputs": []
    },
    {
      "cell_type": "code",
      "metadata": {
        "id": "28b49c72"
      },
      "source": [
        ""
      ],
      "id": "28b49c72",
      "execution_count": null,
      "outputs": []
    },
    {
      "cell_type": "code",
      "metadata": {
        "id": "c74ba4eb"
      },
      "source": [
        ""
      ],
      "id": "c74ba4eb",
      "execution_count": null,
      "outputs": []
    },
    {
      "cell_type": "markdown",
      "metadata": {
        "id": "cd0699af"
      },
      "source": [
        "__Solution 1__"
      ],
      "id": "cd0699af"
    },
    {
      "cell_type": "code",
      "metadata": {
        "id": "8e825089",
        "outputId": "9970efbe-46ff-481c-ba6f-da550e05d504"
      },
      "source": [
        "import numpy as np\n",
        "arr = np.array([1,20,300,4000,50000])\n",
        "arr"
      ],
      "id": "8e825089",
      "execution_count": null,
      "outputs": [
        {
          "data": {
            "text/plain": [
              "array([    1,    20,   300,  4000, 50000])"
            ]
          },
          "execution_count": 10,
          "metadata": {},
          "output_type": "execute_result"
        }
      ]
    },
    {
      "cell_type": "code",
      "metadata": {
        "id": "79685bd5",
        "outputId": "e7c11746-4132-485a-ef76-2e34776325d4"
      },
      "source": [
        "print(np.iinfo('int8'))\n",
        "print(np.iinfo('int16'))\n",
        "print(np.iinfo('int32'))"
      ],
      "id": "79685bd5",
      "execution_count": null,
      "outputs": [
        {
          "name": "stdout",
          "output_type": "stream",
          "text": [
            "Machine parameters for int8\n",
            "---------------------------------------------------------------\n",
            "min = -128\n",
            "max = 127\n",
            "---------------------------------------------------------------\n",
            "\n",
            "Machine parameters for int16\n",
            "---------------------------------------------------------------\n",
            "min = -32768\n",
            "max = 32767\n",
            "---------------------------------------------------------------\n",
            "\n",
            "Machine parameters for int32\n",
            "---------------------------------------------------------------\n",
            "min = -2147483648\n",
            "max = 2147483647\n",
            "---------------------------------------------------------------\n",
            "\n"
          ]
        }
      ]
    },
    {
      "cell_type": "code",
      "metadata": {
        "id": "b57b5b5d",
        "outputId": "fc6bce87-c89f-4a34-99ab-21220f14d600"
      },
      "source": [
        "# Loss of data\n",
        "arr.astype(np.int8)"
      ],
      "id": "b57b5b5d",
      "execution_count": null,
      "outputs": [
        {
          "data": {
            "text/plain": [
              "array([  1,  20,  44, -96,  80], dtype=int8)"
            ]
          },
          "execution_count": 12,
          "metadata": {},
          "output_type": "execute_result"
        }
      ]
    },
    {
      "cell_type": "code",
      "metadata": {
        "id": "1257cc65",
        "outputId": "b4c2b2d2-dd58-4d57-f264-a36ae5e4aa82"
      },
      "source": [
        "# Loss of data again\n",
        "arr.astype(np.int16)"
      ],
      "id": "1257cc65",
      "execution_count": null,
      "outputs": [
        {
          "data": {
            "text/plain": [
              "array([     1,     20,    300,   4000, -15536], dtype=int16)"
            ]
          },
          "execution_count": 13,
          "metadata": {},
          "output_type": "execute_result"
        }
      ]
    },
    {
      "cell_type": "code",
      "metadata": {
        "id": "579338f1",
        "outputId": "9f34835a-c616-4979-cef4-9cce0570fd6d"
      },
      "source": [
        "# Ok\n",
        "arr.astype(np.int32)"
      ],
      "id": "579338f1",
      "execution_count": null,
      "outputs": [
        {
          "data": {
            "text/plain": [
              "array([    1,    20,   300,  4000, 50000])"
            ]
          },
          "execution_count": 14,
          "metadata": {},
          "output_type": "execute_result"
        }
      ]
    },
    {
      "cell_type": "markdown",
      "metadata": {
        "id": "51ff0477"
      },
      "source": [
        "__Solution 2__"
      ],
      "id": "51ff0477"
    },
    {
      "cell_type": "code",
      "metadata": {
        "id": "a8fbfcec"
      },
      "source": [
        "T1 = [(1, 10, 10), (2, 20), (3, 30)]\n",
        "T2 = [(1, 10), (2, 20), (3, 30)]"
      ],
      "id": "a8fbfcec",
      "execution_count": 3,
      "outputs": []
    },
    {
      "cell_type": "code",
      "metadata": {
        "id": "ef0495a7",
        "outputId": "071d972a-cc32-49b7-892c-b242db24844a",
        "colab": {
          "base_uri": "https://localhost:8080/"
        }
      },
      "source": [
        "a1 = np.array(T1, dtype='object')\n",
        "a1"
      ],
      "id": "ef0495a7",
      "execution_count": 4,
      "outputs": [
        {
          "output_type": "execute_result",
          "data": {
            "text/plain": [
              "array([(1, 10, 10), (2, 20), (3, 30)], dtype=object)"
            ]
          },
          "metadata": {},
          "execution_count": 4
        }
      ]
    },
    {
      "cell_type": "code",
      "metadata": {
        "id": "5a142b39",
        "outputId": "31367adb-b273-4fb9-f55d-e59f97d26866",
        "colab": {
          "base_uri": "https://localhost:8080/"
        }
      },
      "source": [
        "# forms 1d array of tuples\n",
        "a1.shape"
      ],
      "id": "5a142b39",
      "execution_count": 5,
      "outputs": [
        {
          "output_type": "execute_result",
          "data": {
            "text/plain": [
              "(3,)"
            ]
          },
          "metadata": {},
          "execution_count": 5
        }
      ]
    },
    {
      "cell_type": "code",
      "metadata": {
        "id": "9ebfdb6c",
        "outputId": "ad2c8a2d-0410-45aa-8fa1-2d2e1c5f5d16",
        "colab": {
          "base_uri": "https://localhost:8080/"
        }
      },
      "source": [
        "a2 = np.array(T2, dtype='object')\n",
        "a2"
      ],
      "id": "9ebfdb6c",
      "execution_count": 6,
      "outputs": [
        {
          "output_type": "execute_result",
          "data": {
            "text/plain": [
              "array([[1, 10],\n",
              "       [2, 20],\n",
              "       [3, 30]], dtype=object)"
            ]
          },
          "metadata": {},
          "execution_count": 6
        }
      ]
    },
    {
      "cell_type": "code",
      "metadata": {
        "id": "46147c86",
        "outputId": "00189323-ab3b-41ec-b1f8-9c521076acaa",
        "colab": {
          "base_uri": "https://localhost:8080/"
        }
      },
      "source": [
        "# forms 2d array intuitively.\n",
        "a2.shape"
      ],
      "id": "46147c86",
      "execution_count": 7,
      "outputs": [
        {
          "output_type": "execute_result",
          "data": {
            "text/plain": [
              "(3, 2)"
            ]
          },
          "metadata": {},
          "execution_count": 7
        }
      ]
    },
    {
      "cell_type": "code",
      "metadata": {
        "id": "84439424"
      },
      "source": [
        "a3 = np.array(T2)"
      ],
      "id": "84439424",
      "execution_count": 8,
      "outputs": []
    },
    {
      "cell_type": "code",
      "metadata": {
        "id": "qL4HoGDc_6KX",
        "outputId": "470e25a4-b932-41c6-ef34-a3980495bab4",
        "colab": {
          "base_uri": "https://localhost:8080/"
        }
      },
      "source": [
        "a3"
      ],
      "id": "qL4HoGDc_6KX",
      "execution_count": 9,
      "outputs": [
        {
          "output_type": "execute_result",
          "data": {
            "text/plain": [
              "array([[ 1, 10],\n",
              "       [ 2, 20],\n",
              "       [ 3, 30]])"
            ]
          },
          "metadata": {},
          "execution_count": 9
        }
      ]
    },
    {
      "cell_type": "code",
      "metadata": {
        "id": "xzkkWoWz_7Y_",
        "outputId": "30e32ec6-0dea-495e-e15e-0b60cf61272d",
        "colab": {
          "base_uri": "https://localhost:8080/"
        }
      },
      "source": [
        "a3.dtype"
      ],
      "id": "xzkkWoWz_7Y_",
      "execution_count": 10,
      "outputs": [
        {
          "output_type": "execute_result",
          "data": {
            "text/plain": [
              "dtype('int64')"
            ]
          },
          "metadata": {},
          "execution_count": 10
        }
      ]
    },
    {
      "cell_type": "code",
      "metadata": {
        "id": "pH4wqJJs_9NS"
      },
      "source": [
        ""
      ],
      "id": "pH4wqJJs_9NS",
      "execution_count": null,
      "outputs": []
    }
  ]
}