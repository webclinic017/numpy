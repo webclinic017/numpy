{
 "cells": [
  {
   "cell_type": "markdown",
   "id": "c7b51f0a",
   "metadata": {},
   "source": [
    "<div style=\"color:#006666; padding:0px 10px; border-radius:5px; font-size:18px; text-align:center\"><h1 style='margin:10px 5px'>Apply Along Functions</h1>\n",
    "<hr>\n",
    "<p style=\"color:#006666; text-align:right;font-size:10px\">\n",
    "Copyright by MachineLearningPlus. All Rights Reserved.\n",
    "</p>\n",
    "\n",
    "</div>"
   ]
  },
  {
   "cell_type": "markdown",
   "id": "49b8a13e",
   "metadata": {},
   "source": [
    "Numpy provide the `apply_along_axis` functions to apply a particular function on all items along a specific axis, typically, to apply a function on all rows or all columns of a 2-d array."
   ]
  },
  {
   "cell_type": "code",
   "execution_count": 1,
   "id": "37d4dbca",
   "metadata": {},
   "outputs": [],
   "source": [
    "import numpy as np"
   ]
  },
  {
   "cell_type": "code",
   "execution_count": 2,
   "id": "a188892a",
   "metadata": {},
   "outputs": [
    {
     "data": {
      "text/plain": [
       "array([[ 9, 25, 68, 88],\n",
       "       [80, 49, 11, 95],\n",
       "       [53, 99, 54, 67],\n",
       "       [99, 15, 35, 25],\n",
       "       [16, 61, 59, 17],\n",
       "       [10, 94, 87,  3],\n",
       "       [28,  5, 32,  2],\n",
       "       [14, 84,  5, 92],\n",
       "       [60, 68,  8, 50],\n",
       "       [48, 66, 62, 15],\n",
       "       [56, 72, 81,  3],\n",
       "       [95, 20, 99, 64],\n",
       "       [54, 28, 57, 31],\n",
       "       [49, 48, 40, 39],\n",
       "       [45, 19, 65, 57],\n",
       "       [35, 54, 75, 18],\n",
       "       [73, 14, 31, 18],\n",
       "       [54, 69, 51, 92],\n",
       "       [92, 84, 54, 79],\n",
       "       [ 1, 14, 58, 77],\n",
       "       [ 4, 71,  4, 85],\n",
       "       [80, 11, 88, 61],\n",
       "       [ 4, 49, 53, 44],\n",
       "       [37,  6, 72, 39],\n",
       "       [87, 95, 99, 43],\n",
       "       [85, 96, 77, 34],\n",
       "       [59, 43, 23,  1],\n",
       "       [56, 99, 20, 54],\n",
       "       [69, 63, 51, 69],\n",
       "       [36, 24, 10, 49],\n",
       "       [22, 26, 55,  7],\n",
       "       [38, 59, 40, 95],\n",
       "       [52, 31, 67, 25],\n",
       "       [56, 18, 46, 90],\n",
       "       [46, 36, 17, 13],\n",
       "       [87, 83, 68, 93],\n",
       "       [96, 21, 11,  9],\n",
       "       [90, 73, 31, 13],\n",
       "       [19, 94, 93, 45],\n",
       "       [58,  1, 74, 55],\n",
       "       [93, 67, 17,  6],\n",
       "       [52, 91, 35, 68],\n",
       "       [95, 79, 55, 78],\n",
       "       [85,  2, 15, 34],\n",
       "       [21, 41, 25, 94],\n",
       "       [59, 29, 83, 83],\n",
       "       [ 8, 95,  3, 64],\n",
       "       [ 3, 88, 18, 91],\n",
       "       [94, 97, 75, 54],\n",
       "       [31, 68, 29, 38]])"
      ]
     },
     "execution_count": 2,
     "metadata": {},
     "output_type": "execute_result"
    }
   ],
   "source": [
    "np.random.seed(100)\n",
    "arr = np.random.randint(1,100, size=(50, 4))\n",
    "arr"
   ]
  },
  {
   "cell_type": "code",
   "execution_count": 4,
   "id": "6720107d",
   "metadata": {},
   "outputs": [
    {
     "name": "stdout",
     "output_type": "stream",
     "text": [
      "Row wise: \n",
      " [ 9.77777778  8.63636364  1.86792453  6.6         3.8125     31.33333333\n",
      " 16.         18.4         8.5         4.4        27.          4.95\n",
      "  2.03571429  1.25641026  3.42105263  4.16666667  5.21428571  1.80392157\n",
      "  1.7037037  77.         21.25        8.         13.25       12.\n",
      "  2.30232558  2.82352941 59.          4.95        1.35294118  4.9\n",
      "  7.85714286  2.5         2.68        5.          3.53846154  1.36764706\n",
      " 10.66666667  6.92307692  4.94736842 74.         15.5         2.6\n",
      "  1.72727273 42.5         4.47619048  2.86206897 31.66666667 30.33333333\n",
      "  1.7962963   2.34482759] \n",
      "\n"
     ]
    }
   ],
   "source": [
    "# Define func1d\n",
    "def max_by_min(x):\n",
    "    return np.max(x) / np.min(x)\n",
    "\n",
    "# Apply along the rows\n",
    "print('Row wise: \\n', np.apply_along_axis(max_by_min, 1, arr=arr), '\\n')"
   ]
  },
  {
   "cell_type": "markdown",
   "id": "caa41c3c",
   "metadata": {},
   "source": [
    "If you change the axis to 0, it will be applied column wise."
   ]
  },
  {
   "cell_type": "code",
   "execution_count": 5,
   "id": "c4bef90b",
   "metadata": {},
   "outputs": [
    {
     "name": "stdout",
     "output_type": "stream",
     "text": [
      "Column wise: \n",
      " [99. 99. 33. 95.]\n"
     ]
    }
   ],
   "source": [
    "# Apply along the columns\n",
    "print('Column wise: \\n', np.apply_along_axis(max_by_min, 0, arr=arr))"
   ]
  },
  {
   "cell_type": "code",
   "execution_count": null,
   "id": "54c4f9de",
   "metadata": {},
   "outputs": [],
   "source": []
  },
  {
   "cell_type": "code",
   "execution_count": null,
   "id": "10293dc3",
   "metadata": {},
   "outputs": [],
   "source": []
  },
  {
   "cell_type": "code",
   "execution_count": null,
   "id": "b84dbba8",
   "metadata": {},
   "outputs": [],
   "source": []
  },
  {
   "cell_type": "code",
   "execution_count": null,
   "id": "570d392f",
   "metadata": {},
   "outputs": [],
   "source": []
  },
  {
   "cell_type": "code",
   "execution_count": null,
   "id": "ef07a89c",
   "metadata": {},
   "outputs": [],
   "source": []
  },
  {
   "cell_type": "code",
   "execution_count": null,
   "id": "1531eaa3",
   "metadata": {},
   "outputs": [],
   "source": []
  },
  {
   "cell_type": "code",
   "execution_count": null,
   "id": "e5304206",
   "metadata": {},
   "outputs": [],
   "source": []
  },
  {
   "cell_type": "code",
   "execution_count": null,
   "id": "974a099d",
   "metadata": {},
   "outputs": [],
   "source": []
  },
  {
   "cell_type": "code",
   "execution_count": null,
   "id": "d3e3cdb0",
   "metadata": {},
   "outputs": [],
   "source": []
  },
  {
   "cell_type": "code",
   "execution_count": null,
   "id": "c0110356",
   "metadata": {},
   "outputs": [],
   "source": []
  },
  {
   "cell_type": "code",
   "execution_count": null,
   "id": "b4e6a73d",
   "metadata": {},
   "outputs": [],
   "source": []
  },
  {
   "cell_type": "code",
   "execution_count": null,
   "id": "81c531e4",
   "metadata": {},
   "outputs": [],
   "source": []
  },
  {
   "cell_type": "markdown",
   "id": "1c7e08a6",
   "metadata": {},
   "source": [
    "<div class=\"alert alert-info\" style=\"background-color:#006666; color:white; padding:0px 10px; border-radius:5px;\"><h2 style='margin:7px 5px; font-size:16px'>Mini Challenge</h2>\n",
    "</div>"
   ]
  },
  {
   "cell_type": "markdown",
   "id": "a9f63b9c",
   "metadata": {},
   "source": [
    "For the following dataset, compute and print the mean, median, min, max, std, 25%ile, 75%ile for every numeric column."
   ]
  },
  {
   "cell_type": "code",
   "execution_count": 8,
   "id": "89828737",
   "metadata": {},
   "outputs": [
    {
     "data": {
      "text/plain": [
       "array([[4.7, 3.2, 1.3, 0.2],\n",
       "       [5. , 3.6, 1.4, 0.2],\n",
       "       [5.4, 3.9, 1.7, 0.4],\n",
       "       [4.6, 3.4, 1.4, 0.3],\n",
       "       [4.9, 3.1, 1.5, 0.1],\n",
       "       [5.4, 3.7, 1.5, 0.2],\n",
       "       [4.8, 3.4, 1.6, 0.2],\n",
       "       [4.8, 3. , 1.4, 0.1],\n",
       "       [5.8, 4. , 1.2, 0.2],\n",
       "       [5.7, 4.4, 1.5, 0.4]])"
      ]
     },
     "execution_count": 8,
     "metadata": {},
     "output_type": "execute_result"
    }
   ],
   "source": [
    "import numpy as np\n",
    "arr = np.genfromtxt(\"Datasets/iris.csv\", delimiter=\",\", skip_header=1)\n",
    "arr[:10, :]"
   ]
  },
  {
   "cell_type": "code",
   "execution_count": null,
   "id": "4d84e90d",
   "metadata": {},
   "outputs": [],
   "source": []
  },
  {
   "cell_type": "code",
   "execution_count": null,
   "id": "f9579521",
   "metadata": {},
   "outputs": [],
   "source": []
  },
  {
   "cell_type": "code",
   "execution_count": null,
   "id": "bdd4c82e",
   "metadata": {},
   "outputs": [],
   "source": []
  },
  {
   "cell_type": "code",
   "execution_count": null,
   "id": "ae468027",
   "metadata": {},
   "outputs": [],
   "source": []
  },
  {
   "cell_type": "code",
   "execution_count": null,
   "id": "d1af9e6e",
   "metadata": {},
   "outputs": [],
   "source": []
  },
  {
   "cell_type": "code",
   "execution_count": null,
   "id": "d85fc67c",
   "metadata": {},
   "outputs": [],
   "source": []
  },
  {
   "cell_type": "code",
   "execution_count": null,
   "id": "e8f97b95",
   "metadata": {},
   "outputs": [],
   "source": []
  },
  {
   "cell_type": "code",
   "execution_count": null,
   "id": "5d20fce5",
   "metadata": {},
   "outputs": [],
   "source": []
  },
  {
   "cell_type": "code",
   "execution_count": null,
   "id": "f4390b19",
   "metadata": {},
   "outputs": [],
   "source": []
  },
  {
   "cell_type": "code",
   "execution_count": null,
   "id": "fc278423",
   "metadata": {},
   "outputs": [],
   "source": []
  },
  {
   "cell_type": "code",
   "execution_count": 9,
   "id": "9b3c8a45",
   "metadata": {},
   "outputs": [],
   "source": [
    "# Solution:\n",
    "def summary(x):\n",
    "    return(np.nanmean(x), \n",
    "           np.nanmedian(x),\n",
    "           np.nanmin(x),\n",
    "           np.nanmax(x),\n",
    "           np.nanstd(x),\n",
    "           np.nanquantile(x,.25),\n",
    "           np.nanquantile(x,.75))\n"
   ]
  },
  {
   "cell_type": "code",
   "execution_count": 10,
   "id": "ba155b79",
   "metadata": {},
   "outputs": [
    {
     "data": {
      "text/plain": [
       "array([[5.81238095, 3.07619048, 3.72666667, 1.18380952],\n",
       "       [5.7       , 3.        , 4.2       , 1.3       ],\n",
       "       [4.4       , 2.2       , 1.        , 0.1       ],\n",
       "       [7.9       , 4.4       , 6.9       , 2.5       ],\n",
       "       [0.78056088, 0.45366734, 1.74073146, 0.74259825],\n",
       "       [5.2       , 2.8       , 1.6       , 0.3       ],\n",
       "       [6.3       , 3.4       , 5.1       , 1.8       ]])"
      ]
     },
     "execution_count": 10,
     "metadata": {},
     "output_type": "execute_result"
    }
   ],
   "source": [
    "np.apply_along_axis(func1d=summary, axis=0, arr=arr)"
   ]
  },
  {
   "cell_type": "code",
   "execution_count": null,
   "id": "f90217e9",
   "metadata": {},
   "outputs": [],
   "source": []
  }
 ],
 "metadata": {
  "hide_input": false,
  "kernelspec": {
   "display_name": "Python 3",
   "language": "python",
   "name": "python3"
  },
  "language_info": {
   "codemirror_mode": {
    "name": "ipython",
    "version": 3
   },
   "file_extension": ".py",
   "mimetype": "text/x-python",
   "name": "python",
   "nbconvert_exporter": "python",
   "pygments_lexer": "ipython3",
   "version": "3.7.10"
  },
  "toc": {
   "base_numbering": 1,
   "nav_menu": {},
   "number_sections": false,
   "sideBar": true,
   "skip_h1_title": true,
   "title_cell": "Table of Contents",
   "title_sidebar": "Contents",
   "toc_cell": false,
   "toc_position": {},
   "toc_section_display": true,
   "toc_window_display": false
  }
 },
 "nbformat": 4,
 "nbformat_minor": 5
}
