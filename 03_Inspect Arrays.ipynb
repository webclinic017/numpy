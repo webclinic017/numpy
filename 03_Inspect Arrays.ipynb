{
 "cells": [
  {
   "cell_type": "markdown",
   "id": "c0773767",
   "metadata": {},
   "source": [
    "<div style=\"color:#006666; padding:0px 10px; border-radius:5px; font-size:18px; text-align:center\"><h1 style='margin:10px 5px'>Inspecting Arrays</h1>\n",
    "<hr>\n",
    "<p style=\"color:#006666; text-align:right;font-size:10px\">\n",
    "Copyright by MachineLearningPlus. All Rights Reserved.\n",
    "</p>\n",
    "\n",
    "</div>"
   ]
  },
  {
   "cell_type": "markdown",
   "id": "7b3e5387",
   "metadata": {},
   "source": [
    "__Let's first create one__"
   ]
  },
  {
   "cell_type": "code",
   "execution_count": 1,
   "id": "b09b0feb",
   "metadata": {},
   "outputs": [],
   "source": [
    "import numpy as np"
   ]
  },
  {
   "cell_type": "code",
   "execution_count": 2,
   "id": "8c49e851",
   "metadata": {},
   "outputs": [
    {
     "data": {
      "text/plain": [
       "array([[ 1,  2,  3,  4],\n",
       "       [ 5,  6,  7,  8],\n",
       "       [ 9, 10, 11, 12],\n",
       "       [13, 14, 15, 16],\n",
       "       [17, 18, 19, 20]])"
      ]
     },
     "execution_count": 2,
     "metadata": {},
     "output_type": "execute_result"
    }
   ],
   "source": [
    "L = [[1,2,3,4], \n",
    "     [5,6,7,8],\n",
    "     [9,10,11,12],\n",
    "     [13,14,15,16],\n",
    "     [17,18,19,20]]\n",
    "\n",
    "arr = np.array(L)\n",
    "arr"
   ]
  },
  {
   "cell_type": "markdown",
   "id": "88de7d42",
   "metadata": {},
   "source": [
    "__Shape of the array__ - Number of items in each dimension (rows, columns)"
   ]
  },
  {
   "cell_type": "code",
   "execution_count": 3,
   "id": "823d4d6c",
   "metadata": {},
   "outputs": [
    {
     "data": {
      "text/plain": [
       "(5, 4)"
      ]
     },
     "execution_count": 3,
     "metadata": {},
     "output_type": "execute_result"
    }
   ],
   "source": [
    "arr.shape"
   ]
  },
  {
   "cell_type": "markdown",
   "id": "32b55d1d",
   "metadata": {},
   "source": [
    "__ndim__ - Number of dimensions"
   ]
  },
  {
   "cell_type": "code",
   "execution_count": 4,
   "id": "4a611045",
   "metadata": {},
   "outputs": [
    {
     "data": {
      "text/plain": [
       "2"
      ]
     },
     "execution_count": 4,
     "metadata": {},
     "output_type": "execute_result"
    }
   ],
   "source": [
    "arr.ndim"
   ]
  },
  {
   "cell_type": "markdown",
   "id": "e96de8f7",
   "metadata": {},
   "source": [
    "__Size__ - Total number of items"
   ]
  },
  {
   "cell_type": "code",
   "execution_count": 5,
   "id": "5fdb4665",
   "metadata": {},
   "outputs": [
    {
     "data": {
      "text/plain": [
       "20"
      ]
     },
     "execution_count": 5,
     "metadata": {},
     "output_type": "execute_result"
    }
   ],
   "source": [
    "arr.size"
   ]
  },
  {
   "cell_type": "markdown",
   "id": "5a990367",
   "metadata": {},
   "source": [
    "__Datatype__"
   ]
  },
  {
   "cell_type": "code",
   "execution_count": 6,
   "id": "45e8a2bb",
   "metadata": {},
   "outputs": [
    {
     "data": {
      "text/plain": [
       "dtype('int32')"
      ]
     },
     "execution_count": 6,
     "metadata": {},
     "output_type": "execute_result"
    }
   ],
   "source": [
    "arr.dtype"
   ]
  },
  {
   "cell_type": "markdown",
   "id": "3b4b06f9",
   "metadata": {},
   "source": [
    "Create in another dtype."
   ]
  },
  {
   "cell_type": "code",
   "execution_count": 9,
   "id": "84a693a4",
   "metadata": {},
   "outputs": [
    {
     "data": {
      "text/plain": [
       "array([[ 1,  2,  3,  4],\n",
       "       [ 5,  6,  7,  8],\n",
       "       [ 9, 10, 11, 12],\n",
       "       [13, 14, 15, 16],\n",
       "       [17, 18, 19, 20]], dtype=int64)"
      ]
     },
     "execution_count": 9,
     "metadata": {},
     "output_type": "execute_result"
    }
   ],
   "source": [
    "arr_int64 = np.array(L, dtype='int64')\n",
    "arr_int64"
   ]
  },
  {
   "cell_type": "markdown",
   "id": "7dd42263",
   "metadata": {},
   "source": [
    "__Memory Occupied__ in bytes. "
   ]
  },
  {
   "cell_type": "code",
   "execution_count": 10,
   "id": "31340260",
   "metadata": {},
   "outputs": [
    {
     "data": {
      "text/plain": [
       "160"
      ]
     },
     "execution_count": 10,
     "metadata": {},
     "output_type": "execute_result"
    }
   ],
   "source": [
    "# n_elements x bytes occupied by each\n",
    "arr_int64.nbytes"
   ]
  },
  {
   "cell_type": "markdown",
   "id": "d5ad6374",
   "metadata": {},
   "source": [
    "8 Bytes per element. 8x8=64bits per element."
   ]
  },
  {
   "cell_type": "markdown",
   "id": "34f26fcf",
   "metadata": {},
   "source": [
    "Total size needed including non-element attributes of array."
   ]
  },
  {
   "cell_type": "code",
   "execution_count": 11,
   "id": "d6a9f20c",
   "metadata": {},
   "outputs": [
    {
     "data": {
      "text/plain": [
       "272"
      ]
     },
     "execution_count": 11,
     "metadata": {},
     "output_type": "execute_result"
    }
   ],
   "source": [
    "# Include non element attributes of array\n",
    "from sys import getsizeof\n",
    "getsizeof(arr_int64)"
   ]
  },
  {
   "cell_type": "markdown",
   "id": "6abb4dff",
   "metadata": {},
   "source": [
    "Check the bigger datatype array."
   ]
  },
  {
   "cell_type": "code",
   "execution_count": null,
   "id": "bf967c2e",
   "metadata": {},
   "outputs": [],
   "source": [
    "arr_int64.nbytes"
   ]
  },
  {
   "cell_type": "code",
   "execution_count": null,
   "id": "1c1b51f0",
   "metadata": {},
   "outputs": [],
   "source": [
    "getsizeof(arr_int64)"
   ]
  },
  {
   "cell_type": "markdown",
   "id": "26f75695",
   "metadata": {},
   "source": [
    "<div class=\"alert alert-info\" style=\"background-color:#006666; color:white; padding:0px 10px; border-radius:5px;\"><h2 style='margin:7px 5px; font-size:16px'>Copy vs Reference</h2>\n",
    "</div>"
   ]
  },
  {
   "cell_type": "markdown",
   "id": "92219506",
   "metadata": {},
   "source": [
    "If you change the value of the reference array, the original also changes. Whereas, when changing the copy, the original remains unaffected."
   ]
  },
  {
   "cell_type": "code",
   "execution_count": 12,
   "id": "cb597fb9",
   "metadata": {},
   "outputs": [],
   "source": [
    "arr_r = arr   # reference\n",
    "arr_c = arr.copy()  # copy"
   ]
  },
  {
   "cell_type": "code",
   "execution_count": 13,
   "id": "107ac0f3",
   "metadata": {},
   "outputs": [
    {
     "data": {
      "text/plain": [
       "array([[ 1,  2,  3,  4],\n",
       "       [ 5,  6,  7,  8],\n",
       "       [ 9, 10, 11, 12],\n",
       "       [13, 14, 15, 16],\n",
       "       [17, 18, 19, 20]])"
      ]
     },
     "execution_count": 13,
     "metadata": {},
     "output_type": "execute_result"
    }
   ],
   "source": [
    "arr_c"
   ]
  },
  {
   "cell_type": "code",
   "execution_count": 14,
   "id": "f8d2e7f2",
   "metadata": {},
   "outputs": [
    {
     "data": {
      "text/plain": [
       "array([[ 1,  2,  3,  4],\n",
       "       [ 5,  6,  7,  8],\n",
       "       [ 9, 10, 11, 12],\n",
       "       [13, 14, 15, 16],\n",
       "       [17, 18, 19, 20]])"
      ]
     },
     "execution_count": 14,
     "metadata": {},
     "output_type": "execute_result"
    }
   ],
   "source": [
    "arr_r"
   ]
  },
  {
   "cell_type": "code",
   "execution_count": 15,
   "id": "6961d591",
   "metadata": {},
   "outputs": [
    {
     "data": {
      "text/plain": [
       "array([[ 1,  2,  3,  4],\n",
       "       [ 5,  6,  7,  8],\n",
       "       [ 9, 10, 11, 12],\n",
       "       [13, 14, 15, 16],\n",
       "       [17, 18, 19, 20]])"
      ]
     },
     "execution_count": 15,
     "metadata": {},
     "output_type": "execute_result"
    }
   ],
   "source": [
    "arr"
   ]
  },
  {
   "cell_type": "markdown",
   "id": "33413cb9",
   "metadata": {},
   "source": [
    "Change value in `arr_c`"
   ]
  },
  {
   "cell_type": "code",
   "execution_count": 16,
   "id": "8a2bb428",
   "metadata": {},
   "outputs": [
    {
     "data": {
      "text/plain": [
       "array([[100,   2,   3,   4],\n",
       "       [  5,   6,   7,   8],\n",
       "       [  9,  10,  11,  12],\n",
       "       [ 13,  14,  15,  16],\n",
       "       [ 17,  18,  19,  20]])"
      ]
     },
     "execution_count": 16,
     "metadata": {},
     "output_type": "execute_result"
    }
   ],
   "source": [
    "arr_c[0, 0] = 100\n",
    "arr_c"
   ]
  },
  {
   "cell_type": "markdown",
   "id": "676f2ed9",
   "metadata": {},
   "source": [
    "`arr` remains unaffected."
   ]
  },
  {
   "cell_type": "code",
   "execution_count": 17,
   "id": "19a16ccf",
   "metadata": {},
   "outputs": [
    {
     "data": {
      "text/plain": [
       "array([[ 1,  2,  3,  4],\n",
       "       [ 5,  6,  7,  8],\n",
       "       [ 9, 10, 11, 12],\n",
       "       [13, 14, 15, 16],\n",
       "       [17, 18, 19, 20]])"
      ]
     },
     "execution_count": 17,
     "metadata": {},
     "output_type": "execute_result"
    }
   ],
   "source": [
    "arr"
   ]
  },
  {
   "cell_type": "markdown",
   "id": "d2916b1c",
   "metadata": {},
   "source": [
    "Let's try the same on `arr_r`. Changes to `arr_r` will affect `arr`."
   ]
  },
  {
   "cell_type": "code",
   "execution_count": 18,
   "id": "d587f9e9",
   "metadata": {},
   "outputs": [
    {
     "data": {
      "text/plain": [
       "array([[100,   2,   3,   4],\n",
       "       [  5,   6,   7,   8],\n",
       "       [  9,  10,  11,  12],\n",
       "       [ 13,  14,  15,  16],\n",
       "       [ 17,  18,  19,  20]])"
      ]
     },
     "execution_count": 18,
     "metadata": {},
     "output_type": "execute_result"
    }
   ],
   "source": [
    "arr_r[0, 0] = 100\n",
    "arr_r"
   ]
  },
  {
   "cell_type": "code",
   "execution_count": 19,
   "id": "18bf6f81",
   "metadata": {},
   "outputs": [
    {
     "data": {
      "text/plain": [
       "array([[100,   2,   3,   4],\n",
       "       [  5,   6,   7,   8],\n",
       "       [  9,  10,  11,  12],\n",
       "       [ 13,  14,  15,  16],\n",
       "       [ 17,  18,  19,  20]])"
      ]
     },
     "execution_count": 19,
     "metadata": {},
     "output_type": "execute_result"
    }
   ],
   "source": [
    "arr"
   ]
  },
  {
   "cell_type": "markdown",
   "id": "626a0ab7",
   "metadata": {},
   "source": [
    "__Check the id of objects__\n",
    "\n",
    "`arr_r` is actually `arr`."
   ]
  },
  {
   "cell_type": "code",
   "execution_count": 20,
   "id": "48830949",
   "metadata": {},
   "outputs": [
    {
     "name": "stdout",
     "output_type": "stream",
     "text": [
      "1567326826048\n",
      "1567361179776\n",
      "1567326826048\n"
     ]
    }
   ],
   "source": [
    "print(id(arr))\n",
    "print(id(arr_c))\n",
    "print(id(arr_r))"
   ]
  },
  {
   "cell_type": "code",
   "execution_count": 21,
   "id": "a8a4535e",
   "metadata": {},
   "outputs": [
    {
     "data": {
      "text/plain": [
       "True"
      ]
     },
     "execution_count": 21,
     "metadata": {},
     "output_type": "execute_result"
    }
   ],
   "source": [
    "arr_r is arr"
   ]
  },
  {
   "cell_type": "code",
   "execution_count": 22,
   "id": "baf7e22a",
   "metadata": {},
   "outputs": [
    {
     "data": {
      "text/plain": [
       "False"
      ]
     },
     "execution_count": 22,
     "metadata": {},
     "output_type": "execute_result"
    }
   ],
   "source": [
    "arr_c is arr"
   ]
  },
  {
   "cell_type": "code",
   "execution_count": null,
   "id": "441a9417",
   "metadata": {},
   "outputs": [],
   "source": []
  }
 ],
 "metadata": {
  "hide_input": false,
  "kernelspec": {
   "display_name": "Python 3",
   "language": "python",
   "name": "python3"
  },
  "language_info": {
   "codemirror_mode": {
    "name": "ipython",
    "version": 3
   },
   "file_extension": ".py",
   "mimetype": "text/x-python",
   "name": "python",
   "nbconvert_exporter": "python",
   "pygments_lexer": "ipython3",
   "version": "3.7.10"
  },
  "toc": {
   "base_numbering": 1,
   "nav_menu": {},
   "number_sections": false,
   "sideBar": true,
   "skip_h1_title": true,
   "title_cell": "Table of Contents",
   "title_sidebar": "Contents",
   "toc_cell": false,
   "toc_position": {},
   "toc_section_display": true,
   "toc_window_display": false
  }
 },
 "nbformat": 4,
 "nbformat_minor": 5
}
