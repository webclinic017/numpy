{
  "nbformat": 4,
  "nbformat_minor": 5,
  "metadata": {
    "hide_input": false,
    "kernelspec": {
      "display_name": "Python 3",
      "language": "python",
      "name": "python3"
    },
    "language_info": {
      "codemirror_mode": {
        "name": "ipython",
        "version": 3
      },
      "file_extension": ".py",
      "mimetype": "text/x-python",
      "name": "python",
      "nbconvert_exporter": "python",
      "pygments_lexer": "ipython3",
      "version": "3.7.10"
    },
    "toc": {
      "base_numbering": 1,
      "nav_menu": {},
      "number_sections": false,
      "sideBar": true,
      "skip_h1_title": true,
      "title_cell": "Table of Contents",
      "title_sidebar": "Contents",
      "toc_cell": false,
      "toc_position": {},
      "toc_section_display": true,
      "toc_window_display": false
    },
    "colab": {
      "name": "03_Inspect Arrays.ipynb",
      "provenance": [],
      "include_colab_link": true
    }
  },
  "cells": [
    {
      "cell_type": "markdown",
      "metadata": {
        "id": "view-in-github",
        "colab_type": "text"
      },
      "source": [
        "<a href=\"https://colab.research.google.com/github/patelsaumya/numpy/blob/master/03_Inspect%20Arrays.ipynb\" target=\"_parent\"><img src=\"https://colab.research.google.com/assets/colab-badge.svg\" alt=\"Open In Colab\"/></a>"
      ]
    },
    {
      "cell_type": "markdown",
      "metadata": {
        "id": "c0773767"
      },
      "source": [
        "<div style=\"color:#006666; padding:0px 10px; border-radius:5px; font-size:18px; text-align:center\"><h1 style='margin:10px 5px'>Inspecting Arrays</h1>\n",
        "<hr>\n",
        "<p style=\"color:#006666; text-align:right;font-size:10px\">\n",
        "Copyright by MachineLearningPlus. All Rights Reserved.\n",
        "</p>\n",
        "\n",
        "</div>"
      ],
      "id": "c0773767"
    },
    {
      "cell_type": "markdown",
      "metadata": {
        "id": "7b3e5387"
      },
      "source": [
        "__Let's first create one__"
      ],
      "id": "7b3e5387"
    },
    {
      "cell_type": "code",
      "metadata": {
        "id": "b09b0feb"
      },
      "source": [
        "import numpy as np"
      ],
      "id": "b09b0feb",
      "execution_count": 2,
      "outputs": []
    },
    {
      "cell_type": "code",
      "metadata": {
        "id": "8c49e851",
        "colab": {
          "base_uri": "https://localhost:8080/"
        },
        "outputId": "436b806d-b922-45e7-e3b9-4a81b899c31e"
      },
      "source": [
        "L = [[1,2,3,4], \n",
        "     [5,6,7,8],\n",
        "     [9,10,11,12],\n",
        "     [13,14,15,16],\n",
        "     [17,18,19,20]]\n",
        "\n",
        "arr = np.array(L)\n",
        "arr"
      ],
      "id": "8c49e851",
      "execution_count": 7,
      "outputs": [
        {
          "output_type": "execute_result",
          "data": {
            "text/plain": [
              "array([[ 1,  2,  3,  4],\n",
              "       [ 5,  6,  7,  8],\n",
              "       [ 9, 10, 11, 12],\n",
              "       [13, 14, 15, 16],\n",
              "       [17, 18, 19, 20]])"
            ]
          },
          "metadata": {},
          "execution_count": 7
        }
      ]
    },
    {
      "cell_type": "markdown",
      "metadata": {
        "id": "88de7d42"
      },
      "source": [
        "__Shape of the array__ - Number of items in each dimension (rows, columns)"
      ],
      "id": "88de7d42"
    },
    {
      "cell_type": "code",
      "metadata": {
        "id": "823d4d6c",
        "colab": {
          "base_uri": "https://localhost:8080/"
        },
        "outputId": "882c33e2-afef-4ac2-b026-2fa03f4bcb31"
      },
      "source": [
        "arr.shape"
      ],
      "id": "823d4d6c",
      "execution_count": 8,
      "outputs": [
        {
          "output_type": "execute_result",
          "data": {
            "text/plain": [
              "(5, 4)"
            ]
          },
          "metadata": {},
          "execution_count": 8
        }
      ]
    },
    {
      "cell_type": "markdown",
      "metadata": {
        "id": "32b55d1d"
      },
      "source": [
        "__ndim__ - Number of dimensions"
      ],
      "id": "32b55d1d"
    },
    {
      "cell_type": "code",
      "metadata": {
        "id": "4a611045",
        "colab": {
          "base_uri": "https://localhost:8080/"
        },
        "outputId": "f46f59da-42bd-4ac9-acbc-59fc3907c9ea"
      },
      "source": [
        "arr.ndim"
      ],
      "id": "4a611045",
      "execution_count": 9,
      "outputs": [
        {
          "output_type": "execute_result",
          "data": {
            "text/plain": [
              "2"
            ]
          },
          "metadata": {},
          "execution_count": 9
        }
      ]
    },
    {
      "cell_type": "markdown",
      "metadata": {
        "id": "e96de8f7"
      },
      "source": [
        "__Size__ - Total number of items"
      ],
      "id": "e96de8f7"
    },
    {
      "cell_type": "code",
      "metadata": {
        "id": "5fdb4665",
        "colab": {
          "base_uri": "https://localhost:8080/"
        },
        "outputId": "36050058-4782-4484-d8b8-b41514c112a5"
      },
      "source": [
        "arr.size"
      ],
      "id": "5fdb4665",
      "execution_count": 10,
      "outputs": [
        {
          "output_type": "execute_result",
          "data": {
            "text/plain": [
              "20"
            ]
          },
          "metadata": {},
          "execution_count": 10
        }
      ]
    },
    {
      "cell_type": "markdown",
      "metadata": {
        "id": "5a990367"
      },
      "source": [
        "__Datatype__"
      ],
      "id": "5a990367"
    },
    {
      "cell_type": "code",
      "metadata": {
        "id": "45e8a2bb",
        "colab": {
          "base_uri": "https://localhost:8080/"
        },
        "outputId": "b2d07279-8ff5-41b1-dacd-c366456d4191"
      },
      "source": [
        "arr.dtype"
      ],
      "id": "45e8a2bb",
      "execution_count": 11,
      "outputs": [
        {
          "output_type": "execute_result",
          "data": {
            "text/plain": [
              "dtype('int64')"
            ]
          },
          "metadata": {},
          "execution_count": 11
        }
      ]
    },
    {
      "cell_type": "markdown",
      "metadata": {
        "id": "3b4b06f9"
      },
      "source": [
        "Create in another dtype."
      ],
      "id": "3b4b06f9"
    },
    {
      "cell_type": "code",
      "metadata": {
        "id": "84a693a4",
        "colab": {
          "base_uri": "https://localhost:8080/"
        },
        "outputId": "02d5deb3-98f9-4b8a-befe-931f7d99e371"
      },
      "source": [
        "arr_int64 = np.array(L, dtype='int64')\n",
        "arr_int64"
      ],
      "id": "84a693a4",
      "execution_count": 12,
      "outputs": [
        {
          "output_type": "execute_result",
          "data": {
            "text/plain": [
              "array([[ 1,  2,  3,  4],\n",
              "       [ 5,  6,  7,  8],\n",
              "       [ 9, 10, 11, 12],\n",
              "       [13, 14, 15, 16],\n",
              "       [17, 18, 19, 20]])"
            ]
          },
          "metadata": {},
          "execution_count": 12
        }
      ]
    },
    {
      "cell_type": "code",
      "metadata": {
        "colab": {
          "base_uri": "https://localhost:8080/",
          "height": 198
        },
        "id": "m6aiAibnnCGq",
        "outputId": "2705fac8-890c-464a-cc69-19978872ef69"
      },
      "source": [
        "a1 = [2,3,4, 'a']\n",
        "arr = np.array(a1, dtype='int32')\n",
        "arr"
      ],
      "id": "m6aiAibnnCGq",
      "execution_count": 3,
      "outputs": [
        {
          "output_type": "error",
          "ename": "ValueError",
          "evalue": "ignored",
          "traceback": [
            "\u001b[0;31m---------------------------------------------------------------------------\u001b[0m",
            "\u001b[0;31mValueError\u001b[0m                                Traceback (most recent call last)",
            "\u001b[0;32m<ipython-input-3-5efe93fcb264>\u001b[0m in \u001b[0;36m<module>\u001b[0;34m()\u001b[0m\n\u001b[1;32m      1\u001b[0m \u001b[0ma1\u001b[0m \u001b[0;34m=\u001b[0m \u001b[0;34m[\u001b[0m\u001b[0;36m2\u001b[0m\u001b[0;34m,\u001b[0m\u001b[0;36m3\u001b[0m\u001b[0;34m,\u001b[0m\u001b[0;36m4\u001b[0m\u001b[0;34m,\u001b[0m \u001b[0;34m'a'\u001b[0m\u001b[0;34m]\u001b[0m\u001b[0;34m\u001b[0m\u001b[0;34m\u001b[0m\u001b[0m\n\u001b[0;32m----> 2\u001b[0;31m \u001b[0marr\u001b[0m \u001b[0;34m=\u001b[0m \u001b[0mnp\u001b[0m\u001b[0;34m.\u001b[0m\u001b[0marray\u001b[0m\u001b[0;34m(\u001b[0m\u001b[0ma1\u001b[0m\u001b[0;34m,\u001b[0m \u001b[0mdtype\u001b[0m\u001b[0;34m=\u001b[0m\u001b[0;34m'int32'\u001b[0m\u001b[0;34m)\u001b[0m\u001b[0;34m\u001b[0m\u001b[0;34m\u001b[0m\u001b[0m\n\u001b[0m\u001b[1;32m      3\u001b[0m \u001b[0marr\u001b[0m\u001b[0;34m\u001b[0m\u001b[0;34m\u001b[0m\u001b[0m\n",
            "\u001b[0;31mValueError\u001b[0m: invalid literal for int() with base 10: 'a'"
          ]
        }
      ]
    },
    {
      "cell_type": "markdown",
      "metadata": {
        "id": "7dd42263"
      },
      "source": [
        "__Memory Occupied__ in bytes. "
      ],
      "id": "7dd42263"
    },
    {
      "cell_type": "code",
      "metadata": {
        "id": "31340260",
        "colab": {
          "base_uri": "https://localhost:8080/"
        },
        "outputId": "48c1ae89-cc57-4168-f77c-eaf52820136d"
      },
      "source": [
        "# n_elements x bytes occupied by each\n",
        "arr_int64.nbytes"
      ],
      "id": "31340260",
      "execution_count": 13,
      "outputs": [
        {
          "output_type": "execute_result",
          "data": {
            "text/plain": [
              "160"
            ]
          },
          "metadata": {},
          "execution_count": 13
        }
      ]
    },
    {
      "cell_type": "markdown",
      "metadata": {
        "id": "d5ad6374"
      },
      "source": [
        "8 Bytes per element. 8x8=64bits per element."
      ],
      "id": "d5ad6374"
    },
    {
      "cell_type": "markdown",
      "metadata": {
        "id": "34f26fcf"
      },
      "source": [
        "Total size needed including non-element attributes of array."
      ],
      "id": "34f26fcf"
    },
    {
      "cell_type": "code",
      "metadata": {
        "id": "d6a9f20c",
        "colab": {
          "base_uri": "https://localhost:8080/"
        },
        "outputId": "1a2df172-a296-4f03-95ab-814c3ff47413"
      },
      "source": [
        "# Include non element attributes of array\n",
        "from sys import getsizeof\n",
        "getsizeof(arr_int64)"
      ],
      "id": "d6a9f20c",
      "execution_count": 14,
      "outputs": [
        {
          "output_type": "execute_result",
          "data": {
            "text/plain": [
              "272"
            ]
          },
          "metadata": {},
          "execution_count": 14
        }
      ]
    },
    {
      "cell_type": "markdown",
      "metadata": {
        "id": "6abb4dff"
      },
      "source": [
        "Check the bigger datatype array."
      ],
      "id": "6abb4dff"
    },
    {
      "cell_type": "code",
      "metadata": {
        "id": "bf967c2e",
        "colab": {
          "base_uri": "https://localhost:8080/"
        },
        "outputId": "c6b656aa-9d01-4e17-ab90-4e75dce69f8c"
      },
      "source": [
        "arr_int64.nbytes"
      ],
      "id": "bf967c2e",
      "execution_count": 15,
      "outputs": [
        {
          "output_type": "execute_result",
          "data": {
            "text/plain": [
              "160"
            ]
          },
          "metadata": {},
          "execution_count": 15
        }
      ]
    },
    {
      "cell_type": "code",
      "metadata": {
        "id": "1c1b51f0",
        "colab": {
          "base_uri": "https://localhost:8080/"
        },
        "outputId": "0283f3eb-acee-4b9b-f353-ebe9f93c9fbe"
      },
      "source": [
        "getsizeof(arr_int64)"
      ],
      "id": "1c1b51f0",
      "execution_count": 16,
      "outputs": [
        {
          "output_type": "execute_result",
          "data": {
            "text/plain": [
              "272"
            ]
          },
          "metadata": {},
          "execution_count": 16
        }
      ]
    },
    {
      "cell_type": "markdown",
      "metadata": {
        "id": "26f75695"
      },
      "source": [
        "<div class=\"alert alert-info\" style=\"background-color:#006666; color:white; padding:0px 10px; border-radius:5px;\"><h2 style='margin:7px 5px; font-size:16px'>Copy vs Reference</h2>\n",
        "</div>"
      ],
      "id": "26f75695"
    },
    {
      "cell_type": "markdown",
      "metadata": {
        "id": "92219506"
      },
      "source": [
        "If you change the value of the reference array, the original also changes. Whereas, when changing the copy, the original remains unaffected."
      ],
      "id": "92219506"
    },
    {
      "cell_type": "code",
      "metadata": {
        "id": "cb597fb9"
      },
      "source": [
        "arr_r = arr   # reference\n",
        "arr_c = arr.copy()  # copy"
      ],
      "id": "cb597fb9",
      "execution_count": 17,
      "outputs": []
    },
    {
      "cell_type": "code",
      "metadata": {
        "id": "107ac0f3",
        "colab": {
          "base_uri": "https://localhost:8080/"
        },
        "outputId": "4972ca57-c616-4fa7-f6eb-5e40999fb456"
      },
      "source": [
        "arr_c"
      ],
      "id": "107ac0f3",
      "execution_count": 18,
      "outputs": [
        {
          "output_type": "execute_result",
          "data": {
            "text/plain": [
              "array([[ 1,  2,  3,  4],\n",
              "       [ 5,  6,  7,  8],\n",
              "       [ 9, 10, 11, 12],\n",
              "       [13, 14, 15, 16],\n",
              "       [17, 18, 19, 20]])"
            ]
          },
          "metadata": {},
          "execution_count": 18
        }
      ]
    },
    {
      "cell_type": "code",
      "metadata": {
        "id": "f8d2e7f2",
        "colab": {
          "base_uri": "https://localhost:8080/"
        },
        "outputId": "6c535872-f360-4b74-bca8-fe2d9aa43fd6"
      },
      "source": [
        "arr_r"
      ],
      "id": "f8d2e7f2",
      "execution_count": 19,
      "outputs": [
        {
          "output_type": "execute_result",
          "data": {
            "text/plain": [
              "array([[ 1,  2,  3,  4],\n",
              "       [ 5,  6,  7,  8],\n",
              "       [ 9, 10, 11, 12],\n",
              "       [13, 14, 15, 16],\n",
              "       [17, 18, 19, 20]])"
            ]
          },
          "metadata": {},
          "execution_count": 19
        }
      ]
    },
    {
      "cell_type": "code",
      "metadata": {
        "id": "6961d591",
        "colab": {
          "base_uri": "https://localhost:8080/"
        },
        "outputId": "893aacf2-f0a9-4235-dbcf-f8c9d5deca81"
      },
      "source": [
        "arr"
      ],
      "id": "6961d591",
      "execution_count": 20,
      "outputs": [
        {
          "output_type": "execute_result",
          "data": {
            "text/plain": [
              "array([[ 1,  2,  3,  4],\n",
              "       [ 5,  6,  7,  8],\n",
              "       [ 9, 10, 11, 12],\n",
              "       [13, 14, 15, 16],\n",
              "       [17, 18, 19, 20]])"
            ]
          },
          "metadata": {},
          "execution_count": 20
        }
      ]
    },
    {
      "cell_type": "markdown",
      "metadata": {
        "id": "33413cb9"
      },
      "source": [
        "Change value in `arr_c`"
      ],
      "id": "33413cb9"
    },
    {
      "cell_type": "code",
      "metadata": {
        "id": "8a2bb428",
        "colab": {
          "base_uri": "https://localhost:8080/"
        },
        "outputId": "ada9da40-c3c3-4767-b83d-bc0415336bbb"
      },
      "source": [
        "arr_c[0, 0] = 100\n",
        "arr_c"
      ],
      "id": "8a2bb428",
      "execution_count": 21,
      "outputs": [
        {
          "output_type": "execute_result",
          "data": {
            "text/plain": [
              "array([[100,   2,   3,   4],\n",
              "       [  5,   6,   7,   8],\n",
              "       [  9,  10,  11,  12],\n",
              "       [ 13,  14,  15,  16],\n",
              "       [ 17,  18,  19,  20]])"
            ]
          },
          "metadata": {},
          "execution_count": 21
        }
      ]
    },
    {
      "cell_type": "markdown",
      "metadata": {
        "id": "676f2ed9"
      },
      "source": [
        "`arr` remains unaffected."
      ],
      "id": "676f2ed9"
    },
    {
      "cell_type": "code",
      "metadata": {
        "id": "19a16ccf",
        "colab": {
          "base_uri": "https://localhost:8080/"
        },
        "outputId": "774d945c-ad68-4534-c606-156e4ab6b9b8"
      },
      "source": [
        "arr"
      ],
      "id": "19a16ccf",
      "execution_count": 22,
      "outputs": [
        {
          "output_type": "execute_result",
          "data": {
            "text/plain": [
              "array([[ 1,  2,  3,  4],\n",
              "       [ 5,  6,  7,  8],\n",
              "       [ 9, 10, 11, 12],\n",
              "       [13, 14, 15, 16],\n",
              "       [17, 18, 19, 20]])"
            ]
          },
          "metadata": {},
          "execution_count": 22
        }
      ]
    },
    {
      "cell_type": "markdown",
      "metadata": {
        "id": "d2916b1c"
      },
      "source": [
        "Let's try the same on `arr_r`. Changes to `arr_r` will affect `arr`."
      ],
      "id": "d2916b1c"
    },
    {
      "cell_type": "code",
      "metadata": {
        "id": "d587f9e9"
      },
      "source": [
        "arr_r[0, 0] = 100\n",
        "arr_r"
      ],
      "id": "d587f9e9",
      "execution_count": null,
      "outputs": []
    },
    {
      "cell_type": "code",
      "metadata": {
        "id": "18bf6f81",
        "outputId": "204de13b-f5a8-4b37-c83d-696547c10915"
      },
      "source": [
        "arr"
      ],
      "id": "18bf6f81",
      "execution_count": null,
      "outputs": [
        {
          "data": {
            "text/plain": [
              "array([[100,   2,   3,   4],\n",
              "       [  5,   6,   7,   8],\n",
              "       [  9,  10,  11,  12],\n",
              "       [ 13,  14,  15,  16],\n",
              "       [ 17,  18,  19,  20]])"
            ]
          },
          "execution_count": 19,
          "metadata": {},
          "output_type": "execute_result"
        }
      ]
    },
    {
      "cell_type": "markdown",
      "metadata": {
        "id": "626a0ab7"
      },
      "source": [
        "__Check the id of objects__\n",
        "\n",
        "`arr_r` is actually `arr`."
      ],
      "id": "626a0ab7"
    },
    {
      "cell_type": "code",
      "metadata": {
        "id": "48830949",
        "colab": {
          "base_uri": "https://localhost:8080/"
        },
        "outputId": "b0cfb130-d108-4f74-e1dd-133d432eaabe"
      },
      "source": [
        "print(id(arr))\n",
        "print(id(arr_c))\n",
        "print(id(arr_r))"
      ],
      "id": "48830949",
      "execution_count": 24,
      "outputs": [
        {
          "output_type": "stream",
          "name": "stdout",
          "text": [
            "140306875392288\n",
            "140306875163952\n",
            "140306875392288\n"
          ]
        }
      ]
    },
    {
      "cell_type": "code",
      "metadata": {
        "id": "a8a4535e",
        "colab": {
          "base_uri": "https://localhost:8080/"
        },
        "outputId": "3d489ff0-e9a1-4957-a0eb-38cb44105da8"
      },
      "source": [
        "arr_r is arr"
      ],
      "id": "a8a4535e",
      "execution_count": 25,
      "outputs": [
        {
          "output_type": "execute_result",
          "data": {
            "text/plain": [
              "True"
            ]
          },
          "metadata": {},
          "execution_count": 25
        }
      ]
    },
    {
      "cell_type": "code",
      "metadata": {
        "id": "baf7e22a",
        "outputId": "f1b24fd0-bd32-4258-fc67-8c6d93356447"
      },
      "source": [
        "arr_c is arr"
      ],
      "id": "baf7e22a",
      "execution_count": null,
      "outputs": [
        {
          "data": {
            "text/plain": [
              "False"
            ]
          },
          "execution_count": 22,
          "metadata": {},
          "output_type": "execute_result"
        }
      ]
    },
    {
      "cell_type": "code",
      "metadata": {
        "id": "441a9417",
        "colab": {
          "base_uri": "https://localhost:8080/"
        },
        "outputId": "d9c1b327-35af-48a0-8255-8af210832737"
      },
      "source": [
        "arr_r == arr"
      ],
      "id": "441a9417",
      "execution_count": 26,
      "outputs": [
        {
          "output_type": "execute_result",
          "data": {
            "text/plain": [
              "array([[ True,  True,  True,  True],\n",
              "       [ True,  True,  True,  True],\n",
              "       [ True,  True,  True,  True],\n",
              "       [ True,  True,  True,  True],\n",
              "       [ True,  True,  True,  True]])"
            ]
          },
          "metadata": {},
          "execution_count": 26
        }
      ]
    },
    {
      "cell_type": "code",
      "metadata": {
        "id": "MfZRZbfiohxI"
      },
      "source": [
        "l1 = [{'a':1, 'b':2, 'c':3}]\n",
        "a1 = np.array(l1)\n",
        "a2 = a1.copy()"
      ],
      "id": "MfZRZbfiohxI",
      "execution_count": 29,
      "outputs": []
    },
    {
      "cell_type": "code",
      "metadata": {
        "colab": {
          "base_uri": "https://localhost:8080/"
        },
        "id": "GH_9G4B4o2HO",
        "outputId": "06d8180f-341c-4538-9ad7-22a2436a6b43"
      },
      "source": [
        "a2[0]['a'] = 7\n",
        "a1, a2"
      ],
      "id": "GH_9G4B4o2HO",
      "execution_count": 31,
      "outputs": [
        {
          "output_type": "execute_result",
          "data": {
            "text/plain": [
              "(array([{'a': 7, 'b': 2, 'c': 3}], dtype=object),\n",
              " array([{'a': 7, 'b': 2, 'c': 3}], dtype=object))"
            ]
          },
          "metadata": {},
          "execution_count": 31
        }
      ]
    },
    {
      "cell_type": "code",
      "metadata": {
        "id": "lhiPPcujo-9a"
      },
      "source": [
        "import copy"
      ],
      "id": "lhiPPcujo-9a",
      "execution_count": 32,
      "outputs": []
    },
    {
      "cell_type": "code",
      "metadata": {
        "id": "Z-D169xZpOgz"
      },
      "source": [
        "a2 = copy.deepcopy(a1)\n",
        "a2[0]['a'] = 17"
      ],
      "id": "Z-D169xZpOgz",
      "execution_count": 34,
      "outputs": []
    },
    {
      "cell_type": "code",
      "metadata": {
        "colab": {
          "base_uri": "https://localhost:8080/"
        },
        "id": "8n9Mk8__pVWF",
        "outputId": "88c96889-5efe-402a-9ed7-9258ff83556e"
      },
      "source": [
        "a1, a2"
      ],
      "id": "8n9Mk8__pVWF",
      "execution_count": 35,
      "outputs": [
        {
          "output_type": "execute_result",
          "data": {
            "text/plain": [
              "(array([{'a': 7, 'b': 2, 'c': 3}], dtype=object),\n",
              " array([{'a': 17, 'b': 2, 'c': 3}], dtype=object))"
            ]
          },
          "metadata": {},
          "execution_count": 35
        }
      ]
    },
    {
      "cell_type": "code",
      "metadata": {
        "colab": {
          "base_uri": "https://localhost:8080/"
        },
        "id": "HrvkG1sapkjn",
        "outputId": "3989a5be-dbc4-416b-aec9-3f5234dd8169"
      },
      "source": [
        "type(a1)"
      ],
      "id": "HrvkG1sapkjn",
      "execution_count": 36,
      "outputs": [
        {
          "output_type": "execute_result",
          "data": {
            "text/plain": [
              "numpy.ndarray"
            ]
          },
          "metadata": {},
          "execution_count": 36
        }
      ]
    },
    {
      "cell_type": "code",
      "metadata": {
        "id": "jxwa0liFsY4R"
      },
      "source": [
        ""
      ],
      "id": "jxwa0liFsY4R",
      "execution_count": null,
      "outputs": []
    }
  ]
}