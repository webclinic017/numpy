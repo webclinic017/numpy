{
  "nbformat": 4,
  "nbformat_minor": 5,
  "metadata": {
    "hide_input": false,
    "kernelspec": {
      "display_name": "Python 3",
      "language": "python",
      "name": "python3"
    },
    "language_info": {
      "codemirror_mode": {
        "name": "ipython",
        "version": 3
      },
      "file_extension": ".py",
      "mimetype": "text/x-python",
      "name": "python",
      "nbconvert_exporter": "python",
      "pygments_lexer": "ipython3",
      "version": "3.7.10"
    },
    "toc": {
      "base_numbering": 1,
      "nav_menu": {},
      "number_sections": false,
      "sideBar": true,
      "skip_h1_title": true,
      "title_cell": "Table of Contents",
      "title_sidebar": "Contents",
      "toc_cell": false,
      "toc_position": {},
      "toc_section_display": true,
      "toc_window_display": false
    },
    "colab": {
      "name": "03_Inspect Arrays.ipynb",
      "provenance": [],
      "include_colab_link": true
    }
  },
  "cells": [
    {
      "cell_type": "markdown",
      "metadata": {
        "id": "view-in-github",
        "colab_type": "text"
      },
      "source": [
        "<a href=\"https://colab.research.google.com/github/patelsaumya/numpy/blob/master/03_Inspect%20Arrays.ipynb\" target=\"_parent\"><img src=\"https://colab.research.google.com/assets/colab-badge.svg\" alt=\"Open In Colab\"/></a>"
      ]
    },
    {
      "cell_type": "markdown",
      "metadata": {
        "id": "c0773767"
      },
      "source": [
        "<div style=\"color:#006666; padding:0px 10px; border-radius:5px; font-size:18px; text-align:center\"><h1 style='margin:10px 5px'>Inspecting Arrays</h1>\n",
        "<hr>\n",
        "<p style=\"color:#006666; text-align:right;font-size:10px\">\n",
        "Copyright by MachineLearningPlus. All Rights Reserved.\n",
        "</p>\n",
        "\n",
        "</div>"
      ],
      "id": "c0773767"
    },
    {
      "cell_type": "markdown",
      "metadata": {
        "id": "7b3e5387"
      },
      "source": [
        "__Let's first create one__"
      ],
      "id": "7b3e5387"
    },
    {
      "cell_type": "code",
      "metadata": {
        "id": "b09b0feb"
      },
      "source": [
        "import numpy as np"
      ],
      "id": "b09b0feb",
      "execution_count": null,
      "outputs": []
    },
    {
      "cell_type": "code",
      "metadata": {
        "id": "8c49e851",
        "outputId": "c1c07acf-3c25-4786-8b52-8fdc3754b69f"
      },
      "source": [
        "L = [[1,2,3,4], \n",
        "     [5,6,7,8],\n",
        "     [9,10,11,12],\n",
        "     [13,14,15,16],\n",
        "     [17,18,19,20]]\n",
        "\n",
        "arr = np.array(L)\n",
        "arr"
      ],
      "id": "8c49e851",
      "execution_count": null,
      "outputs": [
        {
          "data": {
            "text/plain": [
              "array([[ 1,  2,  3,  4],\n",
              "       [ 5,  6,  7,  8],\n",
              "       [ 9, 10, 11, 12],\n",
              "       [13, 14, 15, 16],\n",
              "       [17, 18, 19, 20]])"
            ]
          },
          "execution_count": 2,
          "metadata": {},
          "output_type": "execute_result"
        }
      ]
    },
    {
      "cell_type": "markdown",
      "metadata": {
        "id": "88de7d42"
      },
      "source": [
        "__Shape of the array__ - Number of items in each dimension (rows, columns)"
      ],
      "id": "88de7d42"
    },
    {
      "cell_type": "code",
      "metadata": {
        "id": "823d4d6c",
        "outputId": "7ea1d0dc-37e3-4353-96f1-ea89f9903df6"
      },
      "source": [
        "arr.shape"
      ],
      "id": "823d4d6c",
      "execution_count": null,
      "outputs": [
        {
          "data": {
            "text/plain": [
              "(5, 4)"
            ]
          },
          "execution_count": 3,
          "metadata": {},
          "output_type": "execute_result"
        }
      ]
    },
    {
      "cell_type": "markdown",
      "metadata": {
        "id": "32b55d1d"
      },
      "source": [
        "__ndim__ - Number of dimensions"
      ],
      "id": "32b55d1d"
    },
    {
      "cell_type": "code",
      "metadata": {
        "id": "4a611045",
        "outputId": "e4c1c8bb-ce3b-4490-9b79-a7078ab1f762"
      },
      "source": [
        "arr.ndim"
      ],
      "id": "4a611045",
      "execution_count": null,
      "outputs": [
        {
          "data": {
            "text/plain": [
              "2"
            ]
          },
          "execution_count": 4,
          "metadata": {},
          "output_type": "execute_result"
        }
      ]
    },
    {
      "cell_type": "markdown",
      "metadata": {
        "id": "e96de8f7"
      },
      "source": [
        "__Size__ - Total number of items"
      ],
      "id": "e96de8f7"
    },
    {
      "cell_type": "code",
      "metadata": {
        "id": "5fdb4665",
        "outputId": "9b567689-3f07-47c8-827d-53c33d421cd1"
      },
      "source": [
        "arr.size"
      ],
      "id": "5fdb4665",
      "execution_count": null,
      "outputs": [
        {
          "data": {
            "text/plain": [
              "20"
            ]
          },
          "execution_count": 5,
          "metadata": {},
          "output_type": "execute_result"
        }
      ]
    },
    {
      "cell_type": "markdown",
      "metadata": {
        "id": "5a990367"
      },
      "source": [
        "__Datatype__"
      ],
      "id": "5a990367"
    },
    {
      "cell_type": "code",
      "metadata": {
        "id": "45e8a2bb",
        "outputId": "ba7fe232-adf6-44a9-dc1b-4e504a6d3ee8"
      },
      "source": [
        "arr.dtype"
      ],
      "id": "45e8a2bb",
      "execution_count": null,
      "outputs": [
        {
          "data": {
            "text/plain": [
              "dtype('int32')"
            ]
          },
          "execution_count": 6,
          "metadata": {},
          "output_type": "execute_result"
        }
      ]
    },
    {
      "cell_type": "markdown",
      "metadata": {
        "id": "3b4b06f9"
      },
      "source": [
        "Create in another dtype."
      ],
      "id": "3b4b06f9"
    },
    {
      "cell_type": "code",
      "metadata": {
        "id": "84a693a4",
        "outputId": "4cd59d00-3b2a-48d0-e730-a931f361cf76"
      },
      "source": [
        "arr_int64 = np.array(L, dtype='int64')\n",
        "arr_int64"
      ],
      "id": "84a693a4",
      "execution_count": null,
      "outputs": [
        {
          "data": {
            "text/plain": [
              "array([[ 1,  2,  3,  4],\n",
              "       [ 5,  6,  7,  8],\n",
              "       [ 9, 10, 11, 12],\n",
              "       [13, 14, 15, 16],\n",
              "       [17, 18, 19, 20]], dtype=int64)"
            ]
          },
          "execution_count": 9,
          "metadata": {},
          "output_type": "execute_result"
        }
      ]
    },
    {
      "cell_type": "markdown",
      "metadata": {
        "id": "7dd42263"
      },
      "source": [
        "__Memory Occupied__ in bytes. "
      ],
      "id": "7dd42263"
    },
    {
      "cell_type": "code",
      "metadata": {
        "id": "31340260",
        "outputId": "2e83ac13-c5e7-409c-e73b-ee0b31e06f73"
      },
      "source": [
        "# n_elements x bytes occupied by each\n",
        "arr_int64.nbytes"
      ],
      "id": "31340260",
      "execution_count": null,
      "outputs": [
        {
          "data": {
            "text/plain": [
              "160"
            ]
          },
          "execution_count": 10,
          "metadata": {},
          "output_type": "execute_result"
        }
      ]
    },
    {
      "cell_type": "markdown",
      "metadata": {
        "id": "d5ad6374"
      },
      "source": [
        "8 Bytes per element. 8x8=64bits per element."
      ],
      "id": "d5ad6374"
    },
    {
      "cell_type": "markdown",
      "metadata": {
        "id": "34f26fcf"
      },
      "source": [
        "Total size needed including non-element attributes of array."
      ],
      "id": "34f26fcf"
    },
    {
      "cell_type": "code",
      "metadata": {
        "id": "d6a9f20c",
        "outputId": "2367b19f-1adc-4419-aa71-8df9f0d7b7b1"
      },
      "source": [
        "# Include non element attributes of array\n",
        "from sys import getsizeof\n",
        "getsizeof(arr_int64)"
      ],
      "id": "d6a9f20c",
      "execution_count": null,
      "outputs": [
        {
          "data": {
            "text/plain": [
              "272"
            ]
          },
          "execution_count": 11,
          "metadata": {},
          "output_type": "execute_result"
        }
      ]
    },
    {
      "cell_type": "markdown",
      "metadata": {
        "id": "6abb4dff"
      },
      "source": [
        "Check the bigger datatype array."
      ],
      "id": "6abb4dff"
    },
    {
      "cell_type": "code",
      "metadata": {
        "id": "bf967c2e"
      },
      "source": [
        "arr_int64.nbytes"
      ],
      "id": "bf967c2e",
      "execution_count": null,
      "outputs": []
    },
    {
      "cell_type": "code",
      "metadata": {
        "id": "1c1b51f0"
      },
      "source": [
        "getsizeof(arr_int64)"
      ],
      "id": "1c1b51f0",
      "execution_count": null,
      "outputs": []
    },
    {
      "cell_type": "markdown",
      "metadata": {
        "id": "26f75695"
      },
      "source": [
        "<div class=\"alert alert-info\" style=\"background-color:#006666; color:white; padding:0px 10px; border-radius:5px;\"><h2 style='margin:7px 5px; font-size:16px'>Copy vs Reference</h2>\n",
        "</div>"
      ],
      "id": "26f75695"
    },
    {
      "cell_type": "markdown",
      "metadata": {
        "id": "92219506"
      },
      "source": [
        "If you change the value of the reference array, the original also changes. Whereas, when changing the copy, the original remains unaffected."
      ],
      "id": "92219506"
    },
    {
      "cell_type": "code",
      "metadata": {
        "id": "cb597fb9"
      },
      "source": [
        "arr_r = arr   # reference\n",
        "arr_c = arr.copy()  # copy"
      ],
      "id": "cb597fb9",
      "execution_count": null,
      "outputs": []
    },
    {
      "cell_type": "code",
      "metadata": {
        "id": "107ac0f3",
        "outputId": "53985884-b646-430b-8332-57ecf746f9e3"
      },
      "source": [
        "arr_c"
      ],
      "id": "107ac0f3",
      "execution_count": null,
      "outputs": [
        {
          "data": {
            "text/plain": [
              "array([[ 1,  2,  3,  4],\n",
              "       [ 5,  6,  7,  8],\n",
              "       [ 9, 10, 11, 12],\n",
              "       [13, 14, 15, 16],\n",
              "       [17, 18, 19, 20]])"
            ]
          },
          "execution_count": 13,
          "metadata": {},
          "output_type": "execute_result"
        }
      ]
    },
    {
      "cell_type": "code",
      "metadata": {
        "id": "f8d2e7f2",
        "outputId": "d8688c6e-17d4-4cae-fd4a-38e24d8c8a04"
      },
      "source": [
        "arr_r"
      ],
      "id": "f8d2e7f2",
      "execution_count": null,
      "outputs": [
        {
          "data": {
            "text/plain": [
              "array([[ 1,  2,  3,  4],\n",
              "       [ 5,  6,  7,  8],\n",
              "       [ 9, 10, 11, 12],\n",
              "       [13, 14, 15, 16],\n",
              "       [17, 18, 19, 20]])"
            ]
          },
          "execution_count": 14,
          "metadata": {},
          "output_type": "execute_result"
        }
      ]
    },
    {
      "cell_type": "code",
      "metadata": {
        "id": "6961d591",
        "outputId": "faecbb95-ea7d-493b-9bdc-0cb61adf426a"
      },
      "source": [
        "arr"
      ],
      "id": "6961d591",
      "execution_count": null,
      "outputs": [
        {
          "data": {
            "text/plain": [
              "array([[ 1,  2,  3,  4],\n",
              "       [ 5,  6,  7,  8],\n",
              "       [ 9, 10, 11, 12],\n",
              "       [13, 14, 15, 16],\n",
              "       [17, 18, 19, 20]])"
            ]
          },
          "execution_count": 15,
          "metadata": {},
          "output_type": "execute_result"
        }
      ]
    },
    {
      "cell_type": "markdown",
      "metadata": {
        "id": "33413cb9"
      },
      "source": [
        "Change value in `arr_c`"
      ],
      "id": "33413cb9"
    },
    {
      "cell_type": "code",
      "metadata": {
        "id": "8a2bb428",
        "outputId": "bdf8b1fe-5607-40b2-e3a9-a824b85ee25b"
      },
      "source": [
        "arr_c[0, 0] = 100\n",
        "arr_c"
      ],
      "id": "8a2bb428",
      "execution_count": null,
      "outputs": [
        {
          "data": {
            "text/plain": [
              "array([[100,   2,   3,   4],\n",
              "       [  5,   6,   7,   8],\n",
              "       [  9,  10,  11,  12],\n",
              "       [ 13,  14,  15,  16],\n",
              "       [ 17,  18,  19,  20]])"
            ]
          },
          "execution_count": 16,
          "metadata": {},
          "output_type": "execute_result"
        }
      ]
    },
    {
      "cell_type": "markdown",
      "metadata": {
        "id": "676f2ed9"
      },
      "source": [
        "`arr` remains unaffected."
      ],
      "id": "676f2ed9"
    },
    {
      "cell_type": "code",
      "metadata": {
        "id": "19a16ccf",
        "outputId": "950930ce-bc0c-4868-c7be-02ac7070e09b"
      },
      "source": [
        "arr"
      ],
      "id": "19a16ccf",
      "execution_count": null,
      "outputs": [
        {
          "data": {
            "text/plain": [
              "array([[ 1,  2,  3,  4],\n",
              "       [ 5,  6,  7,  8],\n",
              "       [ 9, 10, 11, 12],\n",
              "       [13, 14, 15, 16],\n",
              "       [17, 18, 19, 20]])"
            ]
          },
          "execution_count": 17,
          "metadata": {},
          "output_type": "execute_result"
        }
      ]
    },
    {
      "cell_type": "markdown",
      "metadata": {
        "id": "d2916b1c"
      },
      "source": [
        "Let's try the same on `arr_r`. Changes to `arr_r` will affect `arr`."
      ],
      "id": "d2916b1c"
    },
    {
      "cell_type": "code",
      "metadata": {
        "id": "d587f9e9",
        "outputId": "a934739d-eabb-4d8e-fd1c-388926ba6e74"
      },
      "source": [
        "arr_r[0, 0] = 100\n",
        "arr_r"
      ],
      "id": "d587f9e9",
      "execution_count": null,
      "outputs": [
        {
          "data": {
            "text/plain": [
              "array([[100,   2,   3,   4],\n",
              "       [  5,   6,   7,   8],\n",
              "       [  9,  10,  11,  12],\n",
              "       [ 13,  14,  15,  16],\n",
              "       [ 17,  18,  19,  20]])"
            ]
          },
          "execution_count": 18,
          "metadata": {},
          "output_type": "execute_result"
        }
      ]
    },
    {
      "cell_type": "code",
      "metadata": {
        "id": "18bf6f81",
        "outputId": "204de13b-f5a8-4b37-c83d-696547c10915"
      },
      "source": [
        "arr"
      ],
      "id": "18bf6f81",
      "execution_count": null,
      "outputs": [
        {
          "data": {
            "text/plain": [
              "array([[100,   2,   3,   4],\n",
              "       [  5,   6,   7,   8],\n",
              "       [  9,  10,  11,  12],\n",
              "       [ 13,  14,  15,  16],\n",
              "       [ 17,  18,  19,  20]])"
            ]
          },
          "execution_count": 19,
          "metadata": {},
          "output_type": "execute_result"
        }
      ]
    },
    {
      "cell_type": "markdown",
      "metadata": {
        "id": "626a0ab7"
      },
      "source": [
        "__Check the id of objects__\n",
        "\n",
        "`arr_r` is actually `arr`."
      ],
      "id": "626a0ab7"
    },
    {
      "cell_type": "code",
      "metadata": {
        "id": "48830949",
        "outputId": "42d20d16-e1b7-4a0f-a8fb-13dc6bbadda8"
      },
      "source": [
        "print(id(arr))\n",
        "print(id(arr_c))\n",
        "print(id(arr_r))"
      ],
      "id": "48830949",
      "execution_count": null,
      "outputs": [
        {
          "name": "stdout",
          "output_type": "stream",
          "text": [
            "1567326826048\n",
            "1567361179776\n",
            "1567326826048\n"
          ]
        }
      ]
    },
    {
      "cell_type": "code",
      "metadata": {
        "id": "a8a4535e",
        "outputId": "ccddb3d7-2a95-4b43-ad96-c479033c5a90"
      },
      "source": [
        "arr_r is arr"
      ],
      "id": "a8a4535e",
      "execution_count": null,
      "outputs": [
        {
          "data": {
            "text/plain": [
              "True"
            ]
          },
          "execution_count": 21,
          "metadata": {},
          "output_type": "execute_result"
        }
      ]
    },
    {
      "cell_type": "code",
      "metadata": {
        "id": "baf7e22a",
        "outputId": "f1b24fd0-bd32-4258-fc67-8c6d93356447"
      },
      "source": [
        "arr_c is arr"
      ],
      "id": "baf7e22a",
      "execution_count": null,
      "outputs": [
        {
          "data": {
            "text/plain": [
              "False"
            ]
          },
          "execution_count": 22,
          "metadata": {},
          "output_type": "execute_result"
        }
      ]
    },
    {
      "cell_type": "code",
      "metadata": {
        "id": "441a9417"
      },
      "source": [
        ""
      ],
      "id": "441a9417",
      "execution_count": null,
      "outputs": []
    }
  ]
}