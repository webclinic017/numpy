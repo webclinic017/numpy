{
  "nbformat": 4,
  "nbformat_minor": 5,
  "metadata": {
    "hide_input": false,
    "kernelspec": {
      "display_name": "Python 3",
      "language": "python",
      "name": "python3"
    },
    "language_info": {
      "codemirror_mode": {
        "name": "ipython",
        "version": 3
      },
      "file_extension": ".py",
      "mimetype": "text/x-python",
      "name": "python",
      "nbconvert_exporter": "python",
      "pygments_lexer": "ipython3",
      "version": "3.7.10"
    },
    "toc": {
      "base_numbering": 1,
      "nav_menu": {},
      "number_sections": false,
      "sideBar": true,
      "skip_h1_title": true,
      "title_cell": "Table of Contents",
      "title_sidebar": "Contents",
      "toc_cell": false,
      "toc_position": {},
      "toc_section_display": true,
      "toc_window_display": false
    },
    "colab": {
      "name": "06_Missing Data.ipynb",
      "provenance": [],
      "include_colab_link": true
    }
  },
  "cells": [
    {
      "cell_type": "markdown",
      "metadata": {
        "id": "view-in-github",
        "colab_type": "text"
      },
      "source": [
        "<a href=\"https://colab.research.google.com/github/patelsaumya/numpy/blob/master/06_Missing%20Data.ipynb\" target=\"_parent\"><img src=\"https://colab.research.google.com/assets/colab-badge.svg\" alt=\"Open In Colab\"/></a>"
      ]
    },
    {
      "cell_type": "markdown",
      "metadata": {
        "id": "fa103452"
      },
      "source": [
        "<div style=\"color:#006666; padding:0px 10px; border-radius:5px; font-size:18px; text-align:center\"><h1 style='margin:10px 5px'>Missing Data</h1>\n",
        "<hr>\n",
        "<p style=\"color:#006666; text-align:right;font-size:10px\">\n",
        "Copyright by MachineLearningPlus. All Rights Reserved.\n",
        "</p>\n",
        "\n",
        "</div>"
      ],
      "id": "fa103452"
    },
    {
      "cell_type": "markdown",
      "metadata": {
        "id": "8cf46230"
      },
      "source": [
        "In Python, anything that is missing is represented as `None`. \n",
        "\n",
        "In NumPy, since we are dealing specifically with data we use a more data specific notation for missing values: `np.nan`. Infinity is represented as `np.inf`"
      ],
      "id": "8cf46230"
    },
    {
      "cell_type": "code",
      "metadata": {
        "id": "b5be5e63"
      },
      "source": [
        "import numpy as np"
      ],
      "id": "b5be5e63",
      "execution_count": null,
      "outputs": []
    },
    {
      "cell_type": "code",
      "metadata": {
        "id": "31d9e2d0",
        "outputId": "cc10090a-15f3-4b1e-a9e8-ab17a1de45bc"
      },
      "source": [
        "np.nan"
      ],
      "id": "31d9e2d0",
      "execution_count": null,
      "outputs": [
        {
          "data": {
            "text/plain": [
              "nan"
            ]
          },
          "execution_count": 2,
          "metadata": {},
          "output_type": "execute_result"
        }
      ]
    },
    {
      "cell_type": "markdown",
      "metadata": {
        "id": "4f0fe45a"
      },
      "source": [
        "Care when doing comparison with missing values (`np.nan`)"
      ],
      "id": "4f0fe45a"
    },
    {
      "cell_type": "code",
      "metadata": {
        "id": "55de143e",
        "outputId": "986f71bb-7e70-4178-93c4-676b574abbb3"
      },
      "source": [
        "np.nan == np.nan"
      ],
      "id": "55de143e",
      "execution_count": null,
      "outputs": [
        {
          "data": {
            "text/plain": [
              "False"
            ]
          },
          "execution_count": 3,
          "metadata": {},
          "output_type": "execute_result"
        }
      ]
    },
    {
      "cell_type": "code",
      "metadata": {
        "id": "902f2057",
        "outputId": "2a002104-dd4d-4654-a660-4047f8669ab2"
      },
      "source": [
        "np.nan in [np.nan]"
      ],
      "id": "902f2057",
      "execution_count": null,
      "outputs": [
        {
          "data": {
            "text/plain": [
              "True"
            ]
          },
          "execution_count": 4,
          "metadata": {},
          "output_type": "execute_result"
        }
      ]
    },
    {
      "cell_type": "code",
      "metadata": {
        "id": "65a3085f",
        "outputId": "f6fdce44-c851-48ac-bbc1-db83356bf94e"
      },
      "source": [
        "np.nan is np.nan"
      ],
      "id": "65a3085f",
      "execution_count": null,
      "outputs": [
        {
          "data": {
            "text/plain": [
              "True"
            ]
          },
          "execution_count": 5,
          "metadata": {},
          "output_type": "execute_result"
        }
      ]
    },
    {
      "cell_type": "markdown",
      "metadata": {
        "id": "4114ccb6"
      },
      "source": [
        "<div class=\"alert alert-info\" style=\"background-color:#006666; color:white; padding:0px 10px; border-radius:5px;\"><h2 style='margin:7px 5px; font-size:16px'>Import Data with missing value</h2>\n",
        "</div>"
      ],
      "id": "4114ccb6"
    },
    {
      "cell_type": "code",
      "metadata": {
        "id": "b2d5fca7",
        "outputId": "ac530359-8c78-44e5-88f0-f12bd600e8ec"
      },
      "source": [
        "data = np.genfromtxt('Datasets/data_miss.txt', delimiter=\"\\t\")\n",
        "data"
      ],
      "id": "b2d5fca7",
      "execution_count": null,
      "outputs": [
        {
          "data": {
            "text/plain": [
              "array([[ 1.     , 87.     , 57.54435],\n",
              "       [ 2.     ,  8.     ,  7.31704],\n",
              "       [ 3.     , 56.     , 56.82095],\n",
              "       [ 4.     , 63.     , 64.15579],\n",
              "       [ 5.     ,  2.     ,  5.74522],\n",
              "       [ 6.     , 45.     , 19.56758],\n",
              "       [ 7.     , 43.     , 39.62271],\n",
              "       [ 8.     , 47.     , 34.95107],\n",
              "       [ 9.     ,  2.     ,      nan],\n",
              "       [10.     , 79.     , 36.41022],\n",
              "       [11.     , 67.     , 49.83894],\n",
              "       [12.     , 24.     ,      inf],\n",
              "       [13.     , 61.     , 72.55357],\n",
              "       [14.     , 85.     , 39.24693],\n",
              "       [15.     , 63.     , 53.6279 ],\n",
              "       [16.     ,  2.     , 16.72441],\n",
              "       [17.     , 29.     ,      nan],\n",
              "       [18.     , 45.     , 18.78498],\n",
              "       [19.     , 33.     , 19.8089 ],\n",
              "       [20.     , 28.     , 46.03384],\n",
              "       [21.     , 21.     , 23.7864 ],\n",
              "       [22.     , 27.     , 44.42627],\n",
              "       [23.     , 65.     , 34.94804],\n",
              "       [24.     , 61.     , 53.49576],\n",
              "       [25.     , 10.     , 25.98564]])"
            ]
          },
          "execution_count": 6,
          "metadata": {},
          "output_type": "execute_result"
        }
      ]
    },
    {
      "cell_type": "markdown",
      "metadata": {
        "id": "9d37f5b2"
      },
      "source": [
        "<div class=\"alert alert-info\" style=\"background-color:#006666; color:white; padding:0px 10px; border-radius:5px;\"><h2 style='margin:7px 5px; font-size:16px'>Check for missing data in array</h2>\n",
        "</div>"
      ],
      "id": "9d37f5b2"
    },
    {
      "cell_type": "code",
      "metadata": {
        "id": "6d3b49bf",
        "outputId": "5e673d59-582d-4747-cccd-91f2597ce1cf"
      },
      "source": [
        "np.isnan(data)"
      ],
      "id": "6d3b49bf",
      "execution_count": null,
      "outputs": [
        {
          "data": {
            "text/plain": [
              "array([[False, False, False],\n",
              "       [False, False, False],\n",
              "       [False, False, False],\n",
              "       [False, False, False],\n",
              "       [False, False, False],\n",
              "       [False, False, False],\n",
              "       [False, False, False],\n",
              "       [False, False, False],\n",
              "       [False, False,  True],\n",
              "       [False, False, False],\n",
              "       [False, False, False],\n",
              "       [False, False, False],\n",
              "       [False, False, False],\n",
              "       [False, False, False],\n",
              "       [False, False, False],\n",
              "       [False, False, False],\n",
              "       [False, False,  True],\n",
              "       [False, False, False],\n",
              "       [False, False, False],\n",
              "       [False, False, False],\n",
              "       [False, False, False],\n",
              "       [False, False, False],\n",
              "       [False, False, False],\n",
              "       [False, False, False],\n",
              "       [False, False, False]])"
            ]
          },
          "execution_count": 7,
          "metadata": {},
          "output_type": "execute_result"
        }
      ]
    },
    {
      "cell_type": "markdown",
      "metadata": {
        "id": "5ad8bbe0"
      },
      "source": [
        "__Check for infinity__"
      ],
      "id": "5ad8bbe0"
    },
    {
      "cell_type": "code",
      "metadata": {
        "scrolled": false,
        "id": "b02f798b",
        "outputId": "582b89c5-968d-4589-961c-61539586816a"
      },
      "source": [
        "np.isinf(data)"
      ],
      "id": "b02f798b",
      "execution_count": null,
      "outputs": [
        {
          "data": {
            "text/plain": [
              "array([[False, False, False],\n",
              "       [False, False, False],\n",
              "       [False, False, False],\n",
              "       [False, False, False],\n",
              "       [False, False, False],\n",
              "       [False, False, False],\n",
              "       [False, False, False],\n",
              "       [False, False, False],\n",
              "       [False, False, False],\n",
              "       [False, False, False],\n",
              "       [False, False, False],\n",
              "       [False, False,  True],\n",
              "       [False, False, False],\n",
              "       [False, False, False],\n",
              "       [False, False, False],\n",
              "       [False, False, False],\n",
              "       [False, False, False],\n",
              "       [False, False, False],\n",
              "       [False, False, False],\n",
              "       [False, False, False],\n",
              "       [False, False, False],\n",
              "       [False, False, False],\n",
              "       [False, False, False],\n",
              "       [False, False, False],\n",
              "       [False, False, False]])"
            ]
          },
          "execution_count": 8,
          "metadata": {},
          "output_type": "execute_result"
        }
      ]
    },
    {
      "cell_type": "markdown",
      "metadata": {
        "id": "f6b62f5b"
      },
      "source": [
        "__Missing or Infinity__"
      ],
      "id": "f6b62f5b"
    },
    {
      "cell_type": "code",
      "metadata": {
        "id": "c82c16a6",
        "outputId": "d67898f8-b01a-4702-8146-23eb9c0b2142"
      },
      "source": [
        "np.isnan(data) | np.isinf(data)"
      ],
      "id": "c82c16a6",
      "execution_count": null,
      "outputs": [
        {
          "data": {
            "text/plain": [
              "array([[False, False, False],\n",
              "       [False, False, False],\n",
              "       [False, False, False],\n",
              "       [False, False, False],\n",
              "       [False, False, False],\n",
              "       [False, False, False],\n",
              "       [False, False, False],\n",
              "       [False, False, False],\n",
              "       [False, False,  True],\n",
              "       [False, False, False],\n",
              "       [False, False, False],\n",
              "       [False, False,  True],\n",
              "       [False, False, False],\n",
              "       [False, False, False],\n",
              "       [False, False, False],\n",
              "       [False, False, False],\n",
              "       [False, False,  True],\n",
              "       [False, False, False],\n",
              "       [False, False, False],\n",
              "       [False, False, False],\n",
              "       [False, False, False],\n",
              "       [False, False, False],\n",
              "       [False, False, False],\n",
              "       [False, False, False],\n",
              "       [False, False, False]])"
            ]
          },
          "execution_count": 9,
          "metadata": {},
          "output_type": "execute_result"
        }
      ]
    },
    {
      "cell_type": "markdown",
      "metadata": {
        "id": "10353e6e"
      },
      "source": [
        "__Fill up missing or infinte with some value__"
      ],
      "id": "10353e6e"
    },
    {
      "cell_type": "code",
      "metadata": {
        "id": "555329fd"
      },
      "source": [
        "data[np.isnan(data) | np.isinf(data)] = 0"
      ],
      "id": "555329fd",
      "execution_count": null,
      "outputs": []
    },
    {
      "cell_type": "code",
      "metadata": {
        "id": "54aa2d32",
        "outputId": "84d66e47-2874-47ee-f444-d2aee127114a"
      },
      "source": [
        "data"
      ],
      "id": "54aa2d32",
      "execution_count": null,
      "outputs": [
        {
          "data": {
            "text/plain": [
              "array([[ 1.     , 87.     , 57.54435],\n",
              "       [ 2.     ,  8.     ,  7.31704],\n",
              "       [ 3.     , 56.     , 56.82095],\n",
              "       [ 4.     , 63.     , 64.15579],\n",
              "       [ 5.     ,  2.     ,  5.74522],\n",
              "       [ 6.     , 45.     , 19.56758],\n",
              "       [ 7.     , 43.     , 39.62271],\n",
              "       [ 8.     , 47.     , 34.95107],\n",
              "       [ 9.     ,  2.     ,  0.     ],\n",
              "       [10.     , 79.     , 36.41022],\n",
              "       [11.     , 67.     , 49.83894],\n",
              "       [12.     , 24.     ,  0.     ],\n",
              "       [13.     , 61.     , 72.55357],\n",
              "       [14.     , 85.     , 39.24693],\n",
              "       [15.     , 63.     , 53.6279 ],\n",
              "       [16.     ,  2.     , 16.72441],\n",
              "       [17.     , 29.     ,  0.     ],\n",
              "       [18.     , 45.     , 18.78498],\n",
              "       [19.     , 33.     , 19.8089 ],\n",
              "       [20.     , 28.     , 46.03384],\n",
              "       [21.     , 21.     , 23.7864 ],\n",
              "       [22.     , 27.     , 44.42627],\n",
              "       [23.     , 65.     , 34.94804],\n",
              "       [24.     , 61.     , 53.49576],\n",
              "       [25.     , 10.     , 25.98564]])"
            ]
          },
          "execution_count": 11,
          "metadata": {},
          "output_type": "execute_result"
        }
      ]
    },
    {
      "cell_type": "code",
      "metadata": {
        "id": "2c92e210"
      },
      "source": [
        ""
      ],
      "id": "2c92e210",
      "execution_count": null,
      "outputs": []
    }
  ]
}