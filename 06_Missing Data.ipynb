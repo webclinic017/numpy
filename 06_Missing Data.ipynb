{
 "cells": [
  {
   "cell_type": "markdown",
   "id": "fa103452",
   "metadata": {},
   "source": [
    "<div style=\"color:#006666; padding:0px 10px; border-radius:5px; font-size:18px; text-align:center\"><h1 style='margin:10px 5px'>Missing Data</h1>\n",
    "<hr>\n",
    "<p style=\"color:#006666; text-align:right;font-size:10px\">\n",
    "Copyright by MachineLearningPlus. All Rights Reserved.\n",
    "</p>\n",
    "\n",
    "</div>"
   ]
  },
  {
   "cell_type": "markdown",
   "id": "8cf46230",
   "metadata": {},
   "source": [
    "In Python, anything that is missing is represented as `None`. \n",
    "\n",
    "In NumPy, since we are dealing specifically with data we use a more data specific notation for missing values: `np.nan`. Infinity is represented as `np.inf`"
   ]
  },
  {
   "cell_type": "code",
   "execution_count": 1,
   "id": "b5be5e63",
   "metadata": {},
   "outputs": [],
   "source": [
    "import numpy as np"
   ]
  },
  {
   "cell_type": "code",
   "execution_count": 2,
   "id": "31d9e2d0",
   "metadata": {},
   "outputs": [
    {
     "data": {
      "text/plain": [
       "nan"
      ]
     },
     "execution_count": 2,
     "metadata": {},
     "output_type": "execute_result"
    }
   ],
   "source": [
    "np.nan"
   ]
  },
  {
   "cell_type": "markdown",
   "id": "4f0fe45a",
   "metadata": {},
   "source": [
    "Care when doing comparison with missing values (`np.nan`)"
   ]
  },
  {
   "cell_type": "code",
   "execution_count": 3,
   "id": "55de143e",
   "metadata": {},
   "outputs": [
    {
     "data": {
      "text/plain": [
       "False"
      ]
     },
     "execution_count": 3,
     "metadata": {},
     "output_type": "execute_result"
    }
   ],
   "source": [
    "np.nan == np.nan"
   ]
  },
  {
   "cell_type": "code",
   "execution_count": 4,
   "id": "902f2057",
   "metadata": {},
   "outputs": [
    {
     "data": {
      "text/plain": [
       "True"
      ]
     },
     "execution_count": 4,
     "metadata": {},
     "output_type": "execute_result"
    }
   ],
   "source": [
    "np.nan in [np.nan]"
   ]
  },
  {
   "cell_type": "code",
   "execution_count": 5,
   "id": "65a3085f",
   "metadata": {},
   "outputs": [
    {
     "data": {
      "text/plain": [
       "True"
      ]
     },
     "execution_count": 5,
     "metadata": {},
     "output_type": "execute_result"
    }
   ],
   "source": [
    "np.nan is np.nan"
   ]
  },
  {
   "cell_type": "markdown",
   "id": "4114ccb6",
   "metadata": {},
   "source": [
    "<div class=\"alert alert-info\" style=\"background-color:#006666; color:white; padding:0px 10px; border-radius:5px;\"><h2 style='margin:7px 5px; font-size:16px'>Import Data with missing value</h2>\n",
    "</div>"
   ]
  },
  {
   "cell_type": "code",
   "execution_count": 6,
   "id": "b2d5fca7",
   "metadata": {},
   "outputs": [
    {
     "data": {
      "text/plain": [
       "array([[ 1.     , 87.     , 57.54435],\n",
       "       [ 2.     ,  8.     ,  7.31704],\n",
       "       [ 3.     , 56.     , 56.82095],\n",
       "       [ 4.     , 63.     , 64.15579],\n",
       "       [ 5.     ,  2.     ,  5.74522],\n",
       "       [ 6.     , 45.     , 19.56758],\n",
       "       [ 7.     , 43.     , 39.62271],\n",
       "       [ 8.     , 47.     , 34.95107],\n",
       "       [ 9.     ,  2.     ,      nan],\n",
       "       [10.     , 79.     , 36.41022],\n",
       "       [11.     , 67.     , 49.83894],\n",
       "       [12.     , 24.     ,      inf],\n",
       "       [13.     , 61.     , 72.55357],\n",
       "       [14.     , 85.     , 39.24693],\n",
       "       [15.     , 63.     , 53.6279 ],\n",
       "       [16.     ,  2.     , 16.72441],\n",
       "       [17.     , 29.     ,      nan],\n",
       "       [18.     , 45.     , 18.78498],\n",
       "       [19.     , 33.     , 19.8089 ],\n",
       "       [20.     , 28.     , 46.03384],\n",
       "       [21.     , 21.     , 23.7864 ],\n",
       "       [22.     , 27.     , 44.42627],\n",
       "       [23.     , 65.     , 34.94804],\n",
       "       [24.     , 61.     , 53.49576],\n",
       "       [25.     , 10.     , 25.98564]])"
      ]
     },
     "execution_count": 6,
     "metadata": {},
     "output_type": "execute_result"
    }
   ],
   "source": [
    "data = np.genfromtxt('Datasets/data_miss.txt', delimiter=\"\\t\")\n",
    "data"
   ]
  },
  {
   "cell_type": "markdown",
   "id": "9d37f5b2",
   "metadata": {},
   "source": [
    "<div class=\"alert alert-info\" style=\"background-color:#006666; color:white; padding:0px 10px; border-radius:5px;\"><h2 style='margin:7px 5px; font-size:16px'>Check for missing data in array</h2>\n",
    "</div>"
   ]
  },
  {
   "cell_type": "code",
   "execution_count": 7,
   "id": "6d3b49bf",
   "metadata": {},
   "outputs": [
    {
     "data": {
      "text/plain": [
       "array([[False, False, False],\n",
       "       [False, False, False],\n",
       "       [False, False, False],\n",
       "       [False, False, False],\n",
       "       [False, False, False],\n",
       "       [False, False, False],\n",
       "       [False, False, False],\n",
       "       [False, False, False],\n",
       "       [False, False,  True],\n",
       "       [False, False, False],\n",
       "       [False, False, False],\n",
       "       [False, False, False],\n",
       "       [False, False, False],\n",
       "       [False, False, False],\n",
       "       [False, False, False],\n",
       "       [False, False, False],\n",
       "       [False, False,  True],\n",
       "       [False, False, False],\n",
       "       [False, False, False],\n",
       "       [False, False, False],\n",
       "       [False, False, False],\n",
       "       [False, False, False],\n",
       "       [False, False, False],\n",
       "       [False, False, False],\n",
       "       [False, False, False]])"
      ]
     },
     "execution_count": 7,
     "metadata": {},
     "output_type": "execute_result"
    }
   ],
   "source": [
    "np.isnan(data)"
   ]
  },
  {
   "cell_type": "markdown",
   "id": "5ad8bbe0",
   "metadata": {},
   "source": [
    "__Check for infinity__"
   ]
  },
  {
   "cell_type": "code",
   "execution_count": 8,
   "id": "b02f798b",
   "metadata": {
    "scrolled": false
   },
   "outputs": [
    {
     "data": {
      "text/plain": [
       "array([[False, False, False],\n",
       "       [False, False, False],\n",
       "       [False, False, False],\n",
       "       [False, False, False],\n",
       "       [False, False, False],\n",
       "       [False, False, False],\n",
       "       [False, False, False],\n",
       "       [False, False, False],\n",
       "       [False, False, False],\n",
       "       [False, False, False],\n",
       "       [False, False, False],\n",
       "       [False, False,  True],\n",
       "       [False, False, False],\n",
       "       [False, False, False],\n",
       "       [False, False, False],\n",
       "       [False, False, False],\n",
       "       [False, False, False],\n",
       "       [False, False, False],\n",
       "       [False, False, False],\n",
       "       [False, False, False],\n",
       "       [False, False, False],\n",
       "       [False, False, False],\n",
       "       [False, False, False],\n",
       "       [False, False, False],\n",
       "       [False, False, False]])"
      ]
     },
     "execution_count": 8,
     "metadata": {},
     "output_type": "execute_result"
    }
   ],
   "source": [
    "np.isinf(data)"
   ]
  },
  {
   "cell_type": "markdown",
   "id": "f6b62f5b",
   "metadata": {},
   "source": [
    "__Missing or Infinity__"
   ]
  },
  {
   "cell_type": "code",
   "execution_count": 9,
   "id": "c82c16a6",
   "metadata": {},
   "outputs": [
    {
     "data": {
      "text/plain": [
       "array([[False, False, False],\n",
       "       [False, False, False],\n",
       "       [False, False, False],\n",
       "       [False, False, False],\n",
       "       [False, False, False],\n",
       "       [False, False, False],\n",
       "       [False, False, False],\n",
       "       [False, False, False],\n",
       "       [False, False,  True],\n",
       "       [False, False, False],\n",
       "       [False, False, False],\n",
       "       [False, False,  True],\n",
       "       [False, False, False],\n",
       "       [False, False, False],\n",
       "       [False, False, False],\n",
       "       [False, False, False],\n",
       "       [False, False,  True],\n",
       "       [False, False, False],\n",
       "       [False, False, False],\n",
       "       [False, False, False],\n",
       "       [False, False, False],\n",
       "       [False, False, False],\n",
       "       [False, False, False],\n",
       "       [False, False, False],\n",
       "       [False, False, False]])"
      ]
     },
     "execution_count": 9,
     "metadata": {},
     "output_type": "execute_result"
    }
   ],
   "source": [
    "np.isnan(data) | np.isinf(data)"
   ]
  },
  {
   "cell_type": "markdown",
   "id": "10353e6e",
   "metadata": {},
   "source": [
    "__Fill up missing or infinte with some value__"
   ]
  },
  {
   "cell_type": "code",
   "execution_count": 10,
   "id": "555329fd",
   "metadata": {},
   "outputs": [],
   "source": [
    "data[np.isnan(data) | np.isinf(data)] = 0"
   ]
  },
  {
   "cell_type": "code",
   "execution_count": 11,
   "id": "54aa2d32",
   "metadata": {},
   "outputs": [
    {
     "data": {
      "text/plain": [
       "array([[ 1.     , 87.     , 57.54435],\n",
       "       [ 2.     ,  8.     ,  7.31704],\n",
       "       [ 3.     , 56.     , 56.82095],\n",
       "       [ 4.     , 63.     , 64.15579],\n",
       "       [ 5.     ,  2.     ,  5.74522],\n",
       "       [ 6.     , 45.     , 19.56758],\n",
       "       [ 7.     , 43.     , 39.62271],\n",
       "       [ 8.     , 47.     , 34.95107],\n",
       "       [ 9.     ,  2.     ,  0.     ],\n",
       "       [10.     , 79.     , 36.41022],\n",
       "       [11.     , 67.     , 49.83894],\n",
       "       [12.     , 24.     ,  0.     ],\n",
       "       [13.     , 61.     , 72.55357],\n",
       "       [14.     , 85.     , 39.24693],\n",
       "       [15.     , 63.     , 53.6279 ],\n",
       "       [16.     ,  2.     , 16.72441],\n",
       "       [17.     , 29.     ,  0.     ],\n",
       "       [18.     , 45.     , 18.78498],\n",
       "       [19.     , 33.     , 19.8089 ],\n",
       "       [20.     , 28.     , 46.03384],\n",
       "       [21.     , 21.     , 23.7864 ],\n",
       "       [22.     , 27.     , 44.42627],\n",
       "       [23.     , 65.     , 34.94804],\n",
       "       [24.     , 61.     , 53.49576],\n",
       "       [25.     , 10.     , 25.98564]])"
      ]
     },
     "execution_count": 11,
     "metadata": {},
     "output_type": "execute_result"
    }
   ],
   "source": [
    "data"
   ]
  },
  {
   "cell_type": "code",
   "execution_count": null,
   "id": "2c92e210",
   "metadata": {},
   "outputs": [],
   "source": []
  }
 ],
 "metadata": {
  "hide_input": false,
  "kernelspec": {
   "display_name": "Python 3",
   "language": "python",
   "name": "python3"
  },
  "language_info": {
   "codemirror_mode": {
    "name": "ipython",
    "version": 3
   },
   "file_extension": ".py",
   "mimetype": "text/x-python",
   "name": "python",
   "nbconvert_exporter": "python",
   "pygments_lexer": "ipython3",
   "version": "3.7.10"
  },
  "toc": {
   "base_numbering": 1,
   "nav_menu": {},
   "number_sections": false,
   "sideBar": true,
   "skip_h1_title": true,
   "title_cell": "Table of Contents",
   "title_sidebar": "Contents",
   "toc_cell": false,
   "toc_position": {},
   "toc_section_display": true,
   "toc_window_display": false
  }
 },
 "nbformat": 4,
 "nbformat_minor": 5
}
