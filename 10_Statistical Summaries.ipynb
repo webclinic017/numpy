{
  "nbformat": 4,
  "nbformat_minor": 5,
  "metadata": {
    "hide_input": false,
    "kernelspec": {
      "display_name": "Python 3",
      "language": "python",
      "name": "python3"
    },
    "language_info": {
      "codemirror_mode": {
        "name": "ipython",
        "version": 3
      },
      "file_extension": ".py",
      "mimetype": "text/x-python",
      "name": "python",
      "nbconvert_exporter": "python",
      "pygments_lexer": "ipython3",
      "version": "3.7.10"
    },
    "toc": {
      "base_numbering": 1,
      "nav_menu": {},
      "number_sections": false,
      "sideBar": true,
      "skip_h1_title": true,
      "title_cell": "Table of Contents",
      "title_sidebar": "Contents",
      "toc_cell": false,
      "toc_position": {},
      "toc_section_display": true,
      "toc_window_display": false
    },
    "colab": {
      "name": "10_Statistical Summaries.ipynb",
      "provenance": [],
      "include_colab_link": true
    }
  },
  "cells": [
    {
      "cell_type": "markdown",
      "metadata": {
        "id": "view-in-github",
        "colab_type": "text"
      },
      "source": [
        "<a href=\"https://colab.research.google.com/github/patelsaumya/numpy/blob/master/10_Statistical%20Summaries.ipynb\" target=\"_parent\"><img src=\"https://colab.research.google.com/assets/colab-badge.svg\" alt=\"Open In Colab\"/></a>"
      ]
    },
    {
      "cell_type": "markdown",
      "metadata": {
        "id": "e4537ee2"
      },
      "source": [
        "<div style=\"color:#006666; padding:0px 10px; border-radius:5px; font-size:18px; text-align:center\"><h1 style='margin:10px 5px'>Statistical Summaries</h1>\n",
        "<hr>\n",
        "<p style=\"color:#006666; text-align:right;font-size:10px\">\n",
        "Copyright by MachineLearningPlus. All Rights Reserved.\n",
        "</p>\n",
        "\n",
        "</div>"
      ],
      "id": "e4537ee2"
    },
    {
      "cell_type": "markdown",
      "metadata": {
        "id": "43894e76"
      },
      "source": [
        "<div class=\"alert alert-info\" style=\"background-color:#006666; color:white; padding:0px 10px; border-radius:5px;\"><h2 style='margin:7px 5px; font-size:16px'>Define the datatype and import data</h2>\n",
        "</div>"
      ],
      "id": "43894e76"
    },
    {
      "cell_type": "code",
      "metadata": {
        "id": "cf873e32",
        "outputId": "c9cc8350-7884-4659-ec53-9eb1ff7d7714"
      },
      "source": [
        "import numpy as np\n",
        "dt = np.dtype([(\"Manufacturer\", np.unicode_, 16),\n",
        "               (\"Model\", np.unicode_, 16),\n",
        "               (\"Type\", np.unicode_, 16),\n",
        "               (\"Min.Price\", np.float64),\n",
        "               (\"Price\", np.float64),\n",
        "               (\"Max.Price\", np.float64),\n",
        "               (\"MPG.city\", np.float64),\n",
        "               (\"MPG.highway\", np.float64),\n",
        "               (\"AirBags\", np.unicode_, 16),\n",
        "               (\"DriveTrain\", np.unicode_, 16),\n",
        "               (\"Cylinders\", np.unicode_, 16),\n",
        "               (\"EngineSize\", np.float64),\n",
        "               (\"Horsepower\", np.float64),\n",
        "               (\"RPM\", np.float64),\n",
        "               (\"Rev.per.mile\", np.float64),\n",
        "               (\"Man.trans.avail\", np.unicode_, 16),\n",
        "               (\"Fuel.tank.capacity\", np.float64),\n",
        "               (\"Passengers\", np.float64),\n",
        "               (\"Length\", np.float64),\n",
        "               (\"Wheelbase\", np.float64),\n",
        "               (\"Width\", np.float64),\n",
        "               (\"Turn.circle\", np.float64),\n",
        "               (\"Rear.seat.room\", np.float64),\n",
        "               (\"Luggage.room\", np.float64),\n",
        "               (\"Weight\", np.float64),\n",
        "               (\"Origin\", np.unicode_, 16),\n",
        "               (\"Make\", np.unicode_, 16)])\n",
        "\n",
        "dt"
      ],
      "id": "cf873e32",
      "execution_count": null,
      "outputs": [
        {
          "data": {
            "text/plain": [
              "dtype([('Manufacturer', '<U16'), ('Model', '<U16'), ('Type', '<U16'), ('Min.Price', '<f8'), ('Price', '<f8'), ('Max.Price', '<f8'), ('MPG.city', '<f8'), ('MPG.highway', '<f8'), ('AirBags', '<U16'), ('DriveTrain', '<U16'), ('Cylinders', '<U16'), ('EngineSize', '<f8'), ('Horsepower', '<f8'), ('RPM', '<f8'), ('Rev.per.mile', '<f8'), ('Man.trans.avail', '<U16'), ('Fuel.tank.capacity', '<f8'), ('Passengers', '<f8'), ('Length', '<f8'), ('Wheelbase', '<f8'), ('Width', '<f8'), ('Turn.circle', '<f8'), ('Rear.seat.room', '<f8'), ('Luggage.room', '<f8'), ('Weight', '<f8'), ('Origin', '<U16'), ('Make', '<U16')])"
            ]
          },
          "execution_count": 1,
          "metadata": {},
          "output_type": "execute_result"
        }
      ]
    },
    {
      "cell_type": "code",
      "metadata": {
        "id": "f756523c",
        "outputId": "1ea14f26-5354-4eff-8c17-ac1dfdacf2f1"
      },
      "source": [
        "import numpy as np\n",
        "data = np.genfromtxt('Datasets/cars93.csv', \n",
        "                     delimiter=\",\", \n",
        "                     dtype=dt,\n",
        "                     skip_header=1)\n",
        "\n",
        "data"
      ],
      "id": "f756523c",
      "execution_count": null,
      "outputs": [
        {
          "data": {
            "text/plain": [
              "array([('\"Acura\"', '\"Integra\"', '\"Small\"', 12.9, 15.9, 18.8, 25., 31., '\"None\"', '\"Front\"', '\"4\"', 1.8, 140., 6300., 2890., '\"Yes\"', 13.2, 5., 177., 102., 68., 37., 26.5, 11., 2705., '\"non-USA\"', '\"Acura Integra\"'),\n",
              "       ('\"Acura\"', '\"Legend\"', '\"Midsize\"', 29.2, 33.9, 38.7, 18., 25., '\"Driver & Passen', '\"Front\"', '\"6\"', 3.2, 200., 5500., 2335., '\"Yes\"', 18. , 5., 195., 115., 71., 38., 30. , 15., 3560., '\"non-USA\"', '\"Acura Legend\"'),\n",
              "       ('\"Audi\"', '\"90\"', '\"Compact\"', 25.9, 29.1, 32.3, 20., 26., '\"Driver only\"', '\"Front\"', '\"6\"', 2.8, 172., 5500., 2280., '\"Yes\"', 16.9, 5., 180., 102., 67., 37., 28. , 14., 3375., '\"non-USA\"', '\"Audi 90\"'),\n",
              "       ('\"Audi\"', '\"100\"', '\"Midsize\"', 30.8, 37.7, 44.6, 19., 26., '\"Driver & Passen', '\"Front\"', '\"6\"', 2.8, 172., 5500., 2535., '\"Yes\"', 21.1, 6., 193., 106., 70., 37., 31. , 17., 3405., '\"non-USA\"', '\"Audi 100\"'),\n",
              "       ('\"BMW\"', '\"535i\"', '\"Midsize\"', 23.7, 30. , 36.2, 22., 30., '\"Driver only\"', '\"Rear\"', '\"4\"', 3.5, 208., 5700., 2545., '\"Yes\"', 21.1, 4., 186., 109., 69., 39., 27. , 13., 3640., '\"non-USA\"', '\"BMW 535i\"'),\n",
              "       ('\"Buick\"', '\"Century\"', '\"Midsize\"', 14.2, 15.7, 17.3, 22., 31., '\"Driver only\"', '\"Front\"', '\"4\"', 2.2, 110., 5200., 2565., '\"No\"', 16.4, 6., 189., 105., 69., 41., 28. , 16., 2880., '\"USA\"', '\"Buick Century\"'),\n",
              "       ('\"Buick\"', '\"LeSabre\"', '\"Large\"', 19.9, 20.8, 21.7, 19., 28., '\"Driver only\"', '\"Front\"', '\"6\"', 3.8, 170., 4800., 1570., '\"No\"', 18. , 6., 200., 111., 74., 42., 30.5, 17., 3470., '\"USA\"', '\"Buick LeSabre\"'),\n",
              "       ('\"Buick\"', '\"Roadmaster\"', '\"Large\"', 22.6, 23.7, 24.9, 16., 25., '\"Driver only\"', '\"Rear\"', '\"6\"', 5.7, 180., 4000., 1320., '\"No\"', 23. , 6., 216., 116., 78., 45., 30.5, 21., 4105., '\"USA\"', '\"Buick Roadmaste'),\n",
              "       ('\"Buick\"', '\"Riviera\"', '\"Midsize\"', 26.3, 26.3, 26.3, 19., 27., '\"Driver only\"', '\"Front\"', '\"6\"', 3.8, 170., 4800., 1690., '\"No\"', 18.8, 5., 198., 108., 73., 41., 26.5, 14., 3495., '\"USA\"', '\"Buick Riviera\"'),\n",
              "       ('\"Cadillac\"', '\"DeVille\"', '\"Large\"', 33. , 34.7, 36.3, 16., 25., '\"Driver only\"', '\"Front\"', '\"8\"', 4.9, 200., 4100., 1510., '\"No\"', 18. , 6., 206., 114., 73., 43., 35. , 18., 3620., '\"USA\"', '\"Cadillac DeVill'),\n",
              "       ('\"Cadillac\"', '\"Seville\"', '\"Midsize\"', 37.5, 40.1, 42.7, 16., 25., '\"Driver & Passen', '\"Front\"', '\"8\"', 4.6, 295., 6000., 1985., '\"No\"', 20. , 5., 204., 111., 74., 44., 31. , 14., 3935., '\"USA\"', '\"Cadillac Sevill'),\n",
              "       ('\"Chevrolet\"', '\"Cavalier\"', '\"Compact\"',  8.5, 13.4, 18.3, 25., 36., '\"None\"', '\"Front\"', '\"4\"', 2.2, 110., 5200., 2380., '\"Yes\"', 15.2, 5., 182., 101., 66., 38., 25. , 13., 2490., '\"USA\"', '\"Chevrolet Caval'),\n",
              "       ('\"Chevrolet\"', '\"Corsica\"', '\"Compact\"', 11.4, 11.4, 11.4, 25., 34., '\"Driver only\"', '\"Front\"', '\"4\"', 2.2, 110., 5200., 2665., '\"Yes\"', 15.6, 5., 184., 103., 68., 39., 26. , 14., 2785., '\"USA\"', '\"Chevrolet Corsi'),\n",
              "       ('\"Chevrolet\"', '\"Camaro\"', '\"Sporty\"', 13.4, 15.1, 16.8, 19., 28., '\"Driver & Passen', '\"Rear\"', '\"6\"', 3.4, 160., 4600., 1805., '\"Yes\"', 15.5, 4., 193., 101., 74., 43., 25. , 13., 3240., '\"USA\"', '\"Chevrolet Camar'),\n",
              "       ('\"Chevrolet\"', '\"Lumina\"', '\"Midsize\"', 13.4, 15.9, 18.4, 21., 29., '\"None\"', '\"Front\"', '\"4\"', 2.2, 110., 5200., 2595., '\"No\"', 16.5, 6., 198., 108., 71., 40., 28.5, 16., 3195., '\"USA\"', '\"Chevrolet Lumin'),\n",
              "       ('\"Chevrolet\"', '\"Lumina_APV\"', '\"Van\"', 14.7, 16.3, 18. , 18., 23., '\"None\"', '\"Front\"', '\"6\"', 3.8, 170., 4800., 1690., '\"No\"', 20. , 7., 178., 110., 74., 44., 30.5, nan, 3715., '\"USA\"', '\"Chevrolet Lumin'),\n",
              "       ('\"Chevrolet\"', '\"Astro\"', '\"Van\"', 14.7, 16.6, 18.6, 15., 20., '\"None\"', '\"4WD\"', '\"6\"', 4.3, 165., 4000., 1790., '\"No\"', 27. , 8., 194., 111., 78., 42., 33.5, nan, 4025., '\"USA\"', '\"Chevrolet Astro'),\n",
              "       ('\"Chevrolet\"', '\"Caprice\"', '\"Large\"', 18. , 18.8, 19.6, 17., 26., '\"Driver only\"', '\"Rear\"', '\"8\"', 5. , 170., 4200., 1350., '\"No\"', 23. , 6., 214., 116., 77., 42., 29.5, 20., 3910., '\"USA\"', '\"Chevrolet Capri'),\n",
              "       ('\"Chevrolet\"', '\"Corvette\"', '\"Sporty\"', 34.6, 38. , 41.5, 17., 25., '\"Driver only\"', '\"Rear\"', '\"8\"', 5.7, 300., 5000., 1450., '\"Yes\"', 20. , 2., 179.,  96., 74., 43.,  nan, nan, 3380., '\"USA\"', '\"Chevrolet Corve'),\n",
              "       ('\"Chrylser\"', '\"Concorde\"', '\"Large\"', 18.4, 18.4, 18.4, 20., 28., '\"Driver & Passen', '\"Front\"', '\"6\"', 3.3, 153., 5300., 1990., '\"No\"', 18. , 6., 203., 113., 74., 40., 31. , 15., 3515., '\"USA\"', '\"Chrylser Concor'),\n",
              "       ('\"Chrysler\"', '\"LeBaron\"', '\"Compact\"', 14.5, 15.8, 17.1, 23., 28., '\"Driver & Passen', '\"Front\"', '\"4\"', 3. , 141., 5000., 2090., '\"No\"', 16. , 6., 183., 104., 68., 41., 30.5, 14., 3085., '\"USA\"', '\"Chrysler LeBaro'),\n",
              "       ('\"Chrysler\"', '\"Imperial\"', '\"Large\"', 29.5, 29.5, 29.5, 20., 26., '\"Driver only\"', '\"Front\"', '\"6\"', 3.3, 147., 4800., 1785., '\"No\"', 16. , 6., 203., 110., 69., 44., 36. , 17., 3570., '\"USA\"', '\"Chrysler Imperi'),\n",
              "       ('\"Dodge\"', '\"Colt\"', '\"Small\"',  7.9,  9.2, 10.6, 29., 33., '\"None\"', '\"Front\"', '\"4\"', 1.5,  92., 6000., 3285., '\"Yes\"', 13.2, 5., 174.,  98., 66., 32., 26.5, 11., 2270., '\"USA\"', '\"Dodge Colt\"'),\n",
              "       ('\"Dodge\"', '\"Shadow\"', '\"Small\"',  8.4, 11.3, 14.2, 23., 29., '\"Driver only\"', '\"Front\"', '\"4\"', 2.2,  93., 4800., 2595., '\"Yes\"', 14. , 5., 172.,  97., 67., 38., 26.5, 13., 2670., '\"USA\"', '\"Dodge Shadow\"'),\n",
              "       ('\"Dodge\"', '\"Spirit\"', '\"Compact\"', 11.9, 13.3, 14.7, 22., 27., '\"Driver only\"', '\"Front\"', '\"4\"', 2.5, 100., 4800., 2535., '\"Yes\"', 16. , 6., 181., 104., 68., 39., 30.5, 14., 2970., '\"USA\"', '\"Dodge Spirit\"'),\n",
              "       ('\"Dodge\"', '\"Caravan\"', '\"Van\"', 13.6, 19. , 24.4, 17., 21., '\"Driver only\"', '\"4WD\"', '\"6\"', 3. , 142., 5000., 1970., '\"No\"', 20. , 7., 175., 112., 72., 42., 26.5, nan, 3705., '\"USA\"', '\"Dodge Caravan\"'),\n",
              "       ('\"Dodge\"', '\"Dynasty\"', '\"Midsize\"', 14.8, 15.6, 16.4, 21., 27., '\"Driver only\"', '\"Front\"', '\"4\"', 2.5, 100., 4800., 2465., '\"No\"', 16. , 6., 192., 105., 69., 42., 30.5, 16., 3080., '\"USA\"', '\"Dodge Dynasty\"'),\n",
              "       ('\"Dodge\"', '\"Stealth\"', '\"Sporty\"', 18.5, 25.8, 33.1, 18., 24., '\"Driver only\"', '\"4WD\"', '\"6\"', 3. , 300., 6000., 2120., '\"Yes\"', 19.8, 4., 180.,  97., 72., 40., 20. , 11., 3805., '\"USA\"', '\"Dodge Stealth\"'),\n",
              "       ('\"Eagle\"', '\"Summit\"', '\"Small\"',  7.9, 12.2, 16.5, 29., 33., '\"None\"', '\"Front\"', '\"4\"', 1.5,  92., 6000., 2505., '\"Yes\"', 13.2, 5., 174.,  98., 66., 36., 26.5, 11., 2295., '\"USA\"', '\"Eagle Summit\"'),\n",
              "       ('\"Eagle\"', '\"Vision\"', '\"Large\"', 17.5, 19.3, 21.2, 20., 28., '\"Driver & Passen', '\"Front\"', '\"6\"', 3.5, 214., 5800., 1980., '\"No\"', 18. , 6., 202., 113., 74., 40., 30. , 15., 3490., '\"USA\"', '\"Eagle Vision\"'),\n",
              "       ('\"Ford\"', '\"Festiva\"', '\"Small\"',  6.9,  7.4,  7.9, 31., 33., '\"None\"', '\"Front\"', '\"4\"', 1.3,  63., 5000., 3150., '\"Yes\"', 10. , 4., 141.,  90., 63., 33., 26. , 12., 1845., '\"USA\"', '\"Ford Festiva\"'),\n",
              "       ('\"Ford\"', '\"Escort\"', '\"Small\"',  8.4, 10.1, 11.9, 23., 30., '\"None\"', '\"Front\"', '\"4\"', 1.8, 127., 6500., 2410., '\"Yes\"', 13.2, 5., 171.,  98., 67., 36., 28. , 12., 2530., '\"USA\"', '\"Ford Escort\"'),\n",
              "       ('\"Ford\"', '\"Tempo\"', '\"Compact\"', 10.4, 11.3, 12.2, 22., 27., '\"None\"', '\"Front\"', '\"4\"', 2.3,  96., 4200., 2805., '\"Yes\"', 15.9, 5., 177., 100., 68., 39., 27.5, 13., 2690., '\"USA\"', '\"Ford Tempo\"'),\n",
              "       ('\"Ford\"', '\"Mustang\"', '\"Sporty\"', 10.8, 15.9, 21. , 22., 29., '\"Driver only\"', '\"Rear\"', '\"4\"', 2.3, 105., 4600., 2285., '\"Yes\"', 15.4, 4., 180., 101., 68., 40., 24. , 12., 2850., '\"USA\"', '\"Ford Mustang\"'),\n",
              "       ('\"Ford\"', '\"Probe\"', '\"Sporty\"', 12.8, 14. , 15.2, 24., 30., '\"Driver only\"', '\"Front\"', '\"4\"', 2. , 115., 5500., 2340., '\"Yes\"', 15.5, 4., 179., 103., 70., 38., 23. , 18., 2710., '\"USA\"', '\"Ford Probe\"'),\n",
              "       ('\"Ford\"', '\"Aerostar\"', '\"Van\"', 14.5, 19.9, 25.3, 15., 20., '\"Driver only\"', '\"4WD\"', '\"6\"', 3. , 145., 4800., 2080., '\"Yes\"', 21. , 7., 176., 119., 72., 45., 30. , nan, 3735., '\"USA\"', '\"Ford Aerostar\"'),\n",
              "       ('\"Ford\"', '\"Taurus\"', '\"Midsize\"', 15.6, 20.2, 24.8, 21., 30., '\"Driver only\"', '\"Front\"', '\"6\"', 3. , 140., 4800., 1885., '\"No\"', 16. , 5., 192., 106., 71., 40., 27.5, 18., 3325., '\"USA\"', '\"Ford Taurus\"'),\n",
              "       ('\"Ford\"', '\"Crown_Victoria\"', '\"Large\"', 20.1, 20.9, 21.7, 18., 26., '\"Driver only\"', '\"Rear\"', '\"8\"', 4.6, 190., 4200., 1415., '\"No\"', 20. , 6., 212., 114., 78., 43., 30. , 21., 3950., '\"USA\"', '\"Ford Crown_Vict'),\n",
              "       ('\"Geo\"', '\"Metro\"', '\"Small\"',  6.7,  8.4, 10. , 46., 50., '\"None\"', '\"Front\"', '\"3\"', 1. ,  55., 5700., 3755., '\"Yes\"', 10.6, 4., 151.,  93., 63., 34., 27.5, 10., 1695., '\"non-USA\"', '\"Geo Metro\"'),\n",
              "       ('\"Geo\"', '\"Storm\"', '\"Sporty\"', 11.5, 12.5, 13.5, 30., 36., '\"Driver only\"', '\"Front\"', '\"4\"', 1.6,  90., 5400., 3250., '\"Yes\"', 12.4, 4., 164.,  97., 67., 37., 24.5, 11., 2475., '\"non-USA\"', '\"Geo Storm\"'),\n",
              "       ('\"Honda\"', '\"Prelude\"', '\"Sporty\"', 17. , 19.8, 22.7, 24., 31., '\"Driver & Passen', '\"Front\"', '\"4\"', 2.3, 160., 5800., 2855., '\"Yes\"', 15.9, 4., 175., 100., 70., 39., 23.5,  8., 2865., '\"non-USA\"', '\"Honda Prelude\"'),\n",
              "       ('\"Honda\"', '\"Civic\"', '\"Small\"',  8.4, 12.1, 15.8, 42., 46., '\"Driver only\"', '\"Front\"', '\"4\"', 1.5, 102., 5900., 2650., '\"Yes\"', 11.9, 4., 173., 103., 67., 36., 28. , 12., 2350., '\"non-USA\"', '\"Honda Civic\"'),\n",
              "       ('\"Honda\"', '\"Accord\"', '\"Compact\"', 13.8, 17.5, 21.2, 24., 31., '\"Driver & Passen', '\"Front\"', '\"4\"', 2.2, 140., 5600., 2610., '\"Yes\"', 17. , 4., 185., 107., 67., 41., 28. , 14., 3040., '\"non-USA\"', '\"Honda Accord\"'),\n",
              "       ('\"Hyundai\"', '\"Excel\"', '\"Small\"',  6.8,  8. ,  9.2, 29., 33., '\"None\"', '\"Front\"', '\"4\"', 1.5,  81., 5500., 2710., '\"Yes\"', 11.9, 5., 168.,  94., 63., 35., 26. , 11., 2345., '\"non-USA\"', '\"Hyundai Excel\"'),\n",
              "       ('\"Hyundai\"', '\"Elantra\"', '\"Small\"',  9. , 10. , 11. , 22., 29., '\"None\"', '\"Front\"', '\"4\"', 1.8, 124., 6000., 2745., '\"Yes\"', 13.7, 5., 172.,  98., 66., 36., 28. , 12., 2620., '\"non-USA\"', '\"Hyundai Elantra'),\n",
              "       ('\"Hyundai\"', '\"Scoupe\"', '\"Sporty\"',  9.1, 10. , 11. , 26., 34., '\"None\"', '\"Front\"', '\"4\"', 1.5,  92., 5550., 2540., '\"Yes\"', 11.9, 4., 166.,  94., 64., 34., 23.5,  9., 2285., '\"non-USA\"', '\"Hyundai Scoupe\"'),\n",
              "       ('\"Hyundai\"', '\"Sonata\"', '\"Midsize\"', 12.4, 13.9, 15.3, 20., 27., '\"None\"', '\"Front\"', '\"4\"', 2. , 128., 6000., 2335., '\"Yes\"', 17.2, 5., 184., 104., 69., 41., 31. , 14., 2885., '\"non-USA\"', '\"Hyundai Sonata\"'),\n",
              "       ('\"Infiniti\"', '\"Q45\"', '\"Midsize\"', 45.4, 47.9, 50.4, 17., 22., '\"Driver only\"', '\"Rear\"', '\"8\"', 4.5, 278., 6000., 1955., '\"No\"', 22.5, 5., 200., 113., 72., 42., 29. , 15., 4000., '\"non-USA\"', '\"Infiniti Q45\"'),\n",
              "       ('\"Lexus\"', '\"ES300\"', '\"Midsize\"', 27.5, 28. , 28.4, 18., 24., '\"Driver only\"', '\"Front\"', '\"6\"', 3. , 185., 5200., 2325., '\"Yes\"', 18.5, 5., 188., 103., 70., 40., 27.5, 14., 3510., '\"non-USA\"', '\"Lexus ES300\"'),\n",
              "       ('\"Lexus\"', '\"SC300\"', '\"Midsize\"', 34.7, 35.2, 35.6, 18., 23., '\"Driver & Passen', '\"Rear\"', '\"6\"', 3. , 225., 6000., 2510., '\"Yes\"', 20.6, 4., 191., 106., 71., 39., 25. ,  9., 3515., '\"non-USA\"', '\"Lexus SC300\"'),\n",
              "       ('\"Lincoln\"', '\"Continental\"', '\"Midsize\"', 33.3, 34.3, 35.3, 17., 26., '\"Driver & Passen', '\"Front\"', '\"6\"', 3.8, 160., 4400., 1835., '\"No\"', 18.4, 6., 205., 109., 73., 42., 30. , 19., 3695., '\"USA\"', '\"Lincoln Contine'),\n",
              "       ('\"Lincoln\"', '\"Town_Car\"', '\"Large\"', 34.4, 36.1, 37.8, 18., 26., '\"Driver & Passen', '\"Rear\"', '\"8\"', 4.6, 210., 4600., 1840., '\"No\"', 20. , 6., 219., 117., 77., 45., 31.5, 22., 4055., '\"USA\"', '\"Lincoln Town_Ca'),\n",
              "       ('\"Mazda\"', '\"323\"', '\"Small\"',  7.4,  8.3,  9.1, 29., 37., '\"None\"', '\"Front\"', '\"4\"', 1.6,  82., 5000., 2370., '\"Yes\"', 13.2, 4., 164.,  97., 66., 34., 27. , 16., 2325., '\"non-USA\"', '\"Mazda 323\"'),\n",
              "       ('\"Mazda\"', '\"Protege\"', '\"Small\"', 10.9, 11.6, 12.3, 28., 36., '\"None\"', '\"Front\"', '\"4\"', 1.8, 103., 5500., 2220., '\"Yes\"', 14.5, 5., 172.,  98., 66., 36., 26.5, 13., 2440., '\"non-USA\"', '\"Mazda Protege\"'),\n",
              "       ('\"Mazda\"', '\"626\"', '\"Compact\"', 14.3, 16.5, 18.7, 26., 34., '\"Driver only\"', '\"Front\"', '\"4\"', 2.5, 164., 5600., 2505., '\"Yes\"', 15.5, 5., 184., 103., 69., 40., 29.5, 14., 2970., '\"non-USA\"', '\"Mazda 626\"'),\n",
              "       ('\"Mazda\"', '\"MPV\"', '\"Van\"', 16.6, 19.1, 21.7, 18., 24., '\"None\"', '\"4WD\"', '\"6\"', 3. , 155., 5000., 2240., '\"No\"', 19.6, 7., 190., 110., 72., 39., 27.5, nan, 3735., '\"non-USA\"', '\"Mazda MPV\"'),\n",
              "       ('\"Mazda\"', '\"RX-7\"', '\"Sporty\"', 32.5, 32.5, 32.5, 17., 25., '\"Driver only\"', '\"Rear\"', '\"rotary\"', 1.3, 255., 6500., 2325., '\"Yes\"', 20. , 2., 169.,  96., 69., 37.,  nan, nan, 2895., '\"non-USA\"', '\"Mazda RX-7\"'),\n",
              "       ('\"Mercedes-Benz\"', '\"190E\"', '\"Compact\"', 29. , 31.9, 34.9, 20., 29., '\"Driver only\"', '\"Rear\"', '\"4\"', 2.3, 130., 5100., 2425., '\"Yes\"', 14.5, 5., 175., 105., 67., 34., 26. , 12., 2920., '\"non-USA\"', '\"Mercedes-Benz 1'),\n",
              "       ('\"Mercedes-Benz\"', '\"300E\"', '\"Midsize\"', 43.8, 61.9, 80. , 19., 25., '\"Driver & Passen', '\"Rear\"', '\"6\"', 3.2, 217., 5500., 2220., '\"No\"', 18.5, 5., 187., 110., 69., 37., 27. , 15., 3525., '\"non-USA\"', '\"Mercedes-Benz 3'),\n",
              "       ('\"Mercury\"', '\"Capri\"', '\"Sporty\"', 13.3, 14.1, 15. , 23., 26., '\"Driver only\"', '\"Front\"', '\"4\"', 1.6, 100., 5750., 2475., '\"Yes\"', 11.1, 4., 166.,  95., 65., 36., 19. ,  6., 2450., '\"USA\"', '\"Mercury Capri\"'),\n",
              "       ('\"Mercury\"', '\"Cougar\"', '\"Midsize\"', 14.9, 14.9, 14.9, 19., 26., '\"None\"', '\"Rear\"', '\"6\"', 3.8, 140., 3800., 1730., '\"No\"', 18. , 5., 199., 113., 73., 38., 28. , 15., 3610., '\"USA\"', '\"Mercury Cougar\"'),\n",
              "       ('\"Mitsubishi\"', '\"Mirage\"', '\"Small\"',  7.7, 10.3, 12.9, 29., 33., '\"None\"', '\"Front\"', '\"4\"', 1.5,  92., 6000., 2505., '\"Yes\"', 13.2, 5., 172.,  98., 67., 36., 26. , 11., 2295., '\"non-USA\"', '\"Mitsubishi Mira'),\n",
              "       ('\"Mitsubishi\"', '\"Diamante\"', '\"Midsize\"', 22.4, 26.1, 29.9, 18., 24., '\"Driver only\"', '\"Front\"', '\"6\"', 3. , 202., 6000., 2210., '\"No\"', 19. , 5., 190., 107., 70., 43., 27.5, 14., 3730., '\"non-USA\"', '\"Mitsubishi Diam'),\n",
              "       ('\"Nissan\"', '\"Sentra\"', '\"Small\"',  8.7, 11.8, 14.9, 29., 33., '\"Driver only\"', '\"Front\"', '\"4\"', 1.6, 110., 6000., 2435., '\"Yes\"', 13.2, 5., 170.,  96., 66., 33., 26. , 12., 2545., '\"non-USA\"', '\"Nissan Sentra\"'),\n",
              "       ('\"Nissan\"', '\"Altima\"', '\"Compact\"', 13. , 15.7, 18.3, 24., 30., '\"Driver only\"', '\"Front\"', '\"4\"', 2.4, 150., 5600., 2130., '\"Yes\"', 15.9, 5., 181., 103., 67., 40., 28.5, 14., 3050., '\"non-USA\"', '\"Nissan Altima\"'),\n",
              "       ('\"Nissan\"', '\"Quest\"', '\"Van\"', 16.7, 19.1, 21.5, 17., 23., '\"None\"', '\"Front\"', '\"6\"', 3. , 151., 4800., 2065., '\"No\"', 20. , 7., 190., 112., 74., 41., 27. , nan, 4100., '\"non-USA\"', '\"Nissan Quest\"'),\n",
              "       ('\"Nissan\"', '\"Maxima\"', '\"Midsize\"', 21. , 21.5, 22. , 21., 26., '\"Driver only\"', '\"Front\"', '\"6\"', 3. , 160., 5200., 2045., '\"No\"', 18.5, 5., 188., 104., 69., 41., 28.5, 14., 3200., '\"non-USA\"', '\"Nissan Maxima\"'),\n",
              "       ('\"Oldsmobile\"', '\"Achieva\"', '\"Compact\"', 13. , 13.5, 14. , 24., 31., '\"None\"', '\"Front\"', '\"4\"', 2.3, 155., 6000., 2380., '\"No\"', 15.2, 5., 188., 103., 67., 39., 28. , 14., 2910., '\"USA\"', '\"Oldsmobile Achi'),\n",
              "       ('\"Oldsmobile\"', '\"Cutlass_Ciera\"', '\"Midsize\"', 14.2, 16.3, 18.4, 23., 31., '\"Driver only\"', '\"Front\"', '\"4\"', 2.2, 110., 5200., 2565., '\"No\"', 16.5, 5., 190., 105., 70., 42., 28. , 16., 2890., '\"USA\"', '\"Oldsmobile Cutl'),\n",
              "       ('\"Oldsmobile\"', '\"Silhouette\"', '\"Van\"', 19.5, 19.5, 19.5, 18., 23., '\"None\"', '\"Front\"', '\"6\"', 3.8, 170., 4800., 1690., '\"No\"', 20. , 7., 194., 110., 74., 44., 30.5, nan, 3715., '\"USA\"', '\"Oldsmobile Silh'),\n",
              "       ('\"Oldsmobile\"', '\"Eighty-Eight\"', '\"Large\"', 19.5, 20.7, 21.9, 19., 28., '\"Driver only\"', '\"Front\"', '\"6\"', 3.8, 170., 4800., 1570., '\"No\"', 18. , 6., 201., 111., 74., 42., 31.5, 17., 3470., '\"USA\"', '\"Oldsmobile Eigh'),\n",
              "       ('\"Plymouth\"', '\"Laser\"', '\"Sporty\"', 11.4, 14.4, 17.4, 23., 30., '\"None\"', '\"4WD\"', '\"4\"', 1.8,  92., 5000., 2360., '\"Yes\"', 15.9, 4., 173.,  97., 67., 39., 24.5,  8., 2640., '\"USA\"', '\"Plymouth Laser\"'),\n",
              "       ('\"Pontiac\"', '\"LeMans\"', '\"Small\"',  8.2,  9. ,  9.9, 31., 41., '\"None\"', '\"Front\"', '\"4\"', 1.6,  74., 5600., 3130., '\"Yes\"', 13.2, 4., 177.,  99., 66., 35., 25.5, 17., 2350., '\"USA\"', '\"Pontiac LeMans\"'),\n",
              "       ('\"Pontiac\"', '\"Sunbird\"', '\"Compact\"',  9.4, 11.1, 12.8, 23., 31., '\"None\"', '\"Front\"', '\"4\"', 2. , 110., 5200., 2665., '\"Yes\"', 15.2, 5., 181., 101., 66., 39., 25. , 13., 2575., '\"USA\"', '\"Pontiac Sunbird'),\n",
              "       ('\"Pontiac\"', '\"Firebird\"', '\"Sporty\"', 14. , 17.7, 21.4, 19., 28., '\"Driver & Passen', '\"Rear\"', '\"6\"', 3.4, 160., 4600., 1805., '\"Yes\"', 15.5, 4., 196., 101., 75., 43., 25. , 13., 3240., '\"USA\"', '\"Pontiac Firebir'),\n",
              "       ('\"Pontiac\"', '\"Grand_Prix\"', '\"Midsize\"', 15.4, 18.5, 21.6, 19., 27., '\"None\"', '\"Front\"', '\"6\"', 3.4, 200., 5000., 1890., '\"Yes\"', 16.5, 5., 195., 108., 72., 41., 28.5, 16., 3450., '\"USA\"', '\"Pontiac Grand_P'),\n",
              "       ('\"Pontiac\"', '\"Bonneville\"', '\"Large\"', 19.4, 24.4, 29.4, 19., 28., '\"Driver & Passen', '\"Front\"', '\"6\"', 3.8, 170., 4800., 1565., '\"No\"', 18. , 6., 177., 111., 74., 43., 30.5, 18., 3495., '\"USA\"', '\"Pontiac Bonnevi'),\n",
              "       ('\"Saab\"', '\"900\"', '\"Compact\"', 20.3, 28.7, 37.1, 20., 26., '\"Driver only\"', '\"Front\"', '\"4\"', 2.1, 140., 6000., 2910., '\"Yes\"', 18. , 5., 184.,  99., 67., 37., 26.5, 14., 2775., '\"non-USA\"', '\"Saab 900\"'),\n",
              "       ('\"Saturn\"', '\"SL\"', '\"Small\"',  9.2, 11.1, 12.9, 28., 38., '\"Driver only\"', '\"Front\"', '\"4\"', 1.9,  85., 5000., 2145., '\"Yes\"', 12.8, 5., 176., 102., 68., 40., 26.5, 12., 2495., '\"USA\"', '\"Saturn SL\"'),\n",
              "       ('\"Subaru\"', '\"Justy\"', '\"Small\"',  7.3,  8.4,  9.5, 33., 37., '\"None\"', '\"4WD\"', '\"3\"', 1.2,  73., 5600., 2875., '\"Yes\"',  9.2, 4., 146.,  90., 60., 32., 23.5, 10., 2045., '\"non-USA\"', '\"Subaru Justy\"'),\n",
              "       ('\"Subaru\"', '\"Loyale\"', '\"Small\"', 10.5, 10.9, 11.3, 25., 30., '\"None\"', '\"4WD\"', '\"4\"', 1.8,  90., 5200., 3375., '\"Yes\"', 15.9, 5., 175.,  97., 65., 35., 27.5, 15., 2490., '\"non-USA\"', '\"Subaru Loyale\"'),\n",
              "       ('\"Subaru\"', '\"Legacy\"', '\"Compact\"', 16.3, 19.5, 22.7, 23., 30., '\"Driver only\"', '\"4WD\"', '\"4\"', 2.2, 130., 5600., 2330., '\"Yes\"', 15.9, 5., 179., 102., 67., 37., 27. , 14., 3085., '\"non-USA\"', '\"Subaru Legacy\"'),\n",
              "       ('\"Suzuki\"', '\"Swift\"', '\"Small\"',  7.3,  8.6, 10. , 39., 43., '\"None\"', '\"Front\"', '\"3\"', 1.3,  70., 6000., 3360., '\"Yes\"', 10.6, 4., 161.,  93., 63., 34., 27.5, 10., 1965., '\"non-USA\"', '\"Suzuki Swift\"'),\n",
              "       ('\"Toyota\"', '\"Tercel\"', '\"Small\"',  7.8,  9.8, 11.8, 32., 37., '\"Driver only\"', '\"Front\"', '\"4\"', 1.5,  82., 5200., 3505., '\"Yes\"', 11.9, 5., 162.,  94., 65., 36., 24. , 11., 2055., '\"non-USA\"', '\"Toyota Tercel\"'),\n",
              "       ('\"Toyota\"', '\"Celica\"', '\"Sporty\"', 14.2, 18.4, 22.6, 25., 32., '\"Driver only\"', '\"Front\"', '\"4\"', 2.2, 135., 5400., 2405., '\"Yes\"', 15.9, 4., 174.,  99., 69., 39., 23. , 13., 2950., '\"non-USA\"', '\"Toyota Celica\"'),\n",
              "       ('\"Toyota\"', '\"Camry\"', '\"Midsize\"', 15.2, 18.2, 21.2, 22., 29., '\"Driver only\"', '\"Front\"', '\"4\"', 2.2, 130., 5400., 2340., '\"Yes\"', 18.5, 5., 188., 103., 70., 38., 28.5, 15., 3030., '\"non-USA\"', '\"Toyota Camry\"'),\n",
              "       ('\"Toyota\"', '\"Previa\"', '\"Van\"', 18.9, 22.7, 26.6, 18., 22., '\"Driver only\"', '\"4WD\"', '\"4\"', 2.4, 138., 5000., 2515., '\"Yes\"', 19.8, 7., 187., 113., 71., 41., 35. , nan, 3785., '\"non-USA\"', '\"Toyota Previa\"'),\n",
              "       ('\"Volkswagen\"', '\"Fox\"', '\"Small\"',  8.7,  9.1,  9.5, 25., 33., '\"None\"', '\"Front\"', '\"4\"', 1.8,  81., 5500., 2550., '\"Yes\"', 12.4, 4., 163.,  93., 63., 34., 26. , 10., 2240., '\"non-USA\"', '\"Volkswagen Fox\"'),\n",
              "       ('\"Volkswagen\"', '\"Eurovan\"', '\"Van\"', 16.6, 19.7, 22.7, 17., 21., '\"None\"', '\"Front\"', '\"5\"', 2.5, 109., 4500., 2915., '\"Yes\"', 21.1, 7., 187., 115., 72., 38., 34. , nan, 3960., '\"non-USA\"', '\"Volkswagen Euro'),\n",
              "       ('\"Volkswagen\"', '\"Passat\"', '\"Compact\"', 17.6, 20. , 22.4, 21., 30., '\"None\"', '\"Front\"', '\"4\"', 2. , 134., 5800., 2685., '\"Yes\"', 18.5, 5., 180., 103., 67., 35., 31.5, 14., 2985., '\"non-USA\"', '\"Volkswagen Pass'),\n",
              "       ('\"Volkswagen\"', '\"Corrado\"', '\"Sporty\"', 22.9, 23.3, 23.7, 18., 25., '\"None\"', '\"Front\"', '\"6\"', 2.8, 178., 5800., 2385., '\"Yes\"', 18.5, 4., 159.,  97., 66., 36., 26. , 15., 2810., '\"non-USA\"', '\"Volkswagen Corr'),\n",
              "       ('\"Volvo\"', '\"240\"', '\"Compact\"', 21.8, 22.7, 23.5, 21., 28., '\"Driver only\"', '\"Rear\"', '\"4\"', 2.3, 114., 5400., 2215., '\"Yes\"', 15.8, 5., 190., 104., 67., 37., 29.5, 14., 2985., '\"non-USA\"', '\"Volvo 240\"'),\n",
              "       ('\"Volvo\"', '\"850\"', '\"Midsize\"', 24.8, 26.7, 28.5, 20., 28., '\"Driver & Passen', '\"Front\"', '\"5\"', 2.4, 168., 6200., 2310., '\"Yes\"', 19.3, 5., 184., 105., 69., 38., 30. , 15., 3245., '\"non-USA\"', '\"Volvo 850\"')],\n",
              "      dtype=[('Manufacturer', '<U16'), ('Model', '<U16'), ('Type', '<U16'), ('MinPrice', '<f8'), ('Price', '<f8'), ('MaxPrice', '<f8'), ('MPGcity', '<f8'), ('MPGhighway', '<f8'), ('AirBags', '<U16'), ('DriveTrain', '<U16'), ('Cylinders', '<U16'), ('EngineSize', '<f8'), ('Horsepower', '<f8'), ('RPM', '<f8'), ('Revpermile', '<f8'), ('Mantransavail', '<U16'), ('Fueltankcapacity', '<f8'), ('Passengers', '<f8'), ('Length', '<f8'), ('Wheelbase', '<f8'), ('Width', '<f8'), ('Turncircle', '<f8'), ('Rearseatroom', '<f8'), ('Luggageroom', '<f8'), ('Weight', '<f8'), ('Origin', '<U16'), ('Make', '<U16')])"
            ]
          },
          "execution_count": 2,
          "metadata": {},
          "output_type": "execute_result"
        }
      ]
    },
    {
      "cell_type": "markdown",
      "metadata": {
        "id": "1c5a3ab6"
      },
      "source": [
        "__Numeric Variable: MPG.highway__"
      ],
      "id": "1c5a3ab6"
    },
    {
      "cell_type": "code",
      "metadata": {
        "id": "31d092c0",
        "outputId": "0a539899-3e8c-43d6-a858-ee03e2abbed0"
      },
      "source": [
        "data.shape"
      ],
      "id": "31d092c0",
      "execution_count": null,
      "outputs": [
        {
          "data": {
            "text/plain": [
              "(93,)"
            ]
          },
          "execution_count": 3,
          "metadata": {},
          "output_type": "execute_result"
        }
      ]
    },
    {
      "cell_type": "code",
      "metadata": {
        "scrolled": true,
        "id": "49043bb1",
        "outputId": "e9a33264-244d-4465-f0b2-96e4b137d82c"
      },
      "source": [
        "data[\"Weight\"]"
      ],
      "id": "49043bb1",
      "execution_count": null,
      "outputs": [
        {
          "data": {
            "text/plain": [
              "array([2705., 3560., 3375., 3405., 3640., 2880., 3470., 4105., 3495.,\n",
              "       3620., 3935., 2490., 2785., 3240., 3195., 3715., 4025., 3910.,\n",
              "       3380., 3515., 3085., 3570., 2270., 2670., 2970., 3705., 3080.,\n",
              "       3805., 2295., 3490., 1845., 2530., 2690., 2850., 2710., 3735.,\n",
              "       3325., 3950., 1695., 2475., 2865., 2350., 3040., 2345., 2620.,\n",
              "       2285., 2885., 4000., 3510., 3515., 3695., 4055., 2325., 2440.,\n",
              "       2970., 3735., 2895., 2920., 3525., 2450., 3610., 2295., 3730.,\n",
              "       2545., 3050., 4100., 3200., 2910., 2890., 3715., 3470., 2640.,\n",
              "       2350., 2575., 3240., 3450., 3495., 2775., 2495., 2045., 2490.,\n",
              "       3085., 1965., 2055., 2950., 3030., 3785., 2240., 3960., 2985.,\n",
              "       2810., 2985., 3245.])"
            ]
          },
          "execution_count": 4,
          "metadata": {},
          "output_type": "execute_result"
        }
      ]
    },
    {
      "cell_type": "markdown",
      "metadata": {
        "id": "cb6f392f"
      },
      "source": [
        "__Min and Max__"
      ],
      "id": "cb6f392f"
    },
    {
      "cell_type": "code",
      "metadata": {
        "id": "61faeec3",
        "outputId": "15b9da77-28cf-4fea-b792-a020af2c1c04"
      },
      "source": [
        "# Max and min\n",
        "data[\"Weight\"].max(), data[\"Weight\"].min()"
      ],
      "id": "61faeec3",
      "execution_count": null,
      "outputs": [
        {
          "data": {
            "text/plain": [
              "(4105.0, 1695.0)"
            ]
          },
          "execution_count": 5,
          "metadata": {},
          "output_type": "execute_result"
        }
      ]
    },
    {
      "cell_type": "markdown",
      "metadata": {
        "id": "e620a4be"
      },
      "source": [
        "__Mean and Median__"
      ],
      "id": "e620a4be"
    },
    {
      "cell_type": "code",
      "metadata": {
        "id": "f4545333",
        "outputId": "db47db9f-4048-4da6-86ae-f4ded9d5d701"
      },
      "source": [
        "# Mean and Median\n",
        "np.mean(data[\"Weight\"]), np.median(data[\"Weight\"])"
      ],
      "id": "f4545333",
      "execution_count": null,
      "outputs": [
        {
          "data": {
            "text/plain": [
              "(3072.9032258064517, 3040.0)"
            ]
          },
          "execution_count": 6,
          "metadata": {},
          "output_type": "execute_result"
        }
      ]
    },
    {
      "cell_type": "markdown",
      "metadata": {
        "id": "8591feab"
      },
      "source": [
        "__Percentile__"
      ],
      "id": "8591feab"
    },
    {
      "cell_type": "code",
      "metadata": {
        "id": "8ffedbcb",
        "outputId": "6ec0d8b0-4bbe-4e6f-bb50-7ef8577aa5b6"
      },
      "source": [
        "# Percentile\n",
        "np.percentile(data[\"Weight\"], 50)"
      ],
      "id": "8ffedbcb",
      "execution_count": null,
      "outputs": [
        {
          "data": {
            "text/plain": [
              "3040.0"
            ]
          },
          "execution_count": 7,
          "metadata": {},
          "output_type": "execute_result"
        }
      ]
    },
    {
      "cell_type": "code",
      "metadata": {
        "id": "3c961efc",
        "outputId": "8dbe46dc-5045-4abf-ddf8-b0e3a8960d62"
      },
      "source": [
        "# Quantile\n",
        "np.quantile(data[\"Weight\"], q=.25)"
      ],
      "id": "3c961efc",
      "execution_count": null,
      "outputs": [
        {
          "data": {
            "text/plain": [
              "2620.0"
            ]
          },
          "execution_count": 8,
          "metadata": {},
          "output_type": "execute_result"
        }
      ]
    },
    {
      "cell_type": "markdown",
      "metadata": {
        "id": "b2543bbc"
      },
      "source": [
        "__Standard Deviation and Variance__"
      ],
      "id": "b2543bbc"
    },
    {
      "cell_type": "code",
      "metadata": {
        "id": "627098ad",
        "outputId": "8342a416-f559-4c0e-9bb3-433e1c1984d4"
      },
      "source": [
        "# Standard and #variance\n",
        "np.std(data['Weight']), np.var(data['Weight'])"
      ],
      "id": "627098ad",
      "execution_count": null,
      "outputs": [
        {
          "data": {
            "text/plain": [
              "(586.7164519048623, 344236.19493583066)"
            ]
          },
          "execution_count": 9,
          "metadata": {},
          "output_type": "execute_result"
        }
      ]
    },
    {
      "cell_type": "markdown",
      "metadata": {
        "id": "199eafd7"
      },
      "source": [
        "__Coefficient of Variation__\n",
        "\n",
        "Coefficient of variatio = Standard deviation / Mean. Used to understand the extend of deviation irrespective of scale of the variable."
      ],
      "id": "199eafd7"
    },
    {
      "cell_type": "code",
      "metadata": {
        "id": "354cc546",
        "outputId": "ffc02110-7f9d-478c-9b63-654278667423"
      },
      "source": [
        "# Standard and #variance\n",
        "np.std(data['Weight'])/np.mean(data['Weight'])"
      ],
      "id": "354cc546",
      "execution_count": null,
      "outputs": [
        {
          "data": {
            "text/plain": [
              "0.190932290668179"
            ]
          },
          "execution_count": 10,
          "metadata": {},
          "output_type": "execute_result"
        }
      ]
    },
    {
      "cell_type": "markdown",
      "metadata": {
        "id": "c3afc252"
      },
      "source": [
        "__Covariance and Correlation__"
      ],
      "id": "c3afc252"
    },
    {
      "cell_type": "code",
      "metadata": {
        "id": "2debf8d0"
      },
      "source": [
        "data[['MPGcity', 'Weight']]"
      ],
      "id": "2debf8d0",
      "execution_count": null,
      "outputs": []
    },
    {
      "cell_type": "code",
      "metadata": {
        "scrolled": true,
        "id": "69e4afae",
        "outputId": "b4d2e784-1d4d-47fa-a7e8-56b9f2d1627e"
      },
      "source": [
        "# Correlation\n",
        "np.corrcoef(data['Weight'], data[\"MPGcity\"])"
      ],
      "id": "69e4afae",
      "execution_count": null,
      "outputs": [
        {
          "data": {
            "text/plain": [
              "array([[ 1.        , -0.84313855],\n",
              "       [-0.84313855,  1.        ]])"
            ]
          },
          "execution_count": 11,
          "metadata": {},
          "output_type": "execute_result"
        }
      ]
    },
    {
      "cell_type": "code",
      "metadata": {
        "id": "0d7e2f22",
        "outputId": "ed9e7af2-7d22-433e-bbcc-25253c4b2f09"
      },
      "source": [
        "# Covariance matrix\n",
        "np.cov(data['Weight'], data[\"MPGcity\"])"
      ],
      "id": "0d7e2f22",
      "execution_count": null,
      "outputs": [
        {
          "data": {
            "text/plain": [
              "array([[ 3.47977893e+05, -2.79509467e+03],\n",
              "       [-2.79509467e+03,  3.15822814e+01]])"
            ]
          },
          "execution_count": 12,
          "metadata": {},
          "output_type": "execute_result"
        }
      ]
    },
    {
      "cell_type": "markdown",
      "metadata": {
        "id": "ce601889"
      },
      "source": [
        "<div class=\"alert alert-info\" style=\"background-color:#006666; color:white; padding:0px 10px; border-radius:5px;\"><h2 style='margin:7px 5px; font-size:16px'>Mini Challenge 1</h2>\n",
        "</div>"
      ],
      "id": "ce601889"
    },
    {
      "cell_type": "markdown",
      "metadata": {
        "id": "16f5726f"
      },
      "source": [
        "With following data (introduce artificial missing values)\n",
        "  - Fill the missing values with the mean\n",
        "  - Fill the missing values with the average of the prior and next values.\n",
        "\n",
        "__Input__\n",
        "```python\n",
        "import numpy as np\n",
        "arr = np. array([112, 118, 132, 129, 121, 135, 148, 148, 136, 119, 104, 118, 115,\n",
        "               126, 141, 135, 125, 149, 170, 170, 158, 133, 114, 140, 145, 150,\n",
        "               178, 163, 172, 178, 199, 199, 184, 162, 146, 166, 171, 180, 193,\n",
        "               181, 183, 218, 230, 242, 209, 191, 172, 194, 196, 196, 236, 235,\n",
        "               229, 243, 264, 272, 237, 211, 180, 201, 204, 188, 235, 227, 234,\n",
        "               264, 302, 293, 259, 229, 203, 229, 242, 233, 267, 269, 270, 315,\n",
        "               364, 347, 312, 274, 237, 278, 284, 277, 317, 313, 318, 374, 413,\n",
        "               405, 355, 306, 271, 306, 315, 301, 356, 348, 355, 422, 465, 467,\n",
        "               404, 347, 305, 336, 340, 318, 362, 348, 363, 435, 491, 505, 404,\n",
        "               359, 310, 337, 360, 342, 406, 396, 420, 472, 548, 559, 463, 407,\n",
        "               362, 405, 417, 391, 419, 461, 472, 535, 622, 606, 508, 461, 390,\n",
        "               432], dtype=np.float)\n",
        "arr\n",
        "\n",
        "arr_miss = arr.copy()\n",
        "\n",
        "# Introduce missing values\n",
        "np.random.seed(100)\n",
        "missing_loc = []\n",
        "for i in range(5):\n",
        "    loc = np.random.randint(0, len(arr_miss)); missing_loc.append(loc)\n",
        "    arr_miss[loc] = np.nan\n",
        "    \n",
        "arr_miss\n",
        "```\n",
        "\n",
        "__Code URL:__ https://git.io/JnGng"
      ],
      "id": "16f5726f"
    },
    {
      "cell_type": "markdown",
      "metadata": {
        "id": "fcc90c7d"
      },
      "source": [
        "__Solution__"
      ],
      "id": "fcc90c7d"
    },
    {
      "cell_type": "code",
      "metadata": {
        "id": "61f85345",
        "outputId": "d2d307d9-eaff-4e3d-c64a-17550fd3bfd0"
      },
      "source": [
        "import numpy as np\n",
        "arr = np. array([112, 118, 132, 129, 121, 135, 148, 148, 136, 119, 104, 118, 115,\n",
        "               126, 141, 135, 125, 149, 170, 170, 158, 133, 114, 140, 145, 150,\n",
        "               178, 163, 172, 178, 199, 199, 184, 162, 146, 166, 171, 180, 193,\n",
        "               181, 183, 218, 230, 242, 209, 191, 172, 194, 196, 196, 236, 235,\n",
        "               229, 243, 264, 272, 237, 211, 180, 201, 204, 188, 235, 227, 234,\n",
        "               264, 302, 293, 259, 229, 203, 229, 242, 233, 267, 269, 270, 315,\n",
        "               364, 347, 312, 274, 237, 278, 284, 277, 317, 313, 318, 374, 413,\n",
        "               405, 355, 306, 271, 306, 315, 301, 356, 348, 355, 422, 465, 467,\n",
        "               404, 347, 305, 336, 340, 318, 362, 348, 363, 435, 491, 505, 404,\n",
        "               359, 310, 337, 360, 342, 406, 396, 420, 472, 548, 559, 463, 407,\n",
        "               362, 405, 417, 391, 419, 461, 472, 535, 622, 606, 508, 461, 390,\n",
        "               432], dtype=np.float)\n",
        "arr\n",
        "\n",
        "arr_miss = arr.copy()\n",
        "arr_miss"
      ],
      "id": "61f85345",
      "execution_count": null,
      "outputs": [
        {
          "data": {
            "text/plain": [
              "array([112., 118., 132., 129., 121., 135., 148., 148., 136., 119., 104.,\n",
              "       118., 115., 126., 141., 135., 125., 149., 170., 170., 158., 133.,\n",
              "       114., 140., 145., 150., 178., 163., 172., 178., 199., 199., 184.,\n",
              "       162., 146., 166., 171., 180., 193., 181., 183., 218., 230., 242.,\n",
              "       209., 191., 172., 194., 196., 196., 236., 235., 229., 243., 264.,\n",
              "       272., 237., 211., 180., 201., 204., 188., 235., 227., 234., 264.,\n",
              "       302., 293., 259., 229., 203., 229., 242., 233., 267., 269., 270.,\n",
              "       315., 364., 347., 312., 274., 237., 278., 284., 277., 317., 313.,\n",
              "       318., 374., 413., 405., 355., 306., 271., 306., 315., 301., 356.,\n",
              "       348., 355., 422., 465., 467., 404., 347., 305., 336., 340., 318.,\n",
              "       362., 348., 363., 435., 491., 505., 404., 359., 310., 337., 360.,\n",
              "       342., 406., 396., 420., 472., 548., 559., 463., 407., 362., 405.,\n",
              "       417., 391., 419., 461., 472., 535., 622., 606., 508., 461., 390.,\n",
              "       432.])"
            ]
          },
          "execution_count": 19,
          "metadata": {},
          "output_type": "execute_result"
        }
      ]
    },
    {
      "cell_type": "code",
      "metadata": {
        "id": "e251624b",
        "outputId": "eb0d6079-c733-49d7-e282-86e469efa93c"
      },
      "source": [
        "# Introduce missing values\n",
        "np.random.seed(100)\n",
        "missing_loc = []\n",
        "for i in range(5):\n",
        "    loc = np.random.randint(0, len(arr_miss)); missing_loc.append(loc)\n",
        "    arr_miss[loc] = np.nan\n",
        "    \n",
        "arr_miss"
      ],
      "id": "e251624b",
      "execution_count": null,
      "outputs": [
        {
          "data": {
            "text/plain": [
              "array([112., 118., 132., 129., 121., 135., 148., 148.,  nan, 119., 104.,\n",
              "       118., 115., 126., 141., 135., 125., 149., 170., 170., 158., 133.,\n",
              "       114., 140.,  nan, 150., 178., 163., 172., 178., 199., 199., 184.,\n",
              "       162., 146., 166., 171., 180., 193., 181., 183., 218., 230., 242.,\n",
              "       209., 191., 172., 194., 196., 196., 236., 235., 229., 243., 264.,\n",
              "       272., 237., 211., 180., 201., 204., 188., 235., 227., 234., 264.,\n",
              "       302.,  nan, 259., 229., 203., 229., 242., 233., 267., 269., 270.,\n",
              "       315., 364., 347., 312., 274., 237., 278., 284., 277., 317.,  nan,\n",
              "       318., 374., 413., 405., 355., 306., 271., 306., 315., 301., 356.,\n",
              "       348., 355., 422., 465.,  nan, 404., 347., 305., 336., 340., 318.,\n",
              "       362., 348., 363., 435., 491., 505., 404., 359., 310., 337., 360.,\n",
              "       342., 406., 396., 420., 472., 548., 559., 463., 407., 362., 405.,\n",
              "       417., 391., 419., 461., 472., 535., 622., 606., 508., 461., 390.,\n",
              "       432.])"
            ]
          },
          "execution_count": 20,
          "metadata": {},
          "output_type": "execute_result"
        }
      ]
    },
    {
      "cell_type": "code",
      "metadata": {
        "id": "cba1929b",
        "outputId": "fa60e4b1-8333-4511-eea9-85c53c8269b3"
      },
      "source": [
        "# 1. Fill missing with mean\n",
        "arr_miss[np.isnan(arr_miss)] = np.nanmean(arr_miss).round(2)\n",
        "arr_miss"
      ],
      "id": "cba1929b",
      "execution_count": null,
      "outputs": [
        {
          "data": {
            "text/plain": [
              "array([112.  , 118.  , 132.  , 129.  , 121.  , 135.  , 148.  , 148.  ,\n",
              "       280.64, 119.  , 104.  , 118.  , 115.  , 126.  , 141.  , 135.  ,\n",
              "       125.  , 149.  , 170.  , 170.  , 158.  , 133.  , 114.  , 140.  ,\n",
              "       280.64, 150.  , 178.  , 163.  , 172.  , 178.  , 199.  , 199.  ,\n",
              "       184.  , 162.  , 146.  , 166.  , 171.  , 180.  , 193.  , 181.  ,\n",
              "       183.  , 218.  , 230.  , 242.  , 209.  , 191.  , 172.  , 194.  ,\n",
              "       196.  , 196.  , 236.  , 235.  , 229.  , 243.  , 264.  , 272.  ,\n",
              "       237.  , 211.  , 180.  , 201.  , 204.  , 188.  , 235.  , 227.  ,\n",
              "       234.  , 264.  , 302.  , 280.64, 259.  , 229.  , 203.  , 229.  ,\n",
              "       242.  , 233.  , 267.  , 269.  , 270.  , 315.  , 364.  , 347.  ,\n",
              "       312.  , 274.  , 237.  , 278.  , 284.  , 277.  , 317.  , 280.64,\n",
              "       318.  , 374.  , 413.  , 405.  , 355.  , 306.  , 271.  , 306.  ,\n",
              "       315.  , 301.  , 356.  , 348.  , 355.  , 422.  , 465.  , 280.64,\n",
              "       404.  , 347.  , 305.  , 336.  , 340.  , 318.  , 362.  , 348.  ,\n",
              "       363.  , 435.  , 491.  , 505.  , 404.  , 359.  , 310.  , 337.  ,\n",
              "       360.  , 342.  , 406.  , 396.  , 420.  , 472.  , 548.  , 559.  ,\n",
              "       463.  , 407.  , 362.  , 405.  , 417.  , 391.  , 419.  , 461.  ,\n",
              "       472.  , 535.  , 622.  , 606.  , 508.  , 461.  , 390.  , 432.  ])"
            ]
          },
          "execution_count": 15,
          "metadata": {},
          "output_type": "execute_result"
        }
      ]
    },
    {
      "cell_type": "code",
      "metadata": {
        "id": "b6073522",
        "outputId": "0a2ef923-33e0-41ce-d795-822628a38377"
      },
      "source": [
        "print(arr_miss[missing_loc])\n",
        "print(arr[missing_loc])"
      ],
      "id": "b6073522",
      "execution_count": null,
      "outputs": [
        {
          "name": "stdout",
          "output_type": "stream",
          "text": [
            "[280.64 280.64 280.64 280.64 280.64]\n",
            "[136. 145. 293. 467. 313.]\n"
          ]
        }
      ]
    },
    {
      "cell_type": "markdown",
      "metadata": {
        "id": "60d3e804"
      },
      "source": [
        "__Re-run `arr_miss` creation again.__"
      ],
      "id": "60d3e804"
    },
    {
      "cell_type": "code",
      "metadata": {
        "id": "1777373a"
      },
      "source": [
        "# 2. Fill missing with the mean of adjacent values\n",
        "for i, val in enumerate(arr_miss):\n",
        "    if np.isnan(val):\n",
        "        arr_miss[i] = np.nanmean([arr_miss[i-1], arr_miss[i+1]]).round(2)"
      ],
      "id": "1777373a",
      "execution_count": null,
      "outputs": []
    },
    {
      "cell_type": "code",
      "metadata": {
        "id": "2f6e0e38",
        "outputId": "1997d44c-6e3c-4ba0-f9fe-f79daf58aa39"
      },
      "source": [
        "print(arr_miss[missing_loc])\n",
        "print(arr[missing_loc])"
      ],
      "id": "2f6e0e38",
      "execution_count": null,
      "outputs": [
        {
          "name": "stdout",
          "output_type": "stream",
          "text": [
            "[133.5 145.  280.5 434.5 317.5]\n",
            "[136. 145. 293. 467. 313.]\n"
          ]
        }
      ]
    },
    {
      "cell_type": "code",
      "metadata": {
        "id": "fffa4d5e"
      },
      "source": [
        ""
      ],
      "id": "fffa4d5e",
      "execution_count": null,
      "outputs": []
    },
    {
      "cell_type": "code",
      "metadata": {
        "id": "1a68267c"
      },
      "source": [
        ""
      ],
      "id": "1a68267c",
      "execution_count": null,
      "outputs": []
    },
    {
      "cell_type": "code",
      "metadata": {
        "id": "b810b0a3"
      },
      "source": [
        ""
      ],
      "id": "b810b0a3",
      "execution_count": null,
      "outputs": []
    },
    {
      "cell_type": "code",
      "metadata": {
        "id": "77bc7ab9"
      },
      "source": [
        ""
      ],
      "id": "77bc7ab9",
      "execution_count": null,
      "outputs": []
    },
    {
      "cell_type": "code",
      "metadata": {
        "id": "20d6a2f2"
      },
      "source": [
        ""
      ],
      "id": "20d6a2f2",
      "execution_count": null,
      "outputs": []
    },
    {
      "cell_type": "code",
      "metadata": {
        "id": "d4c988cb"
      },
      "source": [
        ""
      ],
      "id": "d4c988cb",
      "execution_count": null,
      "outputs": []
    },
    {
      "cell_type": "code",
      "metadata": {
        "id": "24d4c784"
      },
      "source": [
        ""
      ],
      "id": "24d4c784",
      "execution_count": null,
      "outputs": []
    },
    {
      "cell_type": "code",
      "metadata": {
        "id": "4585f839"
      },
      "source": [
        ""
      ],
      "id": "4585f839",
      "execution_count": null,
      "outputs": []
    },
    {
      "cell_type": "markdown",
      "metadata": {
        "id": "1af0f826"
      },
      "source": [
        "<div class=\"alert alert-info\" style=\"background-color:#006666; color:white; padding:0px 10px; border-radius:5px;\"><h2 style='margin:7px 5px; font-size:16px'>Mini Challenge 2</h2>\n",
        "</div>\n",
        "\n",
        "For the following array:\n",
        "  1. Find the interquartile range\n",
        "  2. Cap the values at 5%ile and 95%ile. Replace values greater than 95%ile with 95%ile value.\n",
        "\n",
        "\n",
        "```python\n",
        "import numpy as np\n",
        "\n",
        "# turn off scientific (e+02)  notations.\n",
        "np.set_printoptions(suppress=True)  \n",
        "\n",
        "# Create normal\n",
        "np.random.seed(100)\n",
        "arr = np.random.normal(100, 75, size=300).round(3)\n",
        "arr\n",
        "```\n",
        "\n",
        "__Code URL:__ https://git.io/JnGBb  "
      ],
      "id": "1af0f826"
    },
    {
      "cell_type": "markdown",
      "metadata": {
        "id": "04d3a72d"
      },
      "source": [
        "__Solution__"
      ],
      "id": "04d3a72d"
    },
    {
      "cell_type": "code",
      "metadata": {
        "id": "6b20245c"
      },
      "source": [
        ""
      ],
      "id": "6b20245c",
      "execution_count": null,
      "outputs": []
    },
    {
      "cell_type": "code",
      "metadata": {
        "id": "946beb46"
      },
      "source": [
        ""
      ],
      "id": "946beb46",
      "execution_count": null,
      "outputs": []
    },
    {
      "cell_type": "code",
      "metadata": {
        "id": "088b6d64"
      },
      "source": [
        ""
      ],
      "id": "088b6d64",
      "execution_count": null,
      "outputs": []
    },
    {
      "cell_type": "code",
      "metadata": {
        "id": "07e483c3"
      },
      "source": [
        ""
      ],
      "id": "07e483c3",
      "execution_count": null,
      "outputs": []
    },
    {
      "cell_type": "code",
      "metadata": {
        "id": "79878e7b"
      },
      "source": [
        ""
      ],
      "id": "79878e7b",
      "execution_count": null,
      "outputs": []
    },
    {
      "cell_type": "code",
      "metadata": {
        "id": "939e03af"
      },
      "source": [
        ""
      ],
      "id": "939e03af",
      "execution_count": null,
      "outputs": []
    },
    {
      "cell_type": "code",
      "metadata": {
        "id": "bf6a9f2a"
      },
      "source": [
        ""
      ],
      "id": "bf6a9f2a",
      "execution_count": null,
      "outputs": []
    },
    {
      "cell_type": "code",
      "metadata": {
        "id": "9f9a0b74"
      },
      "source": [
        ""
      ],
      "id": "9f9a0b74",
      "execution_count": null,
      "outputs": []
    },
    {
      "cell_type": "code",
      "metadata": {
        "id": "23ee28c7"
      },
      "source": [
        "import numpy as np\n",
        "\n",
        "# turn off scientific (e+02)  notations.\n",
        "np.set_printoptions(suppress=True)  \n",
        "\n",
        "# Create normal\n",
        "np.random.seed(100)\n",
        "arr = np.random.normal(100, 75, size=300).round(3)\n",
        "arr"
      ],
      "id": "23ee28c7",
      "execution_count": null,
      "outputs": []
    },
    {
      "cell_type": "markdown",
      "metadata": {
        "id": "d2dd4274"
      },
      "source": [
        "__Solution__"
      ],
      "id": "d2dd4274"
    },
    {
      "cell_type": "code",
      "metadata": {
        "id": "aa894ed5",
        "outputId": "fd51643d-35e5-4cb1-a600-1feef2db124d"
      },
      "source": [
        "# 1. InterQuartile Range\n",
        "q25 = np.quantile(arr, 0.25)\n",
        "q75 = np.quantile(arr, 0.75)\n",
        "iqr = q75 - q25\n",
        "print(\"IQR: \", iqr)"
      ],
      "id": "aa894ed5",
      "execution_count": null,
      "outputs": [
        {
          "name": "stdout",
          "output_type": "stream",
          "text": [
            "IQR:  180.5\n"
          ]
        }
      ]
    },
    {
      "cell_type": "code",
      "metadata": {
        "id": "7a3aaef0",
        "outputId": "6f5b2e86-5e47-4bec-cf0e-6ef007ad471e"
      },
      "source": [
        "# 2. Capping\n",
        "\n",
        "# Comput the percentiles\n",
        "q5 = np.quantile(arr, 0.05)\n",
        "q95 = np.quantile(arr, 0.95)\n",
        "print(q5)\n",
        "print(q95)"
      ],
      "id": "7a3aaef0",
      "execution_count": null,
      "outputs": [
        {
          "name": "stdout",
          "output_type": "stream",
          "text": [
            "121.6\n",
            "488.14999999999986\n"
          ]
        }
      ]
    },
    {
      "cell_type": "code",
      "metadata": {
        "id": "7a92c75e",
        "outputId": "34ce9f83-d763-4520-84fd-2a67b2f42db0"
      },
      "source": [
        "# Cap it\n",
        "arr = np.where(arr < q5, q5, arr)\n",
        "arr = np.where(arr > q95, q95, arr)\n",
        "\n",
        "arr[:100]"
      ],
      "id": "7a92c75e",
      "execution_count": null,
      "outputs": [
        {
          "data": {
            "text/plain": [
              "array([121.6, 121.6, 132. , 129. , 121.6, 135. , 148. , 148. , 136. ,\n",
              "       121.6, 121.6, 121.6, 121.6, 126. , 141. , 135. , 125. , 149. ,\n",
              "       170. , 170. , 158. , 133. , 121.6, 140. , 145. , 150. , 178. ,\n",
              "       163. , 172. , 178. , 199. , 199. , 184. , 162. , 146. , 166. ,\n",
              "       171. , 180. , 193. , 181. , 183. , 218. , 230. , 242. , 209. ,\n",
              "       191. , 172. , 194. , 196. , 196. , 236. , 235. , 229. , 243. ,\n",
              "       264. , 272. , 237. , 211. , 180. , 201. , 204. , 188. , 235. ,\n",
              "       227. , 234. , 264. , 302. , 293. , 259. , 229. , 203. , 229. ,\n",
              "       242. , 233. , 267. , 269. , 270. , 315. , 364. , 347. , 312. ,\n",
              "       274. , 237. , 278. , 284. , 277. , 317. , 313. , 318. , 374. ,\n",
              "       413. , 405. , 355. , 306. , 271. , 306. , 315. , 301. , 356. ,\n",
              "       348. ])"
            ]
          },
          "execution_count": 25,
          "metadata": {},
          "output_type": "execute_result"
        }
      ]
    },
    {
      "cell_type": "code",
      "metadata": {
        "id": "fb287a74",
        "outputId": "4a7d718a-65e9-490f-c37c-13d636ddf4bc"
      },
      "source": [
        "arr.max(), arr.min()"
      ],
      "id": "fb287a74",
      "execution_count": null,
      "outputs": [
        {
          "data": {
            "text/plain": [
              "(488.14999999999986, 121.6)"
            ]
          },
          "execution_count": 26,
          "metadata": {},
          "output_type": "execute_result"
        }
      ]
    },
    {
      "cell_type": "code",
      "metadata": {
        "id": "06014818"
      },
      "source": [
        ""
      ],
      "id": "06014818",
      "execution_count": null,
      "outputs": []
    }
  ]
}