{
  "nbformat": 4,
  "nbformat_minor": 5,
  "metadata": {
    "hide_input": false,
    "kernelspec": {
      "display_name": "Python 3",
      "language": "python",
      "name": "python3"
    },
    "language_info": {
      "codemirror_mode": {
        "name": "ipython",
        "version": 3
      },
      "file_extension": ".py",
      "mimetype": "text/x-python",
      "name": "python",
      "nbconvert_exporter": "python",
      "pygments_lexer": "ipython3",
      "version": "3.7.10"
    },
    "toc": {
      "base_numbering": 1,
      "nav_menu": {},
      "number_sections": false,
      "sideBar": true,
      "skip_h1_title": true,
      "title_cell": "Table of Contents",
      "title_sidebar": "Contents",
      "toc_cell": false,
      "toc_position": {
        "height": "calc(100% - 180px)",
        "left": "10px",
        "top": "150px",
        "width": "239.2px"
      },
      "toc_section_display": true,
      "toc_window_display": false
    },
    "colab": {
      "name": "01_Introduction to NumPy.ipynb",
      "provenance": [],
      "include_colab_link": true
    }
  },
  "cells": [
    {
      "cell_type": "markdown",
      "metadata": {
        "id": "view-in-github",
        "colab_type": "text"
      },
      "source": [
        "<a href=\"https://colab.research.google.com/github/patelsaumya/numpy/blob/master/01_Introduction%20to%20NumPy.ipynb\" target=\"_parent\"><img src=\"https://colab.research.google.com/assets/colab-badge.svg\" alt=\"Open In Colab\"/></a>"
      ]
    },
    {
      "cell_type": "markdown",
      "metadata": {
        "id": "215203ff"
      },
      "source": [
        "<div style=\"color:#006666; padding:0px 10px; border-radius:5px; font-size:18px; text-align:center\"><h1 style='margin:10px 5px'>Introduction to NumPy</h1>\n",
        "<hr>\n",
        "<p style=\"color:#006666; text-align:right;font-size:10px\">\n",
        "Copyright by MachineLearningPlus. All Rights Reserved.\n",
        "</p>\n",
        "\n",
        "</div>"
      ],
      "id": "215203ff"
    },
    {
      "cell_type": "markdown",
      "metadata": {
        "id": "19b2b99d"
      },
      "source": [
        "<div class=\"alert alert-info\" style=\"background-color:#006666; color:white; padding:0px 10px; border-radius:5px;\"><h2 style='margin:7px 5px; font-size:16px'>What is NumPy?</h2>\n",
        "</div>"
      ],
      "id": "19b2b99d"
    },
    {
      "cell_type": "markdown",
      "metadata": {
        "id": "34cc14bc"
      },
      "source": [
        "NumPy is the foundational package for scientific computing in Python. \n",
        "\n",
        "It provides high performance multi dimensional array object called `ndarray` using which you can do all sorts of mathematical operations efficiently. That is, write less code, yet the code runs fast."
      ],
      "id": "34cc14bc"
    },
    {
      "cell_type": "markdown",
      "metadata": {
        "id": "508d91b8"
      },
      "source": [
        "<div class=\"alert alert-info\" style=\"background-color:#006666; color:white; padding:0px 10px; border-radius:5px;\"><h2 style='margin:7px 5px; font-size:16px'>What Problems Does NumPy Solve?</h2>\n",
        "</div>"
      ],
      "id": "508d91b8"
    },
    {
      "cell_type": "markdown",
      "metadata": {
        "id": "76f31213"
      },
      "source": [
        "The main problem NumPy solves is it provides efficient data structures to store tabular and multi-dimensional data. \n",
        "\n",
        "But you might ask: \"_What's wrong with just storing the data in a python list?_\"\n",
        "\n",
        "Yes you certainly can. But it is highly inefficient. For example, you have a list of numbers `[1,2,3,4,5]` and you want to multiply each item in the list by 2. "
      ],
      "id": "76f31213"
    },
    {
      "cell_type": "code",
      "metadata": {
        "id": "8f07e8bc",
        "outputId": "490271f1-f176-4811-810a-d38675716891"
      },
      "source": [
        "[1, 2, 3, 4, 5] * 2"
      ],
      "id": "8f07e8bc",
      "execution_count": null,
      "outputs": [
        {
          "data": {
            "text/plain": [
              "[1, 2, 3, 4, 5, 1, 2, 3, 4, 5]"
            ]
          },
          "execution_count": 1,
          "metadata": {},
          "output_type": "execute_result"
        }
      ]
    },
    {
      "cell_type": "markdown",
      "metadata": {
        "id": "b0a80fe8"
      },
      "source": [
        "If you multiply it by 2, it simply repeats the list 2 times. This is not what we want."
      ],
      "id": "b0a80fe8"
    },
    {
      "cell_type": "code",
      "metadata": {
        "id": "7cee0672",
        "outputId": "5249a5ad-6088-4ad8-a7ba-825d2e73706d"
      },
      "source": [
        "[i*2 for i in [1, 2, 3, 4, 5]]"
      ],
      "id": "7cee0672",
      "execution_count": null,
      "outputs": [
        {
          "data": {
            "text/plain": [
              "[2, 4, 6, 8, 10]"
            ]
          },
          "execution_count": 2,
          "metadata": {},
          "output_type": "execute_result"
        }
      ]
    },
    {
      "cell_type": "markdown",
      "metadata": {
        "id": "d638ac93"
      },
      "source": [
        "Imagine having to hold a two dimensional, tabular data and you want to add or multiply two columns in the dataset. You'll have to write a for loop to do something as basic. \n",
        "\n",
        "Lists are not built for mathematical operations by design.\n",
        "\n",
        "And that is where Numpy Arrays shine!\n",
        "\n",
        "The core of the numpy package is the powerful n-dimensional array (`ndarray`) object."
      ],
      "id": "d638ac93"
    },
    {
      "cell_type": "markdown",
      "metadata": {
        "id": "447d9e4c"
      },
      "source": [
        "1. Vectorized math operations enables more work with less code.\n",
        "2. Operations are performed in pre-compiled C code, enabling fast performance.\n",
        "3. Capabilities for performing:\n",
        "    - Linear algebra\n",
        "    - Matrix operations\n",
        "    - Random number generation\n",
        "    - Probability distributions\n",
        "    - Sequence generation\n",
        "    - Data wrangling\n",
        "    - Fast fourier transforms\n",
        "    - Financial functions\n",
        "    - Handing dates \n",
        "    - Missing values\n",
        "    - Fitting polynomials\n",
        "    - Solving linear equations"
      ],
      "id": "447d9e4c"
    },
    {
      "cell_type": "markdown",
      "metadata": {
        "id": "d0b28576"
      },
      "source": [
        "<div class=\"alert alert-info\" style=\"background-color:#006666; color:white; padding:0px 10px; border-radius:5px;\"><h2 style='margin:7px 5px; font-size:16px'>Why NumPy is Fast?</h2>\n",
        "</div>\n",
        "\n",
        "Numpy arrays are written mostly in C language. Being written in C, the NumPy arrays are stored in contiguous memory locations which makes them accessible and easier to manipulate. This means that you can get the performance level of a C code with the ease of writing a python program."
      ],
      "id": "d0b28576"
    }
  ]
}