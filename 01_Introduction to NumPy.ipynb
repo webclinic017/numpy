{
 "cells": [
  {
   "cell_type": "markdown",
   "id": "215203ff",
   "metadata": {},
   "source": [
    "<div style=\"color:#006666; padding:0px 10px; border-radius:5px; font-size:18px; text-align:center\"><h1 style='margin:10px 5px'>Introduction to NumPy</h1>\n",
    "<hr>\n",
    "<p style=\"color:#006666; text-align:right;font-size:10px\">\n",
    "Copyright by MachineLearningPlus. All Rights Reserved.\n",
    "</p>\n",
    "\n",
    "</div>"
   ]
  },
  {
   "cell_type": "markdown",
   "id": "19b2b99d",
   "metadata": {},
   "source": [
    "<div class=\"alert alert-info\" style=\"background-color:#006666; color:white; padding:0px 10px; border-radius:5px;\"><h2 style='margin:7px 5px; font-size:16px'>What is NumPy?</h2>\n",
    "</div>"
   ]
  },
  {
   "cell_type": "markdown",
   "id": "34cc14bc",
   "metadata": {},
   "source": [
    "NumPy is the foundational package for scientific computing in Python. \n",
    "\n",
    "It provides high performance multi dimensional array object called `ndarray` using which you can do all sorts of mathematical operations efficiently. That is, write less code, yet the code runs fast."
   ]
  },
  {
   "cell_type": "markdown",
   "id": "508d91b8",
   "metadata": {},
   "source": [
    "<div class=\"alert alert-info\" style=\"background-color:#006666; color:white; padding:0px 10px; border-radius:5px;\"><h2 style='margin:7px 5px; font-size:16px'>What Problems Does NumPy Solve?</h2>\n",
    "</div>"
   ]
  },
  {
   "cell_type": "markdown",
   "id": "76f31213",
   "metadata": {},
   "source": [
    "The main problem NumPy solves is it provides efficient data structures to store tabular and multi-dimensional data. \n",
    "\n",
    "But you might ask: \"_What's wrong with just storing the data in a python list?_\"\n",
    "\n",
    "Yes you certainly can. But it is highly inefficient. For example, you have a list of numbers `[1,2,3,4,5]` and you want to multiply each item in the list by 2. "
   ]
  },
  {
   "cell_type": "code",
   "execution_count": 1,
   "id": "8f07e8bc",
   "metadata": {},
   "outputs": [
    {
     "data": {
      "text/plain": [
       "[1, 2, 3, 4, 5, 1, 2, 3, 4, 5]"
      ]
     },
     "execution_count": 1,
     "metadata": {},
     "output_type": "execute_result"
    }
   ],
   "source": [
    "[1, 2, 3, 4, 5] * 2"
   ]
  },
  {
   "cell_type": "markdown",
   "id": "b0a80fe8",
   "metadata": {},
   "source": [
    "If you multiply it by 2, it simply repeats the list 2 times. This is not what we want."
   ]
  },
  {
   "cell_type": "code",
   "execution_count": 2,
   "id": "7cee0672",
   "metadata": {},
   "outputs": [
    {
     "data": {
      "text/plain": [
       "[2, 4, 6, 8, 10]"
      ]
     },
     "execution_count": 2,
     "metadata": {},
     "output_type": "execute_result"
    }
   ],
   "source": [
    "[i*2 for i in [1, 2, 3, 4, 5]]"
   ]
  },
  {
   "cell_type": "markdown",
   "id": "d638ac93",
   "metadata": {},
   "source": [
    "Imagine having to hold a two dimensional, tabular data and you want to add or multiply two columns in the dataset. You'll have to write a for loop to do something as basic. \n",
    "\n",
    "Lists are not built for mathematical operations by design.\n",
    "\n",
    "And that is where Numpy Arrays shine!\n",
    "\n",
    "The core of the numpy package is the powerful n-dimensional array (`ndarray`) object."
   ]
  },
  {
   "cell_type": "markdown",
   "id": "447d9e4c",
   "metadata": {},
   "source": [
    "1. Vectorized math operations enables more work with less code.\n",
    "2. Operations are performed in pre-compiled C code, enabling fast performance.\n",
    "3. Capabilities for performing:\n",
    "    - Linear algebra\n",
    "    - Matrix operations\n",
    "    - Random number generation\n",
    "    - Probability distributions\n",
    "    - Sequence generation\n",
    "    - Data wrangling\n",
    "    - Fast fourier transforms\n",
    "    - Financial functions\n",
    "    - Handing dates \n",
    "    - Missing values\n",
    "    - Fitting polynomials\n",
    "    - Solving linear equations"
   ]
  },
  {
   "cell_type": "markdown",
   "id": "d0b28576",
   "metadata": {},
   "source": [
    "<div class=\"alert alert-info\" style=\"background-color:#006666; color:white; padding:0px 10px; border-radius:5px;\"><h2 style='margin:7px 5px; font-size:16px'>Why NumPy is Fast?</h2>\n",
    "</div>\n",
    "\n",
    "Numpy arrays are written mostly in C language. Being written in C, the NumPy arrays are stored in contiguous memory locations which makes them accessible and easier to manipulate. This means that you can get the performance level of a C code with the ease of writing a python program."
   ]
  }
 ],
 "metadata": {
  "hide_input": false,
  "kernelspec": {
   "display_name": "Python 3",
   "language": "python",
   "name": "python3"
  },
  "language_info": {
   "codemirror_mode": {
    "name": "ipython",
    "version": 3
   },
   "file_extension": ".py",
   "mimetype": "text/x-python",
   "name": "python",
   "nbconvert_exporter": "python",
   "pygments_lexer": "ipython3",
   "version": "3.7.10"
  },
  "toc": {
   "base_numbering": 1,
   "nav_menu": {},
   "number_sections": false,
   "sideBar": true,
   "skip_h1_title": true,
   "title_cell": "Table of Contents",
   "title_sidebar": "Contents",
   "toc_cell": false,
   "toc_position": {
    "height": "calc(100% - 180px)",
    "left": "10px",
    "top": "150px",
    "width": "239.2px"
   },
   "toc_section_display": true,
   "toc_window_display": false
  }
 },
 "nbformat": 4,
 "nbformat_minor": 5
}
