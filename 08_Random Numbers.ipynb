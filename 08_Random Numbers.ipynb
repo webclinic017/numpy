{
  "nbformat": 4,
  "nbformat_minor": 5,
  "metadata": {
    "hide_input": false,
    "kernelspec": {
      "display_name": "Python 3",
      "language": "python",
      "name": "python3"
    },
    "language_info": {
      "codemirror_mode": {
        "name": "ipython",
        "version": 3
      },
      "file_extension": ".py",
      "mimetype": "text/x-python",
      "name": "python",
      "nbconvert_exporter": "python",
      "pygments_lexer": "ipython3",
      "version": "3.7.10"
    },
    "toc": {
      "base_numbering": 1,
      "nav_menu": {},
      "number_sections": false,
      "sideBar": true,
      "skip_h1_title": true,
      "title_cell": "Table of Contents",
      "title_sidebar": "Contents",
      "toc_cell": false,
      "toc_position": {},
      "toc_section_display": true,
      "toc_window_display": false
    },
    "colab": {
      "name": "08_Random Numbers.ipynb",
      "provenance": [],
      "include_colab_link": true
    }
  },
  "cells": [
    {
      "cell_type": "markdown",
      "metadata": {
        "id": "view-in-github",
        "colab_type": "text"
      },
      "source": [
        "<a href=\"https://colab.research.google.com/github/patelsaumya/numpy/blob/master/08_Random%20Numbers.ipynb\" target=\"_parent\"><img src=\"https://colab.research.google.com/assets/colab-badge.svg\" alt=\"Open In Colab\"/></a>"
      ]
    },
    {
      "cell_type": "markdown",
      "metadata": {
        "id": "e2a2fd4b"
      },
      "source": [
        "<div style=\"color:#006666; padding:0px 10px; border-radius:5px; font-size:18px; text-align:center\"><h1 style='margin:10px 5px'>Random Numbers</h1>\n",
        "<hr>\n",
        "<p style=\"color:#006666; text-align:right;font-size:10px\">\n",
        "Copyright by MachineLearningPlus. All Rights Reserved.\n",
        "</p>\n",
        "\n",
        "</div>"
      ],
      "id": "e2a2fd4b"
    },
    {
      "cell_type": "markdown",
      "metadata": {
        "id": "03b0d452"
      },
      "source": [
        "NumPy provides the excellent `random` module that has functions to generate random numbers and numbers that follow a probability distribution."
      ],
      "id": "03b0d452"
    },
    {
      "cell_type": "code",
      "metadata": {
        "id": "42b6aec2"
      },
      "source": [
        "import numpy as np\n",
        "import matplotlib.pyplot as plt\n",
        "%matplotlib inline"
      ],
      "id": "42b6aec2",
      "execution_count": null,
      "outputs": []
    },
    {
      "cell_type": "markdown",
      "metadata": {
        "id": "9d2f44ee"
      },
      "source": [
        "Generate random numbers that lie between 0 and 1."
      ],
      "id": "9d2f44ee"
    },
    {
      "cell_type": "code",
      "metadata": {
        "id": "0f89f984"
      },
      "source": [
        "np.random.seed(100)\n",
        "np.random.random(size=(5,5)).round(2)"
      ],
      "id": "0f89f984",
      "execution_count": null,
      "outputs": []
    },
    {
      "cell_type": "markdown",
      "metadata": {
        "id": "c81e9d26"
      },
      "source": [
        "Everytime you run it, you get a new random set."
      ],
      "id": "c81e9d26"
    },
    {
      "cell_type": "code",
      "metadata": {
        "id": "43814645"
      },
      "source": [
        "# A new set of random numbers\n",
        "np.random.random(size=(5,5)).round(2)"
      ],
      "id": "43814645",
      "execution_count": null,
      "outputs": []
    },
    {
      "cell_type": "markdown",
      "metadata": {
        "id": "b74b3416"
      },
      "source": [
        "To be able to repeat the random numbers, set the seed again to the same value and run again. Hence, the random numbers thus generated are __Pseudo Random Numbers__. \n",
        "\n",
        "Numpy uses the [Mersene Twister](https://en.wikipedia.org/wiki/Mersenne_Twister) Pseudo Random Number Generator algorithm to produce the random numbers."
      ],
      "id": "b74b3416"
    },
    {
      "cell_type": "code",
      "metadata": {
        "id": "e4d375c3"
      },
      "source": [
        "# Generate the original set again\n",
        "np.random.seed(100)\n",
        "np.random.random(size=(5,5)).round(2)"
      ],
      "id": "e4d375c3",
      "execution_count": null,
      "outputs": []
    },
    {
      "cell_type": "markdown",
      "metadata": {
        "id": "ed3b8cce"
      },
      "source": [
        "Alternately, you can set the __RandomState__ and use that object to produce the random numbers."
      ],
      "id": "ed3b8cce"
    },
    {
      "cell_type": "code",
      "metadata": {
        "id": "c9da900d"
      },
      "source": [
        "rn = np.random.RandomState(100)\n",
        "rn.random(size=(5,5)).round(2)"
      ],
      "id": "c9da900d",
      "execution_count": null,
      "outputs": []
    },
    {
      "cell_type": "markdown",
      "metadata": {
        "id": "2268952b"
      },
      "source": [
        "<div class=\"alert alert-info\" style=\"background-color:#006666; color:white; padding:0px 10px; border-radius:5px;\"><h2 style='margin:7px 5px; font-size:16px'>Random numbers between given range using uniform distribution</h2>\n",
        "</div>"
      ],
      "id": "2268952b"
    },
    {
      "cell_type": "code",
      "metadata": {
        "id": "a3036d5b"
      },
      "source": [
        "# Uniform distribution\n",
        "data_unif = np.random.uniform(1, 100, size=(10000))\n",
        "data_unif.round(2)[:10]"
      ],
      "id": "a3036d5b",
      "execution_count": null,
      "outputs": []
    },
    {
      "cell_type": "code",
      "metadata": {
        "id": "b404e418"
      },
      "source": [
        "plt.hist(data_unif);"
      ],
      "id": "b404e418",
      "execution_count": null,
      "outputs": []
    },
    {
      "cell_type": "code",
      "metadata": {
        "id": "31b5c180"
      },
      "source": [
        "data = np.random.randint(1, 100, size=(10000))\n",
        "data[:10]"
      ],
      "id": "31b5c180",
      "execution_count": null,
      "outputs": []
    },
    {
      "cell_type": "code",
      "metadata": {
        "id": "acce27fb"
      },
      "source": [
        "plt.hist(data);"
      ],
      "id": "acce27fb",
      "execution_count": null,
      "outputs": []
    },
    {
      "cell_type": "markdown",
      "metadata": {
        "id": "720ba492"
      },
      "source": [
        "<div class=\"alert alert-info\" style=\"background-color:#006666; color:white; padding:0px 10px; border-radius:5px;\"><h2 style='margin:7px 5px; font-size:16px'>Normal Distribution</h2>\n",
        "</div>"
      ],
      "id": "720ba492"
    },
    {
      "cell_type": "code",
      "metadata": {
        "id": "f82af787"
      },
      "source": [
        "data_normal = np.random.normal(10, 2, size=1000)\n",
        "data_normal.round(2)[:10]"
      ],
      "id": "f82af787",
      "execution_count": null,
      "outputs": []
    },
    {
      "cell_type": "code",
      "metadata": {
        "id": "d127b7e4"
      },
      "source": [
        "plt.hist(data_normal);"
      ],
      "id": "d127b7e4",
      "execution_count": null,
      "outputs": []
    },
    {
      "cell_type": "markdown",
      "metadata": {
        "id": "b0f1374b"
      },
      "source": [
        "<div class=\"alert alert-info\" style=\"background-color:#006666; color:white; padding:0px 10px; border-radius:5px;\"><h2 style='margin:7px 5px; font-size:16px'>Random Sampling</h2>\n",
        "</div>"
      ],
      "id": "b0f1374b"
    },
    {
      "cell_type": "markdown",
      "metadata": {
        "id": "58f785c2"
      },
      "source": [
        "Use `random.choice` to pick `n` items from a list or array."
      ],
      "id": "58f785c2"
    },
    {
      "cell_type": "code",
      "metadata": {
        "id": "2b9f4dfa"
      },
      "source": [
        "arr = np.arange(100)\n",
        "np.random.choice(arr, size=20, replace=False)"
      ],
      "id": "2b9f4dfa",
      "execution_count": null,
      "outputs": []
    },
    {
      "cell_type": "markdown",
      "metadata": {
        "id": "6a6b215f"
      },
      "source": [
        "<div class=\"alert alert-info\" style=\"background-color:#006666; color:white; padding:0px 10px; border-radius:5px;\"><h2 style='margin:7px 5px; font-size:16px'>Bootstrapping</h2>\n",
        "</div>\n",
        "\n",
        "Randomly pick as many items from the list __with replacement__."
      ],
      "id": "6a6b215f"
    },
    {
      "cell_type": "code",
      "metadata": {
        "id": "149d1517"
      },
      "source": [
        "arr = np.arange(100)\n",
        "boot = np.random.choice(arr, size=len(arr), replace=True)\n",
        "boot"
      ],
      "id": "149d1517",
      "execution_count": null,
      "outputs": []
    },
    {
      "cell_type": "markdown",
      "metadata": {
        "id": "4de51a9d"
      },
      "source": [
        "Check the counts"
      ],
      "id": "4de51a9d"
    },
    {
      "cell_type": "code",
      "metadata": {
        "id": "0550d6ee"
      },
      "source": [
        "np.unique(boot, return_counts=True)"
      ],
      "id": "0550d6ee",
      "execution_count": null,
      "outputs": []
    },
    {
      "cell_type": "markdown",
      "metadata": {
        "id": "d1fdbc6f"
      },
      "source": [
        "<div class=\"alert alert-info\" style=\"background-color:#006666; color:white; padding:0px 10px; border-radius:5px;\"><h2 style='margin:7px 5px; font-size:16px'>Binomial Distribution</h2>\n",
        "</div>\n",
        "The binomial is a type of distribution that has two possible outcomes. \n",
        "\n",
        "Let's call the outcomes as 'success' and 'failure'.\n",
        "\n",
        "    n = number of trials\n",
        "    p = probability of success.\n",
        "\n",
        "`np.random.binomial(n, p)` gives the number of trials that was a 'success'.\n",
        "\n",
        "![image-2.png](attachment:image-2.png)"
      ],
      "id": "d1fdbc6f"
    },
    {
      "cell_type": "code",
      "metadata": {
        "id": "8107bff7"
      },
      "source": [
        "outcome = np.random.binomial(n=9, p=0.5, size=1000000)\n",
        "outcome[:10]"
      ],
      "id": "8107bff7",
      "execution_count": null,
      "outputs": []
    },
    {
      "cell_type": "code",
      "metadata": {
        "id": "a88e4fa2"
      },
      "source": [
        "len(outcome)"
      ],
      "id": "a88e4fa2",
      "execution_count": null,
      "outputs": []
    },
    {
      "cell_type": "code",
      "metadata": {
        "id": "56076f2b"
      },
      "source": [
        "plt.hist(outcome);"
      ],
      "id": "56076f2b",
      "execution_count": null,
      "outputs": []
    },
    {
      "cell_type": "markdown",
      "metadata": {
        "id": "510835f8"
      },
      "source": [
        "<div class=\"alert alert-info\" style=\"background-color:#006666; color:white; padding:0px 10px; border-radius:5px;\"><h2 style='margin:7px 5px; font-size:16px'>Mini Challenge 1</h2>\n",
        "</div>"
      ],
      "id": "510835f8"
    },
    {
      "cell_type": "markdown",
      "metadata": {
        "id": "bac8ff4d"
      },
      "source": [
        "80% of people who purchase pet insurance are women. If 9 pet insurance owners are randomly selected, Find the probability that exactly 6 are women.\n",
        "\n",
        "[Hint: Determine what is n, p]"
      ],
      "id": "bac8ff4d"
    },
    {
      "cell_type": "code",
      "metadata": {
        "id": "d9540e0f"
      },
      "source": [
        ""
      ],
      "id": "d9540e0f",
      "execution_count": null,
      "outputs": []
    },
    {
      "cell_type": "code",
      "metadata": {
        "id": "632e28ea"
      },
      "source": [
        ""
      ],
      "id": "632e28ea",
      "execution_count": null,
      "outputs": []
    },
    {
      "cell_type": "code",
      "metadata": {
        "id": "b015f00c"
      },
      "source": [
        ""
      ],
      "id": "b015f00c",
      "execution_count": null,
      "outputs": []
    },
    {
      "cell_type": "code",
      "metadata": {
        "id": "008543ea"
      },
      "source": [
        ""
      ],
      "id": "008543ea",
      "execution_count": null,
      "outputs": []
    },
    {
      "cell_type": "code",
      "metadata": {
        "id": "2dba9729"
      },
      "source": [
        ""
      ],
      "id": "2dba9729",
      "execution_count": null,
      "outputs": []
    },
    {
      "cell_type": "code",
      "metadata": {
        "id": "912c1154"
      },
      "source": [
        ""
      ],
      "id": "912c1154",
      "execution_count": null,
      "outputs": []
    },
    {
      "cell_type": "code",
      "metadata": {
        "id": "1e831b79"
      },
      "source": [
        ""
      ],
      "id": "1e831b79",
      "execution_count": null,
      "outputs": []
    },
    {
      "cell_type": "code",
      "metadata": {
        "id": "cdf215ce"
      },
      "source": [
        ""
      ],
      "id": "cdf215ce",
      "execution_count": null,
      "outputs": []
    },
    {
      "cell_type": "code",
      "metadata": {
        "id": "abdd6779"
      },
      "source": [
        ""
      ],
      "id": "abdd6779",
      "execution_count": null,
      "outputs": []
    },
    {
      "cell_type": "code",
      "metadata": {
        "id": "fed92767"
      },
      "source": [
        ""
      ],
      "id": "fed92767",
      "execution_count": null,
      "outputs": []
    },
    {
      "cell_type": "code",
      "metadata": {
        "id": "b481af51"
      },
      "source": [
        ""
      ],
      "id": "b481af51",
      "execution_count": null,
      "outputs": []
    },
    {
      "cell_type": "code",
      "metadata": {
        "id": "5c81bfb7"
      },
      "source": [
        ""
      ],
      "id": "5c81bfb7",
      "execution_count": null,
      "outputs": []
    },
    {
      "cell_type": "code",
      "metadata": {
        "id": "1cce78ef"
      },
      "source": [
        ""
      ],
      "id": "1cce78ef",
      "execution_count": null,
      "outputs": []
    },
    {
      "cell_type": "code",
      "metadata": {
        "id": "4d02a59e"
      },
      "source": [
        ""
      ],
      "id": "4d02a59e",
      "execution_count": null,
      "outputs": []
    },
    {
      "cell_type": "code",
      "metadata": {
        "id": "dbf66904"
      },
      "source": [
        ""
      ],
      "id": "dbf66904",
      "execution_count": null,
      "outputs": []
    },
    {
      "cell_type": "markdown",
      "metadata": {
        "id": "4fea475e"
      },
      "source": [
        "__Solution__\n",
        "\n",
        "\n",
        "Ans: n = 9,  x = 6,  P = 0.8. Substitute in formula and get the result.\n",
        "\n",
        "Let's solve by experiment with code."
      ],
      "id": "4fea475e"
    },
    {
      "cell_type": "code",
      "metadata": {
        "id": "df04bf44"
      },
      "source": [
        "outcome = np.random.binomial(n=9, p=0.8, size=100000000)\n",
        "outcome[:10]"
      ],
      "id": "df04bf44",
      "execution_count": null,
      "outputs": []
    },
    {
      "cell_type": "code",
      "metadata": {
        "id": "8806c5a7"
      },
      "source": [
        "np.mean(outcome==6)"
      ],
      "id": "8806c5a7",
      "execution_count": null,
      "outputs": []
    },
    {
      "cell_type": "code",
      "metadata": {
        "id": "bca39a2f"
      },
      "source": [
        ""
      ],
      "id": "bca39a2f",
      "execution_count": null,
      "outputs": []
    },
    {
      "cell_type": "code",
      "metadata": {
        "id": "eac019a7"
      },
      "source": [
        ""
      ],
      "id": "eac019a7",
      "execution_count": null,
      "outputs": []
    },
    {
      "cell_type": "code",
      "metadata": {
        "id": "eedc2162"
      },
      "source": [
        ""
      ],
      "id": "eedc2162",
      "execution_count": null,
      "outputs": []
    },
    {
      "cell_type": "code",
      "metadata": {
        "id": "ac4b6e48"
      },
      "source": [
        ""
      ],
      "id": "ac4b6e48",
      "execution_count": null,
      "outputs": []
    },
    {
      "cell_type": "code",
      "metadata": {
        "id": "d6bf7608"
      },
      "source": [
        ""
      ],
      "id": "d6bf7608",
      "execution_count": null,
      "outputs": []
    },
    {
      "cell_type": "code",
      "metadata": {
        "id": "146e36ee"
      },
      "source": [
        ""
      ],
      "id": "146e36ee",
      "execution_count": null,
      "outputs": []
    },
    {
      "cell_type": "code",
      "metadata": {
        "id": "f1122049"
      },
      "source": [
        ""
      ],
      "id": "f1122049",
      "execution_count": null,
      "outputs": []
    },
    {
      "cell_type": "code",
      "metadata": {
        "id": "eade0cd6"
      },
      "source": [
        ""
      ],
      "id": "eade0cd6",
      "execution_count": null,
      "outputs": []
    },
    {
      "cell_type": "code",
      "metadata": {
        "id": "4f792ed0"
      },
      "source": [
        ""
      ],
      "id": "4f792ed0",
      "execution_count": null,
      "outputs": []
    },
    {
      "cell_type": "code",
      "metadata": {
        "id": "9db1dde2"
      },
      "source": [
        ""
      ],
      "id": "9db1dde2",
      "execution_count": null,
      "outputs": []
    },
    {
      "cell_type": "code",
      "metadata": {
        "id": "e1ec653b"
      },
      "source": [
        ""
      ],
      "id": "e1ec653b",
      "execution_count": null,
      "outputs": []
    },
    {
      "cell_type": "code",
      "metadata": {
        "id": "2afb9190"
      },
      "source": [
        ""
      ],
      "id": "2afb9190",
      "execution_count": null,
      "outputs": []
    },
    {
      "cell_type": "markdown",
      "metadata": {
        "id": "7c1d46b7"
      },
      "source": [
        "<div class=\"alert alert-info\" style=\"background-color:#006666; color:white; padding:0px 10px; border-radius:5px;\"><h2 style='margin:7px 5px; font-size:16px'>Mini Challenge 2</h2>\n",
        "</div>\n",
        "\n",
        "1. Generate 100 random numbers (`data_n`) that follow a normal distribution with mean 10 and standard deviation of 3. \n",
        "\n",
        "2. Use bootstrap sampling 1000 times from above output and compute the mean and the standard deviation of the mean."
      ],
      "id": "7c1d46b7"
    },
    {
      "cell_type": "markdown",
      "metadata": {
        "id": "f3a99d61"
      },
      "source": [
        "__Solution__"
      ],
      "id": "f3a99d61"
    },
    {
      "cell_type": "code",
      "metadata": {
        "id": "730f80a3"
      },
      "source": [
        ""
      ],
      "id": "730f80a3",
      "execution_count": null,
      "outputs": []
    },
    {
      "cell_type": "code",
      "metadata": {
        "id": "7a3bbbb1"
      },
      "source": [
        ""
      ],
      "id": "7a3bbbb1",
      "execution_count": null,
      "outputs": []
    },
    {
      "cell_type": "code",
      "metadata": {
        "id": "4d60519c"
      },
      "source": [
        ""
      ],
      "id": "4d60519c",
      "execution_count": null,
      "outputs": []
    },
    {
      "cell_type": "code",
      "metadata": {
        "id": "f17a1f73"
      },
      "source": [
        ""
      ],
      "id": "f17a1f73",
      "execution_count": null,
      "outputs": []
    },
    {
      "cell_type": "code",
      "metadata": {
        "id": "ee193e7b"
      },
      "source": [
        ""
      ],
      "id": "ee193e7b",
      "execution_count": null,
      "outputs": []
    },
    {
      "cell_type": "code",
      "metadata": {
        "id": "065b53cf"
      },
      "source": [
        ""
      ],
      "id": "065b53cf",
      "execution_count": null,
      "outputs": []
    },
    {
      "cell_type": "code",
      "metadata": {
        "id": "bf00b3f8"
      },
      "source": [
        ""
      ],
      "id": "bf00b3f8",
      "execution_count": null,
      "outputs": []
    },
    {
      "cell_type": "code",
      "metadata": {
        "id": "f06af98a"
      },
      "source": [
        ""
      ],
      "id": "f06af98a",
      "execution_count": null,
      "outputs": []
    },
    {
      "cell_type": "code",
      "metadata": {
        "id": "2831f991"
      },
      "source": [
        ""
      ],
      "id": "2831f991",
      "execution_count": null,
      "outputs": []
    },
    {
      "cell_type": "code",
      "metadata": {
        "id": "ca5a26ed"
      },
      "source": [
        ""
      ],
      "id": "ca5a26ed",
      "execution_count": null,
      "outputs": []
    },
    {
      "cell_type": "code",
      "metadata": {
        "id": "10672325"
      },
      "source": [
        ""
      ],
      "id": "10672325",
      "execution_count": null,
      "outputs": []
    },
    {
      "cell_type": "code",
      "metadata": {
        "id": "58d2c2e3"
      },
      "source": [
        ""
      ],
      "id": "58d2c2e3",
      "execution_count": null,
      "outputs": []
    },
    {
      "cell_type": "code",
      "metadata": {
        "id": "993d1409"
      },
      "source": [
        ""
      ],
      "id": "993d1409",
      "execution_count": null,
      "outputs": []
    },
    {
      "cell_type": "code",
      "metadata": {
        "id": "0662dff0",
        "outputId": "f7a720e1-7c77-4338-a8f4-adfd2bdbf116"
      },
      "source": [
        "import numpy as np\n",
        "data_n = np.random.normal(10, 3, 100)\n",
        "data_n"
      ],
      "id": "0662dff0",
      "execution_count": null,
      "outputs": [
        {
          "data": {
            "text/plain": [
              "array([ 7.75453243,  3.5759196 ,  9.53224647,  6.14113464, 10.20259692,\n",
              "       13.75747758, 10.93215016,  5.88033209, 10.69685354,  4.31944007,\n",
              "       10.01068625,  9.58850436,  9.18886794, 13.70423692,  9.22768641,\n",
              "       10.07749349, 10.97060869,  9.27591025,  5.92435502,  7.77194373,\n",
              "        9.9664112 ,  9.73787427, 14.30895305, 12.05613834, 14.15871338,\n",
              "        4.46024126, 14.97678196,  6.0828211 ,  6.87280248, 11.85597568,\n",
              "       11.10165099,  6.69915302,  6.84440074, 10.83924562, 10.57822769,\n",
              "        9.43575776, 12.69395641,  2.63369016,  6.7677064 ,  8.42914116,\n",
              "       11.05925318,  8.17385028,  8.14370806,  8.98412422,  8.95833153,\n",
              "       11.81357326,  3.32738705, 10.88071064,  7.90079055, 13.1834624 ,\n",
              "        9.43228554, 13.67184161,  8.01873561,  8.86724657, 11.63876618,\n",
              "        8.04383916,  7.02802211,  7.68772149, 14.88165066, 11.159291  ,\n",
              "       11.52325082,  7.6236629 ,  9.63637252, 11.01523607, 12.39107373,\n",
              "        7.34111237,  6.73885083, 10.77987745, 10.42818758, 14.58618731,\n",
              "       11.82499735,  6.07210988, 14.07721836,  9.80003027, 11.84675542,\n",
              "        4.02040917,  8.65155627,  5.94233155, 10.95726493,  9.27807618,\n",
              "        6.48794301, 12.97224019, 13.38333957,  5.15103846,  2.94586897,\n",
              "        7.72651805,  7.34853815, 14.50875754,  9.71036988, 16.49922757,\n",
              "       10.86056761, 14.4572071 ,  8.09142708, 11.53530766,  7.11231804,\n",
              "        6.0214027 , 10.65942563, 10.75152787,  6.95191415, 17.32054753])"
            ]
          },
          "execution_count": 1,
          "metadata": {},
          "output_type": "execute_result"
        }
      ]
    },
    {
      "cell_type": "code",
      "metadata": {
        "id": "097b3d7f",
        "outputId": "049e046e-6be3-4029-d9ad-a6c00917ce0f"
      },
      "source": [
        "means = []\n",
        "np.random.seed(100)\n",
        "for i in range(1000000):\n",
        "    sample = np.random.choice(data_n, size=len(data_n), replace=True)\n",
        "    means.append(np.mean(sample))\n",
        "\n",
        "means[:10]"
      ],
      "id": "097b3d7f",
      "execution_count": null,
      "outputs": [
        {
          "data": {
            "text/plain": [
              "[9.280363329478131,\n",
              " 9.748567088379383,\n",
              " 9.691346508631431,\n",
              " 9.83400554493937,\n",
              " 9.273495718917554,\n",
              " 8.89878926174921,\n",
              " 9.794829318498183,\n",
              " 9.36260482981659,\n",
              " 9.138047383822297,\n",
              " 9.94155346253704]"
            ]
          },
          "execution_count": 2,
          "metadata": {},
          "output_type": "execute_result"
        }
      ]
    },
    {
      "cell_type": "code",
      "metadata": {
        "id": "7ce5b2e6",
        "outputId": "930180a1-3191-476d-edd9-93b53a40df0d"
      },
      "source": [
        "np.std(means)"
      ],
      "id": "7ce5b2e6",
      "execution_count": null,
      "outputs": [
        {
          "data": {
            "text/plain": [
              "0.3081309862497537"
            ]
          },
          "execution_count": 3,
          "metadata": {},
          "output_type": "execute_result"
        }
      ]
    }
  ]
}