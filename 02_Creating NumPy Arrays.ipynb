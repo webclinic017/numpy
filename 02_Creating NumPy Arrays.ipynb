{
  "nbformat": 4,
  "nbformat_minor": 5,
  "metadata": {
    "hide_input": false,
    "kernelspec": {
      "display_name": "Python 3",
      "language": "python",
      "name": "python3"
    },
    "language_info": {
      "codemirror_mode": {
        "name": "ipython",
        "version": 3
      },
      "file_extension": ".py",
      "mimetype": "text/x-python",
      "name": "python",
      "nbconvert_exporter": "python",
      "pygments_lexer": "ipython3",
      "version": "3.7.10"
    },
    "toc": {
      "base_numbering": 1,
      "nav_menu": {},
      "number_sections": false,
      "sideBar": true,
      "skip_h1_title": true,
      "title_cell": "Table of Contents",
      "title_sidebar": "Contents",
      "toc_cell": false,
      "toc_position": {},
      "toc_section_display": true,
      "toc_window_display": false
    },
    "colab": {
      "name": "02_Creating NumPy Arrays.ipynb",
      "provenance": []
    }
  },
  "cells": [
    {
      "cell_type": "markdown",
      "metadata": {
        "id": "f4fe408e"
      },
      "source": [
        "<div style=\"color:#006666; padding:0px 10px; border-radius:5px; font-size:18px; text-align:center\"><h1 style='margin:10px 5px'>Creating NumPy Arrays</h1>\n",
        "<hr>\n",
        "<p style=\"color:#006666; text-align:right;font-size:10px\">\n",
        "Copyright by MachineLearningPlus. All Rights Reserved.\n",
        "</p>\n",
        "\n",
        "</div>"
      ],
      "id": "f4fe408e"
    },
    {
      "cell_type": "markdown",
      "metadata": {
        "id": "638df7d9"
      },
      "source": [
        "<div class=\"alert alert-info\" style=\"background-color:#006666; color:white; padding:0px 10px; border-radius:5px;\"><h2 style='margin:7px 5px; font-size:16px'>What is NumPy Array?</h2>\n",
        "</div>"
      ],
      "id": "638df7d9"
    },
    {
      "cell_type": "markdown",
      "metadata": {
        "id": "9886545f"
      },
      "source": [
        "NumPy arrays are datastructures to store multi-dimensional data. They are homogeneous and perform vectorized operations by default."
      ],
      "id": "9886545f"
    },
    {
      "cell_type": "markdown",
      "metadata": {
        "id": "601d9d1b"
      },
      "source": [
        "<div class=\"alert alert-info\" style=\"background-color:#006666; color:white; padding:0px 10px; border-radius:5px;\"><h2 style='margin:7px 5px; font-size:16px'>Create NumPy array from a list</h2>\n",
        "</div>"
      ],
      "id": "601d9d1b"
    },
    {
      "cell_type": "code",
      "metadata": {
        "id": "94e472ea"
      },
      "source": [
        "import numpy as np"
      ],
      "id": "94e472ea",
      "execution_count": 1,
      "outputs": []
    },
    {
      "cell_type": "code",
      "metadata": {
        "id": "6b3fac3f",
        "outputId": "0fd63f0a-9e16-4784-c51a-72e137c7ada3",
        "colab": {
          "base_uri": "https://localhost:8080/"
        }
      },
      "source": [
        "L = [1, 2, 3, 4]\n",
        "arr = np.array(L)\n",
        "arr"
      ],
      "id": "6b3fac3f",
      "execution_count": 2,
      "outputs": [
        {
          "output_type": "execute_result",
          "data": {
            "text/plain": [
              "array([1, 2, 3, 4])"
            ]
          },
          "metadata": {},
          "execution_count": 2
        }
      ]
    },
    {
      "cell_type": "markdown",
      "metadata": {
        "id": "15f8e191"
      },
      "source": [
        "__Check Type__"
      ],
      "id": "15f8e191"
    },
    {
      "cell_type": "code",
      "metadata": {
        "id": "3f3ea7d0",
        "outputId": "8fe7200f-1fb8-4eaa-d435-ae18fb3d6a7c"
      },
      "source": [
        "type(arr)"
      ],
      "id": "3f3ea7d0",
      "execution_count": null,
      "outputs": [
        {
          "data": {
            "text/plain": [
              "numpy.ndarray"
            ]
          },
          "execution_count": 3,
          "metadata": {},
          "output_type": "execute_result"
        }
      ]
    },
    {
      "cell_type": "markdown",
      "metadata": {
        "id": "917a8c12"
      },
      "source": [
        "__Vectorized Multiplication works__"
      ],
      "id": "917a8c12"
    },
    {
      "cell_type": "code",
      "metadata": {
        "id": "4294fe18",
        "outputId": "15217e77-4bf4-4d19-d93b-bd4da20a3cb1"
      },
      "source": [
        "# A list replicates\n",
        "L * 2"
      ],
      "id": "4294fe18",
      "execution_count": null,
      "outputs": [
        {
          "data": {
            "text/plain": [
              "[1, 2, 3, 4, 1, 2, 3, 4]"
            ]
          },
          "execution_count": 4,
          "metadata": {},
          "output_type": "execute_result"
        }
      ]
    },
    {
      "cell_type": "code",
      "metadata": {
        "id": "f6cecb30",
        "outputId": "54f3e262-af1e-4ec1-a15e-1ea8fe0ca2ef"
      },
      "source": [
        "arr * 2"
      ],
      "id": "f6cecb30",
      "execution_count": null,
      "outputs": [
        {
          "data": {
            "text/plain": [
              "array([2, 4, 6, 8])"
            ]
          },
          "execution_count": 5,
          "metadata": {},
          "output_type": "execute_result"
        }
      ]
    },
    {
      "cell_type": "code",
      "metadata": {
        "id": "a61f9179",
        "outputId": "36ba9f81-f6d3-4d13-ca4d-89b70df5179b"
      },
      "source": [
        "# possible with list comprehension or For loop\n",
        "[2*i for i in L]"
      ],
      "id": "a61f9179",
      "execution_count": null,
      "outputs": [
        {
          "data": {
            "text/plain": [
              "[2, 4, 6, 8]"
            ]
          },
          "execution_count": 6,
          "metadata": {},
          "output_type": "execute_result"
        }
      ]
    },
    {
      "cell_type": "markdown",
      "metadata": {
        "id": "323043a7"
      },
      "source": [
        "__Subset array__"
      ],
      "id": "323043a7"
    },
    {
      "cell_type": "code",
      "metadata": {
        "id": "f862f166",
        "outputId": "3d444b76-2b2d-457c-b57e-70a2501d8d50"
      },
      "source": [
        "arr[1:3]"
      ],
      "id": "f862f166",
      "execution_count": null,
      "outputs": [
        {
          "data": {
            "text/plain": [
              "array([2, 3])"
            ]
          },
          "execution_count": 7,
          "metadata": {},
          "output_type": "execute_result"
        }
      ]
    },
    {
      "cell_type": "markdown",
      "metadata": {
        "id": "6e01d08e"
      },
      "source": [
        "__Negative indexing is supported__"
      ],
      "id": "6e01d08e"
    },
    {
      "cell_type": "code",
      "metadata": {
        "id": "9349e211",
        "outputId": "20810bc6-5284-4781-fc44-055ba0bafde2"
      },
      "source": [
        "arr[-3:-1]"
      ],
      "id": "9349e211",
      "execution_count": null,
      "outputs": [
        {
          "data": {
            "text/plain": [
              "array([2, 3])"
            ]
          },
          "execution_count": 8,
          "metadata": {},
          "output_type": "execute_result"
        }
      ]
    },
    {
      "cell_type": "markdown",
      "metadata": {
        "id": "80d24707"
      },
      "source": [
        "__Reversing__"
      ],
      "id": "80d24707"
    },
    {
      "cell_type": "code",
      "metadata": {
        "id": "b5282066",
        "outputId": "2169b242-7ac3-4bde-8bd2-e0b50d29412b"
      },
      "source": [
        "arr[-1:1:-1]"
      ],
      "id": "b5282066",
      "execution_count": null,
      "outputs": [
        {
          "data": {
            "text/plain": [
              "array([4, 3])"
            ]
          },
          "execution_count": 9,
          "metadata": {},
          "output_type": "execute_result"
        }
      ]
    },
    {
      "cell_type": "markdown",
      "metadata": {
        "id": "0eed0efc"
      },
      "source": [
        "__Arrays are homogenous__\n",
        "\n",
        "Creating with list containing both numbers and characters will convert the numbers to characters. Because, Numpy arrays are homogenous."
      ],
      "id": "0eed0efc"
    },
    {
      "cell_type": "code",
      "metadata": {
        "id": "e230132c",
        "outputId": "d40ef25c-95ed-4783-fc3d-6f8c98bc83fa"
      },
      "source": [
        "L = [1, 2, \"A\", \"B\"]\n",
        "arr = np.array(L)\n",
        "arr"
      ],
      "id": "e230132c",
      "execution_count": null,
      "outputs": [
        {
          "data": {
            "text/plain": [
              "array(['1', '2', 'A', 'B'], dtype='<U11')"
            ]
          },
          "execution_count": 10,
          "metadata": {},
          "output_type": "execute_result"
        }
      ]
    },
    {
      "cell_type": "markdown",
      "metadata": {
        "id": "8464dc25"
      },
      "source": [
        "Check data type"
      ],
      "id": "8464dc25"
    },
    {
      "cell_type": "code",
      "metadata": {
        "scrolled": true,
        "id": "338245cf",
        "outputId": "3fd6dce5-795b-43e7-966b-cc4dfe9ddb1a"
      },
      "source": [
        "arr.dtype"
      ],
      "id": "338245cf",
      "execution_count": null,
      "outputs": [
        {
          "data": {
            "text/plain": [
              "dtype('<U11')"
            ]
          },
          "execution_count": 11,
          "metadata": {},
          "output_type": "execute_result"
        }
      ]
    },
    {
      "cell_type": "markdown",
      "metadata": {
        "id": "91b9592a"
      },
      "source": [
        "Integer array"
      ],
      "id": "91b9592a"
    },
    {
      "cell_type": "code",
      "metadata": {
        "id": "d908286c",
        "outputId": "b0e26453-7f45-416c-dad9-86810356a3b3"
      },
      "source": [
        "L = [1, 2, 3, 4]\n",
        "arr = np.array(L)\n",
        "arr.dtype"
      ],
      "id": "d908286c",
      "execution_count": null,
      "outputs": [
        {
          "data": {
            "text/plain": [
              "dtype('int32')"
            ]
          },
          "execution_count": 12,
          "metadata": {},
          "output_type": "execute_result"
        }
      ]
    },
    {
      "cell_type": "markdown",
      "metadata": {
        "id": "d631d2c5"
      },
      "source": [
        "<div class=\"alert alert-info\" style=\"background-color:#006666; color:white; padding:0px 10px; border-radius:5px;\"><h2 style='margin:7px 5px; font-size:16px'>Two Dimensional Arrays</h2>\n",
        "</div>"
      ],
      "id": "d631d2c5"
    },
    {
      "cell_type": "code",
      "metadata": {
        "id": "cd513eb2"
      },
      "source": [
        "L2 = [[1, 2, 3], \n",
        "      [4, 5, 6],\n",
        "      [7, 8, 9]]\n",
        "\n",
        "arr_L2 = np.array(L2)"
      ],
      "id": "cd513eb2",
      "execution_count": null,
      "outputs": []
    },
    {
      "cell_type": "code",
      "metadata": {
        "id": "dc8513b7",
        "outputId": "43170366-50eb-4e9d-e09d-81587dc97da6"
      },
      "source": [
        "arr_L2"
      ],
      "id": "dc8513b7",
      "execution_count": null,
      "outputs": [
        {
          "data": {
            "text/plain": [
              "array([[1, 2, 3],\n",
              "       [4, 5, 6],\n",
              "       [7, 8, 9]])"
            ]
          },
          "execution_count": 14,
          "metadata": {},
          "output_type": "execute_result"
        }
      ]
    },
    {
      "cell_type": "markdown",
      "metadata": {
        "id": "f8fa80c6"
      },
      "source": [
        "__Array Indexing__"
      ],
      "id": "f8fa80c6"
    },
    {
      "cell_type": "code",
      "metadata": {
        "id": "1ce0f43b",
        "outputId": "50114271-5178-4534-aef2-e31ac8e77dda"
      },
      "source": [
        "arr_L2[0, :]"
      ],
      "id": "1ce0f43b",
      "execution_count": null,
      "outputs": [
        {
          "data": {
            "text/plain": [
              "array([1, 2, 3])"
            ]
          },
          "execution_count": 16,
          "metadata": {},
          "output_type": "execute_result"
        }
      ]
    },
    {
      "cell_type": "code",
      "metadata": {
        "id": "350489ac",
        "outputId": "093362b0-b3f2-41bd-ec57-85feb1bea40b"
      },
      "source": [
        "arr_L2[:, 1]"
      ],
      "id": "350489ac",
      "execution_count": null,
      "outputs": [
        {
          "data": {
            "text/plain": [
              "array([2, 5, 8])"
            ]
          },
          "execution_count": 15,
          "metadata": {},
          "output_type": "execute_result"
        }
      ]
    },
    {
      "cell_type": "markdown",
      "metadata": {
        "id": "224eaba1"
      },
      "source": [
        "__Convert back to list__"
      ],
      "id": "224eaba1"
    },
    {
      "cell_type": "code",
      "metadata": {
        "id": "b788ddeb",
        "outputId": "100ad789-2fd8-4473-9c4e-cfff1d3de93c"
      },
      "source": [
        "arr_L2.tolist()"
      ],
      "id": "b788ddeb",
      "execution_count": null,
      "outputs": [
        {
          "data": {
            "text/plain": [
              "[[1, 2, 3], [4, 5, 6], [7, 8, 9]]"
            ]
          },
          "execution_count": 17,
          "metadata": {},
          "output_type": "execute_result"
        }
      ]
    },
    {
      "cell_type": "markdown",
      "metadata": {
        "id": "bc863322"
      },
      "source": [
        "<div class=\"alert alert-info\" style=\"background-color:#006666; color:white; padding:0px 10px; border-radius:5px;\"><h2 style='margin:7px 5px; font-size:16px'>Change DataType</h2>\n",
        "</div>"
      ],
      "id": "bc863322"
    },
    {
      "cell_type": "code",
      "metadata": {
        "id": "5ad84f11",
        "outputId": "6e45a986-c4aa-445c-bc71-daf835addfc4"
      },
      "source": [
        "# to string\n",
        "arr_L2.astype('str')"
      ],
      "id": "5ad84f11",
      "execution_count": null,
      "outputs": [
        {
          "data": {
            "text/plain": [
              "array([['1', '2', '3'],\n",
              "       ['4', '5', '6'],\n",
              "       ['7', '8', '9']], dtype='<U11')"
            ]
          },
          "execution_count": 18,
          "metadata": {},
          "output_type": "execute_result"
        }
      ]
    },
    {
      "cell_type": "code",
      "metadata": {
        "id": "d09ece61",
        "outputId": "54df0720-efee-4704-a4a5-9cf5f7dd9a84"
      },
      "source": [
        "# to float\n",
        "arr_L2.astype('float32')"
      ],
      "id": "d09ece61",
      "execution_count": null,
      "outputs": [
        {
          "data": {
            "text/plain": [
              "array([[1., 2., 3.],\n",
              "       [4., 5., 6.],\n",
              "       [7., 8., 9.]], dtype=float32)"
            ]
          },
          "execution_count": 19,
          "metadata": {},
          "output_type": "execute_result"
        }
      ]
    },
    {
      "cell_type": "markdown",
      "metadata": {
        "id": "e78f3a81"
      },
      "source": [
        "<div class=\"alert alert-info\" style=\"background-color:#006666; color:white; padding:0px 10px; border-radius:5px;\"><h2 style='margin:7px 5px; font-size:16px'>Math Operations</h2>\n",
        "</div>"
      ],
      "id": "e78f3a81"
    },
    {
      "cell_type": "code",
      "metadata": {
        "id": "8ee89edc",
        "outputId": "91c99e31-5e08-4179-98ba-9b5dabb94447"
      },
      "source": [
        "# Multiply\n",
        "arr_L2 * 2"
      ],
      "id": "8ee89edc",
      "execution_count": null,
      "outputs": [
        {
          "data": {
            "text/plain": [
              "array([[ 2,  4,  6],\n",
              "       [ 8, 10, 12],\n",
              "       [14, 16, 18]])"
            ]
          },
          "execution_count": 20,
          "metadata": {},
          "output_type": "execute_result"
        }
      ]
    },
    {
      "cell_type": "code",
      "metadata": {
        "id": "53018c0b",
        "outputId": "dbb11f08-7336-4b25-92f3-f217df0dc0f2"
      },
      "source": [
        "# Divide\n",
        "quarter = arr_L2 / 4\n",
        "quarter"
      ],
      "id": "53018c0b",
      "execution_count": null,
      "outputs": [
        {
          "data": {
            "text/plain": [
              "array([[0.25, 0.5 , 0.75],\n",
              "       [1.  , 1.25, 1.5 ],\n",
              "       [1.75, 2.  , 2.25]])"
            ]
          },
          "execution_count": 21,
          "metadata": {},
          "output_type": "execute_result"
        }
      ]
    },
    {
      "cell_type": "code",
      "metadata": {
        "id": "2efad629",
        "outputId": "4d4755af-9a71-4fd7-e261-a437a8917f53"
      },
      "source": [
        "# Subtract\n",
        "arr_L2 - quarter"
      ],
      "id": "2efad629",
      "execution_count": null,
      "outputs": [
        {
          "data": {
            "text/plain": [
              "array([[0.75, 1.5 , 2.25],\n",
              "       [3.  , 3.75, 4.5 ],\n",
              "       [5.25, 6.  , 6.75]])"
            ]
          },
          "execution_count": 22,
          "metadata": {},
          "output_type": "execute_result"
        }
      ]
    },
    {
      "cell_type": "code",
      "metadata": {
        "id": "551bd17a",
        "outputId": "152b29ff-1558-424b-b9b8-76c31c0545ea"
      },
      "source": [
        "# Add\n",
        "arr_L2 - quarter + arr_L2"
      ],
      "id": "551bd17a",
      "execution_count": null,
      "outputs": [
        {
          "data": {
            "text/plain": [
              "array([[ 1.75,  3.5 ,  5.25],\n",
              "       [ 7.  ,  8.75, 10.5 ],\n",
              "       [12.25, 14.  , 15.75]])"
            ]
          },
          "execution_count": 23,
          "metadata": {},
          "output_type": "execute_result"
        }
      ]
    },
    {
      "cell_type": "markdown",
      "metadata": {
        "id": "985d4513"
      },
      "source": [
        "<div class=\"alert alert-info\" style=\"background-color:#006666; color:white; padding:0px 10px; border-radius:5px;\"><h2 style='margin:7px 5px; font-size:16px'>Create Zeros and Ones Arrays</h2>\n",
        "</div>"
      ],
      "id": "985d4513"
    },
    {
      "cell_type": "markdown",
      "metadata": {
        "id": "565d7257"
      },
      "source": [
        "__Zeros__"
      ],
      "id": "565d7257"
    },
    {
      "cell_type": "code",
      "metadata": {
        "id": "be9accc7",
        "outputId": "81017efd-def8-4f0f-d900-5776d4a1629e"
      },
      "source": [
        "np.zeros_like(arr_L2)"
      ],
      "id": "be9accc7",
      "execution_count": null,
      "outputs": [
        {
          "data": {
            "text/plain": [
              "array([[0, 0, 0],\n",
              "       [0, 0, 0],\n",
              "       [0, 0, 0]])"
            ]
          },
          "execution_count": 24,
          "metadata": {},
          "output_type": "execute_result"
        }
      ]
    },
    {
      "cell_type": "code",
      "metadata": {
        "id": "d755eb20",
        "outputId": "0a7a85c0-dde9-4efb-a336-9b8ff2703200"
      },
      "source": [
        "np.zeros((3,3))"
      ],
      "id": "d755eb20",
      "execution_count": null,
      "outputs": [
        {
          "data": {
            "text/plain": [
              "array([[0., 0., 0.],\n",
              "       [0., 0., 0.],\n",
              "       [0., 0., 0.]])"
            ]
          },
          "execution_count": 25,
          "metadata": {},
          "output_type": "execute_result"
        }
      ]
    },
    {
      "cell_type": "markdown",
      "metadata": {
        "id": "6b095028"
      },
      "source": [
        "__Ones__"
      ],
      "id": "6b095028"
    },
    {
      "cell_type": "code",
      "metadata": {
        "id": "2c437613",
        "outputId": "b4a079ef-5a72-4c74-c149-da3b66091f83"
      },
      "source": [
        "np.ones((3, 3))"
      ],
      "id": "2c437613",
      "execution_count": null,
      "outputs": [
        {
          "data": {
            "text/plain": [
              "array([[1., 1., 1.],\n",
              "       [1., 1., 1.],\n",
              "       [1., 1., 1.]])"
            ]
          },
          "execution_count": 26,
          "metadata": {},
          "output_type": "execute_result"
        }
      ]
    },
    {
      "cell_type": "code",
      "metadata": {
        "id": "f19842e6",
        "outputId": "6e25c15c-acf5-445f-ea20-9dc68713947a"
      },
      "source": [
        "np.ones_like(arr_L2)"
      ],
      "id": "f19842e6",
      "execution_count": null,
      "outputs": [
        {
          "data": {
            "text/plain": [
              "array([[1, 1, 1],\n",
              "       [1, 1, 1],\n",
              "       [1, 1, 1]])"
            ]
          },
          "execution_count": 27,
          "metadata": {},
          "output_type": "execute_result"
        }
      ]
    },
    {
      "cell_type": "code",
      "metadata": {
        "id": "698d892b",
        "outputId": "a42b45cb-d394-4603-e293-4f6743f73f36"
      },
      "source": [
        "np.empty((3,3))"
      ],
      "id": "698d892b",
      "execution_count": null,
      "outputs": [
        {
          "data": {
            "text/plain": [
              "array([[1., 1., 1.],\n",
              "       [1., 1., 1.],\n",
              "       [1., 1., 1.]])"
            ]
          },
          "execution_count": 28,
          "metadata": {},
          "output_type": "execute_result"
        }
      ]
    },
    {
      "cell_type": "markdown",
      "metadata": {
        "id": "9e633548"
      },
      "source": [
        "__Diagonal__"
      ],
      "id": "9e633548"
    },
    {
      "cell_type": "code",
      "metadata": {
        "id": "5514344c",
        "outputId": "5b42aaab-a03f-4345-c752-cf22cf242965"
      },
      "source": [
        "np.diag(arr_L2)"
      ],
      "id": "5514344c",
      "execution_count": null,
      "outputs": [
        {
          "data": {
            "text/plain": [
              "array([1, 5, 9])"
            ]
          },
          "execution_count": 29,
          "metadata": {},
          "output_type": "execute_result"
        }
      ]
    },
    {
      "cell_type": "code",
      "metadata": {
        "id": "505a58cd"
      },
      "source": [
        ""
      ],
      "id": "505a58cd",
      "execution_count": null,
      "outputs": []
    }
  ]
}