{
 "cells": [
  {
   "cell_type": "markdown",
   "id": "f4fe408e",
   "metadata": {},
   "source": [
    "<div style=\"color:#006666; padding:0px 10px; border-radius:5px; font-size:18px; text-align:center\"><h1 style='margin:10px 5px'>Creating NumPy Arrays</h1>\n",
    "<hr>\n",
    "<p style=\"color:#006666; text-align:right;font-size:10px\">\n",
    "Copyright by MachineLearningPlus. All Rights Reserved.\n",
    "</p>\n",
    "\n",
    "</div>"
   ]
  },
  {
   "cell_type": "markdown",
   "id": "638df7d9",
   "metadata": {},
   "source": [
    "<div class=\"alert alert-info\" style=\"background-color:#006666; color:white; padding:0px 10px; border-radius:5px;\"><h2 style='margin:7px 5px; font-size:16px'>What is NumPy Array?</h2>\n",
    "</div>"
   ]
  },
  {
   "cell_type": "markdown",
   "id": "9886545f",
   "metadata": {},
   "source": [
    "NumPy arrays are datastructures to store multi-dimensional data. They are homogeneous and perform vectorized operations by default."
   ]
  },
  {
   "cell_type": "markdown",
   "id": "601d9d1b",
   "metadata": {},
   "source": [
    "<div class=\"alert alert-info\" style=\"background-color:#006666; color:white; padding:0px 10px; border-radius:5px;\"><h2 style='margin:7px 5px; font-size:16px'>Create NumPy array from a list</h2>\n",
    "</div>"
   ]
  },
  {
   "cell_type": "code",
   "execution_count": 1,
   "id": "94e472ea",
   "metadata": {},
   "outputs": [],
   "source": [
    "import numpy as np"
   ]
  },
  {
   "cell_type": "code",
   "execution_count": 2,
   "id": "6b3fac3f",
   "metadata": {},
   "outputs": [
    {
     "data": {
      "text/plain": [
       "array([1, 2, 3, 4])"
      ]
     },
     "execution_count": 2,
     "metadata": {},
     "output_type": "execute_result"
    }
   ],
   "source": [
    "L = [1, 2, 3, 4]\n",
    "arr = np.array(L)\n",
    "arr"
   ]
  },
  {
   "cell_type": "markdown",
   "id": "15f8e191",
   "metadata": {},
   "source": [
    "__Check Type__"
   ]
  },
  {
   "cell_type": "code",
   "execution_count": 3,
   "id": "3f3ea7d0",
   "metadata": {},
   "outputs": [
    {
     "data": {
      "text/plain": [
       "numpy.ndarray"
      ]
     },
     "execution_count": 3,
     "metadata": {},
     "output_type": "execute_result"
    }
   ],
   "source": [
    "type(arr)"
   ]
  },
  {
   "cell_type": "markdown",
   "id": "917a8c12",
   "metadata": {},
   "source": [
    "__Vectorized Multiplication works__"
   ]
  },
  {
   "cell_type": "code",
   "execution_count": 4,
   "id": "4294fe18",
   "metadata": {},
   "outputs": [
    {
     "data": {
      "text/plain": [
       "[1, 2, 3, 4, 1, 2, 3, 4]"
      ]
     },
     "execution_count": 4,
     "metadata": {},
     "output_type": "execute_result"
    }
   ],
   "source": [
    "# A list replicates\n",
    "L * 2"
   ]
  },
  {
   "cell_type": "code",
   "execution_count": 5,
   "id": "f6cecb30",
   "metadata": {},
   "outputs": [
    {
     "data": {
      "text/plain": [
       "array([2, 4, 6, 8])"
      ]
     },
     "execution_count": 5,
     "metadata": {},
     "output_type": "execute_result"
    }
   ],
   "source": [
    "arr * 2"
   ]
  },
  {
   "cell_type": "code",
   "execution_count": 6,
   "id": "a61f9179",
   "metadata": {},
   "outputs": [
    {
     "data": {
      "text/plain": [
       "[2, 4, 6, 8]"
      ]
     },
     "execution_count": 6,
     "metadata": {},
     "output_type": "execute_result"
    }
   ],
   "source": [
    "# possible with list comprehension or For loop\n",
    "[2*i for i in L]"
   ]
  },
  {
   "cell_type": "markdown",
   "id": "323043a7",
   "metadata": {},
   "source": [
    "__Subset array__"
   ]
  },
  {
   "cell_type": "code",
   "execution_count": 7,
   "id": "f862f166",
   "metadata": {},
   "outputs": [
    {
     "data": {
      "text/plain": [
       "array([2, 3])"
      ]
     },
     "execution_count": 7,
     "metadata": {},
     "output_type": "execute_result"
    }
   ],
   "source": [
    "arr[1:3]"
   ]
  },
  {
   "cell_type": "markdown",
   "id": "6e01d08e",
   "metadata": {},
   "source": [
    "__Negative indexing is supported__"
   ]
  },
  {
   "cell_type": "code",
   "execution_count": 8,
   "id": "9349e211",
   "metadata": {},
   "outputs": [
    {
     "data": {
      "text/plain": [
       "array([2, 3])"
      ]
     },
     "execution_count": 8,
     "metadata": {},
     "output_type": "execute_result"
    }
   ],
   "source": [
    "arr[-3:-1]"
   ]
  },
  {
   "cell_type": "markdown",
   "id": "80d24707",
   "metadata": {},
   "source": [
    "__Reversing__"
   ]
  },
  {
   "cell_type": "code",
   "execution_count": 9,
   "id": "b5282066",
   "metadata": {},
   "outputs": [
    {
     "data": {
      "text/plain": [
       "array([4, 3])"
      ]
     },
     "execution_count": 9,
     "metadata": {},
     "output_type": "execute_result"
    }
   ],
   "source": [
    "arr[-1:1:-1]"
   ]
  },
  {
   "cell_type": "markdown",
   "id": "0eed0efc",
   "metadata": {},
   "source": [
    "__Arrays are homogenous__\n",
    "\n",
    "Creating with list containing both numbers and characters will convert the numbers to characters. Because, Numpy arrays are homogenous."
   ]
  },
  {
   "cell_type": "code",
   "execution_count": 10,
   "id": "e230132c",
   "metadata": {},
   "outputs": [
    {
     "data": {
      "text/plain": [
       "array(['1', '2', 'A', 'B'], dtype='<U11')"
      ]
     },
     "execution_count": 10,
     "metadata": {},
     "output_type": "execute_result"
    }
   ],
   "source": [
    "L = [1, 2, \"A\", \"B\"]\n",
    "arr = np.array(L)\n",
    "arr"
   ]
  },
  {
   "cell_type": "markdown",
   "id": "8464dc25",
   "metadata": {},
   "source": [
    "Check data type"
   ]
  },
  {
   "cell_type": "code",
   "execution_count": 11,
   "id": "338245cf",
   "metadata": {
    "scrolled": true
   },
   "outputs": [
    {
     "data": {
      "text/plain": [
       "dtype('<U11')"
      ]
     },
     "execution_count": 11,
     "metadata": {},
     "output_type": "execute_result"
    }
   ],
   "source": [
    "arr.dtype"
   ]
  },
  {
   "cell_type": "markdown",
   "id": "91b9592a",
   "metadata": {},
   "source": [
    "Integer array"
   ]
  },
  {
   "cell_type": "code",
   "execution_count": 12,
   "id": "d908286c",
   "metadata": {},
   "outputs": [
    {
     "data": {
      "text/plain": [
       "dtype('int32')"
      ]
     },
     "execution_count": 12,
     "metadata": {},
     "output_type": "execute_result"
    }
   ],
   "source": [
    "L = [1, 2, 3, 4]\n",
    "arr = np.array(L)\n",
    "arr.dtype"
   ]
  },
  {
   "cell_type": "markdown",
   "id": "d631d2c5",
   "metadata": {},
   "source": [
    "<div class=\"alert alert-info\" style=\"background-color:#006666; color:white; padding:0px 10px; border-radius:5px;\"><h2 style='margin:7px 5px; font-size:16px'>Two Dimensional Arrays</h2>\n",
    "</div>"
   ]
  },
  {
   "cell_type": "code",
   "execution_count": 13,
   "id": "cd513eb2",
   "metadata": {},
   "outputs": [],
   "source": [
    "L2 = [[1, 2, 3], \n",
    "      [4, 5, 6],\n",
    "      [7, 8, 9]]\n",
    "\n",
    "arr_L2 = np.array(L2)"
   ]
  },
  {
   "cell_type": "code",
   "execution_count": 14,
   "id": "dc8513b7",
   "metadata": {},
   "outputs": [
    {
     "data": {
      "text/plain": [
       "array([[1, 2, 3],\n",
       "       [4, 5, 6],\n",
       "       [7, 8, 9]])"
      ]
     },
     "execution_count": 14,
     "metadata": {},
     "output_type": "execute_result"
    }
   ],
   "source": [
    "arr_L2"
   ]
  },
  {
   "cell_type": "markdown",
   "id": "f8fa80c6",
   "metadata": {},
   "source": [
    "__Array Indexing__"
   ]
  },
  {
   "cell_type": "code",
   "execution_count": 16,
   "id": "1ce0f43b",
   "metadata": {},
   "outputs": [
    {
     "data": {
      "text/plain": [
       "array([1, 2, 3])"
      ]
     },
     "execution_count": 16,
     "metadata": {},
     "output_type": "execute_result"
    }
   ],
   "source": [
    "arr_L2[0, :]"
   ]
  },
  {
   "cell_type": "code",
   "execution_count": 15,
   "id": "350489ac",
   "metadata": {},
   "outputs": [
    {
     "data": {
      "text/plain": [
       "array([2, 5, 8])"
      ]
     },
     "execution_count": 15,
     "metadata": {},
     "output_type": "execute_result"
    }
   ],
   "source": [
    "arr_L2[:, 1]"
   ]
  },
  {
   "cell_type": "markdown",
   "id": "224eaba1",
   "metadata": {},
   "source": [
    "__Convert back to list__"
   ]
  },
  {
   "cell_type": "code",
   "execution_count": 17,
   "id": "b788ddeb",
   "metadata": {},
   "outputs": [
    {
     "data": {
      "text/plain": [
       "[[1, 2, 3], [4, 5, 6], [7, 8, 9]]"
      ]
     },
     "execution_count": 17,
     "metadata": {},
     "output_type": "execute_result"
    }
   ],
   "source": [
    "arr_L2.tolist()"
   ]
  },
  {
   "cell_type": "markdown",
   "id": "bc863322",
   "metadata": {},
   "source": [
    "<div class=\"alert alert-info\" style=\"background-color:#006666; color:white; padding:0px 10px; border-radius:5px;\"><h2 style='margin:7px 5px; font-size:16px'>Change DataType</h2>\n",
    "</div>"
   ]
  },
  {
   "cell_type": "code",
   "execution_count": 18,
   "id": "5ad84f11",
   "metadata": {},
   "outputs": [
    {
     "data": {
      "text/plain": [
       "array([['1', '2', '3'],\n",
       "       ['4', '5', '6'],\n",
       "       ['7', '8', '9']], dtype='<U11')"
      ]
     },
     "execution_count": 18,
     "metadata": {},
     "output_type": "execute_result"
    }
   ],
   "source": [
    "# to string\n",
    "arr_L2.astype('str')"
   ]
  },
  {
   "cell_type": "code",
   "execution_count": 19,
   "id": "d09ece61",
   "metadata": {},
   "outputs": [
    {
     "data": {
      "text/plain": [
       "array([[1., 2., 3.],\n",
       "       [4., 5., 6.],\n",
       "       [7., 8., 9.]], dtype=float32)"
      ]
     },
     "execution_count": 19,
     "metadata": {},
     "output_type": "execute_result"
    }
   ],
   "source": [
    "# to float\n",
    "arr_L2.astype('float32')"
   ]
  },
  {
   "cell_type": "markdown",
   "id": "e78f3a81",
   "metadata": {},
   "source": [
    "<div class=\"alert alert-info\" style=\"background-color:#006666; color:white; padding:0px 10px; border-radius:5px;\"><h2 style='margin:7px 5px; font-size:16px'>Math Operations</h2>\n",
    "</div>"
   ]
  },
  {
   "cell_type": "code",
   "execution_count": 20,
   "id": "8ee89edc",
   "metadata": {},
   "outputs": [
    {
     "data": {
      "text/plain": [
       "array([[ 2,  4,  6],\n",
       "       [ 8, 10, 12],\n",
       "       [14, 16, 18]])"
      ]
     },
     "execution_count": 20,
     "metadata": {},
     "output_type": "execute_result"
    }
   ],
   "source": [
    "# Multiply\n",
    "arr_L2 * 2"
   ]
  },
  {
   "cell_type": "code",
   "execution_count": 21,
   "id": "53018c0b",
   "metadata": {},
   "outputs": [
    {
     "data": {
      "text/plain": [
       "array([[0.25, 0.5 , 0.75],\n",
       "       [1.  , 1.25, 1.5 ],\n",
       "       [1.75, 2.  , 2.25]])"
      ]
     },
     "execution_count": 21,
     "metadata": {},
     "output_type": "execute_result"
    }
   ],
   "source": [
    "# Divide\n",
    "quarter = arr_L2 / 4\n",
    "quarter"
   ]
  },
  {
   "cell_type": "code",
   "execution_count": 22,
   "id": "2efad629",
   "metadata": {},
   "outputs": [
    {
     "data": {
      "text/plain": [
       "array([[0.75, 1.5 , 2.25],\n",
       "       [3.  , 3.75, 4.5 ],\n",
       "       [5.25, 6.  , 6.75]])"
      ]
     },
     "execution_count": 22,
     "metadata": {},
     "output_type": "execute_result"
    }
   ],
   "source": [
    "# Subtract\n",
    "arr_L2 - quarter"
   ]
  },
  {
   "cell_type": "code",
   "execution_count": 23,
   "id": "551bd17a",
   "metadata": {},
   "outputs": [
    {
     "data": {
      "text/plain": [
       "array([[ 1.75,  3.5 ,  5.25],\n",
       "       [ 7.  ,  8.75, 10.5 ],\n",
       "       [12.25, 14.  , 15.75]])"
      ]
     },
     "execution_count": 23,
     "metadata": {},
     "output_type": "execute_result"
    }
   ],
   "source": [
    "# Add\n",
    "arr_L2 - quarter + arr_L2"
   ]
  },
  {
   "cell_type": "markdown",
   "id": "985d4513",
   "metadata": {},
   "source": [
    "<div class=\"alert alert-info\" style=\"background-color:#006666; color:white; padding:0px 10px; border-radius:5px;\"><h2 style='margin:7px 5px; font-size:16px'>Create Zeros and Ones Arrays</h2>\n",
    "</div>"
   ]
  },
  {
   "cell_type": "markdown",
   "id": "565d7257",
   "metadata": {},
   "source": [
    "__Zeros__"
   ]
  },
  {
   "cell_type": "code",
   "execution_count": 24,
   "id": "be9accc7",
   "metadata": {},
   "outputs": [
    {
     "data": {
      "text/plain": [
       "array([[0, 0, 0],\n",
       "       [0, 0, 0],\n",
       "       [0, 0, 0]])"
      ]
     },
     "execution_count": 24,
     "metadata": {},
     "output_type": "execute_result"
    }
   ],
   "source": [
    "np.zeros_like(arr_L2)"
   ]
  },
  {
   "cell_type": "code",
   "execution_count": 25,
   "id": "d755eb20",
   "metadata": {},
   "outputs": [
    {
     "data": {
      "text/plain": [
       "array([[0., 0., 0.],\n",
       "       [0., 0., 0.],\n",
       "       [0., 0., 0.]])"
      ]
     },
     "execution_count": 25,
     "metadata": {},
     "output_type": "execute_result"
    }
   ],
   "source": [
    "np.zeros((3,3))"
   ]
  },
  {
   "cell_type": "markdown",
   "id": "6b095028",
   "metadata": {},
   "source": [
    "__Ones__"
   ]
  },
  {
   "cell_type": "code",
   "execution_count": 26,
   "id": "2c437613",
   "metadata": {},
   "outputs": [
    {
     "data": {
      "text/plain": [
       "array([[1., 1., 1.],\n",
       "       [1., 1., 1.],\n",
       "       [1., 1., 1.]])"
      ]
     },
     "execution_count": 26,
     "metadata": {},
     "output_type": "execute_result"
    }
   ],
   "source": [
    "np.ones((3, 3))"
   ]
  },
  {
   "cell_type": "code",
   "execution_count": 27,
   "id": "f19842e6",
   "metadata": {},
   "outputs": [
    {
     "data": {
      "text/plain": [
       "array([[1, 1, 1],\n",
       "       [1, 1, 1],\n",
       "       [1, 1, 1]])"
      ]
     },
     "execution_count": 27,
     "metadata": {},
     "output_type": "execute_result"
    }
   ],
   "source": [
    "np.ones_like(arr_L2)"
   ]
  },
  {
   "cell_type": "code",
   "execution_count": 28,
   "id": "698d892b",
   "metadata": {},
   "outputs": [
    {
     "data": {
      "text/plain": [
       "array([[1., 1., 1.],\n",
       "       [1., 1., 1.],\n",
       "       [1., 1., 1.]])"
      ]
     },
     "execution_count": 28,
     "metadata": {},
     "output_type": "execute_result"
    }
   ],
   "source": [
    "np.empty((3,3))"
   ]
  },
  {
   "cell_type": "markdown",
   "id": "9e633548",
   "metadata": {},
   "source": [
    "__Diagonal__"
   ]
  },
  {
   "cell_type": "code",
   "execution_count": 29,
   "id": "5514344c",
   "metadata": {},
   "outputs": [
    {
     "data": {
      "text/plain": [
       "array([1, 5, 9])"
      ]
     },
     "execution_count": 29,
     "metadata": {},
     "output_type": "execute_result"
    }
   ],
   "source": [
    "np.diag(arr_L2)"
   ]
  },
  {
   "cell_type": "code",
   "execution_count": null,
   "id": "505a58cd",
   "metadata": {},
   "outputs": [],
   "source": []
  }
 ],
 "metadata": {
  "hide_input": false,
  "kernelspec": {
   "display_name": "Python 3",
   "language": "python",
   "name": "python3"
  },
  "language_info": {
   "codemirror_mode": {
    "name": "ipython",
    "version": 3
   },
   "file_extension": ".py",
   "mimetype": "text/x-python",
   "name": "python",
   "nbconvert_exporter": "python",
   "pygments_lexer": "ipython3",
   "version": "3.7.10"
  },
  "toc": {
   "base_numbering": 1,
   "nav_menu": {},
   "number_sections": false,
   "sideBar": true,
   "skip_h1_title": true,
   "title_cell": "Table of Contents",
   "title_sidebar": "Contents",
   "toc_cell": false,
   "toc_position": {},
   "toc_section_display": true,
   "toc_window_display": false
  }
 },
 "nbformat": 4,
 "nbformat_minor": 5
}
