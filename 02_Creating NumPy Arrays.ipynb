{
  "nbformat": 4,
  "nbformat_minor": 5,
  "metadata": {
    "hide_input": false,
    "kernelspec": {
      "display_name": "Python 3",
      "language": "python",
      "name": "python3"
    },
    "language_info": {
      "codemirror_mode": {
        "name": "ipython",
        "version": 3
      },
      "file_extension": ".py",
      "mimetype": "text/x-python",
      "name": "python",
      "nbconvert_exporter": "python",
      "pygments_lexer": "ipython3",
      "version": "3.7.10"
    },
    "toc": {
      "base_numbering": 1,
      "nav_menu": {},
      "number_sections": false,
      "sideBar": true,
      "skip_h1_title": true,
      "title_cell": "Table of Contents",
      "title_sidebar": "Contents",
      "toc_cell": false,
      "toc_position": {},
      "toc_section_display": true,
      "toc_window_display": false
    },
    "colab": {
      "name": "02_Creating NumPy Arrays.ipynb",
      "provenance": [],
      "include_colab_link": true
    }
  },
  "cells": [
    {
      "cell_type": "markdown",
      "metadata": {
        "id": "view-in-github",
        "colab_type": "text"
      },
      "source": [
        "<a href=\"https://colab.research.google.com/github/patelsaumya/numpy/blob/master/02_Creating%20NumPy%20Arrays.ipynb\" target=\"_parent\"><img src=\"https://colab.research.google.com/assets/colab-badge.svg\" alt=\"Open In Colab\"/></a>"
      ]
    },
    {
      "cell_type": "markdown",
      "metadata": {
        "id": "f4fe408e"
      },
      "source": [
        "<div style=\"color:#006666; padding:0px 10px; border-radius:5px; font-size:18px; text-align:center\"><h1 style='margin:10px 5px'>Creating NumPy Arrays</h1>\n",
        "<hr>\n",
        "<p style=\"color:#006666; text-align:right;font-size:10px\">\n",
        "Copyright by MachineLearningPlus. All Rights Reserved.\n",
        "</p>\n",
        "\n",
        "</div>"
      ],
      "id": "f4fe408e"
    },
    {
      "cell_type": "markdown",
      "metadata": {
        "id": "638df7d9"
      },
      "source": [
        "<div class=\"alert alert-info\" style=\"background-color:#006666; color:white; padding:0px 10px; border-radius:5px;\"><h2 style='margin:7px 5px; font-size:16px'>What is NumPy Array?</h2>\n",
        "</div>"
      ],
      "id": "638df7d9"
    },
    {
      "cell_type": "markdown",
      "metadata": {
        "id": "9886545f"
      },
      "source": [
        "NumPy arrays are datastructures to store multi-dimensional data. They are homogeneous and perform vectorized operations by default."
      ],
      "id": "9886545f"
    },
    {
      "cell_type": "markdown",
      "metadata": {
        "id": "601d9d1b"
      },
      "source": [
        "<div class=\"alert alert-info\" style=\"background-color:#006666; color:white; padding:0px 10px; border-radius:5px;\"><h2 style='margin:7px 5px; font-size:16px'>Create NumPy array from a list</h2>\n",
        "</div>"
      ],
      "id": "601d9d1b"
    },
    {
      "cell_type": "code",
      "metadata": {
        "id": "94e472ea"
      },
      "source": [
        "import numpy as np"
      ],
      "id": "94e472ea",
      "execution_count": null,
      "outputs": []
    },
    {
      "cell_type": "code",
      "metadata": {
        "colab": {
          "base_uri": "https://localhost:8080/"
        },
        "id": "6b3fac3f",
        "outputId": "a2e4fc7f-5385-4796-c027-04a4bcef3a5c"
      },
      "source": [
        "L = [1, 2, 3, 4]\n",
        "arr = np.array(L)\n",
        "arr"
      ],
      "id": "6b3fac3f",
      "execution_count": null,
      "outputs": [
        {
          "output_type": "execute_result",
          "data": {
            "text/plain": [
              "array([1, 2, 3, 4])"
            ]
          },
          "metadata": {},
          "execution_count": 2
        }
      ]
    },
    {
      "cell_type": "markdown",
      "metadata": {
        "id": "15f8e191"
      },
      "source": [
        "__Check Type__"
      ],
      "id": "15f8e191"
    },
    {
      "cell_type": "code",
      "metadata": {
        "colab": {
          "base_uri": "https://localhost:8080/"
        },
        "id": "3f3ea7d0",
        "outputId": "2dd3d3cf-448e-42be-be01-6c85e39af189"
      },
      "source": [
        "type(arr)"
      ],
      "id": "3f3ea7d0",
      "execution_count": null,
      "outputs": [
        {
          "output_type": "execute_result",
          "data": {
            "text/plain": [
              "numpy.ndarray"
            ]
          },
          "metadata": {},
          "execution_count": 3
        }
      ]
    },
    {
      "cell_type": "markdown",
      "metadata": {
        "id": "917a8c12"
      },
      "source": [
        "__Vectorized Multiplication works__"
      ],
      "id": "917a8c12"
    },
    {
      "cell_type": "code",
      "metadata": {
        "colab": {
          "base_uri": "https://localhost:8080/"
        },
        "id": "4294fe18",
        "outputId": "997521c8-2bcf-4253-c66c-1799d6160d2a"
      },
      "source": [
        "# A list replicates\n",
        "L * 2"
      ],
      "id": "4294fe18",
      "execution_count": null,
      "outputs": [
        {
          "output_type": "execute_result",
          "data": {
            "text/plain": [
              "[1, 2, 3, 4, 1, 2, 3, 4]"
            ]
          },
          "metadata": {},
          "execution_count": 4
        }
      ]
    },
    {
      "cell_type": "code",
      "metadata": {
        "colab": {
          "base_uri": "https://localhost:8080/"
        },
        "id": "f6cecb30",
        "outputId": "35ff7ad3-e8e7-4635-a3eb-9385cc8f83d0"
      },
      "source": [
        "arr * 2"
      ],
      "id": "f6cecb30",
      "execution_count": null,
      "outputs": [
        {
          "output_type": "execute_result",
          "data": {
            "text/plain": [
              "array([2, 4, 6, 8])"
            ]
          },
          "metadata": {},
          "execution_count": 5
        }
      ]
    },
    {
      "cell_type": "code",
      "metadata": {
        "colab": {
          "base_uri": "https://localhost:8080/"
        },
        "id": "a61f9179",
        "outputId": "468c8729-ab10-4cb0-ae40-5f7227f45db2"
      },
      "source": [
        "# possible with list comprehension or For loop\n",
        "[2*i for i in L]"
      ],
      "id": "a61f9179",
      "execution_count": null,
      "outputs": [
        {
          "output_type": "execute_result",
          "data": {
            "text/plain": [
              "[2, 4, 6, 8]"
            ]
          },
          "metadata": {},
          "execution_count": 6
        }
      ]
    },
    {
      "cell_type": "markdown",
      "metadata": {
        "id": "323043a7"
      },
      "source": [
        "__Subset array__ (Slicing)\n",
        "\n",
        "start: stop: step\n",
        "\n",
        "[start, stop)\n",
        "\n",
        "__Start and Stop Markers__\n",
        "\n",
        "-1: Will put the marker at the end.\n",
        "\n",
        "-length: Will put the marker at the beginning.\n",
        "\n",
        "Note start and stop markers can be put past the index bounds, in which case the index-bound will be included.\n",
        "\n",
        "\n",
        "__Stepper__\n",
        "\n",
        "+ve step: step right (increasing order of index)\n",
        "\n",
        "-ve step: step left (decreasing order of index)"
      ],
      "id": "323043a7"
    },
    {
      "cell_type": "code",
      "metadata": {
        "colab": {
          "base_uri": "https://localhost:8080/"
        },
        "id": "f862f166",
        "outputId": "40af1120-2162-4547-d9e7-318c8aa64fe7"
      },
      "source": [
        "arr[1:3]"
      ],
      "id": "f862f166",
      "execution_count": null,
      "outputs": [
        {
          "output_type": "execute_result",
          "data": {
            "text/plain": [
              "array([2, 3])"
            ]
          },
          "metadata": {},
          "execution_count": 7
        }
      ]
    },
    {
      "cell_type": "code",
      "metadata": {
        "colab": {
          "base_uri": "https://localhost:8080/"
        },
        "id": "zvPUt-Z1_wVc",
        "outputId": "4a1004e0-94c9-478c-d502-7314cb8e154d"
      },
      "source": [
        "arr[1:1]"
      ],
      "id": "zvPUt-Z1_wVc",
      "execution_count": null,
      "outputs": [
        {
          "output_type": "execute_result",
          "data": {
            "text/plain": [
              "array([], dtype=int64)"
            ]
          },
          "metadata": {},
          "execution_count": 8
        }
      ]
    },
    {
      "cell_type": "markdown",
      "metadata": {
        "id": "6e01d08e"
      },
      "source": [
        "__Negative indexing is supported__"
      ],
      "id": "6e01d08e"
    },
    {
      "cell_type": "code",
      "metadata": {
        "colab": {
          "base_uri": "https://localhost:8080/"
        },
        "id": "9349e211",
        "outputId": "77ebd74a-e8db-424b-ed04-4b52797a4508"
      },
      "source": [
        "arr[-3:-1]"
      ],
      "id": "9349e211",
      "execution_count": null,
      "outputs": [
        {
          "output_type": "execute_result",
          "data": {
            "text/plain": [
              "array([2, 3])"
            ]
          },
          "metadata": {},
          "execution_count": 9
        }
      ]
    },
    {
      "cell_type": "code",
      "metadata": {
        "id": "xIy8MiEvAIZQ"
      },
      "source": [
        "l = [1,2,3,4,5,6]"
      ],
      "id": "xIy8MiEvAIZQ",
      "execution_count": null,
      "outputs": []
    },
    {
      "cell_type": "code",
      "metadata": {
        "colab": {
          "base_uri": "https://localhost:8080/"
        },
        "id": "2vtY7CsiAwY7",
        "outputId": "db952c4e-f66e-466f-a138-874dc7c2246f"
      },
      "source": [
        "l[0:10:1]"
      ],
      "id": "2vtY7CsiAwY7",
      "execution_count": null,
      "outputs": [
        {
          "output_type": "execute_result",
          "data": {
            "text/plain": [
              "[1, 2, 3, 4, 5, 6]"
            ]
          },
          "metadata": {},
          "execution_count": 11
        }
      ]
    },
    {
      "cell_type": "code",
      "metadata": {
        "colab": {
          "base_uri": "https://localhost:8080/"
        },
        "id": "10VDrp21BN94",
        "outputId": "8018823f-60ff-45c1-db71-6ce54d6a5bff"
      },
      "source": [
        "l[-1:-3:1]"
      ],
      "id": "10VDrp21BN94",
      "execution_count": null,
      "outputs": [
        {
          "output_type": "execute_result",
          "data": {
            "text/plain": [
              "[]"
            ]
          },
          "metadata": {},
          "execution_count": 12
        }
      ]
    },
    {
      "cell_type": "code",
      "metadata": {
        "colab": {
          "base_uri": "https://localhost:8080/"
        },
        "id": "vVUVu9vdANpK",
        "outputId": "3e4b0244-0d8b-4837-e300-616682617be9"
      },
      "source": [
        "l[10:-10:-1]"
      ],
      "id": "vVUVu9vdANpK",
      "execution_count": null,
      "outputs": [
        {
          "output_type": "execute_result",
          "data": {
            "text/plain": [
              "[6, 5, 4, 3, 2, 1]"
            ]
          },
          "metadata": {},
          "execution_count": 13
        }
      ]
    },
    {
      "cell_type": "code",
      "metadata": {
        "colab": {
          "base_uri": "https://localhost:8080/"
        },
        "id": "0dTcN6qzAgZ5",
        "outputId": "ac6954ba-411e-4628-cbf6-bb0735266b0c"
      },
      "source": [
        "l[10:-6:-1]"
      ],
      "id": "0dTcN6qzAgZ5",
      "execution_count": null,
      "outputs": [
        {
          "output_type": "execute_result",
          "data": {
            "text/plain": [
              "[6, 5, 4, 3, 2]"
            ]
          },
          "metadata": {},
          "execution_count": 14
        }
      ]
    },
    {
      "cell_type": "markdown",
      "metadata": {
        "id": "80d24707"
      },
      "source": [
        "__Reversing__"
      ],
      "id": "80d24707"
    },
    {
      "cell_type": "code",
      "metadata": {
        "colab": {
          "base_uri": "https://localhost:8080/"
        },
        "id": "b5282066",
        "outputId": "09b12610-d92d-4c19-b8c8-8bdacef7c77f"
      },
      "source": [
        "arr[-1:1:-1]"
      ],
      "id": "b5282066",
      "execution_count": null,
      "outputs": [
        {
          "output_type": "execute_result",
          "data": {
            "text/plain": [
              "array([4, 3])"
            ]
          },
          "metadata": {},
          "execution_count": 15
        }
      ]
    },
    {
      "cell_type": "markdown",
      "metadata": {
        "id": "0eed0efc"
      },
      "source": [
        "__Arrays are homogenous__\n",
        "\n",
        "Creating with list containing both numbers and characters will convert the numbers to characters. Because, Numpy arrays are homogenous."
      ],
      "id": "0eed0efc"
    },
    {
      "cell_type": "code",
      "metadata": {
        "colab": {
          "base_uri": "https://localhost:8080/"
        },
        "id": "e230132c",
        "outputId": "f118c577-5986-45d7-b597-e97f33b77b10"
      },
      "source": [
        "L = [1, 2, \"A\", \"B\"]\n",
        "arr = np.array(L)\n",
        "arr"
      ],
      "id": "e230132c",
      "execution_count": null,
      "outputs": [
        {
          "output_type": "execute_result",
          "data": {
            "text/plain": [
              "array(['1', '2', 'A', 'B'], dtype='<U21')"
            ]
          },
          "metadata": {},
          "execution_count": 16
        }
      ]
    },
    {
      "cell_type": "markdown",
      "metadata": {
        "id": "8464dc25"
      },
      "source": [
        "Check data type"
      ],
      "id": "8464dc25"
    },
    {
      "cell_type": "code",
      "metadata": {
        "scrolled": true,
        "colab": {
          "base_uri": "https://localhost:8080/"
        },
        "id": "338245cf",
        "outputId": "df8b8fc0-d9f5-4a23-f890-4eb31719f599"
      },
      "source": [
        "arr.dtype"
      ],
      "id": "338245cf",
      "execution_count": null,
      "outputs": [
        {
          "output_type": "execute_result",
          "data": {
            "text/plain": [
              "dtype('<U21')"
            ]
          },
          "metadata": {},
          "execution_count": 17
        }
      ]
    },
    {
      "cell_type": "markdown",
      "metadata": {
        "id": "91b9592a"
      },
      "source": [
        "Integer array"
      ],
      "id": "91b9592a"
    },
    {
      "cell_type": "code",
      "metadata": {
        "colab": {
          "base_uri": "https://localhost:8080/"
        },
        "id": "d908286c",
        "outputId": "16ed0396-4697-46fc-ea06-031552b5ee10"
      },
      "source": [
        "L = [1, 2, 3, 4]\n",
        "arr = np.array(L)\n",
        "arr.dtype"
      ],
      "id": "d908286c",
      "execution_count": null,
      "outputs": [
        {
          "output_type": "execute_result",
          "data": {
            "text/plain": [
              "dtype('int64')"
            ]
          },
          "metadata": {},
          "execution_count": 18
        }
      ]
    },
    {
      "cell_type": "markdown",
      "metadata": {
        "id": "d631d2c5"
      },
      "source": [
        "<div class=\"alert alert-info\" style=\"background-color:#006666; color:white; padding:0px 10px; border-radius:5px;\"><h2 style='margin:7px 5px; font-size:16px'>Two Dimensional Arrays</h2>\n",
        "</div>"
      ],
      "id": "d631d2c5"
    },
    {
      "cell_type": "code",
      "metadata": {
        "id": "cd513eb2"
      },
      "source": [
        "L2 = [[1, 2, 3], \n",
        "      [4, 5, 6],\n",
        "      [7, 8, 9]]\n",
        "\n",
        "arr_L2 = np.array(L2)"
      ],
      "id": "cd513eb2",
      "execution_count": null,
      "outputs": []
    },
    {
      "cell_type": "code",
      "metadata": {
        "colab": {
          "base_uri": "https://localhost:8080/"
        },
        "id": "dc8513b7",
        "outputId": "4d5476c3-3617-4758-e856-f5c02a6fc5aa"
      },
      "source": [
        "arr_L2"
      ],
      "id": "dc8513b7",
      "execution_count": null,
      "outputs": [
        {
          "output_type": "execute_result",
          "data": {
            "text/plain": [
              "array([[1, 2, 3],\n",
              "       [4, 5, 6],\n",
              "       [7, 8, 9]])"
            ]
          },
          "metadata": {},
          "execution_count": 20
        }
      ]
    },
    {
      "cell_type": "markdown",
      "metadata": {
        "id": "f8fa80c6"
      },
      "source": [
        "__Array Indexing__"
      ],
      "id": "f8fa80c6"
    },
    {
      "cell_type": "code",
      "metadata": {
        "colab": {
          "base_uri": "https://localhost:8080/"
        },
        "id": "1ce0f43b",
        "outputId": "10a9c771-69e5-4c27-fc64-4a9ca952c120"
      },
      "source": [
        "arr_L2[0, :]"
      ],
      "id": "1ce0f43b",
      "execution_count": null,
      "outputs": [
        {
          "output_type": "execute_result",
          "data": {
            "text/plain": [
              "array([1, 2, 3])"
            ]
          },
          "metadata": {},
          "execution_count": 21
        }
      ]
    },
    {
      "cell_type": "code",
      "metadata": {
        "colab": {
          "base_uri": "https://localhost:8080/"
        },
        "id": "350489ac",
        "outputId": "078e9e4e-ea94-4fd3-9576-9b80a321d72a"
      },
      "source": [
        "arr_L2[:, 1]"
      ],
      "id": "350489ac",
      "execution_count": null,
      "outputs": [
        {
          "output_type": "execute_result",
          "data": {
            "text/plain": [
              "array([2, 5, 8])"
            ]
          },
          "metadata": {},
          "execution_count": 22
        }
      ]
    },
    {
      "cell_type": "markdown",
      "metadata": {
        "id": "224eaba1"
      },
      "source": [
        "__Convert back to list__"
      ],
      "id": "224eaba1"
    },
    {
      "cell_type": "code",
      "metadata": {
        "colab": {
          "base_uri": "https://localhost:8080/"
        },
        "id": "b788ddeb",
        "outputId": "253f3555-8e45-4595-89cf-1be044ad9c02"
      },
      "source": [
        "arr_L2.tolist()"
      ],
      "id": "b788ddeb",
      "execution_count": null,
      "outputs": [
        {
          "output_type": "execute_result",
          "data": {
            "text/plain": [
              "[[1, 2, 3], [4, 5, 6], [7, 8, 9]]"
            ]
          },
          "metadata": {},
          "execution_count": 23
        }
      ]
    },
    {
      "cell_type": "markdown",
      "metadata": {
        "id": "bc863322"
      },
      "source": [
        "<div class=\"alert alert-info\" style=\"background-color:#006666; color:white; padding:0px 10px; border-radius:5px;\"><h2 style='margin:7px 5px; font-size:16px'>Change DataType</h2>\n",
        "</div>"
      ],
      "id": "bc863322"
    },
    {
      "cell_type": "code",
      "metadata": {
        "colab": {
          "base_uri": "https://localhost:8080/"
        },
        "id": "5ad84f11",
        "outputId": "3ac9cb7d-0cee-4751-a6be-abe4c05f826f"
      },
      "source": [
        "# to string\n",
        "arr_L2.astype('str')"
      ],
      "id": "5ad84f11",
      "execution_count": null,
      "outputs": [
        {
          "output_type": "execute_result",
          "data": {
            "text/plain": [
              "array([['1', '2', '3'],\n",
              "       ['4', '5', '6'],\n",
              "       ['7', '8', '9']], dtype='<U21')"
            ]
          },
          "metadata": {},
          "execution_count": 24
        }
      ]
    },
    {
      "cell_type": "code",
      "metadata": {
        "colab": {
          "base_uri": "https://localhost:8080/"
        },
        "id": "d09ece61",
        "outputId": "f3d4edd9-650d-4a2a-c8bb-3f029c45231f"
      },
      "source": [
        "# to float\n",
        "arr_L2.astype('float32')"
      ],
      "id": "d09ece61",
      "execution_count": null,
      "outputs": [
        {
          "output_type": "execute_result",
          "data": {
            "text/plain": [
              "array([[1., 2., 3.],\n",
              "       [4., 5., 6.],\n",
              "       [7., 8., 9.]], dtype=float32)"
            ]
          },
          "metadata": {},
          "execution_count": 25
        }
      ]
    },
    {
      "cell_type": "markdown",
      "metadata": {
        "id": "e78f3a81"
      },
      "source": [
        "<div class=\"alert alert-info\" style=\"background-color:#006666; color:white; padding:0px 10px; border-radius:5px;\"><h2 style='margin:7px 5px; font-size:16px'>Math Operations</h2>\n",
        "</div>"
      ],
      "id": "e78f3a81"
    },
    {
      "cell_type": "code",
      "metadata": {
        "colab": {
          "base_uri": "https://localhost:8080/"
        },
        "id": "8ee89edc",
        "outputId": "19010ccc-98f4-4db3-863c-1d3eb47ef6c5"
      },
      "source": [
        "# Multiply\n",
        "arr_L2 * 2"
      ],
      "id": "8ee89edc",
      "execution_count": null,
      "outputs": [
        {
          "output_type": "execute_result",
          "data": {
            "text/plain": [
              "array([[ 2,  4,  6],\n",
              "       [ 8, 10, 12],\n",
              "       [14, 16, 18]])"
            ]
          },
          "metadata": {},
          "execution_count": 26
        }
      ]
    },
    {
      "cell_type": "code",
      "metadata": {
        "colab": {
          "base_uri": "https://localhost:8080/"
        },
        "id": "53018c0b",
        "outputId": "a72214d3-1323-4a05-a6c4-b5f61dcdc711"
      },
      "source": [
        "# Divide\n",
        "quarter = arr_L2 / 4\n",
        "quarter"
      ],
      "id": "53018c0b",
      "execution_count": null,
      "outputs": [
        {
          "output_type": "execute_result",
          "data": {
            "text/plain": [
              "array([[0.25, 0.5 , 0.75],\n",
              "       [1.  , 1.25, 1.5 ],\n",
              "       [1.75, 2.  , 2.25]])"
            ]
          },
          "metadata": {},
          "execution_count": 27
        }
      ]
    },
    {
      "cell_type": "code",
      "metadata": {
        "colab": {
          "base_uri": "https://localhost:8080/"
        },
        "id": "2efad629",
        "outputId": "36b5d700-c835-4eee-d4e9-fd5d0d0901cd"
      },
      "source": [
        "# Subtract\n",
        "arr_L2 - quarter"
      ],
      "id": "2efad629",
      "execution_count": null,
      "outputs": [
        {
          "output_type": "execute_result",
          "data": {
            "text/plain": [
              "array([[0.75, 1.5 , 2.25],\n",
              "       [3.  , 3.75, 4.5 ],\n",
              "       [5.25, 6.  , 6.75]])"
            ]
          },
          "metadata": {},
          "execution_count": 28
        }
      ]
    },
    {
      "cell_type": "code",
      "metadata": {
        "colab": {
          "base_uri": "https://localhost:8080/"
        },
        "id": "551bd17a",
        "outputId": "71460ec3-6d04-4b6c-c1c1-6e233f210935"
      },
      "source": [
        "# Add\n",
        "arr_L2 - quarter + arr_L2"
      ],
      "id": "551bd17a",
      "execution_count": null,
      "outputs": [
        {
          "output_type": "execute_result",
          "data": {
            "text/plain": [
              "array([[ 1.75,  3.5 ,  5.25],\n",
              "       [ 7.  ,  8.75, 10.5 ],\n",
              "       [12.25, 14.  , 15.75]])"
            ]
          },
          "metadata": {},
          "execution_count": 29
        }
      ]
    },
    {
      "cell_type": "markdown",
      "metadata": {
        "id": "985d4513"
      },
      "source": [
        "<div class=\"alert alert-info\" style=\"background-color:#006666; color:white; padding:0px 10px; border-radius:5px;\"><h2 style='margin:7px 5px; font-size:16px'>Create Zeros and Ones Arrays</h2>\n",
        "</div>"
      ],
      "id": "985d4513"
    },
    {
      "cell_type": "markdown",
      "metadata": {
        "id": "565d7257"
      },
      "source": [
        "__Zeros__"
      ],
      "id": "565d7257"
    },
    {
      "cell_type": "code",
      "metadata": {
        "colab": {
          "base_uri": "https://localhost:8080/"
        },
        "id": "be9accc7",
        "outputId": "334643f2-2251-41b7-ee57-e1597223ade9"
      },
      "source": [
        "np.zeros_like(arr_L2)"
      ],
      "id": "be9accc7",
      "execution_count": null,
      "outputs": [
        {
          "output_type": "execute_result",
          "data": {
            "text/plain": [
              "array([[0, 0, 0],\n",
              "       [0, 0, 0],\n",
              "       [0, 0, 0]])"
            ]
          },
          "metadata": {},
          "execution_count": 30
        }
      ]
    },
    {
      "cell_type": "code",
      "metadata": {
        "colab": {
          "base_uri": "https://localhost:8080/"
        },
        "id": "d755eb20",
        "outputId": "f0ad3c28-50a4-4fdb-a27b-46be31aa6f9c"
      },
      "source": [
        "np.zeros((3,3))"
      ],
      "id": "d755eb20",
      "execution_count": null,
      "outputs": [
        {
          "output_type": "execute_result",
          "data": {
            "text/plain": [
              "array([[0., 0., 0.],\n",
              "       [0., 0., 0.],\n",
              "       [0., 0., 0.]])"
            ]
          },
          "metadata": {},
          "execution_count": 31
        }
      ]
    },
    {
      "cell_type": "markdown",
      "metadata": {
        "id": "6b095028"
      },
      "source": [
        "__Ones__"
      ],
      "id": "6b095028"
    },
    {
      "cell_type": "code",
      "metadata": {
        "colab": {
          "base_uri": "https://localhost:8080/"
        },
        "id": "2c437613",
        "outputId": "9daff387-134a-4dff-90e4-743dabf753ea"
      },
      "source": [
        "np.ones((3, 3))"
      ],
      "id": "2c437613",
      "execution_count": null,
      "outputs": [
        {
          "output_type": "execute_result",
          "data": {
            "text/plain": [
              "array([[1., 1., 1.],\n",
              "       [1., 1., 1.],\n",
              "       [1., 1., 1.]])"
            ]
          },
          "metadata": {},
          "execution_count": 32
        }
      ]
    },
    {
      "cell_type": "code",
      "metadata": {
        "colab": {
          "base_uri": "https://localhost:8080/"
        },
        "id": "f19842e6",
        "outputId": "aa8884f3-dc55-4249-c8d3-ff99d138a389"
      },
      "source": [
        "np.ones_like(arr_L2)"
      ],
      "id": "f19842e6",
      "execution_count": null,
      "outputs": [
        {
          "output_type": "execute_result",
          "data": {
            "text/plain": [
              "array([[1, 1, 1],\n",
              "       [1, 1, 1],\n",
              "       [1, 1, 1]])"
            ]
          },
          "metadata": {},
          "execution_count": 33
        }
      ]
    },
    {
      "cell_type": "code",
      "metadata": {
        "colab": {
          "base_uri": "https://localhost:8080/"
        },
        "id": "698d892b",
        "outputId": "ffad259b-72be-4125-bb6a-20b313bce6ab"
      },
      "source": [
        "np.empty((3,3))"
      ],
      "id": "698d892b",
      "execution_count": null,
      "outputs": [
        {
          "output_type": "execute_result",
          "data": {
            "text/plain": [
              "array([[1., 1., 1.],\n",
              "       [1., 1., 1.],\n",
              "       [1., 1., 1.]])"
            ]
          },
          "metadata": {},
          "execution_count": 34
        }
      ]
    },
    {
      "cell_type": "markdown",
      "metadata": {
        "id": "9e633548"
      },
      "source": [
        "__Diagonal__"
      ],
      "id": "9e633548"
    },
    {
      "cell_type": "code",
      "metadata": {
        "colab": {
          "base_uri": "https://localhost:8080/"
        },
        "id": "5514344c",
        "outputId": "1249bbb0-24cd-453b-f157-1d08527fd978"
      },
      "source": [
        "np.diag(arr_L2)"
      ],
      "id": "5514344c",
      "execution_count": null,
      "outputs": [
        {
          "output_type": "execute_result",
          "data": {
            "text/plain": [
              "array([1, 5, 9])"
            ]
          },
          "metadata": {},
          "execution_count": 35
        }
      ]
    },
    {
      "cell_type": "markdown",
      "metadata": {
        "id": "PEYYRL-HC06i"
      },
      "source": [
        "__Identity Matrix__\n"
      ],
      "id": "PEYYRL-HC06i"
    },
    {
      "cell_type": "code",
      "metadata": {
        "colab": {
          "base_uri": "https://localhost:8080/"
        },
        "id": "w4d3c4MLC55o",
        "outputId": "895832c4-370b-4075-e179-5636849dfdaa"
      },
      "source": [
        "np.eye(2)"
      ],
      "id": "w4d3c4MLC55o",
      "execution_count": null,
      "outputs": [
        {
          "output_type": "execute_result",
          "data": {
            "text/plain": [
              "array([[1., 0.],\n",
              "       [0., 1.]])"
            ]
          },
          "metadata": {},
          "execution_count": 36
        }
      ]
    },
    {
      "cell_type": "code",
      "metadata": {
        "id": "g2J7XMfxC7Ur"
      },
      "source": [
        ""
      ],
      "id": "g2J7XMfxC7Ur",
      "execution_count": null,
      "outputs": []
    }
  ]
}