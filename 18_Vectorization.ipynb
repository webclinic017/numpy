{
  "nbformat": 4,
  "nbformat_minor": 5,
  "metadata": {
    "hide_input": false,
    "kernelspec": {
      "display_name": "Python 3",
      "language": "python",
      "name": "python3"
    },
    "language_info": {
      "codemirror_mode": {
        "name": "ipython",
        "version": 3
      },
      "file_extension": ".py",
      "mimetype": "text/x-python",
      "name": "python",
      "nbconvert_exporter": "python",
      "pygments_lexer": "ipython3",
      "version": "3.7.10"
    },
    "toc": {
      "base_numbering": 1,
      "nav_menu": {},
      "number_sections": false,
      "sideBar": true,
      "skip_h1_title": true,
      "title_cell": "Table of Contents",
      "title_sidebar": "Contents",
      "toc_cell": false,
      "toc_position": {},
      "toc_section_display": true,
      "toc_window_display": false
    },
    "colab": {
      "name": "18_Vectorization.ipynb",
      "provenance": [],
      "include_colab_link": true
    }
  },
  "cells": [
    {
      "cell_type": "markdown",
      "metadata": {
        "id": "view-in-github",
        "colab_type": "text"
      },
      "source": [
        "<a href=\"https://colab.research.google.com/github/patelsaumya/numpy/blob/master/18_Vectorization.ipynb\" target=\"_parent\"><img src=\"https://colab.research.google.com/assets/colab-badge.svg\" alt=\"Open In Colab\"/></a>"
      ]
    },
    {
      "cell_type": "markdown",
      "metadata": {
        "id": "852b1041"
      },
      "source": [
        "<div style=\"color:#006666; padding:0px 10px; border-radius:5px; font-size:18px; text-align:center\"><h1 style='margin:10px 5px'>Vectorization</h1>\n",
        "<hr>\n",
        "<p style=\"color:#006666; text-align:right;font-size:10px\">\n",
        "Copyright by MachineLearningPlus. All Rights Reserved.\n",
        "</p>\n",
        "\n",
        "</div>"
      ],
      "id": "852b1041"
    },
    {
      "cell_type": "markdown",
      "metadata": {
        "id": "5afa232e"
      },
      "source": [
        "With the help of __vectorize()__ you can make a function that is meant to work on individual numbers, to work on arrays.\n",
        "\n",
        "The function `prime_or_not` accepts a number and check if it is a prime number. When you apply this function on a scalar (individual numbers) it works perfectly, but fails when applied on an array or a list.\n",
        "\n",
        "Numpy's vectorize funtion can make it work on list / array. "
      ],
      "id": "5afa232e"
    },
    {
      "cell_type": "code",
      "metadata": {
        "id": "2c4ac4cb"
      },
      "source": [
        "import numpy as np"
      ],
      "id": "2c4ac4cb",
      "execution_count": null,
      "outputs": []
    },
    {
      "cell_type": "code",
      "metadata": {
        "id": "a1a11d7b",
        "outputId": "fac32460-79a9-4774-d614-58c2006e2419"
      },
      "source": [
        "def prime_or_not(num):\n",
        "    if num > 1:\n",
        "        for i in range(2, num):\n",
        "            if (num % i) == 0:\n",
        "                return False\n",
        "        else:\n",
        "            return True\n",
        "            \n",
        "# On a scalar\n",
        "print('x = 10 returns ', prime_or_not(10))\n",
        "print('x = 11 returns ', prime_or_not(11))"
      ],
      "id": "a1a11d7b",
      "execution_count": null,
      "outputs": [
        {
          "name": "stdout",
          "output_type": "stream",
          "text": [
            "x = 10 returns  False\n",
            "x = 11 returns  True\n"
          ]
        }
      ]
    },
    {
      "cell_type": "markdown",
      "metadata": {
        "id": "15fdaa06"
      },
      "source": [
        "__Calling it on an array or list does not work__"
      ],
      "id": "15fdaa06"
    },
    {
      "cell_type": "code",
      "metadata": {
        "id": "984c51ff",
        "outputId": "292bd398-2642-4bf2-cdcb-7475b7258601"
      },
      "source": [
        "# DOES NOT WORK\n",
        "prime_or_not([10, 11, 12])"
      ],
      "id": "984c51ff",
      "execution_count": null,
      "outputs": [
        {
          "ename": "TypeError",
          "evalue": "'>' not supported between instances of 'list' and 'int'",
          "output_type": "error",
          "traceback": [
            "\u001b[1;31m---------------------------------------------------------------------------\u001b[0m",
            "\u001b[1;31mTypeError\u001b[0m                                 Traceback (most recent call last)",
            "\u001b[1;32m<ipython-input-3-48a78d5e5c2f>\u001b[0m in \u001b[0;36m<module>\u001b[1;34m\u001b[0m\n\u001b[0;32m      1\u001b[0m \u001b[1;31m# DOES NOT WORK\u001b[0m\u001b[1;33m\u001b[0m\u001b[1;33m\u001b[0m\u001b[1;33m\u001b[0m\u001b[0m\n\u001b[1;32m----> 2\u001b[1;33m \u001b[0mprime_or_not\u001b[0m\u001b[1;33m(\u001b[0m\u001b[1;33m[\u001b[0m\u001b[1;36m10\u001b[0m\u001b[1;33m,\u001b[0m \u001b[1;36m11\u001b[0m\u001b[1;33m,\u001b[0m \u001b[1;36m12\u001b[0m\u001b[1;33m]\u001b[0m\u001b[1;33m)\u001b[0m\u001b[1;33m\u001b[0m\u001b[1;33m\u001b[0m\u001b[0m\n\u001b[0m",
            "\u001b[1;32m<ipython-input-2-98eb87abc9bf>\u001b[0m in \u001b[0;36mprime_or_not\u001b[1;34m(num)\u001b[0m\n\u001b[0;32m      1\u001b[0m \u001b[1;32mdef\u001b[0m \u001b[0mprime_or_not\u001b[0m\u001b[1;33m(\u001b[0m\u001b[0mnum\u001b[0m\u001b[1;33m)\u001b[0m\u001b[1;33m:\u001b[0m\u001b[1;33m\u001b[0m\u001b[1;33m\u001b[0m\u001b[0m\n\u001b[1;32m----> 2\u001b[1;33m     \u001b[1;32mif\u001b[0m \u001b[0mnum\u001b[0m \u001b[1;33m>\u001b[0m \u001b[1;36m1\u001b[0m\u001b[1;33m:\u001b[0m\u001b[1;33m\u001b[0m\u001b[1;33m\u001b[0m\u001b[0m\n\u001b[0m\u001b[0;32m      3\u001b[0m         \u001b[1;32mfor\u001b[0m \u001b[0mi\u001b[0m \u001b[1;32min\u001b[0m \u001b[0mrange\u001b[0m\u001b[1;33m(\u001b[0m\u001b[1;36m2\u001b[0m\u001b[1;33m,\u001b[0m \u001b[0mnum\u001b[0m\u001b[1;33m)\u001b[0m\u001b[1;33m:\u001b[0m\u001b[1;33m\u001b[0m\u001b[1;33m\u001b[0m\u001b[0m\n\u001b[0;32m      4\u001b[0m             \u001b[1;32mif\u001b[0m \u001b[1;33m(\u001b[0m\u001b[0mnum\u001b[0m \u001b[1;33m%\u001b[0m \u001b[0mi\u001b[0m\u001b[1;33m)\u001b[0m \u001b[1;33m==\u001b[0m \u001b[1;36m0\u001b[0m\u001b[1;33m:\u001b[0m\u001b[1;33m\u001b[0m\u001b[1;33m\u001b[0m\u001b[0m\n\u001b[0;32m      5\u001b[0m                 \u001b[1;32mreturn\u001b[0m \u001b[1;32mFalse\u001b[0m\u001b[1;33m\u001b[0m\u001b[1;33m\u001b[0m\u001b[0m\n",
            "\u001b[1;31mTypeError\u001b[0m: '>' not supported between instances of 'list' and 'int'"
          ]
        }
      ]
    },
    {
      "cell_type": "markdown",
      "metadata": {
        "id": "6aa29e3a"
      },
      "source": [
        "__Make foo() work on arrays__\n",
        "\n",
        "Specify the type of the output to make in `otypes`"
      ],
      "id": "6aa29e3a"
    },
    {
      "cell_type": "code",
      "metadata": {
        "id": "658fb504"
      },
      "source": [
        "prime_or_not_v = np.vectorize(prime_or_not)"
      ],
      "id": "658fb504",
      "execution_count": null,
      "outputs": []
    },
    {
      "cell_type": "code",
      "metadata": {
        "id": "18fe1129",
        "outputId": "bf87c9f3-737c-48f5-deb7-564c34239555"
      },
      "source": [
        "print('x = 10 returns ', prime_or_not_v(10))\n",
        "print('x = 11 returns ', prime_or_not_v(11))"
      ],
      "id": "18fe1129",
      "execution_count": null,
      "outputs": [
        {
          "name": "stdout",
          "output_type": "stream",
          "text": [
            "x = 10 returns  False\n",
            "x = 11 returns  True\n"
          ]
        }
      ]
    },
    {
      "cell_type": "code",
      "metadata": {
        "id": "23e43adf",
        "outputId": "c6145c87-8fcd-4175-f508-bf002637a6f3"
      },
      "source": [
        "prime_or_not_v([10, 11, 12])"
      ],
      "id": "23e43adf",
      "execution_count": null,
      "outputs": [
        {
          "data": {
            "text/plain": [
              "array([False,  True, False])"
            ]
          },
          "execution_count": 7,
          "metadata": {},
          "output_type": "execute_result"
        }
      ]
    },
    {
      "cell_type": "markdown",
      "metadata": {
        "id": "ba0df870"
      },
      "source": [
        "Explicit the output type."
      ],
      "id": "ba0df870"
    },
    {
      "cell_type": "code",
      "metadata": {
        "id": "83de58cc"
      },
      "source": [
        "prime_or_not_o = np.vectorize(prime_or_not, otypes=[bool])"
      ],
      "id": "83de58cc",
      "execution_count": null,
      "outputs": []
    },
    {
      "cell_type": "markdown",
      "metadata": {
        "id": "aebe0dc0"
      },
      "source": [
        "Run on scalars"
      ],
      "id": "aebe0dc0"
    },
    {
      "cell_type": "code",
      "metadata": {
        "id": "23c89cda",
        "outputId": "a1abf2f7-2363-4d41-a91f-1e1bd7300fe4"
      },
      "source": [
        "print('x = 10 returns ', prime_or_not_o(10))\n",
        "print('x = 11 returns ', prime_or_not_o(11))"
      ],
      "id": "23c89cda",
      "execution_count": null,
      "outputs": [
        {
          "name": "stdout",
          "output_type": "stream",
          "text": [
            "x = 10 returns  False\n",
            "x = 11 returns  True\n"
          ]
        }
      ]
    },
    {
      "cell_type": "markdown",
      "metadata": {
        "id": "11b64f09"
      },
      "source": [
        "Run on vectors"
      ],
      "id": "11b64f09"
    },
    {
      "cell_type": "code",
      "metadata": {
        "id": "cc3320ce",
        "outputId": "99148605-628d-433e-ece6-2c4e7f216194"
      },
      "source": [
        "prime_or_not_o([10, 11, 12])"
      ],
      "id": "cc3320ce",
      "execution_count": null,
      "outputs": [
        {
          "data": {
            "text/plain": [
              "array([False,  True, False])"
            ]
          },
          "execution_count": 10,
          "metadata": {},
          "output_type": "execute_result"
        }
      ]
    },
    {
      "cell_type": "markdown",
      "metadata": {
        "id": "1be07c9e"
      },
      "source": [
        "<div class=\"alert alert-info\" style=\"background-color:#006666; color:white; padding:0px 10px; border-radius:5px;\"><h2 style='margin:7px 5px; font-size:16px'>Mini Challenge</h2>\n",
        "</div>"
      ],
      "id": "1be07c9e"
    },
    {
      "cell_type": "markdown",
      "metadata": {
        "id": "c1e16875"
      },
      "source": [
        "Vectorize the `calc_profit` function to make it work for all the rows of the dataset.\n",
        "\n",
        "```python\n",
        "# Calc Profit\n",
        "def calc_profit(open, high, low, close):\n",
        "    buy = open * 0.999\n",
        "    # daily range\n",
        "    if low < buy < high:\n",
        "        return (close - buy)/buy\n",
        "    else:\n",
        "        return 0\n",
        "    \n",
        "# Read Data\n",
        "arr = np.genfromtxt(\"Datasets/apple_stock_price.csv\", delimiter=\",\", skip_header=1)\n",
        "arr\n",
        "\n",
        "# array([[127.489998, 128.880005, 126.919998, 127.830002],\n",
        "#        [127.629997, 128.779999, 127.449997, 128.720001],\n",
        "#        [128.479996, 129.029999, 128.330002, 128.449997],\n",
        "#        ...,\n",
        "#        [133.470001, 135.089996, 133.25    , 135.020004],\n",
        "#        [135.520004, 136.270004, 134.619995, 135.509995],\n",
        "#        [135.669998, 135.899994, 134.839996, 135.350006]])\n",
        "```\n",
        "\n",
        "__Code URL:__ https://git.io/JnEvj"
      ],
      "id": "c1e16875"
    },
    {
      "cell_type": "code",
      "metadata": {
        "id": "51ea1416"
      },
      "source": [
        "def calc_profit(open, high, low, close):\n",
        "    buy = open * 0.999\n",
        "    # daily range\n",
        "    if low < buy < high:\n",
        "        return (close - buy)/buy\n",
        "    else:\n",
        "        return 0"
      ],
      "id": "51ea1416",
      "execution_count": null,
      "outputs": []
    },
    {
      "cell_type": "code",
      "metadata": {
        "scrolled": true,
        "id": "3db7f0ed",
        "outputId": "ca1d99ed-e0f0-45d9-c53b-11668916da87"
      },
      "source": [
        "# Read data\n",
        "arr = np.genfromtxt(\"Datasets/apple_stock_price.csv\", delimiter=\",\", skip_header=1)\n",
        "arr"
      ],
      "id": "3db7f0ed",
      "execution_count": null,
      "outputs": [
        {
          "data": {
            "text/plain": [
              "array([[127.489998, 128.880005, 126.919998, 127.830002],\n",
              "       [127.629997, 128.779999, 127.449997, 128.720001],\n",
              "       [128.479996, 129.029999, 128.330002, 128.449997],\n",
              "       ...,\n",
              "       [133.470001, 135.089996, 133.25    , 135.020004],\n",
              "       [135.520004, 136.270004, 134.619995, 135.509995],\n",
              "       [135.669998, 135.899994, 134.839996, 135.350006]])"
            ]
          },
          "execution_count": 12,
          "metadata": {},
          "output_type": "execute_result"
        }
      ]
    },
    {
      "cell_type": "code",
      "metadata": {
        "scrolled": true,
        "id": "4b1d2921",
        "outputId": "00b65240-45d2-41e2-cca8-c0b1a868497c"
      },
      "source": [
        "calc_profit(127.489998, 128.880005, 126.919998, 127.830002)"
      ],
      "id": "4b1d2921",
      "execution_count": null,
      "outputs": [
        {
          "data": {
            "text/plain": [
              "0.003670577828073656"
            ]
          },
          "execution_count": 13,
          "metadata": {},
          "output_type": "execute_result"
        }
      ]
    },
    {
      "cell_type": "markdown",
      "metadata": {
        "id": "c5a981fe"
      },
      "source": [
        "#### Solution: Vectorize"
      ],
      "id": "c5a981fe"
    },
    {
      "cell_type": "code",
      "metadata": {
        "id": "ea8b9e62"
      },
      "source": [
        "calc_profit_vec = np.vectorize(calc_profit, otypes=[float])"
      ],
      "id": "ea8b9e62",
      "execution_count": null,
      "outputs": []
    },
    {
      "cell_type": "code",
      "metadata": {
        "id": "15a8bc0b",
        "outputId": "666517c6-afc4-4ccf-819c-2af49e0ebe85"
      },
      "source": [
        "output = calc_profit_vec(arr[:, 0], arr[:, 1], arr[:, 2], arr[:, 3])\n",
        "output[:10]"
      ],
      "id": "15a8bc0b",
      "execution_count": null,
      "outputs": [
        {
          "data": {
            "text/plain": [
              "array([ 0.00367058,  0.00954989,  0.00076728,  0.00784975,  0.02394346,\n",
              "       -0.00479691, -0.02007515,  0.01366997, -0.01085696, -0.00023818])"
            ]
          },
          "execution_count": 15,
          "metadata": {},
          "output_type": "execute_result"
        }
      ]
    },
    {
      "cell_type": "code",
      "metadata": {
        "id": "d6dde5a6"
      },
      "source": [
        ""
      ],
      "id": "d6dde5a6",
      "execution_count": null,
      "outputs": []
    }
  ]
}