{
 "cells": [
  {
   "cell_type": "markdown",
   "id": "852b1041",
   "metadata": {},
   "source": [
    "<div style=\"color:#006666; padding:0px 10px; border-radius:5px; font-size:18px; text-align:center\"><h1 style='margin:10px 5px'>Vectorization</h1>\n",
    "<hr>\n",
    "<p style=\"color:#006666; text-align:right;font-size:10px\">\n",
    "Copyright by MachineLearningPlus. All Rights Reserved.\n",
    "</p>\n",
    "\n",
    "</div>"
   ]
  },
  {
   "cell_type": "markdown",
   "id": "5afa232e",
   "metadata": {},
   "source": [
    "With the help of __vectorize()__ you can make a function that is meant to work on individual numbers, to work on arrays.\n",
    "\n",
    "The function `prime_or_not` accepts a number and check if it is a prime number. When you apply this function on a scalar (individual numbers) it works perfectly, but fails when applied on an array or a list.\n",
    "\n",
    "Numpy's vectorize funtion can make it work on list / array. "
   ]
  },
  {
   "cell_type": "code",
   "execution_count": 1,
   "id": "2c4ac4cb",
   "metadata": {},
   "outputs": [],
   "source": [
    "import numpy as np"
   ]
  },
  {
   "cell_type": "code",
   "execution_count": 2,
   "id": "a1a11d7b",
   "metadata": {},
   "outputs": [
    {
     "name": "stdout",
     "output_type": "stream",
     "text": [
      "x = 10 returns  False\n",
      "x = 11 returns  True\n"
     ]
    }
   ],
   "source": [
    "def prime_or_not(num):\n",
    "    if num > 1:\n",
    "        for i in range(2, num):\n",
    "            if (num % i) == 0:\n",
    "                return False\n",
    "        else:\n",
    "            return True\n",
    "            \n",
    "# On a scalar\n",
    "print('x = 10 returns ', prime_or_not(10))\n",
    "print('x = 11 returns ', prime_or_not(11))"
   ]
  },
  {
   "cell_type": "markdown",
   "id": "15fdaa06",
   "metadata": {},
   "source": [
    "__Calling it on an array or list does not work__"
   ]
  },
  {
   "cell_type": "code",
   "execution_count": 3,
   "id": "984c51ff",
   "metadata": {},
   "outputs": [
    {
     "ename": "TypeError",
     "evalue": "'>' not supported between instances of 'list' and 'int'",
     "output_type": "error",
     "traceback": [
      "\u001b[1;31m---------------------------------------------------------------------------\u001b[0m",
      "\u001b[1;31mTypeError\u001b[0m                                 Traceback (most recent call last)",
      "\u001b[1;32m<ipython-input-3-48a78d5e5c2f>\u001b[0m in \u001b[0;36m<module>\u001b[1;34m\u001b[0m\n\u001b[0;32m      1\u001b[0m \u001b[1;31m# DOES NOT WORK\u001b[0m\u001b[1;33m\u001b[0m\u001b[1;33m\u001b[0m\u001b[1;33m\u001b[0m\u001b[0m\n\u001b[1;32m----> 2\u001b[1;33m \u001b[0mprime_or_not\u001b[0m\u001b[1;33m(\u001b[0m\u001b[1;33m[\u001b[0m\u001b[1;36m10\u001b[0m\u001b[1;33m,\u001b[0m \u001b[1;36m11\u001b[0m\u001b[1;33m,\u001b[0m \u001b[1;36m12\u001b[0m\u001b[1;33m]\u001b[0m\u001b[1;33m)\u001b[0m\u001b[1;33m\u001b[0m\u001b[1;33m\u001b[0m\u001b[0m\n\u001b[0m",
      "\u001b[1;32m<ipython-input-2-98eb87abc9bf>\u001b[0m in \u001b[0;36mprime_or_not\u001b[1;34m(num)\u001b[0m\n\u001b[0;32m      1\u001b[0m \u001b[1;32mdef\u001b[0m \u001b[0mprime_or_not\u001b[0m\u001b[1;33m(\u001b[0m\u001b[0mnum\u001b[0m\u001b[1;33m)\u001b[0m\u001b[1;33m:\u001b[0m\u001b[1;33m\u001b[0m\u001b[1;33m\u001b[0m\u001b[0m\n\u001b[1;32m----> 2\u001b[1;33m     \u001b[1;32mif\u001b[0m \u001b[0mnum\u001b[0m \u001b[1;33m>\u001b[0m \u001b[1;36m1\u001b[0m\u001b[1;33m:\u001b[0m\u001b[1;33m\u001b[0m\u001b[1;33m\u001b[0m\u001b[0m\n\u001b[0m\u001b[0;32m      3\u001b[0m         \u001b[1;32mfor\u001b[0m \u001b[0mi\u001b[0m \u001b[1;32min\u001b[0m \u001b[0mrange\u001b[0m\u001b[1;33m(\u001b[0m\u001b[1;36m2\u001b[0m\u001b[1;33m,\u001b[0m \u001b[0mnum\u001b[0m\u001b[1;33m)\u001b[0m\u001b[1;33m:\u001b[0m\u001b[1;33m\u001b[0m\u001b[1;33m\u001b[0m\u001b[0m\n\u001b[0;32m      4\u001b[0m             \u001b[1;32mif\u001b[0m \u001b[1;33m(\u001b[0m\u001b[0mnum\u001b[0m \u001b[1;33m%\u001b[0m \u001b[0mi\u001b[0m\u001b[1;33m)\u001b[0m \u001b[1;33m==\u001b[0m \u001b[1;36m0\u001b[0m\u001b[1;33m:\u001b[0m\u001b[1;33m\u001b[0m\u001b[1;33m\u001b[0m\u001b[0m\n\u001b[0;32m      5\u001b[0m                 \u001b[1;32mreturn\u001b[0m \u001b[1;32mFalse\u001b[0m\u001b[1;33m\u001b[0m\u001b[1;33m\u001b[0m\u001b[0m\n",
      "\u001b[1;31mTypeError\u001b[0m: '>' not supported between instances of 'list' and 'int'"
     ]
    }
   ],
   "source": [
    "# DOES NOT WORK\n",
    "prime_or_not([10, 11, 12])"
   ]
  },
  {
   "cell_type": "markdown",
   "id": "6aa29e3a",
   "metadata": {},
   "source": [
    "__Make foo() work on arrays__\n",
    "\n",
    "Specify the type of the output to make in `otypes`"
   ]
  },
  {
   "cell_type": "code",
   "execution_count": 5,
   "id": "658fb504",
   "metadata": {},
   "outputs": [],
   "source": [
    "prime_or_not_v = np.vectorize(prime_or_not)"
   ]
  },
  {
   "cell_type": "code",
   "execution_count": 6,
   "id": "18fe1129",
   "metadata": {},
   "outputs": [
    {
     "name": "stdout",
     "output_type": "stream",
     "text": [
      "x = 10 returns  False\n",
      "x = 11 returns  True\n"
     ]
    }
   ],
   "source": [
    "print('x = 10 returns ', prime_or_not_v(10))\n",
    "print('x = 11 returns ', prime_or_not_v(11))"
   ]
  },
  {
   "cell_type": "code",
   "execution_count": 7,
   "id": "23e43adf",
   "metadata": {},
   "outputs": [
    {
     "data": {
      "text/plain": [
       "array([False,  True, False])"
      ]
     },
     "execution_count": 7,
     "metadata": {},
     "output_type": "execute_result"
    }
   ],
   "source": [
    "prime_or_not_v([10, 11, 12])"
   ]
  },
  {
   "cell_type": "markdown",
   "id": "ba0df870",
   "metadata": {},
   "source": [
    "Explicit the output type."
   ]
  },
  {
   "cell_type": "code",
   "execution_count": 8,
   "id": "83de58cc",
   "metadata": {},
   "outputs": [],
   "source": [
    "prime_or_not_o = np.vectorize(prime_or_not, otypes=[bool])"
   ]
  },
  {
   "cell_type": "markdown",
   "id": "aebe0dc0",
   "metadata": {},
   "source": [
    "Run on scalars"
   ]
  },
  {
   "cell_type": "code",
   "execution_count": 9,
   "id": "23c89cda",
   "metadata": {},
   "outputs": [
    {
     "name": "stdout",
     "output_type": "stream",
     "text": [
      "x = 10 returns  False\n",
      "x = 11 returns  True\n"
     ]
    }
   ],
   "source": [
    "print('x = 10 returns ', prime_or_not_o(10))\n",
    "print('x = 11 returns ', prime_or_not_o(11))"
   ]
  },
  {
   "cell_type": "markdown",
   "id": "11b64f09",
   "metadata": {},
   "source": [
    "Run on vectors"
   ]
  },
  {
   "cell_type": "code",
   "execution_count": 10,
   "id": "cc3320ce",
   "metadata": {},
   "outputs": [
    {
     "data": {
      "text/plain": [
       "array([False,  True, False])"
      ]
     },
     "execution_count": 10,
     "metadata": {},
     "output_type": "execute_result"
    }
   ],
   "source": [
    "prime_or_not_o([10, 11, 12])"
   ]
  },
  {
   "cell_type": "markdown",
   "id": "1be07c9e",
   "metadata": {},
   "source": [
    "<div class=\"alert alert-info\" style=\"background-color:#006666; color:white; padding:0px 10px; border-radius:5px;\"><h2 style='margin:7px 5px; font-size:16px'>Mini Challenge</h2>\n",
    "</div>"
   ]
  },
  {
   "cell_type": "markdown",
   "id": "c1e16875",
   "metadata": {},
   "source": [
    "Vectorize the `calc_profit` function to make it work for all the rows of the dataset.\n",
    "\n",
    "```python\n",
    "# Calc Profit\n",
    "def calc_profit(open, high, low, close):\n",
    "    buy = open * 0.999\n",
    "    # daily range\n",
    "    if low < buy < high:\n",
    "        return (close - buy)/buy\n",
    "    else:\n",
    "        return 0\n",
    "    \n",
    "# Read Data\n",
    "arr = np.genfromtxt(\"Datasets/apple_stock_price.csv\", delimiter=\",\", skip_header=1)\n",
    "arr\n",
    "\n",
    "# array([[127.489998, 128.880005, 126.919998, 127.830002],\n",
    "#        [127.629997, 128.779999, 127.449997, 128.720001],\n",
    "#        [128.479996, 129.029999, 128.330002, 128.449997],\n",
    "#        ...,\n",
    "#        [133.470001, 135.089996, 133.25    , 135.020004],\n",
    "#        [135.520004, 136.270004, 134.619995, 135.509995],\n",
    "#        [135.669998, 135.899994, 134.839996, 135.350006]])\n",
    "```\n",
    "\n",
    "__Code URL:__ https://git.io/JnEvj"
   ]
  },
  {
   "cell_type": "code",
   "execution_count": 11,
   "id": "51ea1416",
   "metadata": {},
   "outputs": [],
   "source": [
    "def calc_profit(open, high, low, close):\n",
    "    buy = open * 0.999\n",
    "    # daily range\n",
    "    if low < buy < high:\n",
    "        return (close - buy)/buy\n",
    "    else:\n",
    "        return 0"
   ]
  },
  {
   "cell_type": "code",
   "execution_count": 12,
   "id": "3db7f0ed",
   "metadata": {
    "scrolled": true
   },
   "outputs": [
    {
     "data": {
      "text/plain": [
       "array([[127.489998, 128.880005, 126.919998, 127.830002],\n",
       "       [127.629997, 128.779999, 127.449997, 128.720001],\n",
       "       [128.479996, 129.029999, 128.330002, 128.449997],\n",
       "       ...,\n",
       "       [133.470001, 135.089996, 133.25    , 135.020004],\n",
       "       [135.520004, 136.270004, 134.619995, 135.509995],\n",
       "       [135.669998, 135.899994, 134.839996, 135.350006]])"
      ]
     },
     "execution_count": 12,
     "metadata": {},
     "output_type": "execute_result"
    }
   ],
   "source": [
    "# Read data\n",
    "arr = np.genfromtxt(\"Datasets/apple_stock_price.csv\", delimiter=\",\", skip_header=1)\n",
    "arr"
   ]
  },
  {
   "cell_type": "code",
   "execution_count": 13,
   "id": "4b1d2921",
   "metadata": {
    "scrolled": true
   },
   "outputs": [
    {
     "data": {
      "text/plain": [
       "0.003670577828073656"
      ]
     },
     "execution_count": 13,
     "metadata": {},
     "output_type": "execute_result"
    }
   ],
   "source": [
    "calc_profit(127.489998, 128.880005, 126.919998, 127.830002)"
   ]
  },
  {
   "cell_type": "markdown",
   "id": "c5a981fe",
   "metadata": {},
   "source": [
    "#### Solution: Vectorize"
   ]
  },
  {
   "cell_type": "code",
   "execution_count": 14,
   "id": "ea8b9e62",
   "metadata": {},
   "outputs": [],
   "source": [
    "calc_profit_vec = np.vectorize(calc_profit, otypes=[float])"
   ]
  },
  {
   "cell_type": "code",
   "execution_count": 15,
   "id": "15a8bc0b",
   "metadata": {},
   "outputs": [
    {
     "data": {
      "text/plain": [
       "array([ 0.00367058,  0.00954989,  0.00076728,  0.00784975,  0.02394346,\n",
       "       -0.00479691, -0.02007515,  0.01366997, -0.01085696, -0.00023818])"
      ]
     },
     "execution_count": 15,
     "metadata": {},
     "output_type": "execute_result"
    }
   ],
   "source": [
    "output = calc_profit_vec(arr[:, 0], arr[:, 1], arr[:, 2], arr[:, 3])\n",
    "output[:10]"
   ]
  },
  {
   "cell_type": "code",
   "execution_count": null,
   "id": "d6dde5a6",
   "metadata": {},
   "outputs": [],
   "source": []
  }
 ],
 "metadata": {
  "hide_input": false,
  "kernelspec": {
   "display_name": "Python 3",
   "language": "python",
   "name": "python3"
  },
  "language_info": {
   "codemirror_mode": {
    "name": "ipython",
    "version": 3
   },
   "file_extension": ".py",
   "mimetype": "text/x-python",
   "name": "python",
   "nbconvert_exporter": "python",
   "pygments_lexer": "ipython3",
   "version": "3.7.10"
  },
  "toc": {
   "base_numbering": 1,
   "nav_menu": {},
   "number_sections": false,
   "sideBar": true,
   "skip_h1_title": true,
   "title_cell": "Table of Contents",
   "title_sidebar": "Contents",
   "toc_cell": false,
   "toc_position": {},
   "toc_section_display": true,
   "toc_window_display": false
  }
 },
 "nbformat": 4,
 "nbformat_minor": 5
}
