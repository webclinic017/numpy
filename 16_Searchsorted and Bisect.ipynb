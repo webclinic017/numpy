{
  "nbformat": 4,
  "nbformat_minor": 5,
  "metadata": {
    "hide_input": false,
    "kernelspec": {
      "display_name": "Python 3",
      "language": "python",
      "name": "python3"
    },
    "language_info": {
      "codemirror_mode": {
        "name": "ipython",
        "version": 3
      },
      "file_extension": ".py",
      "mimetype": "text/x-python",
      "name": "python",
      "nbconvert_exporter": "python",
      "pygments_lexer": "ipython3",
      "version": "3.7.10"
    },
    "toc": {
      "base_numbering": 1,
      "nav_menu": {},
      "number_sections": false,
      "sideBar": true,
      "skip_h1_title": true,
      "title_cell": "Table of Contents",
      "title_sidebar": "Contents",
      "toc_cell": false,
      "toc_position": {},
      "toc_section_display": true,
      "toc_window_display": false
    },
    "colab": {
      "name": "16_Searchsorted and Bisect.ipynb",
      "provenance": [],
      "include_colab_link": true
    }
  },
  "cells": [
    {
      "cell_type": "markdown",
      "metadata": {
        "id": "view-in-github",
        "colab_type": "text"
      },
      "source": [
        "<a href=\"https://colab.research.google.com/github/patelsaumya/numpy/blob/master/16_Searchsorted%20and%20Bisect.ipynb\" target=\"_parent\"><img src=\"https://colab.research.google.com/assets/colab-badge.svg\" alt=\"Open In Colab\"/></a>"
      ]
    },
    {
      "cell_type": "markdown",
      "metadata": {
        "id": "a4ef7912"
      },
      "source": [
        "<div style=\"color:#006666; padding:0px 10px; border-radius:5px; font-size:18px; text-align:center\"><h1 style='margin:10px 5px'>Searchsorted and Bisect</h1>\n",
        "<hr>\n",
        "<p style=\"color:#006666; text-align:right;font-size:10px\">\n",
        "Copyright by MachineLearningPlus. All Rights Reserved.\n",
        "</p>\n",
        "\n",
        "</div>"
      ],
      "id": "a4ef7912"
    },
    {
      "cell_type": "markdown",
      "metadata": {
        "id": "cf5404a5"
      },
      "source": [
        "When trying to insert a numbr into a sorted array, `Searchsorted` finds the position that will keep the array in sorted order."
      ],
      "id": "cf5404a5"
    },
    {
      "cell_type": "code",
      "metadata": {
        "id": "6bd59978"
      },
      "source": [
        "import numpy as np\n",
        "np.set_printoptions(threshold=2000)"
      ],
      "id": "6bd59978",
      "execution_count": null,
      "outputs": []
    },
    {
      "cell_type": "code",
      "metadata": {
        "id": "5fdeea1b"
      },
      "source": [
        "np.random.seed(100)\n",
        "a = np.random.randint(1, 100, size=1000)\n",
        "a.sort()"
      ],
      "id": "5fdeea1b",
      "execution_count": null,
      "outputs": []
    },
    {
      "cell_type": "code",
      "metadata": {
        "id": "31330ce6",
        "outputId": "28d570e7-bee2-495b-a1bd-4ca735bb68ff"
      },
      "source": [
        "a"
      ],
      "id": "31330ce6",
      "execution_count": null,
      "outputs": [
        {
          "data": {
            "text/plain": [
              "array([ 1,  1,  1,  1,  1,  1,  1,  1,  1,  1,  1,  2,  2,  2,  2,  2,  2,\n",
              "        2,  2,  2,  2,  2,  2,  2,  3,  3,  3,  3,  3,  3,  3,  3,  3,  3,\n",
              "        4,  4,  4,  4,  4,  4,  4,  4,  4,  5,  5,  5,  5,  5,  5,  5,  5,\n",
              "        5,  6,  6,  6,  6,  7,  7,  7,  7,  7,  8,  8,  8,  8,  8,  8,  8,\n",
              "        8,  8,  8,  8,  8,  8,  9,  9,  9,  9,  9,  9,  9,  9,  9,  9, 10,\n",
              "       10, 10, 10, 10, 10, 10, 10, 10, 10, 10, 11, 11, 11, 11, 11, 11, 11,\n",
              "       11, 12, 12, 12, 12, 12, 12, 12, 12, 12, 13, 13, 13, 13, 13, 13, 13,\n",
              "       13, 13, 14, 14, 14, 14, 14, 14, 14, 14, 14, 14, 14, 14, 15, 15, 15,\n",
              "       15, 15, 15, 15, 15, 15, 15, 16, 16, 16, 16, 16, 16, 16, 16, 17, 17,\n",
              "       17, 17, 17, 17, 17, 17, 17, 17, 17, 17, 18, 18, 18, 18, 18, 18, 18,\n",
              "       18, 18, 18, 18, 18, 18, 18, 19, 19, 19, 19, 19, 19, 19, 19, 20, 20,\n",
              "       20, 20, 20, 20, 20, 20, 20, 20, 20, 21, 21, 21, 21, 21, 21, 21, 21,\n",
              "       21, 21, 21, 22, 22, 22, 22, 23, 23, 23, 23, 23, 23, 23, 23, 23, 23,\n",
              "       24, 24, 24, 24, 24, 24, 24, 24, 24, 25, 25, 25, 25, 25, 25, 26, 26,\n",
              "       26, 26, 26, 26, 26, 26, 26, 26, 26, 26, 26, 26, 26, 27, 27, 27, 27,\n",
              "       27, 27, 27, 27, 27, 27, 27, 27, 28, 28, 28, 28, 28, 28, 28, 28, 28,\n",
              "       28, 28, 29, 29, 29, 29, 29, 29, 29, 30, 30, 30, 30, 30, 30, 30, 31,\n",
              "       31, 31, 31, 31, 31, 31, 31, 31, 32, 32, 32, 32, 32, 32, 32, 32, 32,\n",
              "       32, 33, 33, 33, 33, 33, 33, 33, 34, 34, 34, 34, 34, 34, 34, 34, 34,\n",
              "       34, 35, 35, 35, 35, 35, 35, 35, 35, 35, 35, 35, 35, 36, 36, 36, 36,\n",
              "       36, 36, 36, 36, 36, 36, 36, 36, 36, 37, 37, 37, 37, 37, 37, 37, 37,\n",
              "       37, 37, 37, 38, 38, 38, 38, 38, 38, 38, 38, 38, 38, 38, 38, 38, 38,\n",
              "       38, 38, 39, 39, 39, 39, 39, 39, 39, 39, 39, 39, 39, 39, 39, 39, 39,\n",
              "       40, 40, 40, 40, 40, 40, 40, 40, 40, 40, 41, 41, 41, 41, 41, 41, 42,\n",
              "       42, 42, 42, 42, 42, 42, 42, 43, 43, 43, 43, 43, 43, 43, 43, 43, 43,\n",
              "       43, 44, 44, 44, 45, 45, 45, 45, 45, 45, 45, 45, 45, 45, 45, 46, 46,\n",
              "       46, 46, 46, 46, 47, 47, 47, 47, 47, 47, 47, 47, 48, 48, 48, 48, 48,\n",
              "       48, 48, 48, 48, 48, 48, 48, 48, 49, 49, 49, 49, 49, 49, 49, 49, 49,\n",
              "       50, 50, 50, 50, 50, 50, 50, 50, 50, 50, 50, 50, 51, 51, 51, 51, 51,\n",
              "       51, 51, 52, 52, 52, 52, 52, 52, 52, 52, 52, 52, 52, 52, 53, 53, 53,\n",
              "       53, 53, 53, 53, 53, 53, 53, 53, 53, 54, 54, 54, 54, 54, 54, 54, 54,\n",
              "       54, 54, 54, 54, 54, 54, 54, 54, 54, 54, 55, 55, 55, 55, 55, 55, 55,\n",
              "       55, 55, 55, 55, 56, 56, 56, 56, 56, 56, 56, 56, 56, 56, 57, 57, 57,\n",
              "       57, 57, 57, 57, 57, 57, 57, 57, 58, 58, 58, 58, 58, 58, 58, 58, 59,\n",
              "       59, 59, 59, 59, 59, 59, 59, 59, 59, 59, 59, 59, 60, 60, 60, 60, 60,\n",
              "       60, 60, 60, 60, 60, 60, 60, 60, 61, 61, 61, 61, 61, 61, 61, 61, 61,\n",
              "       61, 61, 61, 61, 62, 62, 62, 62, 62, 62, 62, 63, 63, 63, 63, 63, 64,\n",
              "       64, 64, 64, 64, 64, 64, 64, 64, 65, 65, 65, 65, 65, 65, 65, 65, 66,\n",
              "       66, 66, 66, 66, 66, 66, 66, 66, 67, 67, 67, 67, 67, 67, 67, 67, 67,\n",
              "       67, 67, 67, 67, 68, 68, 68, 68, 68, 68, 68, 68, 68, 68, 68, 68, 68,\n",
              "       68, 68, 69, 69, 69, 69, 69, 69, 69, 69, 69, 69, 70, 70, 70, 70, 70,\n",
              "       70, 70, 70, 70, 71, 71, 71, 71, 71, 71, 71, 72, 72, 72, 72, 72, 72,\n",
              "       72, 72, 72, 72, 72, 72, 73, 73, 73, 73, 73, 73, 74, 74, 74, 74, 74,\n",
              "       74, 75, 75, 75, 75, 75, 75, 75, 75, 76, 76, 76, 76, 76, 76, 76, 77,\n",
              "       77, 77, 77, 77, 77, 77, 77, 77, 77, 77, 77, 77, 77, 78, 78, 78, 78,\n",
              "       78, 78, 78, 78, 79, 79, 79, 79, 79, 79, 79, 79, 79, 79, 79, 79, 80,\n",
              "       80, 80, 80, 80, 80, 80, 80, 80, 80, 81, 81, 81, 81, 81, 81, 81, 81,\n",
              "       81, 81, 81, 82, 82, 82, 82, 82, 82, 82, 82, 82, 83, 83, 83, 83, 83,\n",
              "       83, 83, 83, 83, 83, 83, 83, 83, 83, 83, 83, 83, 84, 84, 84, 84, 84,\n",
              "       84, 84, 84, 84, 84, 85, 85, 85, 85, 85, 85, 85, 85, 85, 85, 85, 85,\n",
              "       85, 86, 86, 86, 86, 86, 86, 87, 87, 87, 87, 87, 87, 87, 87, 87, 87,\n",
              "       87, 87, 87, 88, 88, 88, 88, 88, 88, 88, 88, 88, 88, 88, 88, 88, 88,\n",
              "       88, 88, 88, 89, 89, 89, 89, 89, 89, 89, 90, 90, 90, 90, 90, 90, 90,\n",
              "       90, 90, 90, 91, 91, 91, 91, 91, 91, 91, 91, 91, 92, 92, 92, 92, 92,\n",
              "       92, 92, 92, 93, 93, 93, 93, 93, 93, 93, 93, 93, 93, 93, 93, 93, 93,\n",
              "       94, 94, 94, 94, 94, 94, 94, 94, 94, 94, 94, 94, 94, 94, 94, 95, 95,\n",
              "       95, 95, 95, 95, 95, 95, 95, 95, 95, 95, 95, 95, 96, 96, 96, 96, 96,\n",
              "       96, 96, 96, 96, 97, 97, 97, 97, 97, 97, 97, 97, 97, 97, 97, 98, 98,\n",
              "       99, 99, 99, 99, 99, 99, 99, 99, 99, 99, 99, 99, 99, 99])"
            ]
          },
          "execution_count": 3,
          "metadata": {},
          "output_type": "execute_result"
        }
      ]
    },
    {
      "cell_type": "code",
      "metadata": {
        "id": "3a0733aa",
        "outputId": "6250db2a-a8e7-4b85-9f7a-9432a060984d"
      },
      "source": [
        "num = 6\n",
        "pos = np.searchsorted(a, num)\n",
        "pos"
      ],
      "id": "3a0733aa",
      "execution_count": null,
      "outputs": [
        {
          "data": {
            "text/plain": [
              "52"
            ]
          },
          "execution_count": 4,
          "metadata": {},
          "output_type": "execute_result"
        }
      ]
    },
    {
      "cell_type": "markdown",
      "metadata": {
        "id": "89d20a33"
      },
      "source": [
        " If `side=right`, return the last such index."
      ],
      "id": "89d20a33"
    },
    {
      "cell_type": "code",
      "metadata": {
        "id": "56168952",
        "outputId": "bafc0058-7be4-4175-ec60-6a216a09a4ee"
      },
      "source": [
        "np.searchsorted(a, num, side=\"right\")"
      ],
      "id": "56168952",
      "execution_count": null,
      "outputs": [
        {
          "data": {
            "text/plain": [
              "56"
            ]
          },
          "execution_count": 5,
          "metadata": {},
          "output_type": "execute_result"
        }
      ]
    },
    {
      "cell_type": "markdown",
      "metadata": {
        "id": "22cdbddc"
      },
      "source": [
        "Insert in element by reconstructing the array."
      ],
      "id": "22cdbddc"
    },
    {
      "cell_type": "code",
      "metadata": {
        "id": "420d698e",
        "outputId": "d802648f-6ac4-4802-bf6b-6127c8c3935e"
      },
      "source": [
        "# insert in element by reconstructing the array.\n",
        "a1 = np.r_[a[:pos], num, a[pos:]]\n",
        "a1[:100]"
      ],
      "id": "420d698e",
      "execution_count": null,
      "outputs": [
        {
          "data": {
            "text/plain": [
              "array([ 1,  1,  1,  1,  1,  1,  1,  1,  1,  1,  1,  2,  2,  2,  2,  2,  2,\n",
              "        2,  2,  2,  2,  2,  2,  2,  3,  3,  3,  3,  3,  3,  3,  3,  3,  3,\n",
              "        4,  4,  4,  4,  4,  4,  4,  4,  4,  5,  5,  5,  5,  5,  5,  5,  5,\n",
              "        5,  6,  6,  6,  6,  6,  7,  7,  7,  7,  7,  8,  8,  8,  8,  8,  8,\n",
              "        8,  8,  8,  8,  8,  8,  8,  9,  9,  9,  9,  9,  9,  9,  9,  9,  9,\n",
              "       10, 10, 10, 10, 10, 10, 10, 10, 10, 10, 10, 11, 11, 11, 11])"
            ]
          },
          "execution_count": 6,
          "metadata": {},
          "output_type": "execute_result"
        }
      ]
    },
    {
      "cell_type": "code",
      "metadata": {
        "scrolled": true,
        "id": "b78c8824",
        "outputId": "b5a3f5ed-a98c-4866-acdb-acdcc17d9ffb"
      },
      "source": [
        "np.searchsorted(a, [7, 65, 50, 90])"
      ],
      "id": "b78c8824",
      "execution_count": null,
      "outputs": [
        {
          "data": {
            "text/plain": [
              "array([ 56, 637, 476, 894], dtype=int64)"
            ]
          },
          "execution_count": 7,
          "metadata": {},
          "output_type": "execute_result"
        }
      ]
    },
    {
      "cell_type": "code",
      "metadata": {
        "id": "7e6bf704",
        "outputId": "ff0cef39-1fe0-4e3a-ae8f-e3c955284db9"
      },
      "source": [
        "%%timeit\n",
        "np.searchsorted(a, [7, 65, 50, 90])"
      ],
      "id": "7e6bf704",
      "execution_count": null,
      "outputs": [
        {
          "name": "stdout",
          "output_type": "stream",
          "text": [
            "5.12 µs ± 319 ns per loop (mean ± std. dev. of 7 runs, 100000 loops each)\n"
          ]
        }
      ]
    },
    {
      "cell_type": "markdown",
      "metadata": {
        "id": "b48fec7d"
      },
      "source": [
        "<div class=\"alert alert-info\" style=\"background-color:#006666; color:white; padding:0px 10px; border-radius:5px;\"><h2 style='margin:7px 5px; font-size:16px'>Bisect Module</h2>\n",
        "</div>\n",
        "\n",
        "The Bisect module provides a similar functionality as what `np.searchsorted` achieves. That is, it helps keeping a list in the sorted order after inserting a number without having to re-sort it."
      ],
      "id": "b48fec7d"
    },
    {
      "cell_type": "code",
      "metadata": {
        "id": "d4b65140"
      },
      "source": [
        "import bisect"
      ],
      "id": "d4b65140",
      "execution_count": null,
      "outputs": []
    },
    {
      "cell_type": "code",
      "metadata": {
        "id": "90edfb4f"
      },
      "source": [
        "np.random.seed(100)\n",
        "a = np.random.randint(1, 100, size=1000)\n",
        "a.sort()"
      ],
      "id": "90edfb4f",
      "execution_count": null,
      "outputs": []
    },
    {
      "cell_type": "code",
      "metadata": {
        "id": "1ef2e7d1",
        "outputId": "7c10ecce-307c-4f72-d7e6-8eda3a76f142"
      },
      "source": [
        "a[:100]"
      ],
      "id": "1ef2e7d1",
      "execution_count": null,
      "outputs": [
        {
          "data": {
            "text/plain": [
              "array([ 1,  1,  1,  1,  1,  1,  1,  1,  1,  1,  1,  2,  2,  2,  2,  2,  2,\n",
              "        2,  2,  2,  2,  2,  2,  2,  3,  3,  3,  3,  3,  3,  3,  3,  3,  3,\n",
              "        4,  4,  4,  4,  4,  4,  4,  4,  4,  5,  5,  5,  5,  5,  5,  5,  5,\n",
              "        5,  6,  6,  6,  6,  7,  7,  7,  7,  7,  8,  8,  8,  8,  8,  8,  8,\n",
              "        8,  8,  8,  8,  8,  8,  9,  9,  9,  9,  9,  9,  9,  9,  9,  9, 10,\n",
              "       10, 10, 10, 10, 10, 10, 10, 10, 10, 10, 11, 11, 11, 11, 11])"
            ]
          },
          "execution_count": 11,
          "metadata": {},
          "output_type": "execute_result"
        }
      ]
    },
    {
      "cell_type": "code",
      "metadata": {
        "id": "a251ce8e",
        "outputId": "9a1ec093-c105-47cb-ba00-c462e82e3a16"
      },
      "source": [
        "num = 6\n",
        "bisect.bisect(a, num)"
      ],
      "id": "a251ce8e",
      "execution_count": null,
      "outputs": [
        {
          "data": {
            "text/plain": [
              "56"
            ]
          },
          "execution_count": 12,
          "metadata": {},
          "output_type": "execute_result"
        }
      ]
    },
    {
      "cell_type": "code",
      "metadata": {
        "id": "a6bb35b0",
        "outputId": "2a02656a-01f9-4dde-8791-c550a1e47430"
      },
      "source": [
        "bisect.bisect_left(a, num)"
      ],
      "id": "a6bb35b0",
      "execution_count": null,
      "outputs": [
        {
          "data": {
            "text/plain": [
              "52"
            ]
          },
          "execution_count": 13,
          "metadata": {},
          "output_type": "execute_result"
        }
      ]
    },
    {
      "cell_type": "markdown",
      "metadata": {
        "id": "e5a35b7b"
      },
      "source": [
        "`bisect.insort_left` will insert the number at the earliest position to keep the list sorted. Likewise `bisect.insort_right` will insert at the latest position."
      ],
      "id": "e5a35b7b"
    },
    {
      "cell_type": "code",
      "metadata": {
        "id": "c163ff7e"
      },
      "source": [
        "a = a.tolist()\n",
        "bisect.insort_left(a, num)"
      ],
      "id": "c163ff7e",
      "execution_count": null,
      "outputs": []
    },
    {
      "cell_type": "code",
      "metadata": {
        "id": "8924ec74",
        "outputId": "e16782b9-68c4-4a32-ea57-d989cd4b5bb5"
      },
      "source": [
        "print(a[:100])"
      ],
      "id": "8924ec74",
      "execution_count": null,
      "outputs": [
        {
          "name": "stdout",
          "output_type": "stream",
          "text": [
            "[1, 1, 1, 1, 1, 1, 1, 1, 1, 1, 1, 2, 2, 2, 2, 2, 2, 2, 2, 2, 2, 2, 2, 2, 3, 3, 3, 3, 3, 3, 3, 3, 3, 3, 4, 4, 4, 4, 4, 4, 4, 4, 4, 5, 5, 5, 5, 5, 5, 5, 5, 5, 6, 6, 6, 6, 6, 7, 7, 7, 7, 7, 8, 8, 8, 8, 8, 8, 8, 8, 8, 8, 8, 8, 8, 9, 9, 9, 9, 9, 9, 9, 9, 9, 9, 10, 10, 10, 10, 10, 10, 10, 10, 10, 10, 10, 11, 11, 11, 11]\n"
          ]
        }
      ]
    },
    {
      "cell_type": "markdown",
      "metadata": {
        "id": "4a91bfa0"
      },
      "source": [
        "<div class=\"alert alert-info\" style=\"background-color:#006666; color:white; padding:0px 10px; border-radius:5px;\"><h2 style='margin:7px 5px; font-size:16px'>Mini Challenge</h2>\n",
        "</div>"
      ],
      "id": "4a91bfa0"
    },
    {
      "cell_type": "markdown",
      "metadata": {
        "id": "52fd11a4"
      },
      "source": [
        "A school grades student scores based on their marks using the following breakpoints:\n",
        "\n",
        "- `>90`  --> A\n",
        "- `>80`  --> B\n",
        "- `>50`  --> C\n",
        "- `>30`  --> D\n",
        "- `<=30` --> E\n",
        "\n",
        "Use `np.searchsorted` to obtain the grades for the following scores: 20, 35, 41, 55, 81, 99.\n",
        "\n",
        "Desired Output:\n",
        "```\n",
        "#> `['E', 'D', 'D', 'C', 'B', 'A']`\n",
        "```"
      ],
      "id": "52fd11a4"
    },
    {
      "cell_type": "markdown",
      "metadata": {
        "id": "3ca30567"
      },
      "source": [
        "__Solution__"
      ],
      "id": "3ca30567"
    },
    {
      "cell_type": "code",
      "metadata": {
        "id": "7cf34717"
      },
      "source": [
        ""
      ],
      "id": "7cf34717",
      "execution_count": null,
      "outputs": []
    },
    {
      "cell_type": "code",
      "metadata": {
        "id": "028b6fc2"
      },
      "source": [
        ""
      ],
      "id": "028b6fc2",
      "execution_count": null,
      "outputs": []
    },
    {
      "cell_type": "code",
      "metadata": {
        "id": "287fa79d"
      },
      "source": [
        ""
      ],
      "id": "287fa79d",
      "execution_count": null,
      "outputs": []
    },
    {
      "cell_type": "code",
      "metadata": {
        "id": "f21388b9"
      },
      "source": [
        ""
      ],
      "id": "f21388b9",
      "execution_count": null,
      "outputs": []
    },
    {
      "cell_type": "code",
      "metadata": {
        "id": "654b33de"
      },
      "source": [
        ""
      ],
      "id": "654b33de",
      "execution_count": null,
      "outputs": []
    },
    {
      "cell_type": "code",
      "metadata": {
        "id": "5f7bb0d8"
      },
      "source": [
        ""
      ],
      "id": "5f7bb0d8",
      "execution_count": null,
      "outputs": []
    },
    {
      "cell_type": "code",
      "metadata": {
        "id": "882b125a",
        "outputId": "8ce3c1e9-b89a-4b2e-cc0a-ca81c4800ae8"
      },
      "source": [
        "def get_grade(score, breaks=[30, 50, 80, 90], grades='EDCBA'):\n",
        "    i = np.searchsorted(breaks, score)\n",
        "    return grades[i]\n",
        "\n",
        "[get_grade(score) for score in [20, 35, 41, 55, 81, 99]]"
      ],
      "id": "882b125a",
      "execution_count": null,
      "outputs": [
        {
          "data": {
            "text/plain": [
              "['E', 'D', 'D', 'C', 'B', 'A']"
            ]
          },
          "execution_count": 16,
          "metadata": {},
          "output_type": "execute_result"
        }
      ]
    },
    {
      "cell_type": "code",
      "metadata": {
        "id": "975bdc21"
      },
      "source": [
        ""
      ],
      "id": "975bdc21",
      "execution_count": null,
      "outputs": []
    }
  ]
}