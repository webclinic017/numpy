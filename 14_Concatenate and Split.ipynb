{
 "cells": [
  {
   "cell_type": "markdown",
   "id": "093683e1",
   "metadata": {},
   "source": [
    "<div style=\"color:#006666; padding:0px 10px; border-radius:5px; font-size:18px; text-align:center\"><h1 style='margin:10px 5px'>Concatenate and Split</h1>\n",
    "<hr>\n",
    "<p style=\"color:#006666; text-align:right;font-size:10px\">\n",
    "Copyright by MachineLearningPlus. All Rights Reserved.\n",
    "</p>\n",
    "\n",
    "</div>"
   ]
  },
  {
   "cell_type": "markdown",
   "id": "64e3ec65",
   "metadata": {},
   "source": [
    "__Create two 2D arrays__"
   ]
  },
  {
   "cell_type": "code",
   "execution_count": 1,
   "id": "e0513abd",
   "metadata": {},
   "outputs": [
    {
     "data": {
      "text/plain": [
       "array([[ 0,  1,  2,  3],\n",
       "       [ 4,  5,  6,  7],\n",
       "       [ 8,  9, 10, 11]])"
      ]
     },
     "execution_count": 1,
     "metadata": {},
     "output_type": "execute_result"
    }
   ],
   "source": [
    "import numpy as np\n",
    "a = np.arange(12).reshape(3,4)\n",
    "a"
   ]
  },
  {
   "cell_type": "code",
   "execution_count": 2,
   "id": "300439ac",
   "metadata": {},
   "outputs": [
    {
     "data": {
      "text/plain": [
       "array([[ 0,  2,  4,  6],\n",
       "       [ 8, 10, 12, 14],\n",
       "       [16, 18, 20, 22]])"
      ]
     },
     "execution_count": 2,
     "metadata": {},
     "output_type": "execute_result"
    }
   ],
   "source": [
    "b = a * 2\n",
    "b"
   ]
  },
  {
   "cell_type": "markdown",
   "id": "c4aed9b3",
   "metadata": {},
   "source": [
    "<div class=\"alert alert-info\" style=\"background-color:#006666; color:white; padding:0px 10px; border-radius:5px;\"><h2 style='margin:7px 5px; font-size:16px'>Concatenate Horizontally</h2>\n",
    "</div>"
   ]
  },
  {
   "cell_type": "markdown",
   "id": "621ed2c9",
   "metadata": {},
   "source": [
    "(i) `hstack`\n",
    "\n",
    "Takes one argument only"
   ]
  },
  {
   "cell_type": "code",
   "execution_count": 3,
   "id": "864f06f8",
   "metadata": {},
   "outputs": [
    {
     "data": {
      "text/plain": [
       "array([[ 0,  1,  2,  3,  0,  2,  4,  6],\n",
       "       [ 4,  5,  6,  7,  8, 10, 12, 14],\n",
       "       [ 8,  9, 10, 11, 16, 18, 20, 22]])"
      ]
     },
     "execution_count": 3,
     "metadata": {},
     "output_type": "execute_result"
    }
   ],
   "source": [
    "np.hstack([a, b])"
   ]
  },
  {
   "cell_type": "markdown",
   "id": "61195f6b",
   "metadata": {},
   "source": [
    "(ii) `c_`"
   ]
  },
  {
   "cell_type": "code",
   "execution_count": 4,
   "id": "dc6b5ee7",
   "metadata": {},
   "outputs": [
    {
     "data": {
      "text/plain": [
       "array([[ 0,  1,  2,  3,  0,  2,  4,  6],\n",
       "       [ 4,  5,  6,  7,  8, 10, 12, 14],\n",
       "       [ 8,  9, 10, 11, 16, 18, 20, 22]])"
      ]
     },
     "execution_count": 4,
     "metadata": {},
     "output_type": "execute_result"
    }
   ],
   "source": [
    "np.c_[a, b]"
   ]
  },
  {
   "cell_type": "markdown",
   "id": "89886da5",
   "metadata": {},
   "source": [
    "(iii)  `column_stack`\n",
    "\n",
    "Takes one argument only"
   ]
  },
  {
   "cell_type": "code",
   "execution_count": 5,
   "id": "a2e6257a",
   "metadata": {},
   "outputs": [
    {
     "data": {
      "text/plain": [
       "array([[ 0,  1,  2,  3,  0,  2,  4,  6],\n",
       "       [ 4,  5,  6,  7,  8, 10, 12, 14],\n",
       "       [ 8,  9, 10, 11, 16, 18, 20, 22]])"
      ]
     },
     "execution_count": 5,
     "metadata": {},
     "output_type": "execute_result"
    }
   ],
   "source": [
    "np.column_stack([a, b])"
   ]
  },
  {
   "cell_type": "code",
   "execution_count": 6,
   "id": "fb4537f9",
   "metadata": {},
   "outputs": [
    {
     "data": {
      "text/plain": [
       "array([[ 0,  1,  2,  3,  0,  2,  4,  6],\n",
       "       [ 4,  5,  6,  7,  8, 10, 12, 14],\n",
       "       [ 8,  9, 10, 11, 16, 18, 20, 22]])"
      ]
     },
     "execution_count": 6,
     "metadata": {},
     "output_type": "execute_result"
    }
   ],
   "source": [
    "np.concatenate([a, b], axis=1)"
   ]
  },
  {
   "cell_type": "markdown",
   "id": "f818db19",
   "metadata": {},
   "source": [
    "<div class=\"alert alert-info\" style=\"background-color:#006666; color:white; padding:0px 10px; border-radius:5px;\"><h2 style='margin:7px 5px; font-size:16px'>Concatenate Vertically</h2>\n",
    "</div>"
   ]
  },
  {
   "cell_type": "code",
   "execution_count": 7,
   "id": "b5dc640e",
   "metadata": {},
   "outputs": [
    {
     "data": {
      "text/plain": [
       "array([[ 0,  1,  2,  3],\n",
       "       [ 4,  5,  6,  7],\n",
       "       [ 8,  9, 10, 11],\n",
       "       [ 0,  2,  4,  6],\n",
       "       [ 8, 10, 12, 14],\n",
       "       [16, 18, 20, 22]])"
      ]
     },
     "execution_count": 7,
     "metadata": {},
     "output_type": "execute_result"
    }
   ],
   "source": [
    "np.vstack([a, b])"
   ]
  },
  {
   "cell_type": "code",
   "execution_count": 8,
   "id": "dcb6740b",
   "metadata": {},
   "outputs": [
    {
     "data": {
      "text/plain": [
       "array([[ 0,  1,  2,  3],\n",
       "       [ 4,  5,  6,  7],\n",
       "       [ 8,  9, 10, 11],\n",
       "       [ 0,  2,  4,  6],\n",
       "       [ 8, 10, 12, 14],\n",
       "       [16, 18, 20, 22]])"
      ]
     },
     "execution_count": 8,
     "metadata": {},
     "output_type": "execute_result"
    }
   ],
   "source": [
    "np.r_[a, b]"
   ]
  },
  {
   "cell_type": "code",
   "execution_count": 9,
   "id": "b8507358",
   "metadata": {},
   "outputs": [
    {
     "data": {
      "text/plain": [
       "array([[ 0,  1,  2,  3],\n",
       "       [ 4,  5,  6,  7],\n",
       "       [ 8,  9, 10, 11],\n",
       "       [ 0,  2,  4,  6],\n",
       "       [ 8, 10, 12, 14],\n",
       "       [16, 18, 20, 22]])"
      ]
     },
     "execution_count": 9,
     "metadata": {},
     "output_type": "execute_result"
    }
   ],
   "source": [
    "np.row_stack([a, b])"
   ]
  },
  {
   "cell_type": "code",
   "execution_count": 10,
   "id": "ab0dbcf5",
   "metadata": {},
   "outputs": [
    {
     "data": {
      "text/plain": [
       "array([[ 0,  1,  2,  3],\n",
       "       [ 4,  5,  6,  7],\n",
       "       [ 8,  9, 10, 11],\n",
       "       [ 0,  2,  4,  6],\n",
       "       [ 8, 10, 12, 14],\n",
       "       [16, 18, 20, 22]])"
      ]
     },
     "execution_count": 10,
     "metadata": {},
     "output_type": "execute_result"
    }
   ],
   "source": [
    "np.concatenate([a, b], axis=0)"
   ]
  },
  {
   "cell_type": "markdown",
   "id": "82c3d0cf",
   "metadata": {},
   "source": [
    "__Splitting an array__"
   ]
  },
  {
   "cell_type": "code",
   "execution_count": 11,
   "id": "7ac49d8d",
   "metadata": {},
   "outputs": [
    {
     "data": {
      "text/plain": [
       "array([[ 0,  1,  2,  3],\n",
       "       [ 4,  5,  6,  7],\n",
       "       [ 8,  9, 10, 11],\n",
       "       [ 0,  2,  4,  6],\n",
       "       [ 8, 10, 12, 14],\n",
       "       [16, 18, 20, 22],\n",
       "       [ 0,  1,  2,  3],\n",
       "       [ 4,  5,  6,  7],\n",
       "       [ 8,  9, 10, 11],\n",
       "       [ 0,  2,  4,  6],\n",
       "       [ 8, 10, 12, 14],\n",
       "       [16, 18, 20, 22]])"
      ]
     },
     "execution_count": 11,
     "metadata": {},
     "output_type": "execute_result"
    }
   ],
   "source": [
    "arr = np.concatenate([a, b, a, b])\n",
    "arr"
   ]
  },
  {
   "cell_type": "markdown",
   "id": "cf5e54c4",
   "metadata": {},
   "source": [
    "Cut horizontally into 2 equal pieces"
   ]
  },
  {
   "cell_type": "code",
   "execution_count": 12,
   "id": "e6d7074b",
   "metadata": {},
   "outputs": [
    {
     "data": {
      "text/plain": [
       "[array([[ 0,  1,  2,  3],\n",
       "        [ 4,  5,  6,  7],\n",
       "        [ 8,  9, 10, 11],\n",
       "        [ 0,  2,  4,  6],\n",
       "        [ 8, 10, 12, 14],\n",
       "        [16, 18, 20, 22]]), array([[ 0,  1,  2,  3],\n",
       "        [ 4,  5,  6,  7],\n",
       "        [ 8,  9, 10, 11],\n",
       "        [ 0,  2,  4,  6],\n",
       "        [ 8, 10, 12, 14],\n",
       "        [16, 18, 20, 22]])]"
      ]
     },
     "execution_count": 12,
     "metadata": {},
     "output_type": "execute_result"
    }
   ],
   "source": [
    "# Split vertically in 2 pieces (horizontal cut)\n",
    "np.vsplit(arr, 2)"
   ]
  },
  {
   "cell_type": "markdown",
   "id": "4dd8a205",
   "metadata": {},
   "source": [
    "Cut horizontally into 3 pieces at 3 and 7 positions."
   ]
  },
  {
   "cell_type": "code",
   "execution_count": 13,
   "id": "8c1d48a9",
   "metadata": {},
   "outputs": [
    {
     "data": {
      "text/plain": [
       "[array([[ 0,  1,  2,  3],\n",
       "        [ 4,  5,  6,  7],\n",
       "        [ 8,  9, 10, 11]]), array([[ 0,  2,  4,  6],\n",
       "        [ 8, 10, 12, 14],\n",
       "        [16, 18, 20, 22],\n",
       "        [ 0,  1,  2,  3]]), array([[ 4,  5,  6,  7],\n",
       "        [ 8,  9, 10, 11],\n",
       "        [ 0,  2,  4,  6],\n",
       "        [ 8, 10, 12, 14],\n",
       "        [16, 18, 20, 22]])]"
      ]
     },
     "execution_count": 13,
     "metadata": {},
     "output_type": "execute_result"
    }
   ],
   "source": [
    "np.vsplit(arr, [3, 7])"
   ]
  },
  {
   "cell_type": "code",
   "execution_count": 14,
   "id": "8948b5cf",
   "metadata": {},
   "outputs": [
    {
     "data": {
      "text/plain": [
       "[array([[ 0,  1],\n",
       "        [ 4,  5],\n",
       "        [ 8,  9],\n",
       "        [ 0,  2],\n",
       "        [ 8, 10],\n",
       "        [16, 18],\n",
       "        [ 0,  1],\n",
       "        [ 4,  5],\n",
       "        [ 8,  9],\n",
       "        [ 0,  2],\n",
       "        [ 8, 10],\n",
       "        [16, 18]]), array([[ 2,  3],\n",
       "        [ 6,  7],\n",
       "        [10, 11],\n",
       "        [ 4,  6],\n",
       "        [12, 14],\n",
       "        [20, 22],\n",
       "        [ 2,  3],\n",
       "        [ 6,  7],\n",
       "        [10, 11],\n",
       "        [ 4,  6],\n",
       "        [12, 14],\n",
       "        [20, 22]])]"
      ]
     },
     "execution_count": 14,
     "metadata": {},
     "output_type": "execute_result"
    }
   ],
   "source": [
    "# Split horizontally in 2 pieces (vertical cut)\n",
    "np.hsplit(arr, 2)"
   ]
  },
  {
   "cell_type": "markdown",
   "id": "9a087c3c",
   "metadata": {},
   "source": [
    "<div class=\"alert alert-info\" style=\"background-color:#006666; color:white; padding:0px 10px; border-radius:5px;\"><h2 style='margin:7px 5px; font-size:16px'>Mini Challenge</h2>\n",
    "</div>"
   ]
  },
  {
   "cell_type": "markdown",
   "id": "d9794089",
   "metadata": {},
   "source": [
    "Split the following dataset into smaller datasets containing 5 rows each. Save each row as a .npz file on disk, named starting from 1.npz, 2.npz and so on."
   ]
  },
  {
   "cell_type": "markdown",
   "id": "d504edfb",
   "metadata": {},
   "source": [
    "__Input Code__\n",
    "```python\n",
    "import numpy as np\n",
    "arr = np.genfromtxt(\"Datasets/data.txt\")\n",
    "```"
   ]
  },
  {
   "cell_type": "markdown",
   "id": "13b61c90",
   "metadata": {},
   "source": [
    "__Solution__"
   ]
  },
  {
   "cell_type": "code",
   "execution_count": null,
   "id": "738c3db1",
   "metadata": {},
   "outputs": [],
   "source": []
  },
  {
   "cell_type": "code",
   "execution_count": null,
   "id": "52692d88",
   "metadata": {},
   "outputs": [],
   "source": []
  },
  {
   "cell_type": "code",
   "execution_count": null,
   "id": "7c04f67e",
   "metadata": {},
   "outputs": [],
   "source": []
  },
  {
   "cell_type": "code",
   "execution_count": null,
   "id": "21c5ec51",
   "metadata": {},
   "outputs": [],
   "source": []
  },
  {
   "cell_type": "code",
   "execution_count": null,
   "id": "ad0e8694",
   "metadata": {},
   "outputs": [],
   "source": []
  },
  {
   "cell_type": "code",
   "execution_count": null,
   "id": "9cc83bfb",
   "metadata": {},
   "outputs": [],
   "source": []
  },
  {
   "cell_type": "code",
   "execution_count": null,
   "id": "e7b7efa0",
   "metadata": {},
   "outputs": [],
   "source": []
  },
  {
   "cell_type": "code",
   "execution_count": null,
   "id": "457d11f3",
   "metadata": {},
   "outputs": [],
   "source": []
  },
  {
   "cell_type": "code",
   "execution_count": null,
   "id": "d4599572",
   "metadata": {},
   "outputs": [],
   "source": []
  },
  {
   "cell_type": "code",
   "execution_count": null,
   "id": "018a8155",
   "metadata": {},
   "outputs": [],
   "source": []
  },
  {
   "cell_type": "code",
   "execution_count": null,
   "id": "136da5d5",
   "metadata": {},
   "outputs": [],
   "source": []
  },
  {
   "cell_type": "code",
   "execution_count": null,
   "id": "fe8d99d7",
   "metadata": {},
   "outputs": [],
   "source": []
  },
  {
   "cell_type": "code",
   "execution_count": 15,
   "id": "b7f22050",
   "metadata": {},
   "outputs": [
    {
     "data": {
      "text/plain": [
       "array([[ 1.     , 87.     , 57.54435],\n",
       "       [ 2.     ,  8.     ,  7.31704],\n",
       "       [ 3.     , 56.     , 56.82095],\n",
       "       [ 4.     , 63.     , 64.15579],\n",
       "       [ 5.     ,  2.     ,  5.74522],\n",
       "       [ 6.     , 45.     , 19.56758],\n",
       "       [ 7.     , 43.     , 39.62271],\n",
       "       [ 8.     , 47.     , 34.95107],\n",
       "       [ 9.     ,  2.     ,  9.38692],\n",
       "       [10.     , 79.     , 36.41022],\n",
       "       [11.     , 67.     , 49.83894],\n",
       "       [12.     , 24.     , 23.47974],\n",
       "       [13.     , 61.     , 72.55357],\n",
       "       [14.     , 85.     , 39.24693],\n",
       "       [15.     , 63.     , 53.6279 ],\n",
       "       [16.     ,  2.     , 16.72441],\n",
       "       [17.     , 29.     , 37.25533],\n",
       "       [18.     , 45.     , 18.78498],\n",
       "       [19.     , 33.     , 19.8089 ],\n",
       "       [20.     , 28.     , 46.03384],\n",
       "       [21.     , 21.     , 23.7864 ],\n",
       "       [22.     , 27.     , 44.42627],\n",
       "       [23.     , 65.     , 34.94804],\n",
       "       [24.     , 61.     , 53.49576],\n",
       "       [25.     , 10.     , 25.98564]])"
      ]
     },
     "execution_count": 15,
     "metadata": {},
     "output_type": "execute_result"
    }
   ],
   "source": [
    "import numpy as np\n",
    "arr = np.genfromtxt(\"Datasets/data.txt\")\n",
    "arr"
   ]
  },
  {
   "cell_type": "code",
   "execution_count": 16,
   "id": "d2d7e263",
   "metadata": {},
   "outputs": [],
   "source": [
    "# Solution\n",
    "L = np.vsplit(arr, 5)"
   ]
  },
  {
   "cell_type": "code",
   "execution_count": 17,
   "id": "a48da2f7",
   "metadata": {},
   "outputs": [
    {
     "data": {
      "text/plain": [
       "[array([[ 1.     , 87.     , 57.54435],\n",
       "        [ 2.     ,  8.     ,  7.31704],\n",
       "        [ 3.     , 56.     , 56.82095],\n",
       "        [ 4.     , 63.     , 64.15579],\n",
       "        [ 5.     ,  2.     ,  5.74522]]),\n",
       " array([[ 6.     , 45.     , 19.56758],\n",
       "        [ 7.     , 43.     , 39.62271],\n",
       "        [ 8.     , 47.     , 34.95107],\n",
       "        [ 9.     ,  2.     ,  9.38692],\n",
       "        [10.     , 79.     , 36.41022]]),\n",
       " array([[11.     , 67.     , 49.83894],\n",
       "        [12.     , 24.     , 23.47974],\n",
       "        [13.     , 61.     , 72.55357],\n",
       "        [14.     , 85.     , 39.24693],\n",
       "        [15.     , 63.     , 53.6279 ]]),\n",
       " array([[16.     ,  2.     , 16.72441],\n",
       "        [17.     , 29.     , 37.25533],\n",
       "        [18.     , 45.     , 18.78498],\n",
       "        [19.     , 33.     , 19.8089 ],\n",
       "        [20.     , 28.     , 46.03384]]),\n",
       " array([[21.     , 21.     , 23.7864 ],\n",
       "        [22.     , 27.     , 44.42627],\n",
       "        [23.     , 65.     , 34.94804],\n",
       "        [24.     , 61.     , 53.49576],\n",
       "        [25.     , 10.     , 25.98564]])]"
      ]
     },
     "execution_count": 17,
     "metadata": {},
     "output_type": "execute_result"
    }
   ],
   "source": [
    "L"
   ]
  },
  {
   "cell_type": "code",
   "execution_count": 18,
   "id": "cc6f5d52",
   "metadata": {},
   "outputs": [],
   "source": [
    "for i, arr in enumerate(L):\n",
    "    np.savez(f\"TEMP/{i}.npz\", arr)"
   ]
  },
  {
   "cell_type": "code",
   "execution_count": null,
   "id": "9937b8ba",
   "metadata": {},
   "outputs": [],
   "source": []
  }
 ],
 "metadata": {
  "hide_input": false,
  "kernelspec": {
   "display_name": "Python 3",
   "language": "python",
   "name": "python3"
  },
  "language_info": {
   "codemirror_mode": {
    "name": "ipython",
    "version": 3
   },
   "file_extension": ".py",
   "mimetype": "text/x-python",
   "name": "python",
   "nbconvert_exporter": "python",
   "pygments_lexer": "ipython3",
   "version": "3.7.10"
  },
  "toc": {
   "base_numbering": 1,
   "nav_menu": {},
   "number_sections": false,
   "sideBar": true,
   "skip_h1_title": true,
   "title_cell": "Table of Contents",
   "title_sidebar": "Contents",
   "toc_cell": false,
   "toc_position": {},
   "toc_section_display": true,
   "toc_window_display": false
  }
 },
 "nbformat": 4,
 "nbformat_minor": 5
}
