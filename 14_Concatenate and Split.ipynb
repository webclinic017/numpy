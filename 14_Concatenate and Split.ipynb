{
  "nbformat": 4,
  "nbformat_minor": 5,
  "metadata": {
    "hide_input": false,
    "kernelspec": {
      "display_name": "Python 3",
      "language": "python",
      "name": "python3"
    },
    "language_info": {
      "codemirror_mode": {
        "name": "ipython",
        "version": 3
      },
      "file_extension": ".py",
      "mimetype": "text/x-python",
      "name": "python",
      "nbconvert_exporter": "python",
      "pygments_lexer": "ipython3",
      "version": "3.7.10"
    },
    "toc": {
      "base_numbering": 1,
      "nav_menu": {},
      "number_sections": false,
      "sideBar": true,
      "skip_h1_title": true,
      "title_cell": "Table of Contents",
      "title_sidebar": "Contents",
      "toc_cell": false,
      "toc_position": {},
      "toc_section_display": true,
      "toc_window_display": false
    },
    "colab": {
      "name": "14_Concatenate and Split.ipynb",
      "provenance": [],
      "include_colab_link": true
    }
  },
  "cells": [
    {
      "cell_type": "markdown",
      "metadata": {
        "id": "view-in-github",
        "colab_type": "text"
      },
      "source": [
        "<a href=\"https://colab.research.google.com/github/patelsaumya/numpy/blob/master/14_Concatenate%20and%20Split.ipynb\" target=\"_parent\"><img src=\"https://colab.research.google.com/assets/colab-badge.svg\" alt=\"Open In Colab\"/></a>"
      ]
    },
    {
      "cell_type": "markdown",
      "metadata": {
        "id": "093683e1"
      },
      "source": [
        "<div style=\"color:#006666; padding:0px 10px; border-radius:5px; font-size:18px; text-align:center\"><h1 style='margin:10px 5px'>Concatenate and Split</h1>\n",
        "<hr>\n",
        "<p style=\"color:#006666; text-align:right;font-size:10px\">\n",
        "Copyright by MachineLearningPlus. All Rights Reserved.\n",
        "</p>\n",
        "\n",
        "</div>"
      ],
      "id": "093683e1"
    },
    {
      "cell_type": "markdown",
      "metadata": {
        "id": "64e3ec65"
      },
      "source": [
        "__Create two 2D arrays__"
      ],
      "id": "64e3ec65"
    },
    {
      "cell_type": "code",
      "metadata": {
        "id": "e0513abd",
        "outputId": "3e2f13c7-995a-4aab-f0e6-35af0d9cf8e9"
      },
      "source": [
        "import numpy as np\n",
        "a = np.arange(12).reshape(3,4)\n",
        "a"
      ],
      "id": "e0513abd",
      "execution_count": null,
      "outputs": [
        {
          "data": {
            "text/plain": [
              "array([[ 0,  1,  2,  3],\n",
              "       [ 4,  5,  6,  7],\n",
              "       [ 8,  9, 10, 11]])"
            ]
          },
          "execution_count": 1,
          "metadata": {},
          "output_type": "execute_result"
        }
      ]
    },
    {
      "cell_type": "code",
      "metadata": {
        "id": "300439ac",
        "outputId": "b7cade47-eb45-48d7-da33-97f2dfb1e9b3"
      },
      "source": [
        "b = a * 2\n",
        "b"
      ],
      "id": "300439ac",
      "execution_count": null,
      "outputs": [
        {
          "data": {
            "text/plain": [
              "array([[ 0,  2,  4,  6],\n",
              "       [ 8, 10, 12, 14],\n",
              "       [16, 18, 20, 22]])"
            ]
          },
          "execution_count": 2,
          "metadata": {},
          "output_type": "execute_result"
        }
      ]
    },
    {
      "cell_type": "markdown",
      "metadata": {
        "id": "c4aed9b3"
      },
      "source": [
        "<div class=\"alert alert-info\" style=\"background-color:#006666; color:white; padding:0px 10px; border-radius:5px;\"><h2 style='margin:7px 5px; font-size:16px'>Concatenate Horizontally</h2>\n",
        "</div>"
      ],
      "id": "c4aed9b3"
    },
    {
      "cell_type": "markdown",
      "metadata": {
        "id": "621ed2c9"
      },
      "source": [
        "(i) `hstack`\n",
        "\n",
        "Takes one argument only"
      ],
      "id": "621ed2c9"
    },
    {
      "cell_type": "code",
      "metadata": {
        "id": "864f06f8",
        "outputId": "a7487eca-b5a6-4e7c-8e9a-88c442cce59f"
      },
      "source": [
        "np.hstack([a, b])"
      ],
      "id": "864f06f8",
      "execution_count": null,
      "outputs": [
        {
          "data": {
            "text/plain": [
              "array([[ 0,  1,  2,  3,  0,  2,  4,  6],\n",
              "       [ 4,  5,  6,  7,  8, 10, 12, 14],\n",
              "       [ 8,  9, 10, 11, 16, 18, 20, 22]])"
            ]
          },
          "execution_count": 3,
          "metadata": {},
          "output_type": "execute_result"
        }
      ]
    },
    {
      "cell_type": "markdown",
      "metadata": {
        "id": "61195f6b"
      },
      "source": [
        "(ii) `c_`"
      ],
      "id": "61195f6b"
    },
    {
      "cell_type": "code",
      "metadata": {
        "id": "dc6b5ee7",
        "outputId": "294ef211-1fc2-4cf7-b159-478ea79acc4c"
      },
      "source": [
        "np.c_[a, b]"
      ],
      "id": "dc6b5ee7",
      "execution_count": null,
      "outputs": [
        {
          "data": {
            "text/plain": [
              "array([[ 0,  1,  2,  3,  0,  2,  4,  6],\n",
              "       [ 4,  5,  6,  7,  8, 10, 12, 14],\n",
              "       [ 8,  9, 10, 11, 16, 18, 20, 22]])"
            ]
          },
          "execution_count": 4,
          "metadata": {},
          "output_type": "execute_result"
        }
      ]
    },
    {
      "cell_type": "markdown",
      "metadata": {
        "id": "89886da5"
      },
      "source": [
        "(iii)  `column_stack`\n",
        "\n",
        "Takes one argument only"
      ],
      "id": "89886da5"
    },
    {
      "cell_type": "code",
      "metadata": {
        "id": "a2e6257a",
        "outputId": "8b2b0be5-2952-4a28-ab8b-c6ce3d0430d3"
      },
      "source": [
        "np.column_stack([a, b])"
      ],
      "id": "a2e6257a",
      "execution_count": null,
      "outputs": [
        {
          "data": {
            "text/plain": [
              "array([[ 0,  1,  2,  3,  0,  2,  4,  6],\n",
              "       [ 4,  5,  6,  7,  8, 10, 12, 14],\n",
              "       [ 8,  9, 10, 11, 16, 18, 20, 22]])"
            ]
          },
          "execution_count": 5,
          "metadata": {},
          "output_type": "execute_result"
        }
      ]
    },
    {
      "cell_type": "code",
      "metadata": {
        "id": "fb4537f9",
        "outputId": "fd0000e3-bf01-48d6-cbc2-c2e8e45f60c8"
      },
      "source": [
        "np.concatenate([a, b], axis=1)"
      ],
      "id": "fb4537f9",
      "execution_count": null,
      "outputs": [
        {
          "data": {
            "text/plain": [
              "array([[ 0,  1,  2,  3,  0,  2,  4,  6],\n",
              "       [ 4,  5,  6,  7,  8, 10, 12, 14],\n",
              "       [ 8,  9, 10, 11, 16, 18, 20, 22]])"
            ]
          },
          "execution_count": 6,
          "metadata": {},
          "output_type": "execute_result"
        }
      ]
    },
    {
      "cell_type": "markdown",
      "metadata": {
        "id": "f818db19"
      },
      "source": [
        "<div class=\"alert alert-info\" style=\"background-color:#006666; color:white; padding:0px 10px; border-radius:5px;\"><h2 style='margin:7px 5px; font-size:16px'>Concatenate Vertically</h2>\n",
        "</div>"
      ],
      "id": "f818db19"
    },
    {
      "cell_type": "code",
      "metadata": {
        "id": "b5dc640e",
        "outputId": "8f0a5378-f50f-4ef8-d564-7bcd9249d00a"
      },
      "source": [
        "np.vstack([a, b])"
      ],
      "id": "b5dc640e",
      "execution_count": null,
      "outputs": [
        {
          "data": {
            "text/plain": [
              "array([[ 0,  1,  2,  3],\n",
              "       [ 4,  5,  6,  7],\n",
              "       [ 8,  9, 10, 11],\n",
              "       [ 0,  2,  4,  6],\n",
              "       [ 8, 10, 12, 14],\n",
              "       [16, 18, 20, 22]])"
            ]
          },
          "execution_count": 7,
          "metadata": {},
          "output_type": "execute_result"
        }
      ]
    },
    {
      "cell_type": "code",
      "metadata": {
        "id": "dcb6740b",
        "outputId": "0b30c21d-818b-4df5-ce15-80535c588103"
      },
      "source": [
        "np.r_[a, b]"
      ],
      "id": "dcb6740b",
      "execution_count": null,
      "outputs": [
        {
          "data": {
            "text/plain": [
              "array([[ 0,  1,  2,  3],\n",
              "       [ 4,  5,  6,  7],\n",
              "       [ 8,  9, 10, 11],\n",
              "       [ 0,  2,  4,  6],\n",
              "       [ 8, 10, 12, 14],\n",
              "       [16, 18, 20, 22]])"
            ]
          },
          "execution_count": 8,
          "metadata": {},
          "output_type": "execute_result"
        }
      ]
    },
    {
      "cell_type": "code",
      "metadata": {
        "id": "b8507358",
        "outputId": "911541b1-a691-4040-c1a2-bcfe4c5cbbcc"
      },
      "source": [
        "np.row_stack([a, b])"
      ],
      "id": "b8507358",
      "execution_count": null,
      "outputs": [
        {
          "data": {
            "text/plain": [
              "array([[ 0,  1,  2,  3],\n",
              "       [ 4,  5,  6,  7],\n",
              "       [ 8,  9, 10, 11],\n",
              "       [ 0,  2,  4,  6],\n",
              "       [ 8, 10, 12, 14],\n",
              "       [16, 18, 20, 22]])"
            ]
          },
          "execution_count": 9,
          "metadata": {},
          "output_type": "execute_result"
        }
      ]
    },
    {
      "cell_type": "code",
      "metadata": {
        "id": "ab0dbcf5",
        "outputId": "929c2755-a771-464e-9ccf-edacfadfccfe"
      },
      "source": [
        "np.concatenate([a, b], axis=0)"
      ],
      "id": "ab0dbcf5",
      "execution_count": null,
      "outputs": [
        {
          "data": {
            "text/plain": [
              "array([[ 0,  1,  2,  3],\n",
              "       [ 4,  5,  6,  7],\n",
              "       [ 8,  9, 10, 11],\n",
              "       [ 0,  2,  4,  6],\n",
              "       [ 8, 10, 12, 14],\n",
              "       [16, 18, 20, 22]])"
            ]
          },
          "execution_count": 10,
          "metadata": {},
          "output_type": "execute_result"
        }
      ]
    },
    {
      "cell_type": "markdown",
      "metadata": {
        "id": "82c3d0cf"
      },
      "source": [
        "__Splitting an array__"
      ],
      "id": "82c3d0cf"
    },
    {
      "cell_type": "code",
      "metadata": {
        "id": "7ac49d8d",
        "outputId": "7780e5bf-075e-42fb-85cd-20a1fbcdf1a5"
      },
      "source": [
        "arr = np.concatenate([a, b, a, b])\n",
        "arr"
      ],
      "id": "7ac49d8d",
      "execution_count": null,
      "outputs": [
        {
          "data": {
            "text/plain": [
              "array([[ 0,  1,  2,  3],\n",
              "       [ 4,  5,  6,  7],\n",
              "       [ 8,  9, 10, 11],\n",
              "       [ 0,  2,  4,  6],\n",
              "       [ 8, 10, 12, 14],\n",
              "       [16, 18, 20, 22],\n",
              "       [ 0,  1,  2,  3],\n",
              "       [ 4,  5,  6,  7],\n",
              "       [ 8,  9, 10, 11],\n",
              "       [ 0,  2,  4,  6],\n",
              "       [ 8, 10, 12, 14],\n",
              "       [16, 18, 20, 22]])"
            ]
          },
          "execution_count": 11,
          "metadata": {},
          "output_type": "execute_result"
        }
      ]
    },
    {
      "cell_type": "markdown",
      "metadata": {
        "id": "cf5e54c4"
      },
      "source": [
        "Cut horizontally into 2 equal pieces"
      ],
      "id": "cf5e54c4"
    },
    {
      "cell_type": "code",
      "metadata": {
        "id": "e6d7074b",
        "outputId": "5fb5274c-98ea-454e-c990-f0d0910c0009"
      },
      "source": [
        "# Split vertically in 2 pieces (horizontal cut)\n",
        "np.vsplit(arr, 2)"
      ],
      "id": "e6d7074b",
      "execution_count": null,
      "outputs": [
        {
          "data": {
            "text/plain": [
              "[array([[ 0,  1,  2,  3],\n",
              "        [ 4,  5,  6,  7],\n",
              "        [ 8,  9, 10, 11],\n",
              "        [ 0,  2,  4,  6],\n",
              "        [ 8, 10, 12, 14],\n",
              "        [16, 18, 20, 22]]), array([[ 0,  1,  2,  3],\n",
              "        [ 4,  5,  6,  7],\n",
              "        [ 8,  9, 10, 11],\n",
              "        [ 0,  2,  4,  6],\n",
              "        [ 8, 10, 12, 14],\n",
              "        [16, 18, 20, 22]])]"
            ]
          },
          "execution_count": 12,
          "metadata": {},
          "output_type": "execute_result"
        }
      ]
    },
    {
      "cell_type": "markdown",
      "metadata": {
        "id": "4dd8a205"
      },
      "source": [
        "Cut horizontally into 3 pieces at 3 and 7 positions."
      ],
      "id": "4dd8a205"
    },
    {
      "cell_type": "code",
      "metadata": {
        "id": "8c1d48a9",
        "outputId": "be8db9a7-61b7-4ef3-ad0b-f117d86c6ce6"
      },
      "source": [
        "np.vsplit(arr, [3, 7])"
      ],
      "id": "8c1d48a9",
      "execution_count": null,
      "outputs": [
        {
          "data": {
            "text/plain": [
              "[array([[ 0,  1,  2,  3],\n",
              "        [ 4,  5,  6,  7],\n",
              "        [ 8,  9, 10, 11]]), array([[ 0,  2,  4,  6],\n",
              "        [ 8, 10, 12, 14],\n",
              "        [16, 18, 20, 22],\n",
              "        [ 0,  1,  2,  3]]), array([[ 4,  5,  6,  7],\n",
              "        [ 8,  9, 10, 11],\n",
              "        [ 0,  2,  4,  6],\n",
              "        [ 8, 10, 12, 14],\n",
              "        [16, 18, 20, 22]])]"
            ]
          },
          "execution_count": 13,
          "metadata": {},
          "output_type": "execute_result"
        }
      ]
    },
    {
      "cell_type": "code",
      "metadata": {
        "id": "8948b5cf",
        "outputId": "32a47ed1-08e2-4981-93ef-62e1a3fb7ea0"
      },
      "source": [
        "# Split horizontally in 2 pieces (vertical cut)\n",
        "np.hsplit(arr, 2)"
      ],
      "id": "8948b5cf",
      "execution_count": null,
      "outputs": [
        {
          "data": {
            "text/plain": [
              "[array([[ 0,  1],\n",
              "        [ 4,  5],\n",
              "        [ 8,  9],\n",
              "        [ 0,  2],\n",
              "        [ 8, 10],\n",
              "        [16, 18],\n",
              "        [ 0,  1],\n",
              "        [ 4,  5],\n",
              "        [ 8,  9],\n",
              "        [ 0,  2],\n",
              "        [ 8, 10],\n",
              "        [16, 18]]), array([[ 2,  3],\n",
              "        [ 6,  7],\n",
              "        [10, 11],\n",
              "        [ 4,  6],\n",
              "        [12, 14],\n",
              "        [20, 22],\n",
              "        [ 2,  3],\n",
              "        [ 6,  7],\n",
              "        [10, 11],\n",
              "        [ 4,  6],\n",
              "        [12, 14],\n",
              "        [20, 22]])]"
            ]
          },
          "execution_count": 14,
          "metadata": {},
          "output_type": "execute_result"
        }
      ]
    },
    {
      "cell_type": "markdown",
      "metadata": {
        "id": "9a087c3c"
      },
      "source": [
        "<div class=\"alert alert-info\" style=\"background-color:#006666; color:white; padding:0px 10px; border-radius:5px;\"><h2 style='margin:7px 5px; font-size:16px'>Mini Challenge</h2>\n",
        "</div>"
      ],
      "id": "9a087c3c"
    },
    {
      "cell_type": "markdown",
      "metadata": {
        "id": "d9794089"
      },
      "source": [
        "Split the following dataset into smaller datasets containing 5 rows each. Save each row as a .npz file on disk, named starting from 1.npz, 2.npz and so on."
      ],
      "id": "d9794089"
    },
    {
      "cell_type": "markdown",
      "metadata": {
        "id": "d504edfb"
      },
      "source": [
        "__Input Code__\n",
        "```python\n",
        "import numpy as np\n",
        "arr = np.genfromtxt(\"Datasets/data.txt\")\n",
        "```"
      ],
      "id": "d504edfb"
    },
    {
      "cell_type": "markdown",
      "metadata": {
        "id": "13b61c90"
      },
      "source": [
        "__Solution__"
      ],
      "id": "13b61c90"
    },
    {
      "cell_type": "code",
      "metadata": {
        "id": "738c3db1"
      },
      "source": [
        ""
      ],
      "id": "738c3db1",
      "execution_count": null,
      "outputs": []
    },
    {
      "cell_type": "code",
      "metadata": {
        "id": "52692d88"
      },
      "source": [
        ""
      ],
      "id": "52692d88",
      "execution_count": null,
      "outputs": []
    },
    {
      "cell_type": "code",
      "metadata": {
        "id": "7c04f67e"
      },
      "source": [
        ""
      ],
      "id": "7c04f67e",
      "execution_count": null,
      "outputs": []
    },
    {
      "cell_type": "code",
      "metadata": {
        "id": "21c5ec51"
      },
      "source": [
        ""
      ],
      "id": "21c5ec51",
      "execution_count": null,
      "outputs": []
    },
    {
      "cell_type": "code",
      "metadata": {
        "id": "ad0e8694"
      },
      "source": [
        ""
      ],
      "id": "ad0e8694",
      "execution_count": null,
      "outputs": []
    },
    {
      "cell_type": "code",
      "metadata": {
        "id": "9cc83bfb"
      },
      "source": [
        ""
      ],
      "id": "9cc83bfb",
      "execution_count": null,
      "outputs": []
    },
    {
      "cell_type": "code",
      "metadata": {
        "id": "e7b7efa0"
      },
      "source": [
        ""
      ],
      "id": "e7b7efa0",
      "execution_count": null,
      "outputs": []
    },
    {
      "cell_type": "code",
      "metadata": {
        "id": "457d11f3"
      },
      "source": [
        ""
      ],
      "id": "457d11f3",
      "execution_count": null,
      "outputs": []
    },
    {
      "cell_type": "code",
      "metadata": {
        "id": "d4599572"
      },
      "source": [
        ""
      ],
      "id": "d4599572",
      "execution_count": null,
      "outputs": []
    },
    {
      "cell_type": "code",
      "metadata": {
        "id": "018a8155"
      },
      "source": [
        ""
      ],
      "id": "018a8155",
      "execution_count": null,
      "outputs": []
    },
    {
      "cell_type": "code",
      "metadata": {
        "id": "136da5d5"
      },
      "source": [
        ""
      ],
      "id": "136da5d5",
      "execution_count": null,
      "outputs": []
    },
    {
      "cell_type": "code",
      "metadata": {
        "id": "fe8d99d7"
      },
      "source": [
        ""
      ],
      "id": "fe8d99d7",
      "execution_count": null,
      "outputs": []
    },
    {
      "cell_type": "code",
      "metadata": {
        "id": "b7f22050",
        "outputId": "a292c616-5304-42a1-8804-d8d38d0c35e9"
      },
      "source": [
        "import numpy as np\n",
        "arr = np.genfromtxt(\"Datasets/data.txt\")\n",
        "arr"
      ],
      "id": "b7f22050",
      "execution_count": null,
      "outputs": [
        {
          "data": {
            "text/plain": [
              "array([[ 1.     , 87.     , 57.54435],\n",
              "       [ 2.     ,  8.     ,  7.31704],\n",
              "       [ 3.     , 56.     , 56.82095],\n",
              "       [ 4.     , 63.     , 64.15579],\n",
              "       [ 5.     ,  2.     ,  5.74522],\n",
              "       [ 6.     , 45.     , 19.56758],\n",
              "       [ 7.     , 43.     , 39.62271],\n",
              "       [ 8.     , 47.     , 34.95107],\n",
              "       [ 9.     ,  2.     ,  9.38692],\n",
              "       [10.     , 79.     , 36.41022],\n",
              "       [11.     , 67.     , 49.83894],\n",
              "       [12.     , 24.     , 23.47974],\n",
              "       [13.     , 61.     , 72.55357],\n",
              "       [14.     , 85.     , 39.24693],\n",
              "       [15.     , 63.     , 53.6279 ],\n",
              "       [16.     ,  2.     , 16.72441],\n",
              "       [17.     , 29.     , 37.25533],\n",
              "       [18.     , 45.     , 18.78498],\n",
              "       [19.     , 33.     , 19.8089 ],\n",
              "       [20.     , 28.     , 46.03384],\n",
              "       [21.     , 21.     , 23.7864 ],\n",
              "       [22.     , 27.     , 44.42627],\n",
              "       [23.     , 65.     , 34.94804],\n",
              "       [24.     , 61.     , 53.49576],\n",
              "       [25.     , 10.     , 25.98564]])"
            ]
          },
          "execution_count": 15,
          "metadata": {},
          "output_type": "execute_result"
        }
      ]
    },
    {
      "cell_type": "code",
      "metadata": {
        "id": "d2d7e263"
      },
      "source": [
        "# Solution\n",
        "L = np.vsplit(arr, 5)"
      ],
      "id": "d2d7e263",
      "execution_count": null,
      "outputs": []
    },
    {
      "cell_type": "code",
      "metadata": {
        "id": "a48da2f7",
        "outputId": "b71dba74-048c-4f47-a008-ca6c2066bbfe"
      },
      "source": [
        "L"
      ],
      "id": "a48da2f7",
      "execution_count": null,
      "outputs": [
        {
          "data": {
            "text/plain": [
              "[array([[ 1.     , 87.     , 57.54435],\n",
              "        [ 2.     ,  8.     ,  7.31704],\n",
              "        [ 3.     , 56.     , 56.82095],\n",
              "        [ 4.     , 63.     , 64.15579],\n",
              "        [ 5.     ,  2.     ,  5.74522]]),\n",
              " array([[ 6.     , 45.     , 19.56758],\n",
              "        [ 7.     , 43.     , 39.62271],\n",
              "        [ 8.     , 47.     , 34.95107],\n",
              "        [ 9.     ,  2.     ,  9.38692],\n",
              "        [10.     , 79.     , 36.41022]]),\n",
              " array([[11.     , 67.     , 49.83894],\n",
              "        [12.     , 24.     , 23.47974],\n",
              "        [13.     , 61.     , 72.55357],\n",
              "        [14.     , 85.     , 39.24693],\n",
              "        [15.     , 63.     , 53.6279 ]]),\n",
              " array([[16.     ,  2.     , 16.72441],\n",
              "        [17.     , 29.     , 37.25533],\n",
              "        [18.     , 45.     , 18.78498],\n",
              "        [19.     , 33.     , 19.8089 ],\n",
              "        [20.     , 28.     , 46.03384]]),\n",
              " array([[21.     , 21.     , 23.7864 ],\n",
              "        [22.     , 27.     , 44.42627],\n",
              "        [23.     , 65.     , 34.94804],\n",
              "        [24.     , 61.     , 53.49576],\n",
              "        [25.     , 10.     , 25.98564]])]"
            ]
          },
          "execution_count": 17,
          "metadata": {},
          "output_type": "execute_result"
        }
      ]
    },
    {
      "cell_type": "code",
      "metadata": {
        "id": "cc6f5d52"
      },
      "source": [
        "for i, arr in enumerate(L):\n",
        "    np.savez(f\"TEMP/{i}.npz\", arr)"
      ],
      "id": "cc6f5d52",
      "execution_count": null,
      "outputs": []
    },
    {
      "cell_type": "code",
      "metadata": {
        "id": "9937b8ba"
      },
      "source": [
        ""
      ],
      "id": "9937b8ba",
      "execution_count": null,
      "outputs": []
    }
  ]
}