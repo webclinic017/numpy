{
 "cells": [
  {
   "cell_type": "markdown",
   "id": "1a03aea8",
   "metadata": {},
   "source": [
    "<div style=\"color:#006666; padding:0px 10px; border-radius:5px; font-size:18px; text-align:center\"><h1 style='margin:10px 5px'>Set Operations</h1>\n",
    "<hr>\n",
    "<p style=\"color:#006666; text-align:right;font-size:10px\">\n",
    "Copyright by MachineLearningPlus. All Rights Reserved.\n",
    "</p>\n",
    "\n",
    "</div>"
   ]
  },
  {
   "cell_type": "markdown",
   "id": "3393ddb4",
   "metadata": {},
   "source": [
    "Numpy provides various set operations functions such as union, intersect etc. Let's see a demo for the same."
   ]
  },
  {
   "cell_type": "markdown",
   "id": "805cd5aa",
   "metadata": {},
   "source": [
    "<div class=\"alert alert-info\" style=\"background-color:#006666; color:white; padding:0px 10px; border-radius:5px;\"><h2 style='margin:7px 5px; font-size:16px'>Unique Items</h2>\n",
    "</div>"
   ]
  },
  {
   "cell_type": "code",
   "execution_count": 1,
   "id": "fbcaf2f6",
   "metadata": {},
   "outputs": [],
   "source": [
    "import numpy as np"
   ]
  },
  {
   "cell_type": "code",
   "execution_count": 2,
   "id": "60c38312",
   "metadata": {},
   "outputs": [
    {
     "data": {
      "text/plain": [
       "dtype([('Manufacturer', '<U16'), ('Model', '<U16'), ('Type', '<U16'), ('Min.Price', '<f8'), ('Price', '<f8'), ('Max.Price', '<f8'), ('MPG.city', '<f8'), ('MPG.highway', '<f8'), ('AirBags', '<U16'), ('DriveTrain', '<U16'), ('Cylinders', '<U16'), ('EngineSize', '<f8'), ('Horsepower', '<f8'), ('RPM', '<f8'), ('Rev.per.mile', '<f8'), ('Man.trans.avail', '<U16'), ('Fuel.tank.capacity', '<f8'), ('Passengers', '<f8'), ('Length', '<f8'), ('Wheelbase', '<f8'), ('Width', '<f8'), ('Turn.circle', '<f8'), ('Rear.seat.room', '<f8'), ('Luggage.room', '<f8'), ('Weight', '<f8'), ('Origin', '<U16'), ('Make', '<U16')])"
      ]
     },
     "execution_count": 2,
     "metadata": {},
     "output_type": "execute_result"
    }
   ],
   "source": [
    "dt = np.dtype([(\"Manufacturer\", np.unicode_, 16),\n",
    "               (\"Model\", np.unicode_, 16),\n",
    "               (\"Type\", np.unicode_, 16),\n",
    "               (\"Min.Price\", np.float64),\n",
    "               (\"Price\", np.float64),\n",
    "               (\"Max.Price\", np.float64),\n",
    "               (\"MPG.city\", np.float64),\n",
    "               (\"MPG.highway\", np.float64),\n",
    "               (\"AirBags\", np.unicode_, 16),\n",
    "               (\"DriveTrain\", np.unicode_, 16),\n",
    "               (\"Cylinders\", np.unicode_, 16),\n",
    "               (\"EngineSize\", np.float64),\n",
    "               (\"Horsepower\", np.float64),\n",
    "               (\"RPM\", np.float64),\n",
    "               (\"Rev.per.mile\", np.float64),\n",
    "               (\"Man.trans.avail\", np.unicode_, 16),\n",
    "               (\"Fuel.tank.capacity\", np.float64),\n",
    "               (\"Passengers\", np.float64),\n",
    "               (\"Length\", np.float64),\n",
    "               (\"Wheelbase\", np.float64),\n",
    "               (\"Width\", np.float64),\n",
    "               (\"Turn.circle\", np.float64),\n",
    "               (\"Rear.seat.room\", np.float64),\n",
    "               (\"Luggage.room\", np.float64),\n",
    "               (\"Weight\", np.float64),\n",
    "               (\"Origin\", np.unicode_, 16),\n",
    "               (\"Make\", np.unicode_, 16)])\n",
    "\n",
    "dt"
   ]
  },
  {
   "cell_type": "code",
   "execution_count": 3,
   "id": "a2510c8d",
   "metadata": {},
   "outputs": [
    {
     "data": {
      "text/plain": [
       "array([('\"Acura\"', '\"Integra\"', '\"Small\"', 12.9, 15.9, 18.8, 25., 31., '\"None\"', '\"Front\"', '\"4\"', 1.8, 140., 6300., 2890., '\"Yes\"', 13.2, 5., 177., 102., 68., 37., 26.5, 11., 2705., '\"non-USA\"', '\"Acura Integra\"'),\n",
       "       ('\"Acura\"', '\"Legend\"', '\"Midsize\"', 29.2, 33.9, 38.7, 18., 25., '\"Driver & Passen', '\"Front\"', '\"6\"', 3.2, 200., 5500., 2335., '\"Yes\"', 18. , 5., 195., 115., 71., 38., 30. , 15., 3560., '\"non-USA\"', '\"Acura Legend\"'),\n",
       "       ('\"Audi\"', '\"90\"', '\"Compact\"', 25.9, 29.1, 32.3, 20., 26., '\"Driver only\"', '\"Front\"', '\"6\"', 2.8, 172., 5500., 2280., '\"Yes\"', 16.9, 5., 180., 102., 67., 37., 28. , 14., 3375., '\"non-USA\"', '\"Audi 90\"'),\n",
       "       ('\"Audi\"', '\"100\"', '\"Midsize\"', 30.8, 37.7, 44.6, 19., 26., '\"Driver & Passen', '\"Front\"', '\"6\"', 2.8, 172., 5500., 2535., '\"Yes\"', 21.1, 6., 193., 106., 70., 37., 31. , 17., 3405., '\"non-USA\"', '\"Audi 100\"'),\n",
       "       ('\"BMW\"', '\"535i\"', '\"Midsize\"', 23.7, 30. , 36.2, 22., 30., '\"Driver only\"', '\"Rear\"', '\"4\"', 3.5, 208., 5700., 2545., '\"Yes\"', 21.1, 4., 186., 109., 69., 39., 27. , 13., 3640., '\"non-USA\"', '\"BMW 535i\"'),\n",
       "       ('\"Buick\"', '\"Century\"', '\"Midsize\"', 14.2, 15.7, 17.3, 22., 31., '\"Driver only\"', '\"Front\"', '\"4\"', 2.2, 110., 5200., 2565., '\"No\"', 16.4, 6., 189., 105., 69., 41., 28. , 16., 2880., '\"USA\"', '\"Buick Century\"'),\n",
       "       ('\"Buick\"', '\"LeSabre\"', '\"Large\"', 19.9, 20.8, 21.7, 19., 28., '\"Driver only\"', '\"Front\"', '\"6\"', 3.8, 170., 4800., 1570., '\"No\"', 18. , 6., 200., 111., 74., 42., 30.5, 17., 3470., '\"USA\"', '\"Buick LeSabre\"'),\n",
       "       ('\"Buick\"', '\"Roadmaster\"', '\"Large\"', 22.6, 23.7, 24.9, 16., 25., '\"Driver only\"', '\"Rear\"', '\"6\"', 5.7, 180., 4000., 1320., '\"No\"', 23. , 6., 216., 116., 78., 45., 30.5, 21., 4105., '\"USA\"', '\"Buick Roadmaste'),\n",
       "       ('\"Buick\"', '\"Riviera\"', '\"Midsize\"', 26.3, 26.3, 26.3, 19., 27., '\"Driver only\"', '\"Front\"', '\"6\"', 3.8, 170., 4800., 1690., '\"No\"', 18.8, 5., 198., 108., 73., 41., 26.5, 14., 3495., '\"USA\"', '\"Buick Riviera\"'),\n",
       "       ('\"Cadillac\"', '\"DeVille\"', '\"Large\"', 33. , 34.7, 36.3, 16., 25., '\"Driver only\"', '\"Front\"', '\"8\"', 4.9, 200., 4100., 1510., '\"No\"', 18. , 6., 206., 114., 73., 43., 35. , 18., 3620., '\"USA\"', '\"Cadillac DeVill'),\n",
       "       ('\"Cadillac\"', '\"Seville\"', '\"Midsize\"', 37.5, 40.1, 42.7, 16., 25., '\"Driver & Passen', '\"Front\"', '\"8\"', 4.6, 295., 6000., 1985., '\"No\"', 20. , 5., 204., 111., 74., 44., 31. , 14., 3935., '\"USA\"', '\"Cadillac Sevill'),\n",
       "       ('\"Chevrolet\"', '\"Cavalier\"', '\"Compact\"',  8.5, 13.4, 18.3, 25., 36., '\"None\"', '\"Front\"', '\"4\"', 2.2, 110., 5200., 2380., '\"Yes\"', 15.2, 5., 182., 101., 66., 38., 25. , 13., 2490., '\"USA\"', '\"Chevrolet Caval'),\n",
       "       ('\"Chevrolet\"', '\"Corsica\"', '\"Compact\"', 11.4, 11.4, 11.4, 25., 34., '\"Driver only\"', '\"Front\"', '\"4\"', 2.2, 110., 5200., 2665., '\"Yes\"', 15.6, 5., 184., 103., 68., 39., 26. , 14., 2785., '\"USA\"', '\"Chevrolet Corsi'),\n",
       "       ('\"Chevrolet\"', '\"Camaro\"', '\"Sporty\"', 13.4, 15.1, 16.8, 19., 28., '\"Driver & Passen', '\"Rear\"', '\"6\"', 3.4, 160., 4600., 1805., '\"Yes\"', 15.5, 4., 193., 101., 74., 43., 25. , 13., 3240., '\"USA\"', '\"Chevrolet Camar'),\n",
       "       ('\"Chevrolet\"', '\"Lumina\"', '\"Midsize\"', 13.4, 15.9, 18.4, 21., 29., '\"None\"', '\"Front\"', '\"4\"', 2.2, 110., 5200., 2595., '\"No\"', 16.5, 6., 198., 108., 71., 40., 28.5, 16., 3195., '\"USA\"', '\"Chevrolet Lumin'),\n",
       "       ('\"Chevrolet\"', '\"Lumina_APV\"', '\"Van\"', 14.7, 16.3, 18. , 18., 23., '\"None\"', '\"Front\"', '\"6\"', 3.8, 170., 4800., 1690., '\"No\"', 20. , 7., 178., 110., 74., 44., 30.5, nan, 3715., '\"USA\"', '\"Chevrolet Lumin'),\n",
       "       ('\"Chevrolet\"', '\"Astro\"', '\"Van\"', 14.7, 16.6, 18.6, 15., 20., '\"None\"', '\"4WD\"', '\"6\"', 4.3, 165., 4000., 1790., '\"No\"', 27. , 8., 194., 111., 78., 42., 33.5, nan, 4025., '\"USA\"', '\"Chevrolet Astro'),\n",
       "       ('\"Chevrolet\"', '\"Caprice\"', '\"Large\"', 18. , 18.8, 19.6, 17., 26., '\"Driver only\"', '\"Rear\"', '\"8\"', 5. , 170., 4200., 1350., '\"No\"', 23. , 6., 214., 116., 77., 42., 29.5, 20., 3910., '\"USA\"', '\"Chevrolet Capri'),\n",
       "       ('\"Chevrolet\"', '\"Corvette\"', '\"Sporty\"', 34.6, 38. , 41.5, 17., 25., '\"Driver only\"', '\"Rear\"', '\"8\"', 5.7, 300., 5000., 1450., '\"Yes\"', 20. , 2., 179.,  96., 74., 43.,  nan, nan, 3380., '\"USA\"', '\"Chevrolet Corve'),\n",
       "       ('\"Chrylser\"', '\"Concorde\"', '\"Large\"', 18.4, 18.4, 18.4, 20., 28., '\"Driver & Passen', '\"Front\"', '\"6\"', 3.3, 153., 5300., 1990., '\"No\"', 18. , 6., 203., 113., 74., 40., 31. , 15., 3515., '\"USA\"', '\"Chrylser Concor'),\n",
       "       ('\"Chrysler\"', '\"LeBaron\"', '\"Compact\"', 14.5, 15.8, 17.1, 23., 28., '\"Driver & Passen', '\"Front\"', '\"4\"', 3. , 141., 5000., 2090., '\"No\"', 16. , 6., 183., 104., 68., 41., 30.5, 14., 3085., '\"USA\"', '\"Chrysler LeBaro'),\n",
       "       ('\"Chrysler\"', '\"Imperial\"', '\"Large\"', 29.5, 29.5, 29.5, 20., 26., '\"Driver only\"', '\"Front\"', '\"6\"', 3.3, 147., 4800., 1785., '\"No\"', 16. , 6., 203., 110., 69., 44., 36. , 17., 3570., '\"USA\"', '\"Chrysler Imperi'),\n",
       "       ('\"Dodge\"', '\"Colt\"', '\"Small\"',  7.9,  9.2, 10.6, 29., 33., '\"None\"', '\"Front\"', '\"4\"', 1.5,  92., 6000., 3285., '\"Yes\"', 13.2, 5., 174.,  98., 66., 32., 26.5, 11., 2270., '\"USA\"', '\"Dodge Colt\"'),\n",
       "       ('\"Dodge\"', '\"Shadow\"', '\"Small\"',  8.4, 11.3, 14.2, 23., 29., '\"Driver only\"', '\"Front\"', '\"4\"', 2.2,  93., 4800., 2595., '\"Yes\"', 14. , 5., 172.,  97., 67., 38., 26.5, 13., 2670., '\"USA\"', '\"Dodge Shadow\"'),\n",
       "       ('\"Dodge\"', '\"Spirit\"', '\"Compact\"', 11.9, 13.3, 14.7, 22., 27., '\"Driver only\"', '\"Front\"', '\"4\"', 2.5, 100., 4800., 2535., '\"Yes\"', 16. , 6., 181., 104., 68., 39., 30.5, 14., 2970., '\"USA\"', '\"Dodge Spirit\"'),\n",
       "       ('\"Dodge\"', '\"Caravan\"', '\"Van\"', 13.6, 19. , 24.4, 17., 21., '\"Driver only\"', '\"4WD\"', '\"6\"', 3. , 142., 5000., 1970., '\"No\"', 20. , 7., 175., 112., 72., 42., 26.5, nan, 3705., '\"USA\"', '\"Dodge Caravan\"'),\n",
       "       ('\"Dodge\"', '\"Dynasty\"', '\"Midsize\"', 14.8, 15.6, 16.4, 21., 27., '\"Driver only\"', '\"Front\"', '\"4\"', 2.5, 100., 4800., 2465., '\"No\"', 16. , 6., 192., 105., 69., 42., 30.5, 16., 3080., '\"USA\"', '\"Dodge Dynasty\"'),\n",
       "       ('\"Dodge\"', '\"Stealth\"', '\"Sporty\"', 18.5, 25.8, 33.1, 18., 24., '\"Driver only\"', '\"4WD\"', '\"6\"', 3. , 300., 6000., 2120., '\"Yes\"', 19.8, 4., 180.,  97., 72., 40., 20. , 11., 3805., '\"USA\"', '\"Dodge Stealth\"'),\n",
       "       ('\"Eagle\"', '\"Summit\"', '\"Small\"',  7.9, 12.2, 16.5, 29., 33., '\"None\"', '\"Front\"', '\"4\"', 1.5,  92., 6000., 2505., '\"Yes\"', 13.2, 5., 174.,  98., 66., 36., 26.5, 11., 2295., '\"USA\"', '\"Eagle Summit\"'),\n",
       "       ('\"Eagle\"', '\"Vision\"', '\"Large\"', 17.5, 19.3, 21.2, 20., 28., '\"Driver & Passen', '\"Front\"', '\"6\"', 3.5, 214., 5800., 1980., '\"No\"', 18. , 6., 202., 113., 74., 40., 30. , 15., 3490., '\"USA\"', '\"Eagle Vision\"'),\n",
       "       ('\"Ford\"', '\"Festiva\"', '\"Small\"',  6.9,  7.4,  7.9, 31., 33., '\"None\"', '\"Front\"', '\"4\"', 1.3,  63., 5000., 3150., '\"Yes\"', 10. , 4., 141.,  90., 63., 33., 26. , 12., 1845., '\"USA\"', '\"Ford Festiva\"'),\n",
       "       ('\"Ford\"', '\"Escort\"', '\"Small\"',  8.4, 10.1, 11.9, 23., 30., '\"None\"', '\"Front\"', '\"4\"', 1.8, 127., 6500., 2410., '\"Yes\"', 13.2, 5., 171.,  98., 67., 36., 28. , 12., 2530., '\"USA\"', '\"Ford Escort\"'),\n",
       "       ('\"Ford\"', '\"Tempo\"', '\"Compact\"', 10.4, 11.3, 12.2, 22., 27., '\"None\"', '\"Front\"', '\"4\"', 2.3,  96., 4200., 2805., '\"Yes\"', 15.9, 5., 177., 100., 68., 39., 27.5, 13., 2690., '\"USA\"', '\"Ford Tempo\"'),\n",
       "       ('\"Ford\"', '\"Mustang\"', '\"Sporty\"', 10.8, 15.9, 21. , 22., 29., '\"Driver only\"', '\"Rear\"', '\"4\"', 2.3, 105., 4600., 2285., '\"Yes\"', 15.4, 4., 180., 101., 68., 40., 24. , 12., 2850., '\"USA\"', '\"Ford Mustang\"'),\n",
       "       ('\"Ford\"', '\"Probe\"', '\"Sporty\"', 12.8, 14. , 15.2, 24., 30., '\"Driver only\"', '\"Front\"', '\"4\"', 2. , 115., 5500., 2340., '\"Yes\"', 15.5, 4., 179., 103., 70., 38., 23. , 18., 2710., '\"USA\"', '\"Ford Probe\"'),\n",
       "       ('\"Ford\"', '\"Aerostar\"', '\"Van\"', 14.5, 19.9, 25.3, 15., 20., '\"Driver only\"', '\"4WD\"', '\"6\"', 3. , 145., 4800., 2080., '\"Yes\"', 21. , 7., 176., 119., 72., 45., 30. , nan, 3735., '\"USA\"', '\"Ford Aerostar\"'),\n",
       "       ('\"Ford\"', '\"Taurus\"', '\"Midsize\"', 15.6, 20.2, 24.8, 21., 30., '\"Driver only\"', '\"Front\"', '\"6\"', 3. , 140., 4800., 1885., '\"No\"', 16. , 5., 192., 106., 71., 40., 27.5, 18., 3325., '\"USA\"', '\"Ford Taurus\"'),\n",
       "       ('\"Ford\"', '\"Crown_Victoria\"', '\"Large\"', 20.1, 20.9, 21.7, 18., 26., '\"Driver only\"', '\"Rear\"', '\"8\"', 4.6, 190., 4200., 1415., '\"No\"', 20. , 6., 212., 114., 78., 43., 30. , 21., 3950., '\"USA\"', '\"Ford Crown_Vict'),\n",
       "       ('\"Geo\"', '\"Metro\"', '\"Small\"',  6.7,  8.4, 10. , 46., 50., '\"None\"', '\"Front\"', '\"3\"', 1. ,  55., 5700., 3755., '\"Yes\"', 10.6, 4., 151.,  93., 63., 34., 27.5, 10., 1695., '\"non-USA\"', '\"Geo Metro\"'),\n",
       "       ('\"Geo\"', '\"Storm\"', '\"Sporty\"', 11.5, 12.5, 13.5, 30., 36., '\"Driver only\"', '\"Front\"', '\"4\"', 1.6,  90., 5400., 3250., '\"Yes\"', 12.4, 4., 164.,  97., 67., 37., 24.5, 11., 2475., '\"non-USA\"', '\"Geo Storm\"'),\n",
       "       ('\"Honda\"', '\"Prelude\"', '\"Sporty\"', 17. , 19.8, 22.7, 24., 31., '\"Driver & Passen', '\"Front\"', '\"4\"', 2.3, 160., 5800., 2855., '\"Yes\"', 15.9, 4., 175., 100., 70., 39., 23.5,  8., 2865., '\"non-USA\"', '\"Honda Prelude\"'),\n",
       "       ('\"Honda\"', '\"Civic\"', '\"Small\"',  8.4, 12.1, 15.8, 42., 46., '\"Driver only\"', '\"Front\"', '\"4\"', 1.5, 102., 5900., 2650., '\"Yes\"', 11.9, 4., 173., 103., 67., 36., 28. , 12., 2350., '\"non-USA\"', '\"Honda Civic\"'),\n",
       "       ('\"Honda\"', '\"Accord\"', '\"Compact\"', 13.8, 17.5, 21.2, 24., 31., '\"Driver & Passen', '\"Front\"', '\"4\"', 2.2, 140., 5600., 2610., '\"Yes\"', 17. , 4., 185., 107., 67., 41., 28. , 14., 3040., '\"non-USA\"', '\"Honda Accord\"'),\n",
       "       ('\"Hyundai\"', '\"Excel\"', '\"Small\"',  6.8,  8. ,  9.2, 29., 33., '\"None\"', '\"Front\"', '\"4\"', 1.5,  81., 5500., 2710., '\"Yes\"', 11.9, 5., 168.,  94., 63., 35., 26. , 11., 2345., '\"non-USA\"', '\"Hyundai Excel\"'),\n",
       "       ('\"Hyundai\"', '\"Elantra\"', '\"Small\"',  9. , 10. , 11. , 22., 29., '\"None\"', '\"Front\"', '\"4\"', 1.8, 124., 6000., 2745., '\"Yes\"', 13.7, 5., 172.,  98., 66., 36., 28. , 12., 2620., '\"non-USA\"', '\"Hyundai Elantra'),\n",
       "       ('\"Hyundai\"', '\"Scoupe\"', '\"Sporty\"',  9.1, 10. , 11. , 26., 34., '\"None\"', '\"Front\"', '\"4\"', 1.5,  92., 5550., 2540., '\"Yes\"', 11.9, 4., 166.,  94., 64., 34., 23.5,  9., 2285., '\"non-USA\"', '\"Hyundai Scoupe\"'),\n",
       "       ('\"Hyundai\"', '\"Sonata\"', '\"Midsize\"', 12.4, 13.9, 15.3, 20., 27., '\"None\"', '\"Front\"', '\"4\"', 2. , 128., 6000., 2335., '\"Yes\"', 17.2, 5., 184., 104., 69., 41., 31. , 14., 2885., '\"non-USA\"', '\"Hyundai Sonata\"'),\n",
       "       ('\"Infiniti\"', '\"Q45\"', '\"Midsize\"', 45.4, 47.9, 50.4, 17., 22., '\"Driver only\"', '\"Rear\"', '\"8\"', 4.5, 278., 6000., 1955., '\"No\"', 22.5, 5., 200., 113., 72., 42., 29. , 15., 4000., '\"non-USA\"', '\"Infiniti Q45\"'),\n",
       "       ('\"Lexus\"', '\"ES300\"', '\"Midsize\"', 27.5, 28. , 28.4, 18., 24., '\"Driver only\"', '\"Front\"', '\"6\"', 3. , 185., 5200., 2325., '\"Yes\"', 18.5, 5., 188., 103., 70., 40., 27.5, 14., 3510., '\"non-USA\"', '\"Lexus ES300\"'),\n",
       "       ('\"Lexus\"', '\"SC300\"', '\"Midsize\"', 34.7, 35.2, 35.6, 18., 23., '\"Driver & Passen', '\"Rear\"', '\"6\"', 3. , 225., 6000., 2510., '\"Yes\"', 20.6, 4., 191., 106., 71., 39., 25. ,  9., 3515., '\"non-USA\"', '\"Lexus SC300\"'),\n",
       "       ('\"Lincoln\"', '\"Continental\"', '\"Midsize\"', 33.3, 34.3, 35.3, 17., 26., '\"Driver & Passen', '\"Front\"', '\"6\"', 3.8, 160., 4400., 1835., '\"No\"', 18.4, 6., 205., 109., 73., 42., 30. , 19., 3695., '\"USA\"', '\"Lincoln Contine'),\n",
       "       ('\"Lincoln\"', '\"Town_Car\"', '\"Large\"', 34.4, 36.1, 37.8, 18., 26., '\"Driver & Passen', '\"Rear\"', '\"8\"', 4.6, 210., 4600., 1840., '\"No\"', 20. , 6., 219., 117., 77., 45., 31.5, 22., 4055., '\"USA\"', '\"Lincoln Town_Ca'),\n",
       "       ('\"Mazda\"', '\"323\"', '\"Small\"',  7.4,  8.3,  9.1, 29., 37., '\"None\"', '\"Front\"', '\"4\"', 1.6,  82., 5000., 2370., '\"Yes\"', 13.2, 4., 164.,  97., 66., 34., 27. , 16., 2325., '\"non-USA\"', '\"Mazda 323\"'),\n",
       "       ('\"Mazda\"', '\"Protege\"', '\"Small\"', 10.9, 11.6, 12.3, 28., 36., '\"None\"', '\"Front\"', '\"4\"', 1.8, 103., 5500., 2220., '\"Yes\"', 14.5, 5., 172.,  98., 66., 36., 26.5, 13., 2440., '\"non-USA\"', '\"Mazda Protege\"'),\n",
       "       ('\"Mazda\"', '\"626\"', '\"Compact\"', 14.3, 16.5, 18.7, 26., 34., '\"Driver only\"', '\"Front\"', '\"4\"', 2.5, 164., 5600., 2505., '\"Yes\"', 15.5, 5., 184., 103., 69., 40., 29.5, 14., 2970., '\"non-USA\"', '\"Mazda 626\"'),\n",
       "       ('\"Mazda\"', '\"MPV\"', '\"Van\"', 16.6, 19.1, 21.7, 18., 24., '\"None\"', '\"4WD\"', '\"6\"', 3. , 155., 5000., 2240., '\"No\"', 19.6, 7., 190., 110., 72., 39., 27.5, nan, 3735., '\"non-USA\"', '\"Mazda MPV\"'),\n",
       "       ('\"Mazda\"', '\"RX-7\"', '\"Sporty\"', 32.5, 32.5, 32.5, 17., 25., '\"Driver only\"', '\"Rear\"', '\"rotary\"', 1.3, 255., 6500., 2325., '\"Yes\"', 20. , 2., 169.,  96., 69., 37.,  nan, nan, 2895., '\"non-USA\"', '\"Mazda RX-7\"'),\n",
       "       ('\"Mercedes-Benz\"', '\"190E\"', '\"Compact\"', 29. , 31.9, 34.9, 20., 29., '\"Driver only\"', '\"Rear\"', '\"4\"', 2.3, 130., 5100., 2425., '\"Yes\"', 14.5, 5., 175., 105., 67., 34., 26. , 12., 2920., '\"non-USA\"', '\"Mercedes-Benz 1'),\n",
       "       ('\"Mercedes-Benz\"', '\"300E\"', '\"Midsize\"', 43.8, 61.9, 80. , 19., 25., '\"Driver & Passen', '\"Rear\"', '\"6\"', 3.2, 217., 5500., 2220., '\"No\"', 18.5, 5., 187., 110., 69., 37., 27. , 15., 3525., '\"non-USA\"', '\"Mercedes-Benz 3'),\n",
       "       ('\"Mercury\"', '\"Capri\"', '\"Sporty\"', 13.3, 14.1, 15. , 23., 26., '\"Driver only\"', '\"Front\"', '\"4\"', 1.6, 100., 5750., 2475., '\"Yes\"', 11.1, 4., 166.,  95., 65., 36., 19. ,  6., 2450., '\"USA\"', '\"Mercury Capri\"'),\n",
       "       ('\"Mercury\"', '\"Cougar\"', '\"Midsize\"', 14.9, 14.9, 14.9, 19., 26., '\"None\"', '\"Rear\"', '\"6\"', 3.8, 140., 3800., 1730., '\"No\"', 18. , 5., 199., 113., 73., 38., 28. , 15., 3610., '\"USA\"', '\"Mercury Cougar\"'),\n",
       "       ('\"Mitsubishi\"', '\"Mirage\"', '\"Small\"',  7.7, 10.3, 12.9, 29., 33., '\"None\"', '\"Front\"', '\"4\"', 1.5,  92., 6000., 2505., '\"Yes\"', 13.2, 5., 172.,  98., 67., 36., 26. , 11., 2295., '\"non-USA\"', '\"Mitsubishi Mira'),\n",
       "       ('\"Mitsubishi\"', '\"Diamante\"', '\"Midsize\"', 22.4, 26.1, 29.9, 18., 24., '\"Driver only\"', '\"Front\"', '\"6\"', 3. , 202., 6000., 2210., '\"No\"', 19. , 5., 190., 107., 70., 43., 27.5, 14., 3730., '\"non-USA\"', '\"Mitsubishi Diam'),\n",
       "       ('\"Nissan\"', '\"Sentra\"', '\"Small\"',  8.7, 11.8, 14.9, 29., 33., '\"Driver only\"', '\"Front\"', '\"4\"', 1.6, 110., 6000., 2435., '\"Yes\"', 13.2, 5., 170.,  96., 66., 33., 26. , 12., 2545., '\"non-USA\"', '\"Nissan Sentra\"'),\n",
       "       ('\"Nissan\"', '\"Altima\"', '\"Compact\"', 13. , 15.7, 18.3, 24., 30., '\"Driver only\"', '\"Front\"', '\"4\"', 2.4, 150., 5600., 2130., '\"Yes\"', 15.9, 5., 181., 103., 67., 40., 28.5, 14., 3050., '\"non-USA\"', '\"Nissan Altima\"'),\n",
       "       ('\"Nissan\"', '\"Quest\"', '\"Van\"', 16.7, 19.1, 21.5, 17., 23., '\"None\"', '\"Front\"', '\"6\"', 3. , 151., 4800., 2065., '\"No\"', 20. , 7., 190., 112., 74., 41., 27. , nan, 4100., '\"non-USA\"', '\"Nissan Quest\"'),\n",
       "       ('\"Nissan\"', '\"Maxima\"', '\"Midsize\"', 21. , 21.5, 22. , 21., 26., '\"Driver only\"', '\"Front\"', '\"6\"', 3. , 160., 5200., 2045., '\"No\"', 18.5, 5., 188., 104., 69., 41., 28.5, 14., 3200., '\"non-USA\"', '\"Nissan Maxima\"'),\n",
       "       ('\"Oldsmobile\"', '\"Achieva\"', '\"Compact\"', 13. , 13.5, 14. , 24., 31., '\"None\"', '\"Front\"', '\"4\"', 2.3, 155., 6000., 2380., '\"No\"', 15.2, 5., 188., 103., 67., 39., 28. , 14., 2910., '\"USA\"', '\"Oldsmobile Achi'),\n",
       "       ('\"Oldsmobile\"', '\"Cutlass_Ciera\"', '\"Midsize\"', 14.2, 16.3, 18.4, 23., 31., '\"Driver only\"', '\"Front\"', '\"4\"', 2.2, 110., 5200., 2565., '\"No\"', 16.5, 5., 190., 105., 70., 42., 28. , 16., 2890., '\"USA\"', '\"Oldsmobile Cutl'),\n",
       "       ('\"Oldsmobile\"', '\"Silhouette\"', '\"Van\"', 19.5, 19.5, 19.5, 18., 23., '\"None\"', '\"Front\"', '\"6\"', 3.8, 170., 4800., 1690., '\"No\"', 20. , 7., 194., 110., 74., 44., 30.5, nan, 3715., '\"USA\"', '\"Oldsmobile Silh'),\n",
       "       ('\"Oldsmobile\"', '\"Eighty-Eight\"', '\"Large\"', 19.5, 20.7, 21.9, 19., 28., '\"Driver only\"', '\"Front\"', '\"6\"', 3.8, 170., 4800., 1570., '\"No\"', 18. , 6., 201., 111., 74., 42., 31.5, 17., 3470., '\"USA\"', '\"Oldsmobile Eigh'),\n",
       "       ('\"Plymouth\"', '\"Laser\"', '\"Sporty\"', 11.4, 14.4, 17.4, 23., 30., '\"None\"', '\"4WD\"', '\"4\"', 1.8,  92., 5000., 2360., '\"Yes\"', 15.9, 4., 173.,  97., 67., 39., 24.5,  8., 2640., '\"USA\"', '\"Plymouth Laser\"'),\n",
       "       ('\"Pontiac\"', '\"LeMans\"', '\"Small\"',  8.2,  9. ,  9.9, 31., 41., '\"None\"', '\"Front\"', '\"4\"', 1.6,  74., 5600., 3130., '\"Yes\"', 13.2, 4., 177.,  99., 66., 35., 25.5, 17., 2350., '\"USA\"', '\"Pontiac LeMans\"'),\n",
       "       ('\"Pontiac\"', '\"Sunbird\"', '\"Compact\"',  9.4, 11.1, 12.8, 23., 31., '\"None\"', '\"Front\"', '\"4\"', 2. , 110., 5200., 2665., '\"Yes\"', 15.2, 5., 181., 101., 66., 39., 25. , 13., 2575., '\"USA\"', '\"Pontiac Sunbird'),\n",
       "       ('\"Pontiac\"', '\"Firebird\"', '\"Sporty\"', 14. , 17.7, 21.4, 19., 28., '\"Driver & Passen', '\"Rear\"', '\"6\"', 3.4, 160., 4600., 1805., '\"Yes\"', 15.5, 4., 196., 101., 75., 43., 25. , 13., 3240., '\"USA\"', '\"Pontiac Firebir'),\n",
       "       ('\"Pontiac\"', '\"Grand_Prix\"', '\"Midsize\"', 15.4, 18.5, 21.6, 19., 27., '\"None\"', '\"Front\"', '\"6\"', 3.4, 200., 5000., 1890., '\"Yes\"', 16.5, 5., 195., 108., 72., 41., 28.5, 16., 3450., '\"USA\"', '\"Pontiac Grand_P'),\n",
       "       ('\"Pontiac\"', '\"Bonneville\"', '\"Large\"', 19.4, 24.4, 29.4, 19., 28., '\"Driver & Passen', '\"Front\"', '\"6\"', 3.8, 170., 4800., 1565., '\"No\"', 18. , 6., 177., 111., 74., 43., 30.5, 18., 3495., '\"USA\"', '\"Pontiac Bonnevi'),\n",
       "       ('\"Saab\"', '\"900\"', '\"Compact\"', 20.3, 28.7, 37.1, 20., 26., '\"Driver only\"', '\"Front\"', '\"4\"', 2.1, 140., 6000., 2910., '\"Yes\"', 18. , 5., 184.,  99., 67., 37., 26.5, 14., 2775., '\"non-USA\"', '\"Saab 900\"'),\n",
       "       ('\"Saturn\"', '\"SL\"', '\"Small\"',  9.2, 11.1, 12.9, 28., 38., '\"Driver only\"', '\"Front\"', '\"4\"', 1.9,  85., 5000., 2145., '\"Yes\"', 12.8, 5., 176., 102., 68., 40., 26.5, 12., 2495., '\"USA\"', '\"Saturn SL\"'),\n",
       "       ('\"Subaru\"', '\"Justy\"', '\"Small\"',  7.3,  8.4,  9.5, 33., 37., '\"None\"', '\"4WD\"', '\"3\"', 1.2,  73., 5600., 2875., '\"Yes\"',  9.2, 4., 146.,  90., 60., 32., 23.5, 10., 2045., '\"non-USA\"', '\"Subaru Justy\"'),\n",
       "       ('\"Subaru\"', '\"Loyale\"', '\"Small\"', 10.5, 10.9, 11.3, 25., 30., '\"None\"', '\"4WD\"', '\"4\"', 1.8,  90., 5200., 3375., '\"Yes\"', 15.9, 5., 175.,  97., 65., 35., 27.5, 15., 2490., '\"non-USA\"', '\"Subaru Loyale\"'),\n",
       "       ('\"Subaru\"', '\"Legacy\"', '\"Compact\"', 16.3, 19.5, 22.7, 23., 30., '\"Driver only\"', '\"4WD\"', '\"4\"', 2.2, 130., 5600., 2330., '\"Yes\"', 15.9, 5., 179., 102., 67., 37., 27. , 14., 3085., '\"non-USA\"', '\"Subaru Legacy\"'),\n",
       "       ('\"Suzuki\"', '\"Swift\"', '\"Small\"',  7.3,  8.6, 10. , 39., 43., '\"None\"', '\"Front\"', '\"3\"', 1.3,  70., 6000., 3360., '\"Yes\"', 10.6, 4., 161.,  93., 63., 34., 27.5, 10., 1965., '\"non-USA\"', '\"Suzuki Swift\"'),\n",
       "       ('\"Toyota\"', '\"Tercel\"', '\"Small\"',  7.8,  9.8, 11.8, 32., 37., '\"Driver only\"', '\"Front\"', '\"4\"', 1.5,  82., 5200., 3505., '\"Yes\"', 11.9, 5., 162.,  94., 65., 36., 24. , 11., 2055., '\"non-USA\"', '\"Toyota Tercel\"'),\n",
       "       ('\"Toyota\"', '\"Celica\"', '\"Sporty\"', 14.2, 18.4, 22.6, 25., 32., '\"Driver only\"', '\"Front\"', '\"4\"', 2.2, 135., 5400., 2405., '\"Yes\"', 15.9, 4., 174.,  99., 69., 39., 23. , 13., 2950., '\"non-USA\"', '\"Toyota Celica\"'),\n",
       "       ('\"Toyota\"', '\"Camry\"', '\"Midsize\"', 15.2, 18.2, 21.2, 22., 29., '\"Driver only\"', '\"Front\"', '\"4\"', 2.2, 130., 5400., 2340., '\"Yes\"', 18.5, 5., 188., 103., 70., 38., 28.5, 15., 3030., '\"non-USA\"', '\"Toyota Camry\"'),\n",
       "       ('\"Toyota\"', '\"Previa\"', '\"Van\"', 18.9, 22.7, 26.6, 18., 22., '\"Driver only\"', '\"4WD\"', '\"4\"', 2.4, 138., 5000., 2515., '\"Yes\"', 19.8, 7., 187., 113., 71., 41., 35. , nan, 3785., '\"non-USA\"', '\"Toyota Previa\"'),\n",
       "       ('\"Volkswagen\"', '\"Fox\"', '\"Small\"',  8.7,  9.1,  9.5, 25., 33., '\"None\"', '\"Front\"', '\"4\"', 1.8,  81., 5500., 2550., '\"Yes\"', 12.4, 4., 163.,  93., 63., 34., 26. , 10., 2240., '\"non-USA\"', '\"Volkswagen Fox\"'),\n",
       "       ('\"Volkswagen\"', '\"Eurovan\"', '\"Van\"', 16.6, 19.7, 22.7, 17., 21., '\"None\"', '\"Front\"', '\"5\"', 2.5, 109., 4500., 2915., '\"Yes\"', 21.1, 7., 187., 115., 72., 38., 34. , nan, 3960., '\"non-USA\"', '\"Volkswagen Euro'),\n",
       "       ('\"Volkswagen\"', '\"Passat\"', '\"Compact\"', 17.6, 20. , 22.4, 21., 30., '\"None\"', '\"Front\"', '\"4\"', 2. , 134., 5800., 2685., '\"Yes\"', 18.5, 5., 180., 103., 67., 35., 31.5, 14., 2985., '\"non-USA\"', '\"Volkswagen Pass'),\n",
       "       ('\"Volkswagen\"', '\"Corrado\"', '\"Sporty\"', 22.9, 23.3, 23.7, 18., 25., '\"None\"', '\"Front\"', '\"6\"', 2.8, 178., 5800., 2385., '\"Yes\"', 18.5, 4., 159.,  97., 66., 36., 26. , 15., 2810., '\"non-USA\"', '\"Volkswagen Corr'),\n",
       "       ('\"Volvo\"', '\"240\"', '\"Compact\"', 21.8, 22.7, 23.5, 21., 28., '\"Driver only\"', '\"Rear\"', '\"4\"', 2.3, 114., 5400., 2215., '\"Yes\"', 15.8, 5., 190., 104., 67., 37., 29.5, 14., 2985., '\"non-USA\"', '\"Volvo 240\"'),\n",
       "       ('\"Volvo\"', '\"850\"', '\"Midsize\"', 24.8, 26.7, 28.5, 20., 28., '\"Driver & Passen', '\"Front\"', '\"5\"', 2.4, 168., 6200., 2310., '\"Yes\"', 19.3, 5., 184., 105., 69., 38., 30. , 15., 3245., '\"non-USA\"', '\"Volvo 850\"')],\n",
       "      dtype=[('Manufacturer', '<U16'), ('Model', '<U16'), ('Type', '<U16'), ('MinPrice', '<f8'), ('Price', '<f8'), ('MaxPrice', '<f8'), ('MPGcity', '<f8'), ('MPGhighway', '<f8'), ('AirBags', '<U16'), ('DriveTrain', '<U16'), ('Cylinders', '<U16'), ('EngineSize', '<f8'), ('Horsepower', '<f8'), ('RPM', '<f8'), ('Revpermile', '<f8'), ('Mantransavail', '<U16'), ('Fueltankcapacity', '<f8'), ('Passengers', '<f8'), ('Length', '<f8'), ('Wheelbase', '<f8'), ('Width', '<f8'), ('Turncircle', '<f8'), ('Rearseatroom', '<f8'), ('Luggageroom', '<f8'), ('Weight', '<f8'), ('Origin', '<U16'), ('Make', '<U16')])"
      ]
     },
     "execution_count": 3,
     "metadata": {},
     "output_type": "execute_result"
    }
   ],
   "source": [
    "import numpy as np\n",
    "data = np.genfromtxt('Datasets/cars93.csv', \n",
    "                     delimiter=\",\", \n",
    "                     dtype=dt,\n",
    "                     skip_header=1)\n",
    "\n",
    "data"
   ]
  },
  {
   "cell_type": "code",
   "execution_count": 4,
   "id": "d3cd4c57",
   "metadata": {},
   "outputs": [
    {
     "data": {
      "text/plain": [
       "(93,)"
      ]
     },
     "execution_count": 4,
     "metadata": {},
     "output_type": "execute_result"
    }
   ],
   "source": [
    "data.shape"
   ]
  },
  {
   "cell_type": "code",
   "execution_count": 5,
   "id": "ad781358",
   "metadata": {},
   "outputs": [
    {
     "data": {
      "text/plain": [
       "array(['\"Acura\"', '\"Acura\"', '\"Audi\"', '\"Audi\"', '\"BMW\"', '\"Buick\"',\n",
       "       '\"Buick\"', '\"Buick\"', '\"Buick\"', '\"Cadillac\"', '\"Cadillac\"',\n",
       "       '\"Chevrolet\"', '\"Chevrolet\"', '\"Chevrolet\"', '\"Chevrolet\"',\n",
       "       '\"Chevrolet\"', '\"Chevrolet\"', '\"Chevrolet\"', '\"Chevrolet\"',\n",
       "       '\"Chrylser\"', '\"Chrysler\"', '\"Chrysler\"', '\"Dodge\"', '\"Dodge\"',\n",
       "       '\"Dodge\"', '\"Dodge\"', '\"Dodge\"', '\"Dodge\"', '\"Eagle\"', '\"Eagle\"',\n",
       "       '\"Ford\"', '\"Ford\"', '\"Ford\"', '\"Ford\"', '\"Ford\"', '\"Ford\"',\n",
       "       '\"Ford\"', '\"Ford\"', '\"Geo\"', '\"Geo\"', '\"Honda\"', '\"Honda\"',\n",
       "       '\"Honda\"', '\"Hyundai\"', '\"Hyundai\"', '\"Hyundai\"', '\"Hyundai\"',\n",
       "       '\"Infiniti\"', '\"Lexus\"', '\"Lexus\"', '\"Lincoln\"', '\"Lincoln\"',\n",
       "       '\"Mazda\"', '\"Mazda\"', '\"Mazda\"', '\"Mazda\"', '\"Mazda\"',\n",
       "       '\"Mercedes-Benz\"', '\"Mercedes-Benz\"', '\"Mercury\"', '\"Mercury\"',\n",
       "       '\"Mitsubishi\"', '\"Mitsubishi\"', '\"Nissan\"', '\"Nissan\"', '\"Nissan\"',\n",
       "       '\"Nissan\"', '\"Oldsmobile\"', '\"Oldsmobile\"', '\"Oldsmobile\"',\n",
       "       '\"Oldsmobile\"', '\"Plymouth\"', '\"Pontiac\"', '\"Pontiac\"',\n",
       "       '\"Pontiac\"', '\"Pontiac\"', '\"Pontiac\"', '\"Saab\"', '\"Saturn\"',\n",
       "       '\"Subaru\"', '\"Subaru\"', '\"Subaru\"', '\"Suzuki\"', '\"Toyota\"',\n",
       "       '\"Toyota\"', '\"Toyota\"', '\"Toyota\"', '\"Volkswagen\"', '\"Volkswagen\"',\n",
       "       '\"Volkswagen\"', '\"Volkswagen\"', '\"Volvo\"', '\"Volvo\"'], dtype='<U16')"
      ]
     },
     "execution_count": 5,
     "metadata": {},
     "output_type": "execute_result"
    }
   ],
   "source": [
    "data['Manufacturer']"
   ]
  },
  {
   "cell_type": "markdown",
   "id": "4f0956a8",
   "metadata": {},
   "source": [
    "__Get the unique Manufacturer names__\n",
    "\n",
    "Use `np.unique()`. A side-effect is it arranges the items in ascending order."
   ]
  },
  {
   "cell_type": "code",
   "execution_count": 6,
   "id": "d3667555",
   "metadata": {},
   "outputs": [
    {
     "data": {
      "text/plain": [
       "array(['\"Acura\"', '\"Audi\"', '\"BMW\"', '\"Buick\"', '\"Cadillac\"',\n",
       "       '\"Chevrolet\"', '\"Chrylser\"', '\"Chrysler\"', '\"Dodge\"', '\"Eagle\"',\n",
       "       '\"Ford\"', '\"Geo\"', '\"Honda\"', '\"Hyundai\"', '\"Infiniti\"', '\"Lexus\"',\n",
       "       '\"Lincoln\"', '\"Mazda\"', '\"Mercedes-Benz\"', '\"Mercury\"',\n",
       "       '\"Mitsubishi\"', '\"Nissan\"', '\"Oldsmobile\"', '\"Plymouth\"',\n",
       "       '\"Pontiac\"', '\"Saab\"', '\"Saturn\"', '\"Subaru\"', '\"Suzuki\"',\n",
       "       '\"Toyota\"', '\"Volkswagen\"', '\"Volvo\"'], dtype='<U16')"
      ]
     },
     "execution_count": 6,
     "metadata": {},
     "output_type": "execute_result"
    }
   ],
   "source": [
    "np.unique(data['Manufacturer'])"
   ]
  },
  {
   "cell_type": "markdown",
   "id": "ea0ae249",
   "metadata": {},
   "source": [
    "<div class=\"alert alert-info\" style=\"background-color:#006666; color:white; padding:0px 10px; border-radius:5px;\"><h2 style='margin:7px 5px; font-size:16px'>Counts</h2>\n",
    "</div>"
   ]
  },
  {
   "cell_type": "code",
   "execution_count": 7,
   "id": "4cb3d365",
   "metadata": {},
   "outputs": [
    {
     "data": {
      "text/plain": [
       "{'\"Acura\"': 2,\n",
       " '\"Audi\"': 2,\n",
       " '\"BMW\"': 1,\n",
       " '\"Buick\"': 4,\n",
       " '\"Cadillac\"': 2,\n",
       " '\"Chevrolet\"': 8,\n",
       " '\"Chrylser\"': 1,\n",
       " '\"Chrysler\"': 2,\n",
       " '\"Dodge\"': 6,\n",
       " '\"Eagle\"': 2,\n",
       " '\"Ford\"': 8,\n",
       " '\"Geo\"': 2,\n",
       " '\"Honda\"': 3,\n",
       " '\"Hyundai\"': 4,\n",
       " '\"Infiniti\"': 1,\n",
       " '\"Lexus\"': 2,\n",
       " '\"Lincoln\"': 2,\n",
       " '\"Mazda\"': 5,\n",
       " '\"Mercedes-Benz\"': 2,\n",
       " '\"Mercury\"': 2,\n",
       " '\"Mitsubishi\"': 2,\n",
       " '\"Nissan\"': 4,\n",
       " '\"Oldsmobile\"': 4,\n",
       " '\"Plymouth\"': 1,\n",
       " '\"Pontiac\"': 5,\n",
       " '\"Saab\"': 1,\n",
       " '\"Saturn\"': 1,\n",
       " '\"Subaru\"': 3,\n",
       " '\"Suzuki\"': 1,\n",
       " '\"Toyota\"': 4,\n",
       " '\"Volkswagen\"': 4,\n",
       " '\"Volvo\"': 2}"
      ]
     },
     "execution_count": 7,
     "metadata": {},
     "output_type": "execute_result"
    }
   ],
   "source": [
    "key, values = np.unique(data['Manufacturer'], return_counts=True)\n",
    "dict(zip(key, values))"
   ]
  },
  {
   "cell_type": "markdown",
   "id": "3212c7d0",
   "metadata": {},
   "source": [
    "<div class=\"alert alert-info\" style=\"background-color:#006666; color:white; padding:0px 10px; border-radius:5px;\"><h2 style='margin:7px 5px; font-size:16px'>Remove Duplicates</h2>\n",
    "</div>\n",
    "\n",
    "Setting `return_index=True` will return the row positions of the first occurrences of the unique values. Use can use these indices to get rid of the duplicates."
   ]
  },
  {
   "cell_type": "code",
   "execution_count": 8,
   "id": "49e89212",
   "metadata": {},
   "outputs": [
    {
     "data": {
      "text/plain": [
       "(array([('\"Acura\"',), ('\"Audi\"',), ('\"BMW\"',), ('\"Buick\"',),\n",
       "        ('\"Cadillac\"',), ('\"Chevrolet\"',), ('\"Chrylser\"',),\n",
       "        ('\"Chrysler\"',), ('\"Dodge\"',), ('\"Eagle\"',), ('\"Ford\"',),\n",
       "        ('\"Geo\"',), ('\"Honda\"',), ('\"Hyundai\"',), ('\"Infiniti\"',),\n",
       "        ('\"Lexus\"',), ('\"Lincoln\"',), ('\"Mazda\"',), ('\"Mercedes-Benz\"',),\n",
       "        ('\"Mercury\"',), ('\"Mitsubishi\"',), ('\"Nissan\"',),\n",
       "        ('\"Oldsmobile\"',), ('\"Plymouth\"',), ('\"Pontiac\"',), ('\"Saab\"',),\n",
       "        ('\"Saturn\"',), ('\"Subaru\"',), ('\"Suzuki\"',), ('\"Toyota\"',),\n",
       "        ('\"Volkswagen\"',), ('\"Volvo\"',)],\n",
       "       dtype={'names':['Manufacturer'], 'formats':['<U16'], 'offsets':[0], 'itemsize':720}),\n",
       " array([ 0,  2,  4,  5,  9, 11, 19, 20, 22, 28, 30, 38, 40, 43, 47, 48, 50,\n",
       "        52, 57, 59, 61, 63, 67, 71, 72, 77, 78, 79, 82, 83, 87, 91],\n",
       "       dtype=int64))"
      ]
     },
     "execution_count": 8,
     "metadata": {},
     "output_type": "execute_result"
    }
   ],
   "source": [
    "unique, index = np.unique(data[['Manufacturer']], axis=0, return_index=True)\n",
    "unique, index"
   ]
  },
  {
   "cell_type": "code",
   "execution_count": 11,
   "id": "f304682c",
   "metadata": {},
   "outputs": [
    {
     "data": {
      "text/plain": [
       "(array([('\"Acura\"', '\"Integra\"'), ('\"Acura\"', '\"Legend\"'),\n",
       "        ('\"Audi\"', '\"100\"'), ('\"Audi\"', '\"90\"'), ('\"BMW\"', '\"535i\"'),\n",
       "        ('\"Buick\"', '\"Century\"'), ('\"Buick\"', '\"LeSabre\"'),\n",
       "        ('\"Buick\"', '\"Riviera\"'), ('\"Buick\"', '\"Roadmaster\"'),\n",
       "        ('\"Cadillac\"', '\"DeVille\"'), ('\"Cadillac\"', '\"Seville\"'),\n",
       "        ('\"Chevrolet\"', '\"Astro\"'), ('\"Chevrolet\"', '\"Camaro\"'),\n",
       "        ('\"Chevrolet\"', '\"Caprice\"'), ('\"Chevrolet\"', '\"Cavalier\"'),\n",
       "        ('\"Chevrolet\"', '\"Corsica\"'), ('\"Chevrolet\"', '\"Corvette\"'),\n",
       "        ('\"Chevrolet\"', '\"Lumina\"'), ('\"Chevrolet\"', '\"Lumina_APV\"'),\n",
       "        ('\"Chrylser\"', '\"Concorde\"'), ('\"Chrysler\"', '\"Imperial\"'),\n",
       "        ('\"Chrysler\"', '\"LeBaron\"'), ('\"Dodge\"', '\"Caravan\"'),\n",
       "        ('\"Dodge\"', '\"Colt\"'), ('\"Dodge\"', '\"Dynasty\"'),\n",
       "        ('\"Dodge\"', '\"Shadow\"'), ('\"Dodge\"', '\"Spirit\"'),\n",
       "        ('\"Dodge\"', '\"Stealth\"'), ('\"Eagle\"', '\"Summit\"'),\n",
       "        ('\"Eagle\"', '\"Vision\"'), ('\"Ford\"', '\"Aerostar\"'),\n",
       "        ('\"Ford\"', '\"Crown_Victoria\"'), ('\"Ford\"', '\"Escort\"'),\n",
       "        ('\"Ford\"', '\"Festiva\"'), ('\"Ford\"', '\"Mustang\"'),\n",
       "        ('\"Ford\"', '\"Probe\"'), ('\"Ford\"', '\"Taurus\"'),\n",
       "        ('\"Ford\"', '\"Tempo\"'), ('\"Geo\"', '\"Metro\"'), ('\"Geo\"', '\"Storm\"'),\n",
       "        ('\"Honda\"', '\"Accord\"'), ('\"Honda\"', '\"Civic\"'),\n",
       "        ('\"Honda\"', '\"Prelude\"'), ('\"Hyundai\"', '\"Elantra\"'),\n",
       "        ('\"Hyundai\"', '\"Excel\"'), ('\"Hyundai\"', '\"Scoupe\"'),\n",
       "        ('\"Hyundai\"', '\"Sonata\"'), ('\"Infiniti\"', '\"Q45\"'),\n",
       "        ('\"Lexus\"', '\"ES300\"'), ('\"Lexus\"', '\"SC300\"'),\n",
       "        ('\"Lincoln\"', '\"Continental\"'), ('\"Lincoln\"', '\"Town_Car\"'),\n",
       "        ('\"Mazda\"', '\"323\"'), ('\"Mazda\"', '\"626\"'), ('\"Mazda\"', '\"MPV\"'),\n",
       "        ('\"Mazda\"', '\"Protege\"'), ('\"Mazda\"', '\"RX-7\"'),\n",
       "        ('\"Mercedes-Benz\"', '\"190E\"'), ('\"Mercedes-Benz\"', '\"300E\"'),\n",
       "        ('\"Mercury\"', '\"Capri\"'), ('\"Mercury\"', '\"Cougar\"'),\n",
       "        ('\"Mitsubishi\"', '\"Diamante\"'), ('\"Mitsubishi\"', '\"Mirage\"'),\n",
       "        ('\"Nissan\"', '\"Altima\"'), ('\"Nissan\"', '\"Maxima\"'),\n",
       "        ('\"Nissan\"', '\"Quest\"'), ('\"Nissan\"', '\"Sentra\"'),\n",
       "        ('\"Oldsmobile\"', '\"Achieva\"'), ('\"Oldsmobile\"', '\"Cutlass_Ciera\"'),\n",
       "        ('\"Oldsmobile\"', '\"Eighty-Eight\"'),\n",
       "        ('\"Oldsmobile\"', '\"Silhouette\"'), ('\"Plymouth\"', '\"Laser\"'),\n",
       "        ('\"Pontiac\"', '\"Bonneville\"'), ('\"Pontiac\"', '\"Firebird\"'),\n",
       "        ('\"Pontiac\"', '\"Grand_Prix\"'), ('\"Pontiac\"', '\"LeMans\"'),\n",
       "        ('\"Pontiac\"', '\"Sunbird\"'), ('\"Saab\"', '\"900\"'),\n",
       "        ('\"Saturn\"', '\"SL\"'), ('\"Subaru\"', '\"Justy\"'),\n",
       "        ('\"Subaru\"', '\"Legacy\"'), ('\"Subaru\"', '\"Loyale\"'),\n",
       "        ('\"Suzuki\"', '\"Swift\"'), ('\"Toyota\"', '\"Camry\"'),\n",
       "        ('\"Toyota\"', '\"Celica\"'), ('\"Toyota\"', '\"Previa\"'),\n",
       "        ('\"Toyota\"', '\"Tercel\"'), ('\"Volkswagen\"', '\"Corrado\"'),\n",
       "        ('\"Volkswagen\"', '\"Eurovan\"'), ('\"Volkswagen\"', '\"Fox\"'),\n",
       "        ('\"Volkswagen\"', '\"Passat\"'), ('\"Volvo\"', '\"240\"'),\n",
       "        ('\"Volvo\"', '\"850\"')],\n",
       "       dtype={'names':['Manufacturer','Model'], 'formats':['<U16','<U16'], 'offsets':[0,64], 'itemsize':720}),\n",
       " array([ 0,  1,  3,  2,  4,  5,  6,  8,  7,  9, 10, 16, 13, 17, 11, 12, 18,\n",
       "        14, 15, 19, 21, 20, 25, 22, 26, 23, 24, 27, 28, 29, 35, 37, 31, 30,\n",
       "        33, 34, 36, 32, 38, 39, 42, 41, 40, 44, 43, 45, 46, 47, 48, 49, 50,\n",
       "        51, 52, 54, 55, 53, 56, 57, 58, 59, 60, 62, 61, 64, 66, 65, 63, 67,\n",
       "        68, 70, 69, 71, 76, 74, 75, 72, 73, 77, 78, 79, 81, 80, 82, 85, 84,\n",
       "        86, 83, 90, 88, 87, 89, 91, 92], dtype=int64))"
      ]
     },
     "execution_count": 11,
     "metadata": {},
     "output_type": "execute_result"
    }
   ],
   "source": [
    "# Unique at 'Manufacturer and Model' level.\n",
    "unique, index = np.unique(data[['Manufacturer', 'Model']], axis=0, return_index=True)\n",
    "unique, index"
   ]
  },
  {
   "cell_type": "code",
   "execution_count": 9,
   "id": "d074fe7d",
   "metadata": {},
   "outputs": [
    {
     "data": {
      "text/plain": [
       "array([('\"Acura\"', '\"Integra\"', '\"Small\"', 12.9, 15.9, 18.8, 25., 31., '\"None\"', '\"Front\"', '\"4\"', 1.8, 140., 6300., 2890., '\"Yes\"', 13.2, 5., 177., 102., 68., 37., 26.5, 11., 2705., '\"non-USA\"', '\"Acura Integra\"'),\n",
       "       ('\"Audi\"', '\"90\"', '\"Compact\"', 25.9, 29.1, 32.3, 20., 26., '\"Driver only\"', '\"Front\"', '\"6\"', 2.8, 172., 5500., 2280., '\"Yes\"', 16.9, 5., 180., 102., 67., 37., 28. , 14., 3375., '\"non-USA\"', '\"Audi 90\"'),\n",
       "       ('\"BMW\"', '\"535i\"', '\"Midsize\"', 23.7, 30. , 36.2, 22., 30., '\"Driver only\"', '\"Rear\"', '\"4\"', 3.5, 208., 5700., 2545., '\"Yes\"', 21.1, 4., 186., 109., 69., 39., 27. , 13., 3640., '\"non-USA\"', '\"BMW 535i\"'),\n",
       "       ('\"Buick\"', '\"Century\"', '\"Midsize\"', 14.2, 15.7, 17.3, 22., 31., '\"Driver only\"', '\"Front\"', '\"4\"', 2.2, 110., 5200., 2565., '\"No\"', 16.4, 6., 189., 105., 69., 41., 28. , 16., 2880., '\"USA\"', '\"Buick Century\"'),\n",
       "       ('\"Cadillac\"', '\"DeVille\"', '\"Large\"', 33. , 34.7, 36.3, 16., 25., '\"Driver only\"', '\"Front\"', '\"8\"', 4.9, 200., 4100., 1510., '\"No\"', 18. , 6., 206., 114., 73., 43., 35. , 18., 3620., '\"USA\"', '\"Cadillac DeVill'),\n",
       "       ('\"Chevrolet\"', '\"Cavalier\"', '\"Compact\"',  8.5, 13.4, 18.3, 25., 36., '\"None\"', '\"Front\"', '\"4\"', 2.2, 110., 5200., 2380., '\"Yes\"', 15.2, 5., 182., 101., 66., 38., 25. , 13., 2490., '\"USA\"', '\"Chevrolet Caval'),\n",
       "       ('\"Chrylser\"', '\"Concorde\"', '\"Large\"', 18.4, 18.4, 18.4, 20., 28., '\"Driver & Passen', '\"Front\"', '\"6\"', 3.3, 153., 5300., 1990., '\"No\"', 18. , 6., 203., 113., 74., 40., 31. , 15., 3515., '\"USA\"', '\"Chrylser Concor'),\n",
       "       ('\"Chrysler\"', '\"LeBaron\"', '\"Compact\"', 14.5, 15.8, 17.1, 23., 28., '\"Driver & Passen', '\"Front\"', '\"4\"', 3. , 141., 5000., 2090., '\"No\"', 16. , 6., 183., 104., 68., 41., 30.5, 14., 3085., '\"USA\"', '\"Chrysler LeBaro'),\n",
       "       ('\"Dodge\"', '\"Colt\"', '\"Small\"',  7.9,  9.2, 10.6, 29., 33., '\"None\"', '\"Front\"', '\"4\"', 1.5,  92., 6000., 3285., '\"Yes\"', 13.2, 5., 174.,  98., 66., 32., 26.5, 11., 2270., '\"USA\"', '\"Dodge Colt\"'),\n",
       "       ('\"Eagle\"', '\"Summit\"', '\"Small\"',  7.9, 12.2, 16.5, 29., 33., '\"None\"', '\"Front\"', '\"4\"', 1.5,  92., 6000., 2505., '\"Yes\"', 13.2, 5., 174.,  98., 66., 36., 26.5, 11., 2295., '\"USA\"', '\"Eagle Summit\"'),\n",
       "       ('\"Ford\"', '\"Festiva\"', '\"Small\"',  6.9,  7.4,  7.9, 31., 33., '\"None\"', '\"Front\"', '\"4\"', 1.3,  63., 5000., 3150., '\"Yes\"', 10. , 4., 141.,  90., 63., 33., 26. , 12., 1845., '\"USA\"', '\"Ford Festiva\"'),\n",
       "       ('\"Geo\"', '\"Metro\"', '\"Small\"',  6.7,  8.4, 10. , 46., 50., '\"None\"', '\"Front\"', '\"3\"', 1. ,  55., 5700., 3755., '\"Yes\"', 10.6, 4., 151.,  93., 63., 34., 27.5, 10., 1695., '\"non-USA\"', '\"Geo Metro\"'),\n",
       "       ('\"Honda\"', '\"Prelude\"', '\"Sporty\"', 17. , 19.8, 22.7, 24., 31., '\"Driver & Passen', '\"Front\"', '\"4\"', 2.3, 160., 5800., 2855., '\"Yes\"', 15.9, 4., 175., 100., 70., 39., 23.5,  8., 2865., '\"non-USA\"', '\"Honda Prelude\"'),\n",
       "       ('\"Hyundai\"', '\"Excel\"', '\"Small\"',  6.8,  8. ,  9.2, 29., 33., '\"None\"', '\"Front\"', '\"4\"', 1.5,  81., 5500., 2710., '\"Yes\"', 11.9, 5., 168.,  94., 63., 35., 26. , 11., 2345., '\"non-USA\"', '\"Hyundai Excel\"'),\n",
       "       ('\"Infiniti\"', '\"Q45\"', '\"Midsize\"', 45.4, 47.9, 50.4, 17., 22., '\"Driver only\"', '\"Rear\"', '\"8\"', 4.5, 278., 6000., 1955., '\"No\"', 22.5, 5., 200., 113., 72., 42., 29. , 15., 4000., '\"non-USA\"', '\"Infiniti Q45\"'),\n",
       "       ('\"Lexus\"', '\"ES300\"', '\"Midsize\"', 27.5, 28. , 28.4, 18., 24., '\"Driver only\"', '\"Front\"', '\"6\"', 3. , 185., 5200., 2325., '\"Yes\"', 18.5, 5., 188., 103., 70., 40., 27.5, 14., 3510., '\"non-USA\"', '\"Lexus ES300\"'),\n",
       "       ('\"Lincoln\"', '\"Continental\"', '\"Midsize\"', 33.3, 34.3, 35.3, 17., 26., '\"Driver & Passen', '\"Front\"', '\"6\"', 3.8, 160., 4400., 1835., '\"No\"', 18.4, 6., 205., 109., 73., 42., 30. , 19., 3695., '\"USA\"', '\"Lincoln Contine'),\n",
       "       ('\"Mazda\"', '\"323\"', '\"Small\"',  7.4,  8.3,  9.1, 29., 37., '\"None\"', '\"Front\"', '\"4\"', 1.6,  82., 5000., 2370., '\"Yes\"', 13.2, 4., 164.,  97., 66., 34., 27. , 16., 2325., '\"non-USA\"', '\"Mazda 323\"'),\n",
       "       ('\"Mercedes-Benz\"', '\"190E\"', '\"Compact\"', 29. , 31.9, 34.9, 20., 29., '\"Driver only\"', '\"Rear\"', '\"4\"', 2.3, 130., 5100., 2425., '\"Yes\"', 14.5, 5., 175., 105., 67., 34., 26. , 12., 2920., '\"non-USA\"', '\"Mercedes-Benz 1'),\n",
       "       ('\"Mercury\"', '\"Capri\"', '\"Sporty\"', 13.3, 14.1, 15. , 23., 26., '\"Driver only\"', '\"Front\"', '\"4\"', 1.6, 100., 5750., 2475., '\"Yes\"', 11.1, 4., 166.,  95., 65., 36., 19. ,  6., 2450., '\"USA\"', '\"Mercury Capri\"'),\n",
       "       ('\"Mitsubishi\"', '\"Mirage\"', '\"Small\"',  7.7, 10.3, 12.9, 29., 33., '\"None\"', '\"Front\"', '\"4\"', 1.5,  92., 6000., 2505., '\"Yes\"', 13.2, 5., 172.,  98., 67., 36., 26. , 11., 2295., '\"non-USA\"', '\"Mitsubishi Mira'),\n",
       "       ('\"Nissan\"', '\"Sentra\"', '\"Small\"',  8.7, 11.8, 14.9, 29., 33., '\"Driver only\"', '\"Front\"', '\"4\"', 1.6, 110., 6000., 2435., '\"Yes\"', 13.2, 5., 170.,  96., 66., 33., 26. , 12., 2545., '\"non-USA\"', '\"Nissan Sentra\"'),\n",
       "       ('\"Oldsmobile\"', '\"Achieva\"', '\"Compact\"', 13. , 13.5, 14. , 24., 31., '\"None\"', '\"Front\"', '\"4\"', 2.3, 155., 6000., 2380., '\"No\"', 15.2, 5., 188., 103., 67., 39., 28. , 14., 2910., '\"USA\"', '\"Oldsmobile Achi'),\n",
       "       ('\"Plymouth\"', '\"Laser\"', '\"Sporty\"', 11.4, 14.4, 17.4, 23., 30., '\"None\"', '\"4WD\"', '\"4\"', 1.8,  92., 5000., 2360., '\"Yes\"', 15.9, 4., 173.,  97., 67., 39., 24.5,  8., 2640., '\"USA\"', '\"Plymouth Laser\"'),\n",
       "       ('\"Pontiac\"', '\"LeMans\"', '\"Small\"',  8.2,  9. ,  9.9, 31., 41., '\"None\"', '\"Front\"', '\"4\"', 1.6,  74., 5600., 3130., '\"Yes\"', 13.2, 4., 177.,  99., 66., 35., 25.5, 17., 2350., '\"USA\"', '\"Pontiac LeMans\"'),\n",
       "       ('\"Saab\"', '\"900\"', '\"Compact\"', 20.3, 28.7, 37.1, 20., 26., '\"Driver only\"', '\"Front\"', '\"4\"', 2.1, 140., 6000., 2910., '\"Yes\"', 18. , 5., 184.,  99., 67., 37., 26.5, 14., 2775., '\"non-USA\"', '\"Saab 900\"'),\n",
       "       ('\"Saturn\"', '\"SL\"', '\"Small\"',  9.2, 11.1, 12.9, 28., 38., '\"Driver only\"', '\"Front\"', '\"4\"', 1.9,  85., 5000., 2145., '\"Yes\"', 12.8, 5., 176., 102., 68., 40., 26.5, 12., 2495., '\"USA\"', '\"Saturn SL\"'),\n",
       "       ('\"Subaru\"', '\"Justy\"', '\"Small\"',  7.3,  8.4,  9.5, 33., 37., '\"None\"', '\"4WD\"', '\"3\"', 1.2,  73., 5600., 2875., '\"Yes\"',  9.2, 4., 146.,  90., 60., 32., 23.5, 10., 2045., '\"non-USA\"', '\"Subaru Justy\"'),\n",
       "       ('\"Suzuki\"', '\"Swift\"', '\"Small\"',  7.3,  8.6, 10. , 39., 43., '\"None\"', '\"Front\"', '\"3\"', 1.3,  70., 6000., 3360., '\"Yes\"', 10.6, 4., 161.,  93., 63., 34., 27.5, 10., 1965., '\"non-USA\"', '\"Suzuki Swift\"'),\n",
       "       ('\"Toyota\"', '\"Tercel\"', '\"Small\"',  7.8,  9.8, 11.8, 32., 37., '\"Driver only\"', '\"Front\"', '\"4\"', 1.5,  82., 5200., 3505., '\"Yes\"', 11.9, 5., 162.,  94., 65., 36., 24. , 11., 2055., '\"non-USA\"', '\"Toyota Tercel\"'),\n",
       "       ('\"Volkswagen\"', '\"Fox\"', '\"Small\"',  8.7,  9.1,  9.5, 25., 33., '\"None\"', '\"Front\"', '\"4\"', 1.8,  81., 5500., 2550., '\"Yes\"', 12.4, 4., 163.,  93., 63., 34., 26. , 10., 2240., '\"non-USA\"', '\"Volkswagen Fox\"'),\n",
       "       ('\"Volvo\"', '\"240\"', '\"Compact\"', 21.8, 22.7, 23.5, 21., 28., '\"Driver only\"', '\"Rear\"', '\"4\"', 2.3, 114., 5400., 2215., '\"Yes\"', 15.8, 5., 190., 104., 67., 37., 29.5, 14., 2985., '\"non-USA\"', '\"Volvo 240\"')],\n",
       "      dtype=[('Manufacturer', '<U16'), ('Model', '<U16'), ('Type', '<U16'), ('MinPrice', '<f8'), ('Price', '<f8'), ('MaxPrice', '<f8'), ('MPGcity', '<f8'), ('MPGhighway', '<f8'), ('AirBags', '<U16'), ('DriveTrain', '<U16'), ('Cylinders', '<U16'), ('EngineSize', '<f8'), ('Horsepower', '<f8'), ('RPM', '<f8'), ('Revpermile', '<f8'), ('Mantransavail', '<U16'), ('Fueltankcapacity', '<f8'), ('Passengers', '<f8'), ('Length', '<f8'), ('Wheelbase', '<f8'), ('Width', '<f8'), ('Turncircle', '<f8'), ('Rearseatroom', '<f8'), ('Luggageroom', '<f8'), ('Weight', '<f8'), ('Origin', '<U16'), ('Make', '<U16')])"
      ]
     },
     "execution_count": 9,
     "metadata": {},
     "output_type": "execute_result"
    }
   ],
   "source": [
    "# Keep first occurrences.\n",
    "data[index]"
   ]
  },
  {
   "cell_type": "markdown",
   "id": "7679ae04",
   "metadata": {},
   "source": [
    "__Keep Only Duplicates:__ Remove the first occurrence."
   ]
  },
  {
   "cell_type": "code",
   "execution_count": 10,
   "id": "44626587",
   "metadata": {},
   "outputs": [
    {
     "data": {
      "text/plain": [
       "array([('\"Volvo\"', '\"850\"', '\"Midsize\"', 24.8, 26.7, 28.5, 20., 28., '\"Driver & Passen', '\"Front\"', '\"5\"', 2.4, 168., 6200., 2310., '\"Yes\"', 19.3, 5., 184., 105., 69., 38., 30. , 15., 3245., '\"non-USA\"', '\"Volvo 850\"'),\n",
       "       ('\"Volkswagen\"', '\"Corrado\"', '\"Sporty\"', 22.9, 23.3, 23.7, 18., 25., '\"None\"', '\"Front\"', '\"6\"', 2.8, 178., 5800., 2385., '\"Yes\"', 18.5, 4., 159.,  97., 66., 36., 26. , 15., 2810., '\"non-USA\"', '\"Volkswagen Corr'),\n",
       "       ('\"Volkswagen\"', '\"Eurovan\"', '\"Van\"', 16.6, 19.7, 22.7, 17., 21., '\"None\"', '\"Front\"', '\"5\"', 2.5, 109., 4500., 2915., '\"Yes\"', 21.1, 7., 187., 115., 72., 38., 34. , nan, 3960., '\"non-USA\"', '\"Volkswagen Euro'),\n",
       "       ('\"Volkswagen\"', '\"Fox\"', '\"Small\"',  8.7,  9.1,  9.5, 25., 33., '\"None\"', '\"Front\"', '\"4\"', 1.8,  81., 5500., 2550., '\"Yes\"', 12.4, 4., 163.,  93., 63., 34., 26. , 10., 2240., '\"non-USA\"', '\"Volkswagen Fox\"'),\n",
       "       ('\"Toyota\"', '\"Tercel\"', '\"Small\"',  7.8,  9.8, 11.8, 32., 37., '\"Driver only\"', '\"Front\"', '\"4\"', 1.5,  82., 5200., 3505., '\"Yes\"', 11.9, 5., 162.,  94., 65., 36., 24. , 11., 2055., '\"non-USA\"', '\"Toyota Tercel\"'),\n",
       "       ('\"Subaru\"', '\"Legacy\"', '\"Compact\"', 16.3, 19.5, 22.7, 23., 30., '\"Driver only\"', '\"4WD\"', '\"4\"', 2.2, 130., 5600., 2330., '\"Yes\"', 15.9, 5., 179., 102., 67., 37., 27. , 14., 3085., '\"non-USA\"', '\"Subaru Legacy\"'),\n",
       "       ('\"Pontiac\"', '\"Sunbird\"', '\"Compact\"',  9.4, 11.1, 12.8, 23., 31., '\"None\"', '\"Front\"', '\"4\"', 2. , 110., 5200., 2665., '\"Yes\"', 15.2, 5., 181., 101., 66., 39., 25. , 13., 2575., '\"USA\"', '\"Pontiac Sunbird'),\n",
       "       ('\"Pontiac\"', '\"LeMans\"', '\"Small\"',  8.2,  9. ,  9.9, 31., 41., '\"None\"', '\"Front\"', '\"4\"', 1.6,  74., 5600., 3130., '\"Yes\"', 13.2, 4., 177.,  99., 66., 35., 25.5, 17., 2350., '\"USA\"', '\"Pontiac LeMans\"'),\n",
       "       ('\"Oldsmobile\"', '\"Eighty-Eight\"', '\"Large\"', 19.5, 20.7, 21.9, 19., 28., '\"Driver only\"', '\"Front\"', '\"6\"', 3.8, 170., 4800., 1570., '\"No\"', 18. , 6., 201., 111., 74., 42., 31.5, 17., 3470., '\"USA\"', '\"Oldsmobile Eigh'),\n",
       "       ('\"Nissan\"', '\"Altima\"', '\"Compact\"', 13. , 15.7, 18.3, 24., 30., '\"Driver only\"', '\"Front\"', '\"4\"', 2.4, 150., 5600., 2130., '\"Yes\"', 15.9, 5., 181., 103., 67., 40., 28.5, 14., 3050., '\"non-USA\"', '\"Nissan Altima\"'),\n",
       "       ('\"Mitsubishi\"', '\"Diamante\"', '\"Midsize\"', 22.4, 26.1, 29.9, 18., 24., '\"Driver only\"', '\"Front\"', '\"6\"', 3. , 202., 6000., 2210., '\"No\"', 19. , 5., 190., 107., 70., 43., 27.5, 14., 3730., '\"non-USA\"', '\"Mitsubishi Diam'),\n",
       "       ('\"Mazda\"', '\"626\"', '\"Compact\"', 14.3, 16.5, 18.7, 26., 34., '\"Driver only\"', '\"Front\"', '\"4\"', 2.5, 164., 5600., 2505., '\"Yes\"', 15.5, 5., 184., 103., 69., 40., 29.5, 14., 2970., '\"non-USA\"', '\"Mazda 626\"'),\n",
       "       ('\"Mazda\"', '\"323\"', '\"Small\"',  7.4,  8.3,  9.1, 29., 37., '\"None\"', '\"Front\"', '\"4\"', 1.6,  82., 5000., 2370., '\"Yes\"', 13.2, 4., 164.,  97., 66., 34., 27. , 16., 2325., '\"non-USA\"', '\"Mazda 323\"'),\n",
       "       ('\"Lexus\"', '\"SC300\"', '\"Midsize\"', 34.7, 35.2, 35.6, 18., 23., '\"Driver & Passen', '\"Rear\"', '\"6\"', 3. , 225., 6000., 2510., '\"Yes\"', 20.6, 4., 191., 106., 71., 39., 25. ,  9., 3515., '\"non-USA\"', '\"Lexus SC300\"'),\n",
       "       ('\"Hyundai\"', '\"Scoupe\"', '\"Sporty\"',  9.1, 10. , 11. , 26., 34., '\"None\"', '\"Front\"', '\"4\"', 1.5,  92., 5550., 2540., '\"Yes\"', 11.9, 4., 166.,  94., 64., 34., 23.5,  9., 2285., '\"non-USA\"', '\"Hyundai Scoupe\"'),\n",
       "       ('\"Hyundai\"', '\"Elantra\"', '\"Small\"',  9. , 10. , 11. , 22., 29., '\"None\"', '\"Front\"', '\"4\"', 1.8, 124., 6000., 2745., '\"Yes\"', 13.7, 5., 172.,  98., 66., 36., 28. , 12., 2620., '\"non-USA\"', '\"Hyundai Elantra'),\n",
       "       ('\"Honda\"', '\"Accord\"', '\"Compact\"', 13.8, 17.5, 21.2, 24., 31., '\"Driver & Passen', '\"Front\"', '\"4\"', 2.2, 140., 5600., 2610., '\"Yes\"', 17. , 4., 185., 107., 67., 41., 28. , 14., 3040., '\"non-USA\"', '\"Honda Accord\"'),\n",
       "       ('\"Honda\"', '\"Prelude\"', '\"Sporty\"', 17. , 19.8, 22.7, 24., 31., '\"Driver & Passen', '\"Front\"', '\"4\"', 2.3, 160., 5800., 2855., '\"Yes\"', 15.9, 4., 175., 100., 70., 39., 23.5,  8., 2865., '\"non-USA\"', '\"Honda Prelude\"'),\n",
       "       ('\"Ford\"', '\"Aerostar\"', '\"Van\"', 14.5, 19.9, 25.3, 15., 20., '\"Driver only\"', '\"4WD\"', '\"6\"', 3. , 145., 4800., 2080., '\"Yes\"', 21. , 7., 176., 119., 72., 45., 30. , nan, 3735., '\"USA\"', '\"Ford Aerostar\"'),\n",
       "       ('\"Ford\"', '\"Mustang\"', '\"Sporty\"', 10.8, 15.9, 21. , 22., 29., '\"Driver only\"', '\"Rear\"', '\"4\"', 2.3, 105., 4600., 2285., '\"Yes\"', 15.4, 4., 180., 101., 68., 40., 24. , 12., 2850., '\"USA\"', '\"Ford Mustang\"'),\n",
       "       ('\"Ford\"', '\"Escort\"', '\"Small\"',  8.4, 10.1, 11.9, 23., 30., '\"None\"', '\"Front\"', '\"4\"', 1.8, 127., 6500., 2410., '\"Yes\"', 13.2, 5., 171.,  98., 67., 36., 28. , 12., 2530., '\"USA\"', '\"Ford Escort\"'),\n",
       "       ('\"Eagle\"', '\"Vision\"', '\"Large\"', 17.5, 19.3, 21.2, 20., 28., '\"Driver & Passen', '\"Front\"', '\"6\"', 3.5, 214., 5800., 1980., '\"No\"', 18. , 6., 202., 113., 74., 40., 30. , 15., 3490., '\"USA\"', '\"Eagle Vision\"'),\n",
       "       ('\"Dodge\"', '\"Caravan\"', '\"Van\"', 13.6, 19. , 24.4, 17., 21., '\"Driver only\"', '\"4WD\"', '\"6\"', 3. , 142., 5000., 1970., '\"No\"', 20. , 7., 175., 112., 72., 42., 26.5, nan, 3705., '\"USA\"', '\"Dodge Caravan\"'),\n",
       "       ('\"Chrysler\"', '\"Imperial\"', '\"Large\"', 29.5, 29.5, 29.5, 20., 26., '\"Driver only\"', '\"Front\"', '\"6\"', 3.3, 147., 4800., 1785., '\"No\"', 16. , 6., 203., 110., 69., 44., 36. , 17., 3570., '\"USA\"', '\"Chrysler Imperi'),\n",
       "       ('\"Chrysler\"', '\"LeBaron\"', '\"Compact\"', 14.5, 15.8, 17.1, 23., 28., '\"Driver & Passen', '\"Front\"', '\"4\"', 3. , 141., 5000., 2090., '\"No\"', 16. , 6., 183., 104., 68., 41., 30.5, 14., 3085., '\"USA\"', '\"Chrysler LeBaro'),\n",
       "       ('\"Chevrolet\"', '\"Lumina_APV\"', '\"Van\"', 14.7, 16.3, 18. , 18., 23., '\"None\"', '\"Front\"', '\"6\"', 3.8, 170., 4800., 1690., '\"No\"', 20. , 7., 178., 110., 74., 44., 30.5, nan, 3715., '\"USA\"', '\"Chevrolet Lumin'),\n",
       "       ('\"Chevrolet\"', '\"Lumina\"', '\"Midsize\"', 13.4, 15.9, 18.4, 21., 29., '\"None\"', '\"Front\"', '\"4\"', 2.2, 110., 5200., 2595., '\"No\"', 16.5, 6., 198., 108., 71., 40., 28.5, 16., 3195., '\"USA\"', '\"Chevrolet Lumin'),\n",
       "       ('\"Chevrolet\"', '\"Camaro\"', '\"Sporty\"', 13.4, 15.1, 16.8, 19., 28., '\"Driver & Passen', '\"Rear\"', '\"6\"', 3.4, 160., 4600., 1805., '\"Yes\"', 15.5, 4., 193., 101., 74., 43., 25. , 13., 3240., '\"USA\"', '\"Chevrolet Camar'),\n",
       "       ('\"Cadillac\"', '\"Seville\"', '\"Midsize\"', 37.5, 40.1, 42.7, 16., 25., '\"Driver & Passen', '\"Front\"', '\"8\"', 4.6, 295., 6000., 1985., '\"No\"', 20. , 5., 204., 111., 74., 44., 31. , 14., 3935., '\"USA\"', '\"Cadillac Sevill'),\n",
       "       ('\"Cadillac\"', '\"DeVille\"', '\"Large\"', 33. , 34.7, 36.3, 16., 25., '\"Driver only\"', '\"Front\"', '\"8\"', 4.9, 200., 4100., 1510., '\"No\"', 18. , 6., 206., 114., 73., 43., 35. , 18., 3620., '\"USA\"', '\"Cadillac DeVill'),\n",
       "       ('\"Buick\"', '\"Century\"', '\"Midsize\"', 14.2, 15.7, 17.3, 22., 31., '\"Driver only\"', '\"Front\"', '\"4\"', 2.2, 110., 5200., 2565., '\"No\"', 16.4, 6., 189., 105., 69., 41., 28. , 16., 2880., '\"USA\"', '\"Buick Century\"'),\n",
       "       ('\"Acura\"', '\"Legend\"', '\"Midsize\"', 29.2, 33.9, 38.7, 18., 25., '\"Driver & Passen', '\"Front\"', '\"6\"', 3.2, 200., 5500., 2335., '\"Yes\"', 18. , 5., 195., 115., 71., 38., 30. , 15., 3560., '\"non-USA\"', '\"Acura Legend\"')],\n",
       "      dtype=[('Manufacturer', '<U16'), ('Model', '<U16'), ('Type', '<U16'), ('MinPrice', '<f8'), ('Price', '<f8'), ('MaxPrice', '<f8'), ('MPGcity', '<f8'), ('MPGhighway', '<f8'), ('AirBags', '<U16'), ('DriveTrain', '<U16'), ('Cylinders', '<U16'), ('EngineSize', '<f8'), ('Horsepower', '<f8'), ('RPM', '<f8'), ('Revpermile', '<f8'), ('Mantransavail', '<U16'), ('Fueltankcapacity', '<f8'), ('Passengers', '<f8'), ('Length', '<f8'), ('Wheelbase', '<f8'), ('Width', '<f8'), ('Turncircle', '<f8'), ('Rearseatroom', '<f8'), ('Luggageroom', '<f8'), ('Weight', '<f8'), ('Origin', '<U16'), ('Make', '<U16')])"
      ]
     },
     "execution_count": 10,
     "metadata": {},
     "output_type": "execute_result"
    }
   ],
   "source": [
    "# Keep all except first occurrences\n",
    "data[~index]"
   ]
  },
  {
   "cell_type": "markdown",
   "id": "ee5faea0",
   "metadata": {},
   "source": [
    "<div class=\"alert alert-info\" style=\"background-color:#006666; color:white; padding:0px 10px; border-radius:5px;\"><h2 style='margin:7px 5px; font-size:16px'>Check Membership</h2>\n",
    "</div>"
   ]
  },
  {
   "cell_type": "code",
   "execution_count": 12,
   "id": "090d5009",
   "metadata": {},
   "outputs": [
    {
     "name": "stdout",
     "output_type": "stream",
     "text": [
      "['\"Mercury\"' '\"Infiniti\"' '\"Toyota\"' '\"Chevrolet\"' '\"Buick\"' '\"Suzuki\"'\n",
      " '\"Chevrolet\"' '\"Nissan\"' '\"Ford\"' '\"Ford\"' '\"Oldsmobile\"' '\"Ford\"'\n",
      " '\"Hyundai\"' '\"Buick\"' '\"Pontiac\"' '\"Oldsmobile\"' '\"Oldsmobile\"' '\"Acura\"'\n",
      " '\"Ford\"' '\"Ford\"']\n",
      "['\"Pontiac\"' '\"Oldsmobile\"' '\"Cadillac\"' '\"Mazda\"' '\"Dodge\"' '\"Plymouth\"'\n",
      " '\"Geo\"' '\"Audi\"' '\"Saab\"' '\"Chevrolet\"']\n"
     ]
    }
   ],
   "source": [
    "A = np.random.choice(data['Manufacturer'], 20, replace=True)\n",
    "B = np.random.choice(data['Manufacturer'], 10, replace=True)\n",
    "\n",
    "print(A)\n",
    "print(B)"
   ]
  },
  {
   "cell_type": "markdown",
   "id": "f9899ad4",
   "metadata": {},
   "source": [
    "__Find elements of A that are present in B__"
   ]
  },
  {
   "cell_type": "code",
   "execution_count": 13,
   "id": "e28cc7b5",
   "metadata": {},
   "outputs": [
    {
     "data": {
      "text/plain": [
       "array([False, False, False,  True, False, False,  True, False, False,\n",
       "       False,  True, False, False, False,  True,  True,  True, False,\n",
       "       False, False])"
      ]
     },
     "execution_count": 13,
     "metadata": {},
     "output_type": "execute_result"
    }
   ],
   "source": [
    "A_in_B = np.in1d(A, B)\n",
    "A_in_B"
   ]
  },
  {
   "cell_type": "code",
   "execution_count": 14,
   "id": "43eac020",
   "metadata": {},
   "outputs": [
    {
     "data": {
      "text/plain": [
       "array(['\"Chevrolet\"', '\"Chevrolet\"', '\"Oldsmobile\"', '\"Pontiac\"',\n",
       "       '\"Oldsmobile\"', '\"Oldsmobile\"'], dtype='<U16')"
      ]
     },
     "execution_count": 14,
     "metadata": {},
     "output_type": "execute_result"
    }
   ],
   "source": [
    "A[A_in_B]"
   ]
  },
  {
   "cell_type": "markdown",
   "id": "07227904",
   "metadata": {},
   "source": [
    "### Union"
   ]
  },
  {
   "cell_type": "code",
   "execution_count": 15,
   "id": "34380ed9",
   "metadata": {},
   "outputs": [
    {
     "data": {
      "text/plain": [
       "array(['\"Acura\"', '\"Audi\"', '\"Buick\"', '\"Cadillac\"', '\"Chevrolet\"',\n",
       "       '\"Dodge\"', '\"Ford\"', '\"Geo\"', '\"Hyundai\"', '\"Infiniti\"', '\"Mazda\"',\n",
       "       '\"Mercury\"', '\"Nissan\"', '\"Oldsmobile\"', '\"Plymouth\"', '\"Pontiac\"',\n",
       "       '\"Saab\"', '\"Suzuki\"', '\"Toyota\"'], dtype='<U16')"
      ]
     },
     "execution_count": 15,
     "metadata": {},
     "output_type": "execute_result"
    }
   ],
   "source": [
    "np.union1d(A, B)"
   ]
  },
  {
   "cell_type": "markdown",
   "id": "2b612cb8",
   "metadata": {},
   "source": [
    "### Intersect\n",
    "\n",
    "Common Items"
   ]
  },
  {
   "cell_type": "code",
   "execution_count": 16,
   "id": "217989ab",
   "metadata": {},
   "outputs": [
    {
     "data": {
      "text/plain": [
       "array(['\"Chevrolet\"', '\"Oldsmobile\"', '\"Pontiac\"'], dtype='<U16')"
      ]
     },
     "execution_count": 16,
     "metadata": {},
     "output_type": "execute_result"
    }
   ],
   "source": [
    "np.intersect1d(A, B)"
   ]
  },
  {
   "cell_type": "markdown",
   "id": "8e2d76d0",
   "metadata": {},
   "source": [
    "### Set Difference\n",
    "\n",
    "Remove items of B from A."
   ]
  },
  {
   "cell_type": "code",
   "execution_count": 17,
   "id": "85c9cc65",
   "metadata": {},
   "outputs": [
    {
     "data": {
      "text/plain": [
       "array(['\"Acura\"', '\"Buick\"', '\"Ford\"', '\"Hyundai\"', '\"Infiniti\"',\n",
       "       '\"Mercury\"', '\"Nissan\"', '\"Suzuki\"', '\"Toyota\"'], dtype='<U16')"
      ]
     },
     "execution_count": 17,
     "metadata": {},
     "output_type": "execute_result"
    }
   ],
   "source": [
    "np.setdiff1d(A, B)"
   ]
  },
  {
   "cell_type": "markdown",
   "id": "044030ee",
   "metadata": {},
   "source": [
    "<div class=\"alert alert-info\" style=\"background-color:#006666; color:white; padding:0px 10px; border-radius:5px;\"><h2 style='margin:7px 5px; font-size:16px'>Code Challenge</h2>\n",
    "</div>\n",
    "\n",
    "1. What are the items present in A and B but not in C?\n",
    "2. What are the items that are not common between A, B and C? \n",
    "\n",
    "```python\n",
    "np.random.seed(100)\n",
    "alphabets = list('ABCDEFGHIJKLMNOPQRSTUVXYZ')\n",
    "A = np.random.choice(alphabets, 10)\n",
    "B = np.random.choice(alphabets, 20)\n",
    "C = np.random.choice(alphabets, 5)\n",
    "```\n",
    "\n",
    "__Code Url:__ https://git.io/JcG1q"
   ]
  },
  {
   "cell_type": "markdown",
   "id": "470a5141",
   "metadata": {},
   "source": [
    "__Solution__"
   ]
  },
  {
   "cell_type": "code",
   "execution_count": null,
   "id": "c6a9d7fb",
   "metadata": {},
   "outputs": [],
   "source": []
  },
  {
   "cell_type": "code",
   "execution_count": null,
   "id": "02ff4641",
   "metadata": {},
   "outputs": [],
   "source": []
  },
  {
   "cell_type": "code",
   "execution_count": null,
   "id": "93b93216",
   "metadata": {},
   "outputs": [],
   "source": []
  },
  {
   "cell_type": "code",
   "execution_count": null,
   "id": "a0cc859e",
   "metadata": {},
   "outputs": [],
   "source": []
  },
  {
   "cell_type": "code",
   "execution_count": null,
   "id": "d70228e3",
   "metadata": {},
   "outputs": [],
   "source": []
  },
  {
   "cell_type": "code",
   "execution_count": null,
   "id": "2a8437b4",
   "metadata": {},
   "outputs": [],
   "source": [
    "import numpy as np\n",
    "np.random.seed(100)\n",
    "alphabets = list('ABCDEFGHIJKLMNOPQRSTUVXYZ')\n",
    "A = np.random.choice(alphabets, 10)\n",
    "B = np.random.choice(alphabets, 20)\n",
    "C = np.random.choice(alphabets, 7)\n",
    "print(A)\n",
    "print(B)\n",
    "print(C)"
   ]
  },
  {
   "cell_type": "code",
   "execution_count": null,
   "id": "c631c656",
   "metadata": {},
   "outputs": [],
   "source": [
    "# 1.\n",
    "np.setdiff1d(np.union1d(A, B), C)"
   ]
  },
  {
   "cell_type": "code",
   "execution_count": null,
   "id": "1dd8d9d2",
   "metadata": {},
   "outputs": [],
   "source": [
    "# 2.\n",
    "union = np.union1d(np.union1d(A, B), C) \n",
    "intersect_AB = np.intersect1d(A, B)\n",
    "intersect_AC = np.intersect1d(A, C)\n",
    "intersect_BC = np.intersect1d(B, C)\n",
    "\n",
    "setdiff_ab = np.setdiff1d(union, intersect_AB)\n",
    "setdiff_ac = np.setdiff1d(setdiff_ab, intersect_AC)\n",
    "setdiff_all = np.setdiff1d(setdiff_ac, intersect_BC)\n",
    "\n",
    "setdiff_all"
   ]
  },
  {
   "cell_type": "code",
   "execution_count": null,
   "id": "d7949dca",
   "metadata": {},
   "outputs": [],
   "source": []
  }
 ],
 "metadata": {
  "hide_input": false,
  "kernelspec": {
   "display_name": "Python 3",
   "language": "python",
   "name": "python3"
  },
  "language_info": {
   "codemirror_mode": {
    "name": "ipython",
    "version": 3
   },
   "file_extension": ".py",
   "mimetype": "text/x-python",
   "name": "python",
   "nbconvert_exporter": "python",
   "pygments_lexer": "ipython3",
   "version": "3.7.10"
  },
  "toc": {
   "base_numbering": 1,
   "nav_menu": {},
   "number_sections": false,
   "sideBar": true,
   "skip_h1_title": true,
   "title_cell": "Table of Contents",
   "title_sidebar": "Contents",
   "toc_cell": false,
   "toc_position": {},
   "toc_section_display": true,
   "toc_window_display": false
  }
 },
 "nbformat": 4,
 "nbformat_minor": 5
}
