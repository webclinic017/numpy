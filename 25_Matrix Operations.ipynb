{
 "cells": [
  {
   "cell_type": "markdown",
   "id": "d87ce13d",
   "metadata": {},
   "source": [
    "<div style=\"color:#006666; padding:0px 10px; border-radius:5px; font-size:18px; text-align:center\"><h1 style='margin:10px 5px'>Matrix Operations</h1>\n",
    "<hr>\n",
    "<p style=\"color:#006666; text-align:right;font-size:10px\">\n",
    "Copyright by MachineLearningPlus. All Rights Reserved.\n",
    "</p>\n",
    "\n",
    "</div>"
   ]
  },
  {
   "cell_type": "code",
   "execution_count": 1,
   "id": "46679610",
   "metadata": {},
   "outputs": [],
   "source": [
    "import numpy as np"
   ]
  },
  {
   "cell_type": "code",
   "execution_count": 2,
   "id": "0cacfab4",
   "metadata": {},
   "outputs": [
    {
     "name": "stdout",
     "output_type": "stream",
     "text": [
      "A: \n",
      " [[0 1 2]\n",
      " [3 4 5]\n",
      " [6 7 8]]\n",
      "B: \n",
      " [[6 5 5]\n",
      " [0 1 4]\n",
      " [3 0 2]]\n"
     ]
    }
   ],
   "source": [
    "np.random.seed(109)\n",
    "A = np.arange(9).reshape(3,3)\n",
    "B = np.random.randint(0, 9, (3,3))\n",
    "\n",
    "print(\"A: \\n\",A)\n",
    "print(\"B: \\n\",B)"
   ]
  },
  {
   "cell_type": "markdown",
   "id": "3ad390fd",
   "metadata": {},
   "source": [
    "__Dot Product__"
   ]
  },
  {
   "cell_type": "markdown",
   "id": "3036e011",
   "metadata": {},
   "source": [
    "Multiplies Row of first matrix with corresponding column of second matrix for every element."
   ]
  },
  {
   "cell_type": "code",
   "execution_count": 3,
   "id": "08fb32eb",
   "metadata": {},
   "outputs": [
    {
     "data": {
      "text/plain": [
       "array([[ 6,  1,  8],\n",
       "       [33, 19, 41],\n",
       "       [60, 37, 74]])"
      ]
     },
     "execution_count": 3,
     "metadata": {},
     "output_type": "execute_result"
    }
   ],
   "source": [
    "# Dot Product\n",
    "np.dot(A, B)"
   ]
  },
  {
   "cell_type": "code",
   "execution_count": 4,
   "id": "dd717f29",
   "metadata": {},
   "outputs": [
    {
     "data": {
      "text/plain": [
       "array([[ 6,  1,  8],\n",
       "       [33, 19, 41],\n",
       "       [60, 37, 74]])"
      ]
     },
     "execution_count": 4,
     "metadata": {},
     "output_type": "execute_result"
    }
   ],
   "source": [
    "# Another notation for Dot Product\n",
    "A @ B"
   ]
  },
  {
   "cell_type": "markdown",
   "id": "4997a83f",
   "metadata": {},
   "source": [
    "__Element wise Multiplication - Hadamard Product__"
   ]
  },
  {
   "cell_type": "code",
   "execution_count": 5,
   "id": "3227b3b3",
   "metadata": {},
   "outputs": [
    {
     "data": {
      "text/plain": [
       "array([[ 0,  5, 10],\n",
       "       [ 0,  4, 20],\n",
       "       [18,  0, 16]])"
      ]
     },
     "execution_count": 5,
     "metadata": {},
     "output_type": "execute_result"
    }
   ],
   "source": [
    "A * B"
   ]
  },
  {
   "cell_type": "code",
   "execution_count": 6,
   "id": "b6d96d51",
   "metadata": {},
   "outputs": [
    {
     "data": {
      "text/plain": [
       "array([[ 0,  5, 10],\n",
       "       [ 0,  4, 20],\n",
       "       [18,  0, 16]])"
      ]
     },
     "execution_count": 6,
     "metadata": {},
     "output_type": "execute_result"
    }
   ],
   "source": [
    "# alternate\n",
    "np.multiply(A, B)"
   ]
  },
  {
   "cell_type": "markdown",
   "id": "102cf854",
   "metadata": {},
   "source": [
    "__Inverse of a matrix__\n",
    "\n",
    "Inverse of a matrix is one where the dot product of a matrix and its inverse gives a Identity matrix (1's along the diagonals)."
   ]
  },
  {
   "cell_type": "code",
   "execution_count": 7,
   "id": "448ad8e7",
   "metadata": {},
   "outputs": [
    {
     "data": {
      "text/plain": [
       "array([[ 0.03508772, -0.1754386 ,  0.26315789],\n",
       "       [ 0.21052632, -0.05263158, -0.42105263],\n",
       "       [-0.05263158,  0.26315789,  0.10526316]])"
      ]
     },
     "execution_count": 7,
     "metadata": {},
     "output_type": "execute_result"
    }
   ],
   "source": [
    "B_inv = np.linalg.inv(B)\n",
    "B_inv"
   ]
  },
  {
   "cell_type": "code",
   "execution_count": 8,
   "id": "e89265c5",
   "metadata": {},
   "outputs": [
    {
     "data": {
      "text/plain": [
       "array([[1., 0., 0.],\n",
       "       [0., 1., 0.],\n",
       "       [0., 0., 1.]])"
      ]
     },
     "execution_count": 8,
     "metadata": {},
     "output_type": "execute_result"
    }
   ],
   "source": [
    "B_inv @ B"
   ]
  },
  {
   "cell_type": "markdown",
   "id": "e4bbb975",
   "metadata": {},
   "source": [
    "Trying to compute the inverse of A is not possible. Because, an inverse exists only if the determinant of a matrix is not zero.  When the determinant of a matrix is zero, its called a singular matrix."
   ]
  },
  {
   "cell_type": "code",
   "execution_count": 29,
   "id": "5376d48e",
   "metadata": {},
   "outputs": [
    {
     "data": {
      "text/plain": [
       "array([[ 0.17647059, -0.00326797, -0.02287582],\n",
       "       [ 0.05882353, -0.13071895,  0.08496732],\n",
       "       [-0.11764706,  0.1503268 ,  0.05228758]])"
      ]
     },
     "execution_count": 29,
     "metadata": {},
     "output_type": "execute_result"
    }
   ],
   "source": [
    "# doesnt work\n",
    "np.linalg.inv(A)"
   ]
  },
  {
   "cell_type": "code",
   "execution_count": 30,
   "id": "fc137a38",
   "metadata": {},
   "outputs": [
    {
     "data": {
      "text/plain": [
       "-306.0"
      ]
     },
     "execution_count": 30,
     "metadata": {},
     "output_type": "execute_result"
    }
   ],
   "source": [
    "np.linalg.det(A)"
   ]
  },
  {
   "cell_type": "markdown",
   "id": "5295c1ab",
   "metadata": {},
   "source": [
    "__Determinant of a matrix__\n",
    "\n",
    "Let's see how to calculate the determinant for a 2x2 matrix."
   ]
  },
  {
   "cell_type": "code",
   "execution_count": 31,
   "id": "86816ac0",
   "metadata": {},
   "outputs": [
    {
     "data": {
      "text/plain": [
       "-1.9999999999999971"
      ]
     },
     "execution_count": 31,
     "metadata": {},
     "output_type": "execute_result"
    }
   ],
   "source": [
    "A = np.array([[3, 4], \n",
    "              [5, 6]])\n",
    "\n",
    "np.linalg.det(A)"
   ]
  },
  {
   "cell_type": "code",
   "execution_count": 32,
   "id": "b7851f5a",
   "metadata": {},
   "outputs": [
    {
     "data": {
      "text/plain": [
       "-2"
      ]
     },
     "execution_count": 32,
     "metadata": {},
     "output_type": "execute_result"
    }
   ],
   "source": [
    "# Determinant calc\n",
    "(3*6) - (4*5)"
   ]
  },
  {
   "cell_type": "markdown",
   "id": "5b3fb017",
   "metadata": {},
   "source": [
    "__Rank of a matrix__\n",
    "\n",
    "It is the maximum number of linearly independent columns of the matrix. Linearly independent column is one which cannot be expressed as a linear combination of the other columns."
   ]
  },
  {
   "cell_type": "code",
   "execution_count": 33,
   "id": "aa66af9a",
   "metadata": {},
   "outputs": [
    {
     "data": {
      "text/plain": [
       "array([[3, 4],\n",
       "       [5, 6]])"
      ]
     },
     "execution_count": 33,
     "metadata": {},
     "output_type": "execute_result"
    }
   ],
   "source": [
    "A"
   ]
  },
  {
   "cell_type": "code",
   "execution_count": 34,
   "id": "de27a8ba",
   "metadata": {},
   "outputs": [
    {
     "data": {
      "text/plain": [
       "2"
      ]
     },
     "execution_count": 34,
     "metadata": {},
     "output_type": "execute_result"
    }
   ],
   "source": [
    "np.linalg.matrix_rank(A)"
   ]
  },
  {
   "cell_type": "markdown",
   "id": "4ebb38a7",
   "metadata": {},
   "source": [
    "__Example 2__"
   ]
  },
  {
   "cell_type": "code",
   "execution_count": 15,
   "id": "704a0513",
   "metadata": {},
   "outputs": [
    {
     "name": "stdout",
     "output_type": "stream",
     "text": [
      "Rank of A: 3\n"
     ]
    }
   ],
   "source": [
    "A2 = np.array([[6, 1, 1],\n",
    "              [4, -2, 5],\n",
    "              [2, 8, 7]])\n",
    "  \n",
    "print(\"Rank of A:\", np.linalg.matrix_rank(A2))"
   ]
  },
  {
   "cell_type": "markdown",
   "id": "39a395c0",
   "metadata": {},
   "source": [
    "__Matrix Power__ \n",
    "\n",
    "A matrix may be raised to an 'n'th power.  "
   ]
  },
  {
   "cell_type": "code",
   "execution_count": 16,
   "id": "5fbb4b90",
   "metadata": {},
   "outputs": [
    {
     "data": {
      "text/plain": [
       "array([[267, 332],\n",
       "       [415, 516]])"
      ]
     },
     "execution_count": 16,
     "metadata": {},
     "output_type": "execute_result"
    }
   ],
   "source": [
    "np.linalg.matrix_power(A, 3)"
   ]
  },
  {
   "cell_type": "code",
   "execution_count": 17,
   "id": "1b323220",
   "metadata": {},
   "outputs": [
    {
     "data": {
      "text/plain": [
       "array([[267, 332],\n",
       "       [415, 516]])"
      ]
     },
     "execution_count": 17,
     "metadata": {},
     "output_type": "execute_result"
    }
   ],
   "source": [
    "A @ A @ A"
   ]
  },
  {
   "cell_type": "markdown",
   "id": "09bf650e",
   "metadata": {},
   "source": [
    "__Eigenvalues and EigenVectors__\n",
    "\n",
    "The number `w` is an eigenvalue of `a` if there exists a vector `v` such that ``a @ v = w * v``."
   ]
  },
  {
   "cell_type": "code",
   "execution_count": 18,
   "id": "3697fa1b",
   "metadata": {},
   "outputs": [
    {
     "name": "stdout",
     "output_type": "stream",
     "text": [
      "Array: \n",
      " [[ 6  1  1]\n",
      " [ 4 -2  5]\n",
      " [ 2  8  7]]\n",
      "\n",
      "Eigen value is : \n",
      " [11.24862343  5.09285054 -5.34147398]\n",
      "\n",
      "Eigen vector is : \n",
      " [[ 0.24511338  0.75669314  0.02645665]\n",
      " [ 0.40622202 -0.03352363 -0.84078293]\n",
      " [ 0.88028581 -0.65291014  0.54072554]]\n"
     ]
    }
   ],
   "source": [
    "# Eigen values\n",
    "arr = np.diag((1, 2, 3))\n",
    "arr = np.array([[6, 1, 1],\n",
    "              [4, -2, 5],\n",
    "              [2, 8, 7]])\n",
    " \n",
    "print(\"Array: \\n\", arr)\n",
    " \n",
    "# calculating an eigen value\n",
    "w, v = np.linalg.eig(arr)\n",
    " \n",
    "print(\"\\nEigen value is : \\n\", w)\n",
    "print(\"\\nEigen vector is : \\n\", v)"
   ]
  },
  {
   "cell_type": "markdown",
   "id": "bca26b27",
   "metadata": {},
   "source": [
    "__Check__"
   ]
  },
  {
   "cell_type": "code",
   "execution_count": 19,
   "id": "a473213e",
   "metadata": {},
   "outputs": [
    {
     "data": {
      "text/plain": [
       "array([[ 2.7571881 ,  3.85372509, -0.1413175 ],\n",
       "       [ 4.56943852, -0.17073086,  4.49102015],\n",
       "       [ 9.90200356, -3.32517376, -2.88827139]])"
      ]
     },
     "execution_count": 19,
     "metadata": {},
     "output_type": "execute_result"
    }
   ],
   "source": [
    "w * v"
   ]
  },
  {
   "cell_type": "code",
   "execution_count": 20,
   "id": "f24438b5",
   "metadata": {},
   "outputs": [
    {
     "data": {
      "text/plain": [
       "array([[ 2.7571881 ,  3.85372509, -0.1413175 ],\n",
       "       [ 4.56943852, -0.17073086,  4.49102015],\n",
       "       [ 9.90200356, -3.32517376, -2.88827139]])"
      ]
     },
     "execution_count": 20,
     "metadata": {},
     "output_type": "execute_result"
    }
   ],
   "source": [
    "arr @ v"
   ]
  },
  {
   "cell_type": "markdown",
   "id": "61dba288",
   "metadata": {},
   "source": [
    "__QR Decomposition__\n",
    "\n",
    "QR decomposition (or factorization) is a decomposition of a matrix A into a product A = QR of an orthogonal matrix Q and an upper triangular matrix R."
   ]
  },
  {
   "cell_type": "code",
   "execution_count": 21,
   "id": "ac30774a",
   "metadata": {},
   "outputs": [
    {
     "data": {
      "text/plain": [
       "array([[ 6,  1,  1],\n",
       "       [ 4, -2,  5],\n",
       "       [ 2,  8,  7]])"
      ]
     },
     "execution_count": 21,
     "metadata": {},
     "output_type": "execute_result"
    }
   ],
   "source": [
    "A = np.array([[6, 1, 1],\n",
    "              [4, -2, 5],\n",
    "              [2, 8, 7]])\n",
    "\n",
    "A"
   ]
  },
  {
   "cell_type": "code",
   "execution_count": 22,
   "id": "05d553b7",
   "metadata": {},
   "outputs": [
    {
     "name": "stdout",
     "output_type": "stream",
     "text": [
      "Q : [[-0.80178373 -0.06178021 -0.59441237]\n",
      " [-0.53452248 -0.37068124  0.75952691]\n",
      " [-0.26726124  0.92670309  0.26418327]] \n",
      "\n",
      "R : [[-7.48331477 -1.87082869 -5.34522484]\n",
      " [ 0.          8.09320703  4.57173527]\n",
      " [ 0.          0.          5.05250513]]\n"
     ]
    }
   ],
   "source": [
    "q, r = np.linalg.qr(A)\n",
    "print(\"Q :\", q, \"\\n\")\n",
    "print(\"R :\", r)"
   ]
  },
  {
   "cell_type": "markdown",
   "id": "03f0440d",
   "metadata": {},
   "source": [
    "__Check__\n",
    "\n",
    "Dot product of q nd R results in the orininal matrix."
   ]
  },
  {
   "cell_type": "code",
   "execution_count": 23,
   "id": "46eb7dc8",
   "metadata": {},
   "outputs": [
    {
     "data": {
      "text/plain": [
       "array([[ 6.,  1.,  1.],\n",
       "       [ 4., -2.,  5.],\n",
       "       [ 2.,  8.,  7.]])"
      ]
     },
     "execution_count": 23,
     "metadata": {},
     "output_type": "execute_result"
    }
   ],
   "source": [
    "q @ r   # reconstruct A"
   ]
  },
  {
   "cell_type": "markdown",
   "id": "17bef1cf",
   "metadata": {},
   "source": [
    "__Singular Value Decomposition (SVD)__\n",
    "\n",
    "Decomposes a given matrix into its 3 constituent matrices P, D and Q."
   ]
  },
  {
   "cell_type": "code",
   "execution_count": 24,
   "id": "f5c0919b",
   "metadata": {},
   "outputs": [
    {
     "data": {
      "text/plain": [
       "array([[-0.17768802, -0.83874355, -0.15628712, -0.34176163,  0.81873029,\n",
       "        -0.09261394],\n",
       "       [ 0.50808094, -1.7542225 , -0.36481798, -0.03091855, -0.12614427,\n",
       "         0.299181  ],\n",
       "       [ 1.82207405,  1.41717686, -0.45731622,  0.86019957,  0.28468256,\n",
       "         0.51062749],\n",
       "       [ 1.57829456,  0.16130871,  0.71819658, -0.80599584, -0.59818081,\n",
       "         1.32383635],\n",
       "       [ 1.13726714, -0.48833019,  0.34806743, -0.97086135, -0.21213643,\n",
       "         0.42335106],\n",
       "       [ 0.10377004,  0.05097481, -0.67144065,  0.27170251,  0.00701349,\n",
       "         0.32662299],\n",
       "       [ 0.03618145, -1.19327841, -0.15810171,  0.01341776, -0.47234681,\n",
       "        -0.20810645],\n",
       "       [ 1.44154411, -1.67109527,  0.54455933,  1.26132175,  0.96283701,\n",
       "        -0.27990168],\n",
       "       [-0.23044776,  0.45213427, -0.35421077,  0.34015305,  0.63620222,\n",
       "         0.75003234],\n",
       "       [ 1.3507378 , -0.28858894,  0.08703628, -0.08413142, -0.99903647,\n",
       "         0.10133759]])"
      ]
     },
     "execution_count": 24,
     "metadata": {},
     "output_type": "execute_result"
    }
   ],
   "source": [
    "X = np.random.normal(size=[10,6])\n",
    "X"
   ]
  },
  {
   "cell_type": "code",
   "execution_count": 25,
   "id": "ad46c67d",
   "metadata": {},
   "outputs": [],
   "source": [
    "P, D, Q = np.linalg.svd(X, full_matrices=False)"
   ]
  },
  {
   "cell_type": "code",
   "execution_count": 26,
   "id": "9da1c76b",
   "metadata": {},
   "outputs": [
    {
     "name": "stdout",
     "output_type": "stream",
     "text": [
      "(10, 6)\n",
      "(6,)\n",
      "(6, 6)\n"
     ]
    }
   ],
   "source": [
    "print(P.shape)\n",
    "print(D.shape)\n",
    "print(Q.shape)"
   ]
  },
  {
   "cell_type": "code",
   "execution_count": 27,
   "id": "df20b104",
   "metadata": {},
   "outputs": [
    {
     "data": {
      "text/plain": [
       "array([[-0.17768802, -0.83874355, -0.15628712, -0.34176163,  0.81873029,\n",
       "        -0.09261394],\n",
       "       [ 0.50808094, -1.7542225 , -0.36481798, -0.03091855, -0.12614427,\n",
       "         0.299181  ],\n",
       "       [ 1.82207405,  1.41717686, -0.45731622,  0.86019957,  0.28468256,\n",
       "         0.51062749],\n",
       "       [ 1.57829456,  0.16130871,  0.71819658, -0.80599584, -0.59818081,\n",
       "         1.32383635],\n",
       "       [ 1.13726714, -0.48833019,  0.34806743, -0.97086135, -0.21213643,\n",
       "         0.42335106],\n",
       "       [ 0.10377004,  0.05097481, -0.67144065,  0.27170251,  0.00701349,\n",
       "         0.32662299],\n",
       "       [ 0.03618145, -1.19327841, -0.15810171,  0.01341776, -0.47234681,\n",
       "        -0.20810645],\n",
       "       [ 1.44154411, -1.67109527,  0.54455933,  1.26132175,  0.96283701,\n",
       "        -0.27990168],\n",
       "       [-0.23044776,  0.45213427, -0.35421077,  0.34015305,  0.63620222,\n",
       "         0.75003234],\n",
       "       [ 1.3507378 , -0.28858894,  0.08703628, -0.08413142, -0.99903647,\n",
       "         0.10133759]])"
      ]
     },
     "execution_count": 27,
     "metadata": {},
     "output_type": "execute_result"
    }
   ],
   "source": [
    "X_svd = P @ np.diag(D) @ Q\n",
    "X_svd"
   ]
  },
  {
   "cell_type": "code",
   "execution_count": 28,
   "id": "4b63f382",
   "metadata": {},
   "outputs": [
    {
     "name": "stdout",
     "output_type": "stream",
     "text": [
      "Is X  and X_svd close? True\n"
     ]
    }
   ],
   "source": [
    "print('Is X  and X_svd close?', np.isclose(X, X_svd).all())"
   ]
  }
 ],
 "metadata": {
  "hide_input": false,
  "kernelspec": {
   "display_name": "Python 3",
   "language": "python",
   "name": "python3"
  },
  "language_info": {
   "codemirror_mode": {
    "name": "ipython",
    "version": 3
   },
   "file_extension": ".py",
   "mimetype": "text/x-python",
   "name": "python",
   "nbconvert_exporter": "python",
   "pygments_lexer": "ipython3",
   "version": "3.7.10"
  },
  "toc": {
   "base_numbering": 1,
   "nav_menu": {},
   "number_sections": false,
   "sideBar": true,
   "skip_h1_title": true,
   "title_cell": "Table of Contents",
   "title_sidebar": "Contents",
   "toc_cell": false,
   "toc_position": {},
   "toc_section_display": true,
   "toc_window_display": false
  }
 },
 "nbformat": 4,
 "nbformat_minor": 5
}
