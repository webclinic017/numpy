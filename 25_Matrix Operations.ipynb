{
  "nbformat": 4,
  "nbformat_minor": 5,
  "metadata": {
    "hide_input": false,
    "kernelspec": {
      "display_name": "Python 3",
      "language": "python",
      "name": "python3"
    },
    "language_info": {
      "codemirror_mode": {
        "name": "ipython",
        "version": 3
      },
      "file_extension": ".py",
      "mimetype": "text/x-python",
      "name": "python",
      "nbconvert_exporter": "python",
      "pygments_lexer": "ipython3",
      "version": "3.7.10"
    },
    "toc": {
      "base_numbering": 1,
      "nav_menu": {},
      "number_sections": false,
      "sideBar": true,
      "skip_h1_title": true,
      "title_cell": "Table of Contents",
      "title_sidebar": "Contents",
      "toc_cell": false,
      "toc_position": {},
      "toc_section_display": true,
      "toc_window_display": false
    },
    "colab": {
      "name": "25_Matrix Operations.ipynb",
      "provenance": [],
      "include_colab_link": true
    }
  },
  "cells": [
    {
      "cell_type": "markdown",
      "metadata": {
        "id": "view-in-github",
        "colab_type": "text"
      },
      "source": [
        "<a href=\"https://colab.research.google.com/github/patelsaumya/numpy/blob/master/25_Matrix%20Operations.ipynb\" target=\"_parent\"><img src=\"https://colab.research.google.com/assets/colab-badge.svg\" alt=\"Open In Colab\"/></a>"
      ]
    },
    {
      "cell_type": "markdown",
      "metadata": {
        "id": "d87ce13d"
      },
      "source": [
        "<div style=\"color:#006666; padding:0px 10px; border-radius:5px; font-size:18px; text-align:center\"><h1 style='margin:10px 5px'>Matrix Operations</h1>\n",
        "<hr>\n",
        "<p style=\"color:#006666; text-align:right;font-size:10px\">\n",
        "Copyright by MachineLearningPlus. All Rights Reserved.\n",
        "</p>\n",
        "\n",
        "</div>"
      ],
      "id": "d87ce13d"
    },
    {
      "cell_type": "code",
      "metadata": {
        "id": "46679610"
      },
      "source": [
        "import numpy as np"
      ],
      "id": "46679610",
      "execution_count": null,
      "outputs": []
    },
    {
      "cell_type": "code",
      "metadata": {
        "id": "0cacfab4",
        "outputId": "2a199fbe-768d-4124-874c-2eac2e0cb3aa"
      },
      "source": [
        "np.random.seed(109)\n",
        "A = np.arange(9).reshape(3,3)\n",
        "B = np.random.randint(0, 9, (3,3))\n",
        "\n",
        "print(\"A: \\n\",A)\n",
        "print(\"B: \\n\",B)"
      ],
      "id": "0cacfab4",
      "execution_count": null,
      "outputs": [
        {
          "name": "stdout",
          "output_type": "stream",
          "text": [
            "A: \n",
            " [[0 1 2]\n",
            " [3 4 5]\n",
            " [6 7 8]]\n",
            "B: \n",
            " [[6 5 5]\n",
            " [0 1 4]\n",
            " [3 0 2]]\n"
          ]
        }
      ]
    },
    {
      "cell_type": "markdown",
      "metadata": {
        "id": "3ad390fd"
      },
      "source": [
        "__Dot Product__"
      ],
      "id": "3ad390fd"
    },
    {
      "cell_type": "markdown",
      "metadata": {
        "id": "3036e011"
      },
      "source": [
        "Multiplies Row of first matrix with corresponding column of second matrix for every element."
      ],
      "id": "3036e011"
    },
    {
      "cell_type": "code",
      "metadata": {
        "id": "08fb32eb",
        "outputId": "c743766a-3535-419b-841f-e1f1972510af"
      },
      "source": [
        "# Dot Product\n",
        "np.dot(A, B)"
      ],
      "id": "08fb32eb",
      "execution_count": null,
      "outputs": [
        {
          "data": {
            "text/plain": [
              "array([[ 6,  1,  8],\n",
              "       [33, 19, 41],\n",
              "       [60, 37, 74]])"
            ]
          },
          "execution_count": 3,
          "metadata": {},
          "output_type": "execute_result"
        }
      ]
    },
    {
      "cell_type": "code",
      "metadata": {
        "id": "dd717f29",
        "outputId": "89f61dac-c13f-4c3c-d81f-2f8733e1384e"
      },
      "source": [
        "# Another notation for Dot Product\n",
        "A @ B"
      ],
      "id": "dd717f29",
      "execution_count": null,
      "outputs": [
        {
          "data": {
            "text/plain": [
              "array([[ 6,  1,  8],\n",
              "       [33, 19, 41],\n",
              "       [60, 37, 74]])"
            ]
          },
          "execution_count": 4,
          "metadata": {},
          "output_type": "execute_result"
        }
      ]
    },
    {
      "cell_type": "markdown",
      "metadata": {
        "id": "4997a83f"
      },
      "source": [
        "__Element wise Multiplication - Hadamard Product__"
      ],
      "id": "4997a83f"
    },
    {
      "cell_type": "code",
      "metadata": {
        "id": "3227b3b3",
        "outputId": "908e19f7-4844-43e5-b7d6-0945b745c1b1"
      },
      "source": [
        "A * B"
      ],
      "id": "3227b3b3",
      "execution_count": null,
      "outputs": [
        {
          "data": {
            "text/plain": [
              "array([[ 0,  5, 10],\n",
              "       [ 0,  4, 20],\n",
              "       [18,  0, 16]])"
            ]
          },
          "execution_count": 5,
          "metadata": {},
          "output_type": "execute_result"
        }
      ]
    },
    {
      "cell_type": "code",
      "metadata": {
        "id": "b6d96d51",
        "outputId": "a917c362-b985-4d75-e5e1-ae1d79a90678"
      },
      "source": [
        "# alternate\n",
        "np.multiply(A, B)"
      ],
      "id": "b6d96d51",
      "execution_count": null,
      "outputs": [
        {
          "data": {
            "text/plain": [
              "array([[ 0,  5, 10],\n",
              "       [ 0,  4, 20],\n",
              "       [18,  0, 16]])"
            ]
          },
          "execution_count": 6,
          "metadata": {},
          "output_type": "execute_result"
        }
      ]
    },
    {
      "cell_type": "markdown",
      "metadata": {
        "id": "102cf854"
      },
      "source": [
        "__Inverse of a matrix__\n",
        "\n",
        "Inverse of a matrix is one where the dot product of a matrix and its inverse gives a Identity matrix (1's along the diagonals)."
      ],
      "id": "102cf854"
    },
    {
      "cell_type": "code",
      "metadata": {
        "id": "448ad8e7",
        "outputId": "a222dbbe-b107-4a5d-9e5c-347e13fe9c60"
      },
      "source": [
        "B_inv = np.linalg.inv(B)\n",
        "B_inv"
      ],
      "id": "448ad8e7",
      "execution_count": null,
      "outputs": [
        {
          "data": {
            "text/plain": [
              "array([[ 0.03508772, -0.1754386 ,  0.26315789],\n",
              "       [ 0.21052632, -0.05263158, -0.42105263],\n",
              "       [-0.05263158,  0.26315789,  0.10526316]])"
            ]
          },
          "execution_count": 7,
          "metadata": {},
          "output_type": "execute_result"
        }
      ]
    },
    {
      "cell_type": "code",
      "metadata": {
        "id": "e89265c5",
        "outputId": "ee77b9af-873d-47ce-ec06-d3d1ffa1c2e2"
      },
      "source": [
        "B_inv @ B"
      ],
      "id": "e89265c5",
      "execution_count": null,
      "outputs": [
        {
          "data": {
            "text/plain": [
              "array([[1., 0., 0.],\n",
              "       [0., 1., 0.],\n",
              "       [0., 0., 1.]])"
            ]
          },
          "execution_count": 8,
          "metadata": {},
          "output_type": "execute_result"
        }
      ]
    },
    {
      "cell_type": "markdown",
      "metadata": {
        "id": "e4bbb975"
      },
      "source": [
        "Trying to compute the inverse of A is not possible. Because, an inverse exists only if the determinant of a matrix is not zero.  When the determinant of a matrix is zero, its called a singular matrix."
      ],
      "id": "e4bbb975"
    },
    {
      "cell_type": "code",
      "metadata": {
        "id": "5376d48e",
        "outputId": "e5e26ee4-cba1-4d66-d3f2-20e01ccb7b9c"
      },
      "source": [
        "# doesnt work\n",
        "np.linalg.inv(A)"
      ],
      "id": "5376d48e",
      "execution_count": null,
      "outputs": [
        {
          "data": {
            "text/plain": [
              "array([[ 0.17647059, -0.00326797, -0.02287582],\n",
              "       [ 0.05882353, -0.13071895,  0.08496732],\n",
              "       [-0.11764706,  0.1503268 ,  0.05228758]])"
            ]
          },
          "execution_count": 29,
          "metadata": {},
          "output_type": "execute_result"
        }
      ]
    },
    {
      "cell_type": "code",
      "metadata": {
        "id": "fc137a38",
        "outputId": "e0f221dd-4fb3-4140-eafa-45a2c8c9b4a8"
      },
      "source": [
        "np.linalg.det(A)"
      ],
      "id": "fc137a38",
      "execution_count": null,
      "outputs": [
        {
          "data": {
            "text/plain": [
              "-306.0"
            ]
          },
          "execution_count": 30,
          "metadata": {},
          "output_type": "execute_result"
        }
      ]
    },
    {
      "cell_type": "markdown",
      "metadata": {
        "id": "5295c1ab"
      },
      "source": [
        "__Determinant of a matrix__\n",
        "\n",
        "Let's see how to calculate the determinant for a 2x2 matrix."
      ],
      "id": "5295c1ab"
    },
    {
      "cell_type": "code",
      "metadata": {
        "id": "86816ac0",
        "outputId": "7813c68f-ec1f-474c-e2db-5c7f79166572"
      },
      "source": [
        "A = np.array([[3, 4], \n",
        "              [5, 6]])\n",
        "\n",
        "np.linalg.det(A)"
      ],
      "id": "86816ac0",
      "execution_count": null,
      "outputs": [
        {
          "data": {
            "text/plain": [
              "-1.9999999999999971"
            ]
          },
          "execution_count": 31,
          "metadata": {},
          "output_type": "execute_result"
        }
      ]
    },
    {
      "cell_type": "code",
      "metadata": {
        "id": "b7851f5a",
        "outputId": "6763f11f-ac4b-4f06-fbcf-bf590d680c8c"
      },
      "source": [
        "# Determinant calc\n",
        "(3*6) - (4*5)"
      ],
      "id": "b7851f5a",
      "execution_count": null,
      "outputs": [
        {
          "data": {
            "text/plain": [
              "-2"
            ]
          },
          "execution_count": 32,
          "metadata": {},
          "output_type": "execute_result"
        }
      ]
    },
    {
      "cell_type": "markdown",
      "metadata": {
        "id": "5b3fb017"
      },
      "source": [
        "__Rank of a matrix__\n",
        "\n",
        "It is the maximum number of linearly independent columns of the matrix. Linearly independent column is one which cannot be expressed as a linear combination of the other columns."
      ],
      "id": "5b3fb017"
    },
    {
      "cell_type": "code",
      "metadata": {
        "id": "aa66af9a",
        "outputId": "4dc0955f-8a8e-446c-c052-2813e6d5295f"
      },
      "source": [
        "A"
      ],
      "id": "aa66af9a",
      "execution_count": null,
      "outputs": [
        {
          "data": {
            "text/plain": [
              "array([[3, 4],\n",
              "       [5, 6]])"
            ]
          },
          "execution_count": 33,
          "metadata": {},
          "output_type": "execute_result"
        }
      ]
    },
    {
      "cell_type": "code",
      "metadata": {
        "id": "de27a8ba",
        "outputId": "e1a93ce8-66b9-4863-95c2-0476e9c9e23a"
      },
      "source": [
        "np.linalg.matrix_rank(A)"
      ],
      "id": "de27a8ba",
      "execution_count": null,
      "outputs": [
        {
          "data": {
            "text/plain": [
              "2"
            ]
          },
          "execution_count": 34,
          "metadata": {},
          "output_type": "execute_result"
        }
      ]
    },
    {
      "cell_type": "markdown",
      "metadata": {
        "id": "4ebb38a7"
      },
      "source": [
        "__Example 2__"
      ],
      "id": "4ebb38a7"
    },
    {
      "cell_type": "code",
      "metadata": {
        "id": "704a0513",
        "outputId": "c2a95c58-a487-47b2-87e4-43844cf4866d"
      },
      "source": [
        "A2 = np.array([[6, 1, 1],\n",
        "              [4, -2, 5],\n",
        "              [2, 8, 7]])\n",
        "  \n",
        "print(\"Rank of A:\", np.linalg.matrix_rank(A2))"
      ],
      "id": "704a0513",
      "execution_count": null,
      "outputs": [
        {
          "name": "stdout",
          "output_type": "stream",
          "text": [
            "Rank of A: 3\n"
          ]
        }
      ]
    },
    {
      "cell_type": "markdown",
      "metadata": {
        "id": "39a395c0"
      },
      "source": [
        "__Matrix Power__ \n",
        "\n",
        "A matrix may be raised to an 'n'th power.  "
      ],
      "id": "39a395c0"
    },
    {
      "cell_type": "code",
      "metadata": {
        "id": "5fbb4b90",
        "outputId": "23263e1b-18e2-4925-c55d-b1d5adb3dcdb"
      },
      "source": [
        "np.linalg.matrix_power(A, 3)"
      ],
      "id": "5fbb4b90",
      "execution_count": null,
      "outputs": [
        {
          "data": {
            "text/plain": [
              "array([[267, 332],\n",
              "       [415, 516]])"
            ]
          },
          "execution_count": 16,
          "metadata": {},
          "output_type": "execute_result"
        }
      ]
    },
    {
      "cell_type": "code",
      "metadata": {
        "id": "1b323220",
        "outputId": "2c136023-1253-44b5-dd2e-5779dc5c3bf0"
      },
      "source": [
        "A @ A @ A"
      ],
      "id": "1b323220",
      "execution_count": null,
      "outputs": [
        {
          "data": {
            "text/plain": [
              "array([[267, 332],\n",
              "       [415, 516]])"
            ]
          },
          "execution_count": 17,
          "metadata": {},
          "output_type": "execute_result"
        }
      ]
    },
    {
      "cell_type": "markdown",
      "metadata": {
        "id": "09bf650e"
      },
      "source": [
        "__Eigenvalues and EigenVectors__\n",
        "\n",
        "The number `w` is an eigenvalue of `a` if there exists a vector `v` such that ``a @ v = w * v``."
      ],
      "id": "09bf650e"
    },
    {
      "cell_type": "code",
      "metadata": {
        "id": "3697fa1b",
        "outputId": "edeed6ad-f43c-4ecd-bb9c-7af14c10b242"
      },
      "source": [
        "# Eigen values\n",
        "arr = np.diag((1, 2, 3))\n",
        "arr = np.array([[6, 1, 1],\n",
        "              [4, -2, 5],\n",
        "              [2, 8, 7]])\n",
        " \n",
        "print(\"Array: \\n\", arr)\n",
        " \n",
        "# calculating an eigen value\n",
        "w, v = np.linalg.eig(arr)\n",
        " \n",
        "print(\"\\nEigen value is : \\n\", w)\n",
        "print(\"\\nEigen vector is : \\n\", v)"
      ],
      "id": "3697fa1b",
      "execution_count": null,
      "outputs": [
        {
          "name": "stdout",
          "output_type": "stream",
          "text": [
            "Array: \n",
            " [[ 6  1  1]\n",
            " [ 4 -2  5]\n",
            " [ 2  8  7]]\n",
            "\n",
            "Eigen value is : \n",
            " [11.24862343  5.09285054 -5.34147398]\n",
            "\n",
            "Eigen vector is : \n",
            " [[ 0.24511338  0.75669314  0.02645665]\n",
            " [ 0.40622202 -0.03352363 -0.84078293]\n",
            " [ 0.88028581 -0.65291014  0.54072554]]\n"
          ]
        }
      ]
    },
    {
      "cell_type": "markdown",
      "metadata": {
        "id": "bca26b27"
      },
      "source": [
        "__Check__"
      ],
      "id": "bca26b27"
    },
    {
      "cell_type": "code",
      "metadata": {
        "id": "a473213e",
        "outputId": "70a9d236-779a-4dbd-f95c-4ff64deddc9a"
      },
      "source": [
        "w * v"
      ],
      "id": "a473213e",
      "execution_count": null,
      "outputs": [
        {
          "data": {
            "text/plain": [
              "array([[ 2.7571881 ,  3.85372509, -0.1413175 ],\n",
              "       [ 4.56943852, -0.17073086,  4.49102015],\n",
              "       [ 9.90200356, -3.32517376, -2.88827139]])"
            ]
          },
          "execution_count": 19,
          "metadata": {},
          "output_type": "execute_result"
        }
      ]
    },
    {
      "cell_type": "code",
      "metadata": {
        "id": "f24438b5",
        "outputId": "87425811-5ddb-470a-e5dc-de708dfdb9bd"
      },
      "source": [
        "arr @ v"
      ],
      "id": "f24438b5",
      "execution_count": null,
      "outputs": [
        {
          "data": {
            "text/plain": [
              "array([[ 2.7571881 ,  3.85372509, -0.1413175 ],\n",
              "       [ 4.56943852, -0.17073086,  4.49102015],\n",
              "       [ 9.90200356, -3.32517376, -2.88827139]])"
            ]
          },
          "execution_count": 20,
          "metadata": {},
          "output_type": "execute_result"
        }
      ]
    },
    {
      "cell_type": "markdown",
      "metadata": {
        "id": "61dba288"
      },
      "source": [
        "__QR Decomposition__\n",
        "\n",
        "QR decomposition (or factorization) is a decomposition of a matrix A into a product A = QR of an orthogonal matrix Q and an upper triangular matrix R."
      ],
      "id": "61dba288"
    },
    {
      "cell_type": "code",
      "metadata": {
        "id": "ac30774a",
        "outputId": "8b5eefc6-9e83-47cb-dcf5-e3ea94ebdf8f"
      },
      "source": [
        "A = np.array([[6, 1, 1],\n",
        "              [4, -2, 5],\n",
        "              [2, 8, 7]])\n",
        "\n",
        "A"
      ],
      "id": "ac30774a",
      "execution_count": null,
      "outputs": [
        {
          "data": {
            "text/plain": [
              "array([[ 6,  1,  1],\n",
              "       [ 4, -2,  5],\n",
              "       [ 2,  8,  7]])"
            ]
          },
          "execution_count": 21,
          "metadata": {},
          "output_type": "execute_result"
        }
      ]
    },
    {
      "cell_type": "code",
      "metadata": {
        "id": "05d553b7",
        "outputId": "afaa66a4-0e2a-40fa-dec3-670e01b66cfc"
      },
      "source": [
        "q, r = np.linalg.qr(A)\n",
        "print(\"Q :\", q, \"\\n\")\n",
        "print(\"R :\", r)"
      ],
      "id": "05d553b7",
      "execution_count": null,
      "outputs": [
        {
          "name": "stdout",
          "output_type": "stream",
          "text": [
            "Q : [[-0.80178373 -0.06178021 -0.59441237]\n",
            " [-0.53452248 -0.37068124  0.75952691]\n",
            " [-0.26726124  0.92670309  0.26418327]] \n",
            "\n",
            "R : [[-7.48331477 -1.87082869 -5.34522484]\n",
            " [ 0.          8.09320703  4.57173527]\n",
            " [ 0.          0.          5.05250513]]\n"
          ]
        }
      ]
    },
    {
      "cell_type": "markdown",
      "metadata": {
        "id": "03f0440d"
      },
      "source": [
        "__Check__\n",
        "\n",
        "Dot product of q nd R results in the orininal matrix."
      ],
      "id": "03f0440d"
    },
    {
      "cell_type": "code",
      "metadata": {
        "id": "46eb7dc8",
        "outputId": "9fa92aa1-a0a0-4a31-ff6d-14ce44e8bb84"
      },
      "source": [
        "q @ r   # reconstruct A"
      ],
      "id": "46eb7dc8",
      "execution_count": null,
      "outputs": [
        {
          "data": {
            "text/plain": [
              "array([[ 6.,  1.,  1.],\n",
              "       [ 4., -2.,  5.],\n",
              "       [ 2.,  8.,  7.]])"
            ]
          },
          "execution_count": 23,
          "metadata": {},
          "output_type": "execute_result"
        }
      ]
    },
    {
      "cell_type": "markdown",
      "metadata": {
        "id": "17bef1cf"
      },
      "source": [
        "__Singular Value Decomposition (SVD)__\n",
        "\n",
        "Decomposes a given matrix into its 3 constituent matrices P, D and Q."
      ],
      "id": "17bef1cf"
    },
    {
      "cell_type": "code",
      "metadata": {
        "id": "f5c0919b",
        "outputId": "e9498d15-85c0-4861-ea45-25fd2052d61b"
      },
      "source": [
        "X = np.random.normal(size=[10,6])\n",
        "X"
      ],
      "id": "f5c0919b",
      "execution_count": null,
      "outputs": [
        {
          "data": {
            "text/plain": [
              "array([[-0.17768802, -0.83874355, -0.15628712, -0.34176163,  0.81873029,\n",
              "        -0.09261394],\n",
              "       [ 0.50808094, -1.7542225 , -0.36481798, -0.03091855, -0.12614427,\n",
              "         0.299181  ],\n",
              "       [ 1.82207405,  1.41717686, -0.45731622,  0.86019957,  0.28468256,\n",
              "         0.51062749],\n",
              "       [ 1.57829456,  0.16130871,  0.71819658, -0.80599584, -0.59818081,\n",
              "         1.32383635],\n",
              "       [ 1.13726714, -0.48833019,  0.34806743, -0.97086135, -0.21213643,\n",
              "         0.42335106],\n",
              "       [ 0.10377004,  0.05097481, -0.67144065,  0.27170251,  0.00701349,\n",
              "         0.32662299],\n",
              "       [ 0.03618145, -1.19327841, -0.15810171,  0.01341776, -0.47234681,\n",
              "        -0.20810645],\n",
              "       [ 1.44154411, -1.67109527,  0.54455933,  1.26132175,  0.96283701,\n",
              "        -0.27990168],\n",
              "       [-0.23044776,  0.45213427, -0.35421077,  0.34015305,  0.63620222,\n",
              "         0.75003234],\n",
              "       [ 1.3507378 , -0.28858894,  0.08703628, -0.08413142, -0.99903647,\n",
              "         0.10133759]])"
            ]
          },
          "execution_count": 24,
          "metadata": {},
          "output_type": "execute_result"
        }
      ]
    },
    {
      "cell_type": "code",
      "metadata": {
        "id": "ad46c67d"
      },
      "source": [
        "P, D, Q = np.linalg.svd(X, full_matrices=False)"
      ],
      "id": "ad46c67d",
      "execution_count": null,
      "outputs": []
    },
    {
      "cell_type": "code",
      "metadata": {
        "id": "9da1c76b",
        "outputId": "4dc0ba64-e048-45c5-8f50-8cd25094902c"
      },
      "source": [
        "print(P.shape)\n",
        "print(D.shape)\n",
        "print(Q.shape)"
      ],
      "id": "9da1c76b",
      "execution_count": null,
      "outputs": [
        {
          "name": "stdout",
          "output_type": "stream",
          "text": [
            "(10, 6)\n",
            "(6,)\n",
            "(6, 6)\n"
          ]
        }
      ]
    },
    {
      "cell_type": "code",
      "metadata": {
        "id": "df20b104",
        "outputId": "43e2f32a-0c1b-47dd-d2e5-9ae0fa48aa6e"
      },
      "source": [
        "X_svd = P @ np.diag(D) @ Q\n",
        "X_svd"
      ],
      "id": "df20b104",
      "execution_count": null,
      "outputs": [
        {
          "data": {
            "text/plain": [
              "array([[-0.17768802, -0.83874355, -0.15628712, -0.34176163,  0.81873029,\n",
              "        -0.09261394],\n",
              "       [ 0.50808094, -1.7542225 , -0.36481798, -0.03091855, -0.12614427,\n",
              "         0.299181  ],\n",
              "       [ 1.82207405,  1.41717686, -0.45731622,  0.86019957,  0.28468256,\n",
              "         0.51062749],\n",
              "       [ 1.57829456,  0.16130871,  0.71819658, -0.80599584, -0.59818081,\n",
              "         1.32383635],\n",
              "       [ 1.13726714, -0.48833019,  0.34806743, -0.97086135, -0.21213643,\n",
              "         0.42335106],\n",
              "       [ 0.10377004,  0.05097481, -0.67144065,  0.27170251,  0.00701349,\n",
              "         0.32662299],\n",
              "       [ 0.03618145, -1.19327841, -0.15810171,  0.01341776, -0.47234681,\n",
              "        -0.20810645],\n",
              "       [ 1.44154411, -1.67109527,  0.54455933,  1.26132175,  0.96283701,\n",
              "        -0.27990168],\n",
              "       [-0.23044776,  0.45213427, -0.35421077,  0.34015305,  0.63620222,\n",
              "         0.75003234],\n",
              "       [ 1.3507378 , -0.28858894,  0.08703628, -0.08413142, -0.99903647,\n",
              "         0.10133759]])"
            ]
          },
          "execution_count": 27,
          "metadata": {},
          "output_type": "execute_result"
        }
      ]
    },
    {
      "cell_type": "code",
      "metadata": {
        "id": "4b63f382",
        "outputId": "14dbdaf3-1466-4980-ce24-3637e58d5963"
      },
      "source": [
        "print('Is X  and X_svd close?', np.isclose(X, X_svd).all())"
      ],
      "id": "4b63f382",
      "execution_count": null,
      "outputs": [
        {
          "name": "stdout",
          "output_type": "stream",
          "text": [
            "Is X  and X_svd close? True\n"
          ]
        }
      ]
    }
  ]
}