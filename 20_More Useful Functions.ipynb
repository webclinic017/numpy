{
  "nbformat": 4,
  "nbformat_minor": 5,
  "metadata": {
    "hide_input": false,
    "kernelspec": {
      "display_name": "Python 3",
      "language": "python",
      "name": "python3"
    },
    "language_info": {
      "codemirror_mode": {
        "name": "ipython",
        "version": 3
      },
      "file_extension": ".py",
      "mimetype": "text/x-python",
      "name": "python",
      "nbconvert_exporter": "python",
      "pygments_lexer": "ipython3",
      "version": "3.7.10"
    },
    "toc": {
      "base_numbering": 1,
      "nav_menu": {},
      "number_sections": false,
      "sideBar": true,
      "skip_h1_title": true,
      "title_cell": "Table of Contents",
      "title_sidebar": "Contents",
      "toc_cell": false,
      "toc_position": {},
      "toc_section_display": true,
      "toc_window_display": false
    },
    "colab": {
      "name": "20_More Useful Functions.ipynb",
      "provenance": [],
      "include_colab_link": true
    }
  },
  "cells": [
    {
      "cell_type": "markdown",
      "metadata": {
        "id": "view-in-github",
        "colab_type": "text"
      },
      "source": [
        "<a href=\"https://colab.research.google.com/github/patelsaumya/numpy/blob/master/20_More%20Useful%20Functions.ipynb\" target=\"_parent\"><img src=\"https://colab.research.google.com/assets/colab-badge.svg\" alt=\"Open In Colab\"/></a>"
      ]
    },
    {
      "cell_type": "markdown",
      "metadata": {
        "id": "2fb57235"
      },
      "source": [
        "<div style=\"color:#006666; padding:0px 10px; border-radius:5px; font-size:18px; text-align:center\"><h1 style='margin:10px 5px'>More Useful Functions</h1>\n",
        "<hr>\n",
        "<p style=\"color:#006666; text-align:right;font-size:10px\">\n",
        "Copyright by MachineLearningPlus. All Rights Reserved.\n",
        "</p>\n",
        "\n",
        "</div>"
      ],
      "id": "2fb57235"
    },
    {
      "cell_type": "markdown",
      "metadata": {
        "id": "282debd9"
      },
      "source": [
        "- __Digitize :__ Bin a numeric variable into predefined categories.\n",
        "- __Clip:__ Clip a numeric variable to a defined min and max values.\n",
        "- __Histogram:__ Produce the bins and the frequencies for a numeric variable. That is, the elements of a histogram."
      ],
      "id": "282debd9"
    },
    {
      "cell_type": "code",
      "metadata": {
        "id": "eca0a6cf",
        "outputId": "02887ef5-b820-4d80-c091-e5079b5495eb"
      },
      "source": [
        "import numpy as np\n",
        "\n",
        "arr = np.genfromtxt(\"Datasets/iris.csv\", delimiter=\",\", skip_header=1)\n",
        "\n",
        "dt = np.dtype({'names': [\"Sepal.Length\", \"Sepal.Width\", \"Petal.Length\", \"Petal.Width\"],\n",
        "               'formats': [np.float, np.float, np.float, np.float]})\n",
        "\n",
        "arr.dtype = dt\n",
        "\n",
        "arr[:10]"
      ],
      "id": "eca0a6cf",
      "execution_count": null,
      "outputs": [
        {
          "data": {
            "text/plain": [
              "array([[(4.7, 3.2, 1.3, 0.2)],\n",
              "       [(5. , 3.6, 1.4, 0.2)],\n",
              "       [(5.4, 3.9, 1.7, 0.4)],\n",
              "       [(4.6, 3.4, 1.4, 0.3)],\n",
              "       [(4.9, 3.1, 1.5, 0.1)],\n",
              "       [(5.4, 3.7, 1.5, 0.2)],\n",
              "       [(4.8, 3.4, 1.6, 0.2)],\n",
              "       [(4.8, 3. , 1.4, 0.1)],\n",
              "       [(5.8, 4. , 1.2, 0.2)],\n",
              "       [(5.7, 4.4, 1.5, 0.4)]],\n",
              "      dtype=[('Sepal.Length', '<f8'), ('Sepal.Width', '<f8'), ('Petal.Length', '<f8'), ('Petal.Width', '<f8')])"
            ]
          },
          "execution_count": 2,
          "metadata": {},
          "output_type": "execute_result"
        }
      ]
    },
    {
      "cell_type": "code",
      "metadata": {
        "id": "286ed75d",
        "outputId": "16bd6f86-c60c-4d59-cbcb-348b5b30790b"
      },
      "source": [
        "sepallength = arr['Sepal.Length'].reshape(-1, )\n",
        "sepallength"
      ],
      "id": "286ed75d",
      "execution_count": null,
      "outputs": [
        {
          "data": {
            "text/plain": [
              "array([4.7, 5. , 5.4, 4.6, 4.9, 5.4, 4.8, 4.8, 5.8, 5.7, 5.4, 5.1, 5.7,\n",
              "       5.4, 5.1, 4.6, 5.1, 4.8, 5. , 5.2, 5.2, 4.7, 5.4, 5.2, 5.5, 4.9,\n",
              "       5. , 4.9, 5. , 4.4, 5.1, 4.8, 4.6, 5.3, 5. , 5.5, 6.5, 5.7, 6.3,\n",
              "       4.9, 6.6, 5.2, 5.9, 5.6, 6.7, 5.6, 6.2, 5.6, 6.3, 6.4, 5.7, 5.5,\n",
              "       5.5, 5.8, 6. , 5.4, 6. , 6.7, 6.3, 5.6, 5.5, 6.1, 5.8, 5. , 5.6,\n",
              "       5.7, 5.7, 6.2, 5.1, 5.7, 6.3, 5.8, 7.1, 6.3, 4.9, 7.3, 6.7, 7.2,\n",
              "       6.5, 6.8, 6.5, 7.7, 6. , 6.9, 5.6, 7.7, 6.3, 6.7, 6.2, 6.1, 6.4,\n",
              "       7.4, 7.9, 6.3, 6.1, 7.7, 6.3, 6.4, 6. , 5.8, 6.7, 6.7, 6.5, 6.2,\n",
              "       5.9])"
            ]
          },
          "execution_count": 3,
          "metadata": {},
          "output_type": "execute_result"
        }
      ]
    },
    {
      "cell_type": "markdown",
      "metadata": {
        "id": "b1e3c493"
      },
      "source": [
        "__np.digitize__\n",
        "\n",
        " Bin a numeric variable to predefined categories. Numeric  -->  Categorical"
      ],
      "id": "b1e3c493"
    },
    {
      "cell_type": "code",
      "metadata": {
        "id": "2406a6fd",
        "outputId": "56eaf879-8015-4d13-9754-338b3e53f0b8"
      },
      "source": [
        "np.digitize(sepallength, bins=[0,5,6,7,10])"
      ],
      "id": "2406a6fd",
      "execution_count": null,
      "outputs": [
        {
          "data": {
            "text/plain": [
              "array([1, 2, 2, 1, 1, 2, 1, 1, 2, 2, 2, 2, 2, 2, 2, 1, 2, 1, 2, 2, 2, 1,\n",
              "       2, 2, 2, 1, 2, 1, 2, 1, 2, 1, 1, 2, 2, 2, 3, 2, 3, 1, 3, 2, 2, 2,\n",
              "       3, 2, 3, 2, 3, 3, 2, 2, 2, 2, 3, 2, 3, 3, 3, 2, 2, 3, 2, 2, 2, 2,\n",
              "       2, 3, 2, 2, 3, 2, 4, 3, 1, 4, 3, 4, 3, 3, 3, 4, 3, 3, 2, 4, 3, 3,\n",
              "       3, 3, 3, 4, 4, 3, 3, 4, 3, 3, 3, 2, 3, 3, 3, 3, 2], dtype=int64)"
            ]
          },
          "execution_count": 4,
          "metadata": {},
          "output_type": "execute_result"
        }
      ]
    },
    {
      "cell_type": "markdown",
      "metadata": {
        "id": "a642177a"
      },
      "source": [
        "__Clip__"
      ],
      "id": "a642177a"
    },
    {
      "cell_type": "code",
      "metadata": {
        "id": "da69816b",
        "outputId": "9adc852f-d72f-4080-91ab-3b3e901ed76c"
      },
      "source": [
        "np.clip(sepallength, 5, 7)"
      ],
      "id": "da69816b",
      "execution_count": null,
      "outputs": [
        {
          "data": {
            "text/plain": [
              "array([5. , 5. , 5.4, 5. , 5. , 5.4, 5. , 5. , 5.8, 5.7, 5.4, 5.1, 5.7,\n",
              "       5.4, 5.1, 5. , 5.1, 5. , 5. , 5.2, 5.2, 5. , 5.4, 5.2, 5.5, 5. ,\n",
              "       5. , 5. , 5. , 5. , 5.1, 5. , 5. , 5.3, 5. , 5.5, 6.5, 5.7, 6.3,\n",
              "       5. , 6.6, 5.2, 5.9, 5.6, 6.7, 5.6, 6.2, 5.6, 6.3, 6.4, 5.7, 5.5,\n",
              "       5.5, 5.8, 6. , 5.4, 6. , 6.7, 6.3, 5.6, 5.5, 6.1, 5.8, 5. , 5.6,\n",
              "       5.7, 5.7, 6.2, 5.1, 5.7, 6.3, 5.8, 7. , 6.3, 5. , 7. , 6.7, 7. ,\n",
              "       6.5, 6.8, 6.5, 7. , 6. , 6.9, 5.6, 7. , 6.3, 6.7, 6.2, 6.1, 6.4,\n",
              "       7. , 7. , 6.3, 6.1, 7. , 6.3, 6.4, 6. , 5.8, 6.7, 6.7, 6.5, 6.2,\n",
              "       5.9])"
            ]
          },
          "execution_count": 6,
          "metadata": {},
          "output_type": "execute_result"
        }
      ]
    },
    {
      "cell_type": "markdown",
      "metadata": {
        "id": "4342f4f7"
      },
      "source": [
        "__Histogram__"
      ],
      "id": "4342f4f7"
    },
    {
      "cell_type": "code",
      "metadata": {
        "id": "d4e153eb",
        "outputId": "0ec66959-e9f9-41c8-aebb-6511e611e47a"
      },
      "source": [
        "np.histogram(sepallength, bins=10)"
      ],
      "id": "d4e153eb",
      "execution_count": null,
      "outputs": [
        {
          "data": {
            "text/plain": [
              "(array([ 6, 20, 11, 23,  9, 15, 12,  2,  3,  4], dtype=int64),\n",
              " array([4.4 , 4.75, 5.1 , 5.45, 5.8 , 6.15, 6.5 , 6.85, 7.2 , 7.55, 7.9 ]))"
            ]
          },
          "execution_count": 5,
          "metadata": {},
          "output_type": "execute_result"
        }
      ]
    },
    {
      "cell_type": "markdown",
      "metadata": {
        "id": "73d09762"
      },
      "source": [
        "<div class=\"alert alert-info\" style=\"background-color:#006666; color:white; padding:0px 10px; border-radius:5px;\"><h2 style='margin:7px 5px; font-size:16px'>Mini Challenge</h2>\n",
        "</div>"
      ],
      "id": "73d09762"
    },
    {
      "cell_type": "markdown",
      "metadata": {
        "id": "6c39fca1"
      },
      "source": [
        "Cap the following array at 10%ile and 90%ile values. Example: values below 10%ile should be replaced by 10%ile value.\n",
        "\n",
        "```python\n",
        "import numpy as np\n",
        "np.random.seed(100)\n",
        "arr = np.random.normal(30, 10, 100).round(2)\n",
        "arr\n",
        "```\n",
        "\n",
        "__Code URL:__ https://git.io/Jn2pa"
      ],
      "id": "6c39fca1"
    },
    {
      "cell_type": "code",
      "metadata": {
        "id": "f3aded4c",
        "outputId": "c5857b57-2c75-4446-e983-fdf7bc8bb5b3"
      },
      "source": [
        "# Create data\n",
        "import numpy as np\n",
        "np.random.seed(100)\n",
        "arr = np.random.normal(30, 10, 100).round(2)\n",
        "arr"
      ],
      "id": "f3aded4c",
      "execution_count": null,
      "outputs": [
        {
          "data": {
            "text/plain": [
              "array([12.5 , 33.43, 41.53, 27.48, 39.81, 35.14, 32.21, 19.3 , 28.11,\n",
              "       32.55, 25.42, 34.35, 24.16, 38.17, 36.73, 28.96, 24.69, 40.3 ,\n",
              "       25.62, 18.82, 46.19, 45.42, 27.48, 21.58, 31.85, 39.37, 37.31,\n",
              "       43.62, 26.74, 30.56, 32.22, 15.57, 22.44, 38.16, 37.5 , 25.44,\n",
              "       41.9 , 13.09, 16.44, 17.68, 24.56, 23.32, 30.07, 23.87, 43.  ,\n",
              "       12.67, 20.17, 33.58, 13.86, 44.71, 18.12, 24.5 , 20.6 , 21.72,\n",
              "       31.09, 35.08, 21.38, 42.49, 29.2 , 21.1 , 21.18, 30.19, 32.38,\n",
              "       30.14, 13.64, 19.56, 36.13, 37.36, 40.27, 15.68, 11.59, 33.66,\n",
              "       26.68, 23.11, 50.35, 24.49, 37.5 , 16.93, 35.81, 18.95, 36.9 ,\n",
              "       36.87, 14.33, 39.05, 37.79, 34.28, 31.09, 30.28, 24.21, 18.01,\n",
              "       12.94, 33.69, 48.77, 26.23, 48.32, 30.03, 29.24, 30.04, 28.15,\n",
              "        5.13])"
            ]
          },
          "execution_count": 8,
          "metadata": {},
          "output_type": "execute_result"
        }
      ]
    },
    {
      "cell_type": "code",
      "metadata": {
        "id": "efa14425"
      },
      "source": [
        ""
      ],
      "id": "efa14425",
      "execution_count": null,
      "outputs": []
    },
    {
      "cell_type": "code",
      "metadata": {
        "id": "bce9976b"
      },
      "source": [
        ""
      ],
      "id": "bce9976b",
      "execution_count": null,
      "outputs": []
    },
    {
      "cell_type": "code",
      "metadata": {
        "id": "46505e48"
      },
      "source": [
        ""
      ],
      "id": "46505e48",
      "execution_count": null,
      "outputs": []
    },
    {
      "cell_type": "code",
      "metadata": {
        "id": "717758f1"
      },
      "source": [
        ""
      ],
      "id": "717758f1",
      "execution_count": null,
      "outputs": []
    },
    {
      "cell_type": "code",
      "metadata": {
        "id": "003c1e95"
      },
      "source": [
        ""
      ],
      "id": "003c1e95",
      "execution_count": null,
      "outputs": []
    },
    {
      "cell_type": "code",
      "metadata": {
        "id": "b9023f0c"
      },
      "source": [
        ""
      ],
      "id": "b9023f0c",
      "execution_count": null,
      "outputs": []
    },
    {
      "cell_type": "code",
      "metadata": {
        "id": "e6a6e055"
      },
      "source": [
        ""
      ],
      "id": "e6a6e055",
      "execution_count": null,
      "outputs": []
    },
    {
      "cell_type": "code",
      "metadata": {
        "id": "b1db909a"
      },
      "source": [
        ""
      ],
      "id": "b1db909a",
      "execution_count": null,
      "outputs": []
    },
    {
      "cell_type": "code",
      "metadata": {
        "id": "5ac48c29"
      },
      "source": [
        ""
      ],
      "id": "5ac48c29",
      "execution_count": null,
      "outputs": []
    },
    {
      "cell_type": "code",
      "metadata": {
        "id": "8c5553c8",
        "outputId": "47a423a8-fa68-461d-8e30-f4c9c09693e0"
      },
      "source": [
        "# Solution\n",
        "mini = np.quantile(arr, .10)\n",
        "maxi = np.quantile(arr, .90)\n",
        "print(mini, maxi)\n",
        "np.clip(arr, a_min=mini, a_max=maxi)"
      ],
      "id": "8c5553c8",
      "execution_count": null,
      "outputs": [
        {
          "name": "stdout",
          "output_type": "stream",
          "text": [
            "15.669 41.56700000000001\n"
          ]
        },
        {
          "data": {
            "text/plain": [
              "array([15.669, 33.43 , 41.53 , 27.48 , 39.81 , 35.14 , 32.21 , 19.3  ,\n",
              "       28.11 , 32.55 , 25.42 , 34.35 , 24.16 , 38.17 , 36.73 , 28.96 ,\n",
              "       24.69 , 40.3  , 25.62 , 18.82 , 41.567, 41.567, 27.48 , 21.58 ,\n",
              "       31.85 , 39.37 , 37.31 , 41.567, 26.74 , 30.56 , 32.22 , 15.669,\n",
              "       22.44 , 38.16 , 37.5  , 25.44 , 41.567, 15.669, 16.44 , 17.68 ,\n",
              "       24.56 , 23.32 , 30.07 , 23.87 , 41.567, 15.669, 20.17 , 33.58 ,\n",
              "       15.669, 41.567, 18.12 , 24.5  , 20.6  , 21.72 , 31.09 , 35.08 ,\n",
              "       21.38 , 41.567, 29.2  , 21.1  , 21.18 , 30.19 , 32.38 , 30.14 ,\n",
              "       15.669, 19.56 , 36.13 , 37.36 , 40.27 , 15.68 , 15.669, 33.66 ,\n",
              "       26.68 , 23.11 , 41.567, 24.49 , 37.5  , 16.93 , 35.81 , 18.95 ,\n",
              "       36.9  , 36.87 , 15.669, 39.05 , 37.79 , 34.28 , 31.09 , 30.28 ,\n",
              "       24.21 , 18.01 , 15.669, 33.69 , 41.567, 26.23 , 41.567, 30.03 ,\n",
              "       29.24 , 30.04 , 28.15 , 15.669])"
            ]
          },
          "execution_count": 9,
          "metadata": {},
          "output_type": "execute_result"
        }
      ]
    },
    {
      "cell_type": "code",
      "metadata": {
        "id": "cc1269e1"
      },
      "source": [
        ""
      ],
      "id": "cc1269e1",
      "execution_count": null,
      "outputs": []
    }
  ]
}