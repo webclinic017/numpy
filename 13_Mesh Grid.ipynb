{
  "nbformat": 4,
  "nbformat_minor": 5,
  "metadata": {
    "hide_input": false,
    "kernelspec": {
      "display_name": "Python 3",
      "language": "python",
      "name": "python3"
    },
    "language_info": {
      "codemirror_mode": {
        "name": "ipython",
        "version": 3
      },
      "file_extension": ".py",
      "mimetype": "text/x-python",
      "name": "python",
      "nbconvert_exporter": "python",
      "pygments_lexer": "ipython3",
      "version": "3.7.10"
    },
    "toc": {
      "base_numbering": 1,
      "nav_menu": {},
      "number_sections": false,
      "sideBar": true,
      "skip_h1_title": true,
      "title_cell": "Table of Contents",
      "title_sidebar": "Contents",
      "toc_cell": false,
      "toc_position": {},
      "toc_section_display": true,
      "toc_window_display": false
    },
    "colab": {
      "name": "13_Mesh Grid.ipynb",
      "provenance": [],
      "include_colab_link": true
    }
  },
  "cells": [
    {
      "cell_type": "markdown",
      "metadata": {
        "id": "view-in-github",
        "colab_type": "text"
      },
      "source": [
        "<a href=\"https://colab.research.google.com/github/patelsaumya/numpy/blob/master/13_Mesh%20Grid.ipynb\" target=\"_parent\"><img src=\"https://colab.research.google.com/assets/colab-badge.svg\" alt=\"Open In Colab\"/></a>"
      ]
    },
    {
      "cell_type": "markdown",
      "metadata": {
        "id": "08e14de0"
      },
      "source": [
        "<div style=\"color:#006666; padding:0px 10px; border-radius:5px; font-size:18px; text-align:center\"><h1 style='margin:10px 5px'>Mesh Grid</h1>\n",
        "<hr>\n",
        "<p style=\"color:#006666; text-align:right;font-size:10px\">\n",
        "Copyright by MachineLearningPlus. All Rights Reserved.\n",
        "</p>\n",
        "\n",
        "</div>"
      ],
      "id": "08e14de0"
    },
    {
      "cell_type": "markdown",
      "metadata": {
        "id": "cdd9ed21"
      },
      "source": [
        "Meshgrid is a numpy function used to create two 2d rectangular arrays (grid) from two 1d arrays. It provides all possible combinations of the 1d arrays. \n",
        "\n",
        "The two rectangular grid outputs can be used as the X and Y grid coordinates of a plot."
      ],
      "id": "cdd9ed21"
    },
    {
      "cell_type": "code",
      "metadata": {
        "id": "3203a996"
      },
      "source": [
        "import numpy as np\n",
        "import matplotlib.pyplot as plt\n",
        "%matplotlib inline\n",
        "plt.rcParams[\"figure.figsize\"] = (10,7)"
      ],
      "id": "3203a996",
      "execution_count": null,
      "outputs": []
    },
    {
      "cell_type": "code",
      "metadata": {
        "id": "d710182f"
      },
      "source": [
        "x = [-3, -2, -1, 0, 1, 2, 3]\n",
        "y = [-5, -4, -3, -2, -1, 0, 1, 2, 3, 4, 5] "
      ],
      "id": "d710182f",
      "execution_count": null,
      "outputs": []
    },
    {
      "cell_type": "code",
      "metadata": {
        "id": "2868cce6"
      },
      "source": [
        "xm, ym = np.meshgrid(x, y)"
      ],
      "id": "2868cce6",
      "execution_count": null,
      "outputs": []
    },
    {
      "cell_type": "code",
      "metadata": {
        "id": "ab0ca2d8",
        "outputId": "20524c56-a857-4ba6-d1e1-1d4dc29d31af"
      },
      "source": [
        "xm"
      ],
      "id": "ab0ca2d8",
      "execution_count": null,
      "outputs": [
        {
          "data": {
            "text/plain": [
              "array([[-3, -2, -1,  0,  1,  2,  3],\n",
              "       [-3, -2, -1,  0,  1,  2,  3],\n",
              "       [-3, -2, -1,  0,  1,  2,  3],\n",
              "       [-3, -2, -1,  0,  1,  2,  3],\n",
              "       [-3, -2, -1,  0,  1,  2,  3],\n",
              "       [-3, -2, -1,  0,  1,  2,  3],\n",
              "       [-3, -2, -1,  0,  1,  2,  3],\n",
              "       [-3, -2, -1,  0,  1,  2,  3],\n",
              "       [-3, -2, -1,  0,  1,  2,  3],\n",
              "       [-3, -2, -1,  0,  1,  2,  3],\n",
              "       [-3, -2, -1,  0,  1,  2,  3]])"
            ]
          },
          "execution_count": 5,
          "metadata": {},
          "output_type": "execute_result"
        }
      ]
    },
    {
      "cell_type": "code",
      "metadata": {
        "id": "890cdb77",
        "outputId": "ecfb16e9-64d8-424d-d026-9b8db05a2d26"
      },
      "source": [
        "ym"
      ],
      "id": "890cdb77",
      "execution_count": null,
      "outputs": [
        {
          "data": {
            "text/plain": [
              "array([[-5, -5, -5, -5, -5, -5, -5],\n",
              "       [-4, -4, -4, -4, -4, -4, -4],\n",
              "       [-3, -3, -3, -3, -3, -3, -3],\n",
              "       [-2, -2, -2, -2, -2, -2, -2],\n",
              "       [-1, -1, -1, -1, -1, -1, -1],\n",
              "       [ 0,  0,  0,  0,  0,  0,  0],\n",
              "       [ 1,  1,  1,  1,  1,  1,  1],\n",
              "       [ 2,  2,  2,  2,  2,  2,  2],\n",
              "       [ 3,  3,  3,  3,  3,  3,  3],\n",
              "       [ 4,  4,  4,  4,  4,  4,  4],\n",
              "       [ 5,  5,  5,  5,  5,  5,  5]])"
            ]
          },
          "execution_count": 6,
          "metadata": {},
          "output_type": "execute_result"
        }
      ]
    },
    {
      "cell_type": "markdown",
      "metadata": {
        "id": "46cb94a1"
      },
      "source": [
        "__As Dots__"
      ],
      "id": "46cb94a1"
    },
    {
      "cell_type": "code",
      "metadata": {
        "id": "9c657ce1",
        "outputId": "31e47561-e0dc-4963-f261-6fe84162149c"
      },
      "source": [
        "# Scatterplot of the points\n",
        "plt.plot(xm, ym, 'ro');"
      ],
      "id": "9c657ce1",
      "execution_count": null,
      "outputs": [
        {
          "data": {
            "image/png": "[encoded data removed]",
            "text/plain": [
              "<Figure size 720x504 with 1 Axes>"
            ]
          },
          "metadata": {
            "needs_background": "light"
          },
          "output_type": "display_data"
        }
      ]
    },
    {
      "cell_type": "markdown",
      "metadata": {
        "id": "0830b6f8"
      },
      "source": [
        "__As Lines__"
      ],
      "id": "0830b6f8"
    },
    {
      "cell_type": "code",
      "metadata": {
        "id": "ced985f1",
        "outputId": "6d51b7c7-c392-4234-a022-4135bf4c65f0"
      },
      "source": [
        "# Scatterplot of the points\n",
        "plt.plot(xm, ym, 'r-');\n",
        "plt.plot(xm.T, ym.T, 'r-');"
      ],
      "id": "ced985f1",
      "execution_count": null,
      "outputs": [
        {
          "data": {
            "image/png": "[encoded data removed]",
            "text/plain": [
              "<Figure size 720x504 with 1 Axes>"
            ]
          },
          "metadata": {
            "needs_background": "light"
          },
          "output_type": "display_data"
        }
      ]
    },
    {
      "cell_type": "code",
      "metadata": {
        "id": "02a70184"
      },
      "source": [
        ""
      ],
      "id": "02a70184",
      "execution_count": null,
      "outputs": []
    }
  ]
}