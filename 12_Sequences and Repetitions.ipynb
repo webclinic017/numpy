{
 "cells": [
  {
   "cell_type": "markdown",
   "id": "2269782a",
   "metadata": {},
   "source": [
    "<div style=\"color:#006666; padding:0px 10px; border-radius:5px; font-size:18px; text-align:center\"><h1 style='margin:10px 5px'>Sequences and Repetitions</h1>\n",
    "<hr>\n",
    "<p style=\"color:#006666; text-align:right;font-size:10px\">\n",
    "Copyright by MachineLearningPlus. All Rights Reserved.\n",
    "</p>\n",
    "\n",
    "</div>"
   ]
  },
  {
   "cell_type": "markdown",
   "id": "2c2295d5",
   "metadata": {},
   "source": [
    "__Create a simple sequence__"
   ]
  },
  {
   "cell_type": "code",
   "execution_count": 1,
   "id": "39b7ced8",
   "metadata": {},
   "outputs": [
    {
     "data": {
      "text/plain": [
       "array([0, 1, 2, 3, 4, 5, 6, 7, 8, 9])"
      ]
     },
     "execution_count": 1,
     "metadata": {},
     "output_type": "execute_result"
    }
   ],
   "source": [
    "import numpy as np\n",
    "a = np.arange(10)\n",
    "a"
   ]
  },
  {
   "cell_type": "markdown",
   "id": "82550e07",
   "metadata": {},
   "source": [
    "__Sequence with steps__"
   ]
  },
  {
   "cell_type": "code",
   "execution_count": 2,
   "id": "22705c38",
   "metadata": {},
   "outputs": [
    {
     "data": {
      "text/plain": [
       "array([ 1,  4,  7, 10, 13, 16, 19])"
      ]
     },
     "execution_count": 2,
     "metadata": {},
     "output_type": "execute_result"
    }
   ],
   "source": [
    "# steps of 3\n",
    "np.arange(1, 20, 3)"
   ]
  },
  {
   "cell_type": "markdown",
   "id": "fe06e8ea",
   "metadata": {},
   "source": [
    "Reverse direction with negatve step."
   ]
  },
  {
   "cell_type": "code",
   "execution_count": 3,
   "id": "c6477930",
   "metadata": {},
   "outputs": [
    {
     "data": {
      "text/plain": [
       "array([20, 17, 14, 11,  8,  5,  2])"
      ]
     },
     "execution_count": 3,
     "metadata": {},
     "output_type": "execute_result"
    }
   ],
   "source": [
    "np.arange(20, 1, -3)"
   ]
  },
  {
   "cell_type": "markdown",
   "id": "e66457fc",
   "metadata": {},
   "source": [
    "__When you don't know the step size__\n",
    "\n",
    "Use `np.linspace` Linear and equally spaced sequence."
   ]
  },
  {
   "cell_type": "code",
   "execution_count": 4,
   "id": "7c44ec4e",
   "metadata": {},
   "outputs": [
    {
     "data": {
      "text/plain": [
       "array([1.        , 1.11111111, 1.22222222, 1.33333333, 1.44444444,\n",
       "       1.55555556, 1.66666667, 1.77777778, 1.88888889, 2.        ])"
      ]
     },
     "execution_count": 4,
     "metadata": {},
     "output_type": "execute_result"
    }
   ],
   "source": [
    "np.linspace(1, 2, 10)"
   ]
  },
  {
   "cell_type": "markdown",
   "id": "366c2d74",
   "metadata": {},
   "source": [
    "To see the stepsize used, set `retstep=True`."
   ]
  },
  {
   "cell_type": "code",
   "execution_count": 5,
   "id": "58c76290",
   "metadata": {},
   "outputs": [
    {
     "data": {
      "text/plain": [
       "(array([1.        , 1.11111111, 1.22222222, 1.33333333, 1.44444444,\n",
       "        1.55555556, 1.66666667, 1.77777778, 1.88888889, 2.        ]),\n",
       " 0.1111111111111111)"
      ]
     },
     "execution_count": 5,
     "metadata": {},
     "output_type": "execute_result"
    }
   ],
   "source": [
    "np.linspace(1, 2, 10, retstep=True)"
   ]
  },
  {
   "cell_type": "markdown",
   "id": "79a9f20d",
   "metadata": {},
   "source": [
    "__Log Space__"
   ]
  },
  {
   "cell_type": "markdown",
   "id": "8527c3e1",
   "metadata": {},
   "source": [
    "Similar to `linspace` but in log."
   ]
  },
  {
   "cell_type": "code",
   "execution_count": 6,
   "id": "87bff496",
   "metadata": {},
   "outputs": [
    {
     "data": {
      "text/plain": [
       "array([ 10.        ,  12.91549665,  16.68100537,  21.5443469 ,\n",
       "        27.82559402,  35.93813664,  46.41588834,  59.94842503,\n",
       "        77.42636827, 100.        ])"
      ]
     },
     "execution_count": 6,
     "metadata": {},
     "output_type": "execute_result"
    }
   ],
   "source": [
    "# log values: log(10) = 1 to log(100) = 2\n",
    "np.logspace(1, 2, 10)"
   ]
  },
  {
   "cell_type": "markdown",
   "id": "dfa687b0",
   "metadata": {},
   "source": [
    "__Repeating Sequences__"
   ]
  },
  {
   "cell_type": "markdown",
   "id": "b88754f0",
   "metadata": {},
   "source": [
    "`np.tile(x, n)` will repeat sequence `x`, `n` times."
   ]
  },
  {
   "cell_type": "code",
   "execution_count": 7,
   "id": "4fb31bda",
   "metadata": {},
   "outputs": [
    {
     "data": {
      "text/plain": [
       "array([1, 2, 3, 4, 1, 2, 3, 4, 1, 2, 3, 4])"
      ]
     },
     "execution_count": 7,
     "metadata": {},
     "output_type": "execute_result"
    }
   ],
   "source": [
    "np.tile([1,2,3,4], 3)"
   ]
  },
  {
   "cell_type": "markdown",
   "id": "863ef1ae",
   "metadata": {},
   "source": [
    "Repeat each item n times."
   ]
  },
  {
   "cell_type": "code",
   "execution_count": 8,
   "id": "ef017eb4",
   "metadata": {
    "scrolled": true
   },
   "outputs": [
    {
     "data": {
      "text/plain": [
       "array([1, 1, 1, 2, 2, 2, 3, 3, 3, 4, 4, 4])"
      ]
     },
     "execution_count": 8,
     "metadata": {},
     "output_type": "execute_result"
    }
   ],
   "source": [
    "np.repeat([1,2,3,4], 3)"
   ]
  },
  {
   "cell_type": "markdown",
   "id": "738b4a39",
   "metadata": {},
   "source": [
    "<div class=\"alert alert-info\" style=\"background-color:#006666; color:white; padding:0px 10px; border-radius:5px;\"><h2 style='margin:7px 5px; font-size:16px'>Mini Challenge</h2>\n",
    "</div>"
   ]
  },
  {
   "cell_type": "markdown",
   "id": "e1f2e2b7",
   "metadata": {},
   "source": [
    "Create the following pattern using the following input, without hardcoding (typing sequence by hand). There can be multiple approaches.\n",
    "\n",
    "__Input__\n",
    "\n",
    "```python\n",
    "a = np.array([1,2,3])\n",
    "```\n",
    "\n",
    "__Output__\n",
    "\n",
    "```python\n",
    "#> array([1, 1, 1, 2, 2, 2, 3, 3, 3, 1, 2, 3, 1, 2, 3, 1, 2, 3])\n",
    "```"
   ]
  },
  {
   "cell_type": "markdown",
   "id": "6b511e54",
   "metadata": {},
   "source": [
    "__Solution__"
   ]
  },
  {
   "cell_type": "code",
   "execution_count": null,
   "id": "8602cd92",
   "metadata": {},
   "outputs": [],
   "source": []
  },
  {
   "cell_type": "code",
   "execution_count": null,
   "id": "940d1575",
   "metadata": {},
   "outputs": [],
   "source": []
  },
  {
   "cell_type": "code",
   "execution_count": null,
   "id": "af310a3e",
   "metadata": {},
   "outputs": [],
   "source": []
  },
  {
   "cell_type": "code",
   "execution_count": null,
   "id": "3334c764",
   "metadata": {},
   "outputs": [],
   "source": []
  },
  {
   "cell_type": "code",
   "execution_count": null,
   "id": "11d48330",
   "metadata": {},
   "outputs": [],
   "source": []
  },
  {
   "cell_type": "code",
   "execution_count": null,
   "id": "0fb51fb5",
   "metadata": {},
   "outputs": [],
   "source": []
  },
  {
   "cell_type": "code",
   "execution_count": 12,
   "id": "155e1c52",
   "metadata": {},
   "outputs": [
    {
     "data": {
      "text/plain": [
       "array([1, 1, 1, 2, 2, 2, 3, 3, 3, 1, 2, 3, 1, 2, 3, 1, 2, 3])"
      ]
     },
     "execution_count": 12,
     "metadata": {},
     "output_type": "execute_result"
    }
   ],
   "source": [
    "a = np.array([1,2,3])\n",
    "np.array([np.repeat(a, 3), np.tile(a, 3)]).flatten()"
   ]
  }
 ],
 "metadata": {
  "hide_input": false,
  "kernelspec": {
   "display_name": "Python 3",
   "language": "python",
   "name": "python3"
  },
  "language_info": {
   "codemirror_mode": {
    "name": "ipython",
    "version": 3
   },
   "file_extension": ".py",
   "mimetype": "text/x-python",
   "name": "python",
   "nbconvert_exporter": "python",
   "pygments_lexer": "ipython3",
   "version": "3.7.10"
  },
  "toc": {
   "base_numbering": 1,
   "nav_menu": {},
   "number_sections": false,
   "sideBar": true,
   "skip_h1_title": true,
   "title_cell": "Table of Contents",
   "title_sidebar": "Contents",
   "toc_cell": false,
   "toc_position": {},
   "toc_section_display": true,
   "toc_window_display": false
  }
 },
 "nbformat": 4,
 "nbformat_minor": 5
}
