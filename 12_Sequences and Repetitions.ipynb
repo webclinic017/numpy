{
  "nbformat": 4,
  "nbformat_minor": 5,
  "metadata": {
    "hide_input": false,
    "kernelspec": {
      "display_name": "Python 3",
      "language": "python",
      "name": "python3"
    },
    "language_info": {
      "codemirror_mode": {
        "name": "ipython",
        "version": 3
      },
      "file_extension": ".py",
      "mimetype": "text/x-python",
      "name": "python",
      "nbconvert_exporter": "python",
      "pygments_lexer": "ipython3",
      "version": "3.7.10"
    },
    "toc": {
      "base_numbering": 1,
      "nav_menu": {},
      "number_sections": false,
      "sideBar": true,
      "skip_h1_title": true,
      "title_cell": "Table of Contents",
      "title_sidebar": "Contents",
      "toc_cell": false,
      "toc_position": {},
      "toc_section_display": true,
      "toc_window_display": false
    },
    "colab": {
      "name": "12_Sequences and Repetitions.ipynb",
      "provenance": [],
      "include_colab_link": true
    }
  },
  "cells": [
    {
      "cell_type": "markdown",
      "metadata": {
        "id": "view-in-github",
        "colab_type": "text"
      },
      "source": [
        "<a href=\"https://colab.research.google.com/github/patelsaumya/numpy/blob/master/12_Sequences%20and%20Repetitions.ipynb\" target=\"_parent\"><img src=\"https://colab.research.google.com/assets/colab-badge.svg\" alt=\"Open In Colab\"/></a>"
      ]
    },
    {
      "cell_type": "markdown",
      "metadata": {
        "id": "2269782a"
      },
      "source": [
        "<div style=\"color:#006666; padding:0px 10px; border-radius:5px; font-size:18px; text-align:center\"><h1 style='margin:10px 5px'>Sequences and Repetitions</h1>\n",
        "<hr>\n",
        "<p style=\"color:#006666; text-align:right;font-size:10px\">\n",
        "Copyright by MachineLearningPlus. All Rights Reserved.\n",
        "</p>\n",
        "\n",
        "</div>"
      ],
      "id": "2269782a"
    },
    {
      "cell_type": "markdown",
      "metadata": {
        "id": "2c2295d5"
      },
      "source": [
        "__Create a simple sequence__"
      ],
      "id": "2c2295d5"
    },
    {
      "cell_type": "code",
      "metadata": {
        "id": "39b7ced8",
        "outputId": "a668e543-f204-401e-9cb2-4b885143b94f"
      },
      "source": [
        "import numpy as np\n",
        "a = np.arange(10)\n",
        "a"
      ],
      "id": "39b7ced8",
      "execution_count": null,
      "outputs": [
        {
          "data": {
            "text/plain": [
              "array([0, 1, 2, 3, 4, 5, 6, 7, 8, 9])"
            ]
          },
          "execution_count": 1,
          "metadata": {},
          "output_type": "execute_result"
        }
      ]
    },
    {
      "cell_type": "markdown",
      "metadata": {
        "id": "82550e07"
      },
      "source": [
        "__Sequence with steps__"
      ],
      "id": "82550e07"
    },
    {
      "cell_type": "code",
      "metadata": {
        "id": "22705c38",
        "outputId": "624e93db-c060-4f77-95a3-7c0749cf14e5"
      },
      "source": [
        "# steps of 3\n",
        "np.arange(1, 20, 3)"
      ],
      "id": "22705c38",
      "execution_count": null,
      "outputs": [
        {
          "data": {
            "text/plain": [
              "array([ 1,  4,  7, 10, 13, 16, 19])"
            ]
          },
          "execution_count": 2,
          "metadata": {},
          "output_type": "execute_result"
        }
      ]
    },
    {
      "cell_type": "markdown",
      "metadata": {
        "id": "fe06e8ea"
      },
      "source": [
        "Reverse direction with negatve step."
      ],
      "id": "fe06e8ea"
    },
    {
      "cell_type": "code",
      "metadata": {
        "id": "c6477930",
        "outputId": "78a77c0a-ef71-4779-a1c6-17ecf6cfc2d2"
      },
      "source": [
        "np.arange(20, 1, -3)"
      ],
      "id": "c6477930",
      "execution_count": null,
      "outputs": [
        {
          "data": {
            "text/plain": [
              "array([20, 17, 14, 11,  8,  5,  2])"
            ]
          },
          "execution_count": 3,
          "metadata": {},
          "output_type": "execute_result"
        }
      ]
    },
    {
      "cell_type": "markdown",
      "metadata": {
        "id": "e66457fc"
      },
      "source": [
        "__When you don't know the step size__\n",
        "\n",
        "Use `np.linspace` Linear and equally spaced sequence."
      ],
      "id": "e66457fc"
    },
    {
      "cell_type": "code",
      "metadata": {
        "id": "7c44ec4e",
        "outputId": "81f4a467-1c99-4632-cae9-4ea52909686e"
      },
      "source": [
        "np.linspace(1, 2, 10)"
      ],
      "id": "7c44ec4e",
      "execution_count": null,
      "outputs": [
        {
          "data": {
            "text/plain": [
              "array([1.        , 1.11111111, 1.22222222, 1.33333333, 1.44444444,\n",
              "       1.55555556, 1.66666667, 1.77777778, 1.88888889, 2.        ])"
            ]
          },
          "execution_count": 4,
          "metadata": {},
          "output_type": "execute_result"
        }
      ]
    },
    {
      "cell_type": "markdown",
      "metadata": {
        "id": "366c2d74"
      },
      "source": [
        "To see the stepsize used, set `retstep=True`."
      ],
      "id": "366c2d74"
    },
    {
      "cell_type": "code",
      "metadata": {
        "id": "58c76290",
        "outputId": "dd10dd4c-16c0-42ed-b13d-f610cd606c86"
      },
      "source": [
        "np.linspace(1, 2, 10, retstep=True)"
      ],
      "id": "58c76290",
      "execution_count": null,
      "outputs": [
        {
          "data": {
            "text/plain": [
              "(array([1.        , 1.11111111, 1.22222222, 1.33333333, 1.44444444,\n",
              "        1.55555556, 1.66666667, 1.77777778, 1.88888889, 2.        ]),\n",
              " 0.1111111111111111)"
            ]
          },
          "execution_count": 5,
          "metadata": {},
          "output_type": "execute_result"
        }
      ]
    },
    {
      "cell_type": "markdown",
      "metadata": {
        "id": "79a9f20d"
      },
      "source": [
        "__Log Space__"
      ],
      "id": "79a9f20d"
    },
    {
      "cell_type": "markdown",
      "metadata": {
        "id": "8527c3e1"
      },
      "source": [
        "Similar to `linspace` but in log."
      ],
      "id": "8527c3e1"
    },
    {
      "cell_type": "code",
      "metadata": {
        "id": "87bff496",
        "outputId": "ca8d86bf-d174-4baa-85bf-eb175ed5f88d"
      },
      "source": [
        "# log values: log(10) = 1 to log(100) = 2\n",
        "np.logspace(1, 2, 10)"
      ],
      "id": "87bff496",
      "execution_count": null,
      "outputs": [
        {
          "data": {
            "text/plain": [
              "array([ 10.        ,  12.91549665,  16.68100537,  21.5443469 ,\n",
              "        27.82559402,  35.93813664,  46.41588834,  59.94842503,\n",
              "        77.42636827, 100.        ])"
            ]
          },
          "execution_count": 6,
          "metadata": {},
          "output_type": "execute_result"
        }
      ]
    },
    {
      "cell_type": "markdown",
      "metadata": {
        "id": "dfa687b0"
      },
      "source": [
        "__Repeating Sequences__"
      ],
      "id": "dfa687b0"
    },
    {
      "cell_type": "markdown",
      "metadata": {
        "id": "b88754f0"
      },
      "source": [
        "`np.tile(x, n)` will repeat sequence `x`, `n` times."
      ],
      "id": "b88754f0"
    },
    {
      "cell_type": "code",
      "metadata": {
        "id": "4fb31bda",
        "outputId": "0566a5d6-cae1-4e5d-9bae-b2638e300bcd"
      },
      "source": [
        "np.tile([1,2,3,4], 3)"
      ],
      "id": "4fb31bda",
      "execution_count": null,
      "outputs": [
        {
          "data": {
            "text/plain": [
              "array([1, 2, 3, 4, 1, 2, 3, 4, 1, 2, 3, 4])"
            ]
          },
          "execution_count": 7,
          "metadata": {},
          "output_type": "execute_result"
        }
      ]
    },
    {
      "cell_type": "markdown",
      "metadata": {
        "id": "863ef1ae"
      },
      "source": [
        "Repeat each item n times."
      ],
      "id": "863ef1ae"
    },
    {
      "cell_type": "code",
      "metadata": {
        "scrolled": true,
        "id": "ef017eb4",
        "outputId": "be316b54-f89c-46a9-fe5f-9462d223bd38"
      },
      "source": [
        "np.repeat([1,2,3,4], 3)"
      ],
      "id": "ef017eb4",
      "execution_count": null,
      "outputs": [
        {
          "data": {
            "text/plain": [
              "array([1, 1, 1, 2, 2, 2, 3, 3, 3, 4, 4, 4])"
            ]
          },
          "execution_count": 8,
          "metadata": {},
          "output_type": "execute_result"
        }
      ]
    },
    {
      "cell_type": "markdown",
      "metadata": {
        "id": "738b4a39"
      },
      "source": [
        "<div class=\"alert alert-info\" style=\"background-color:#006666; color:white; padding:0px 10px; border-radius:5px;\"><h2 style='margin:7px 5px; font-size:16px'>Mini Challenge</h2>\n",
        "</div>"
      ],
      "id": "738b4a39"
    },
    {
      "cell_type": "markdown",
      "metadata": {
        "id": "e1f2e2b7"
      },
      "source": [
        "Create the following pattern using the following input, without hardcoding (typing sequence by hand). There can be multiple approaches.\n",
        "\n",
        "__Input__\n",
        "\n",
        "```python\n",
        "a = np.array([1,2,3])\n",
        "```\n",
        "\n",
        "__Output__\n",
        "\n",
        "```python\n",
        "#> array([1, 1, 1, 2, 2, 2, 3, 3, 3, 1, 2, 3, 1, 2, 3, 1, 2, 3])\n",
        "```"
      ],
      "id": "e1f2e2b7"
    },
    {
      "cell_type": "markdown",
      "metadata": {
        "id": "6b511e54"
      },
      "source": [
        "__Solution__"
      ],
      "id": "6b511e54"
    },
    {
      "cell_type": "code",
      "metadata": {
        "id": "8602cd92"
      },
      "source": [
        ""
      ],
      "id": "8602cd92",
      "execution_count": null,
      "outputs": []
    },
    {
      "cell_type": "code",
      "metadata": {
        "id": "940d1575"
      },
      "source": [
        ""
      ],
      "id": "940d1575",
      "execution_count": null,
      "outputs": []
    },
    {
      "cell_type": "code",
      "metadata": {
        "id": "af310a3e"
      },
      "source": [
        ""
      ],
      "id": "af310a3e",
      "execution_count": null,
      "outputs": []
    },
    {
      "cell_type": "code",
      "metadata": {
        "id": "3334c764"
      },
      "source": [
        ""
      ],
      "id": "3334c764",
      "execution_count": null,
      "outputs": []
    },
    {
      "cell_type": "code",
      "metadata": {
        "id": "11d48330"
      },
      "source": [
        ""
      ],
      "id": "11d48330",
      "execution_count": null,
      "outputs": []
    },
    {
      "cell_type": "code",
      "metadata": {
        "id": "0fb51fb5"
      },
      "source": [
        ""
      ],
      "id": "0fb51fb5",
      "execution_count": null,
      "outputs": []
    },
    {
      "cell_type": "code",
      "metadata": {
        "id": "155e1c52",
        "outputId": "b1eec639-2552-4adc-9532-79a93787b718"
      },
      "source": [
        "a = np.array([1,2,3])\n",
        "np.array([np.repeat(a, 3), np.tile(a, 3)]).flatten()"
      ],
      "id": "155e1c52",
      "execution_count": null,
      "outputs": [
        {
          "data": {
            "text/plain": [
              "array([1, 1, 1, 2, 2, 2, 3, 3, 3, 1, 2, 3, 1, 2, 3, 1, 2, 3])"
            ]
          },
          "execution_count": 12,
          "metadata": {},
          "output_type": "execute_result"
        }
      ]
    }
  ]
}