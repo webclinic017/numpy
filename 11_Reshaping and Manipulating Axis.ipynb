{
  "nbformat": 4,
  "nbformat_minor": 5,
  "metadata": {
    "hide_input": false,
    "kernelspec": {
      "display_name": "Python 3",
      "language": "python",
      "name": "python3"
    },
    "language_info": {
      "codemirror_mode": {
        "name": "ipython",
        "version": 3
      },
      "file_extension": ".py",
      "mimetype": "text/x-python",
      "name": "python",
      "nbconvert_exporter": "python",
      "pygments_lexer": "ipython3",
      "version": "3.7.10"
    },
    "toc": {
      "base_numbering": 1,
      "nav_menu": {},
      "number_sections": false,
      "sideBar": true,
      "skip_h1_title": true,
      "title_cell": "Table of Contents",
      "title_sidebar": "Contents",
      "toc_cell": false,
      "toc_position": {},
      "toc_section_display": true,
      "toc_window_display": false
    },
    "colab": {
      "name": "11_Reshaping and Manipulating Axis.ipynb",
      "provenance": [],
      "include_colab_link": true
    }
  },
  "cells": [
    {
      "cell_type": "markdown",
      "metadata": {
        "id": "view-in-github",
        "colab_type": "text"
      },
      "source": [
        "<a href=\"https://colab.research.google.com/github/patelsaumya/numpy/blob/master/11_Reshaping%20and%20Manipulating%20Axis.ipynb\" target=\"_parent\"><img src=\"https://colab.research.google.com/assets/colab-badge.svg\" alt=\"Open In Colab\"/></a>"
      ]
    },
    {
      "cell_type": "markdown",
      "metadata": {
        "id": "e392b86d"
      },
      "source": [
        "<div style=\"color:#006666; padding:0px 10px; border-radius:5px; font-size:18px; text-align:center\"><h1 style='margin:10px 5px'>Reshaping and New Axis</h1>\n",
        "<hr>\n",
        "<p style=\"color:#006666; text-align:right;font-size:10px\">\n",
        "Copyright by MachineLearningPlus. All Rights Reserved.\n",
        "</p>\n",
        "\n",
        "</div>"
      ],
      "id": "e392b86d"
    },
    {
      "cell_type": "code",
      "metadata": {
        "id": "3ee6b14c"
      },
      "source": [
        "import numpy as np"
      ],
      "id": "3ee6b14c",
      "execution_count": null,
      "outputs": []
    },
    {
      "cell_type": "markdown",
      "metadata": {
        "id": "c9342ac2"
      },
      "source": [
        "__Create 3x2 array__"
      ],
      "id": "c9342ac2"
    },
    {
      "cell_type": "code",
      "metadata": {
        "id": "50ed8226",
        "outputId": "b05e70da-1113-40d3-fbed-b86c25fc2096"
      },
      "source": [
        "arr = np.array([[1,2],[3,4],[5,6]])\n",
        "arr"
      ],
      "id": "50ed8226",
      "execution_count": null,
      "outputs": [
        {
          "data": {
            "text/plain": [
              "array([[1, 2],\n",
              "       [3, 4],\n",
              "       [5, 6]])"
            ]
          },
          "execution_count": 2,
          "metadata": {},
          "output_type": "execute_result"
        }
      ]
    },
    {
      "cell_type": "code",
      "metadata": {
        "id": "4fe8cd05",
        "outputId": "44f6ef0f-6cd9-405d-d044-ee6b850b8ce7"
      },
      "source": [
        "arr.shape"
      ],
      "id": "4fe8cd05",
      "execution_count": null,
      "outputs": [
        {
          "data": {
            "text/plain": [
              "(3, 2)"
            ]
          },
          "execution_count": 3,
          "metadata": {},
          "output_type": "execute_result"
        }
      ]
    },
    {
      "cell_type": "markdown",
      "metadata": {
        "id": "e69b88c7"
      },
      "source": [
        "__Reshape it to 2 rows and 3 cols.__"
      ],
      "id": "e69b88c7"
    },
    {
      "cell_type": "code",
      "metadata": {
        "id": "cc446deb",
        "outputId": "81565d87-93db-40ba-99a5-2e6f61a0c006"
      },
      "source": [
        "arr2 = arr.reshape(2,3)\n",
        "arr2"
      ],
      "id": "cc446deb",
      "execution_count": null,
      "outputs": [
        {
          "data": {
            "text/plain": [
              "array([[1, 2, 3],\n",
              "       [4, 5, 6]])"
            ]
          },
          "execution_count": 4,
          "metadata": {},
          "output_type": "execute_result"
        }
      ]
    },
    {
      "cell_type": "code",
      "metadata": {
        "id": "95612ee9",
        "outputId": "25458016-4d47-4667-c441-d1807f5b91e7"
      },
      "source": [
        "print(id(arr))\n",
        "print(id(arr2))"
      ],
      "id": "95612ee9",
      "execution_count": null,
      "outputs": [
        {
          "name": "stdout",
          "output_type": "stream",
          "text": [
            "1880374814960\n",
            "1880375891728\n"
          ]
        }
      ]
    },
    {
      "cell_type": "markdown",
      "metadata": {
        "id": "a7f3d2d4"
      },
      "source": [
        "__If you don't know the number of rows but know the columns before hand, set n_rows=-1__"
      ],
      "id": "a7f3d2d4"
    },
    {
      "cell_type": "code",
      "metadata": {
        "id": "a7b3091c",
        "outputId": "91cbf79e-0cec-4643-f6a0-575214a29eba"
      },
      "source": [
        "arr = np.arange(63)\n",
        "arr"
      ],
      "id": "a7b3091c",
      "execution_count": null,
      "outputs": [
        {
          "data": {
            "text/plain": [
              "array([ 0,  1,  2,  3,  4,  5,  6,  7,  8,  9, 10, 11, 12, 13, 14, 15, 16,\n",
              "       17, 18, 19, 20, 21, 22, 23, 24, 25, 26, 27, 28, 29, 30, 31, 32, 33,\n",
              "       34, 35, 36, 37, 38, 39, 40, 41, 42, 43, 44, 45, 46, 47, 48, 49, 50,\n",
              "       51, 52, 53, 54, 55, 56, 57, 58, 59, 60, 61, 62])"
            ]
          },
          "execution_count": 6,
          "metadata": {},
          "output_type": "execute_result"
        }
      ]
    },
    {
      "cell_type": "code",
      "metadata": {
        "id": "c4ab0c16",
        "outputId": "e5395308-de3c-4efe-c8b1-2aaad44cf793"
      },
      "source": [
        "arr.reshape(-1, 3)"
      ],
      "id": "c4ab0c16",
      "execution_count": null,
      "outputs": [
        {
          "data": {
            "text/plain": [
              "array([[ 0,  1,  2],\n",
              "       [ 3,  4,  5],\n",
              "       [ 6,  7,  8],\n",
              "       [ 9, 10, 11],\n",
              "       [12, 13, 14],\n",
              "       [15, 16, 17],\n",
              "       [18, 19, 20],\n",
              "       [21, 22, 23],\n",
              "       [24, 25, 26],\n",
              "       [27, 28, 29],\n",
              "       [30, 31, 32],\n",
              "       [33, 34, 35],\n",
              "       [36, 37, 38],\n",
              "       [39, 40, 41],\n",
              "       [42, 43, 44],\n",
              "       [45, 46, 47],\n",
              "       [48, 49, 50],\n",
              "       [51, 52, 53],\n",
              "       [54, 55, 56],\n",
              "       [57, 58, 59],\n",
              "       [60, 61, 62]])"
            ]
          },
          "execution_count": 7,
          "metadata": {},
          "output_type": "execute_result"
        }
      ]
    },
    {
      "cell_type": "markdown",
      "metadata": {
        "id": "946ee06c"
      },
      "source": [
        "__`resize()` changes the shape of the array in place. No need to reassign.__"
      ],
      "id": "946ee06c"
    },
    {
      "cell_type": "code",
      "metadata": {
        "id": "424d3dfa",
        "outputId": "838d4f21-2d7e-4d74-ba88-e8f5bd75b691"
      },
      "source": [
        "arr = np.arange(12)\n",
        "arr"
      ],
      "id": "424d3dfa",
      "execution_count": null,
      "outputs": [
        {
          "data": {
            "text/plain": [
              "array([ 0,  1,  2,  3,  4,  5,  6,  7,  8,  9, 10, 11])"
            ]
          },
          "execution_count": 8,
          "metadata": {},
          "output_type": "execute_result"
        }
      ]
    },
    {
      "cell_type": "code",
      "metadata": {
        "id": "cb49550a",
        "outputId": "a5d5f973-27c6-40f5-dbca-075fe3ebe2a8"
      },
      "source": [
        "print(id(arr))"
      ],
      "id": "cb49550a",
      "execution_count": null,
      "outputs": [
        {
          "name": "stdout",
          "output_type": "stream",
          "text": [
            "1880375933088\n"
          ]
        }
      ]
    },
    {
      "cell_type": "code",
      "metadata": {
        "id": "f4ee3058"
      },
      "source": [
        "arr.resize(4, 3)"
      ],
      "id": "f4ee3058",
      "execution_count": null,
      "outputs": []
    },
    {
      "cell_type": "code",
      "metadata": {
        "id": "3eedf466",
        "outputId": "9b485d95-6550-4454-89fd-d849b7125e0d"
      },
      "source": [
        "arr"
      ],
      "id": "3eedf466",
      "execution_count": null,
      "outputs": [
        {
          "data": {
            "text/plain": [
              "array([[ 0,  1,  2],\n",
              "       [ 3,  4,  5],\n",
              "       [ 6,  7,  8],\n",
              "       [ 9, 10, 11]])"
            ]
          },
          "execution_count": 11,
          "metadata": {},
          "output_type": "execute_result"
        }
      ]
    },
    {
      "cell_type": "code",
      "metadata": {
        "id": "9cc8c6e7",
        "outputId": "2c53de54-a8cc-4ce2-cbbc-0476a9a33a23"
      },
      "source": [
        "print(id(arr))"
      ],
      "id": "9cc8c6e7",
      "execution_count": null,
      "outputs": [
        {
          "name": "stdout",
          "output_type": "stream",
          "text": [
            "1880375933088\n"
          ]
        }
      ]
    },
    {
      "cell_type": "markdown",
      "metadata": {
        "id": "43ff14c8"
      },
      "source": [
        "__Add an axis: Column or Row__"
      ],
      "id": "43ff14c8"
    },
    {
      "cell_type": "code",
      "metadata": {
        "id": "4233174d",
        "outputId": "2aebe3b6-9d95-415a-f410-0d90aa860c5e"
      },
      "source": [
        "arr = np.arange(6)\n",
        "arr"
      ],
      "id": "4233174d",
      "execution_count": null,
      "outputs": [
        {
          "data": {
            "text/plain": [
              "array([0, 1, 2, 3, 4, 5])"
            ]
          },
          "execution_count": 13,
          "metadata": {},
          "output_type": "execute_result"
        }
      ]
    },
    {
      "cell_type": "code",
      "metadata": {
        "id": "7811fcc3",
        "outputId": "923d09af-6481-4c4f-81ed-fdd4d317b077"
      },
      "source": [
        "# make it as a column of a 2d array\n",
        "arr1 = arr[:, np.newaxis]\n",
        "arr1"
      ],
      "id": "7811fcc3",
      "execution_count": null,
      "outputs": [
        {
          "data": {
            "text/plain": [
              "array([[0],\n",
              "       [1],\n",
              "       [2],\n",
              "       [3],\n",
              "       [4],\n",
              "       [5]])"
            ]
          },
          "execution_count": 14,
          "metadata": {},
          "output_type": "execute_result"
        }
      ]
    },
    {
      "cell_type": "code",
      "metadata": {
        "id": "dbf7a164",
        "outputId": "1aae6715-d190-43f4-ed34-e18ba95fa170"
      },
      "source": [
        "arr1.shape"
      ],
      "id": "dbf7a164",
      "execution_count": null,
      "outputs": [
        {
          "data": {
            "text/plain": [
              "(6, 1)"
            ]
          },
          "execution_count": 15,
          "metadata": {},
          "output_type": "execute_result"
        }
      ]
    },
    {
      "cell_type": "code",
      "metadata": {
        "id": "697fd49f",
        "outputId": "a1ce40fd-c312-4cb6-c94a-671961da91be"
      },
      "source": [
        "# make it as a row of a 2d array\n",
        "arr2 = arr[np.newaxis, :]\n",
        "arr2"
      ],
      "id": "697fd49f",
      "execution_count": null,
      "outputs": [
        {
          "data": {
            "text/plain": [
              "array([[0, 1, 2, 3, 4, 5]])"
            ]
          },
          "execution_count": 16,
          "metadata": {},
          "output_type": "execute_result"
        }
      ]
    },
    {
      "cell_type": "code",
      "metadata": {
        "id": "7fd3fb25",
        "outputId": "6c2b15df-5365-4248-d563-1dbe4ac098d3"
      },
      "source": [
        "arr2.shape"
      ],
      "id": "7fd3fb25",
      "execution_count": null,
      "outputs": [
        {
          "data": {
            "text/plain": [
              "(1, 6)"
            ]
          },
          "execution_count": 17,
          "metadata": {},
          "output_type": "execute_result"
        }
      ]
    },
    {
      "cell_type": "markdown",
      "metadata": {
        "id": "733c4ebf"
      },
      "source": [
        "__Flatten an array__\n",
        "\n",
        "Flattens an array by creating a new copy of it."
      ],
      "id": "733c4ebf"
    },
    {
      "cell_type": "code",
      "metadata": {
        "id": "713fda42",
        "outputId": "2d14076a-bf2b-4754-8b7c-617761f6fcff"
      },
      "source": [
        "arr = np.array([[1,2],[3,4],[5,6]])\n",
        "arr"
      ],
      "id": "713fda42",
      "execution_count": null,
      "outputs": [
        {
          "data": {
            "text/plain": [
              "array([[1, 2],\n",
              "       [3, 4],\n",
              "       [5, 6]])"
            ]
          },
          "execution_count": 18,
          "metadata": {},
          "output_type": "execute_result"
        }
      ]
    },
    {
      "cell_type": "code",
      "metadata": {
        "id": "bc6349d7",
        "outputId": "70b9b814-9e9c-45fb-f5fb-179c7f262941"
      },
      "source": [
        "a2 = arr.flatten()\n",
        "a2"
      ],
      "id": "bc6349d7",
      "execution_count": null,
      "outputs": [
        {
          "data": {
            "text/plain": [
              "array([1, 2, 3, 4, 5, 6])"
            ]
          },
          "execution_count": 19,
          "metadata": {},
          "output_type": "execute_result"
        }
      ]
    },
    {
      "cell_type": "code",
      "metadata": {
        "id": "0eaa2666",
        "outputId": "b09eb420-6128-41b6-eecf-a54ebea71395"
      },
      "source": [
        "print(id(arr))\n",
        "print(id(a2))"
      ],
      "id": "0eaa2666",
      "execution_count": null,
      "outputs": [
        {
          "name": "stdout",
          "output_type": "stream",
          "text": [
            "1880375975648\n",
            "1880376002560\n"
          ]
        }
      ]
    },
    {
      "cell_type": "markdown",
      "metadata": {
        "id": "3a364f71"
      },
      "source": [
        "__Ravel__\n",
        "\n",
        "Ravel does not create a new array. It is a flattened view of the original array."
      ],
      "id": "3a364f71"
    },
    {
      "cell_type": "code",
      "metadata": {
        "id": "56631476"
      },
      "source": [
        "a3 = arr.ravel()"
      ],
      "id": "56631476",
      "execution_count": null,
      "outputs": []
    },
    {
      "cell_type": "code",
      "metadata": {
        "id": "0ecfdd30",
        "outputId": "7884da61-aee3-436f-d79b-f88feb198dea"
      },
      "source": [
        "id(arr)"
      ],
      "id": "0ecfdd30",
      "execution_count": null,
      "outputs": [
        {
          "data": {
            "text/plain": [
              "1880375975648"
            ]
          },
          "execution_count": 22,
          "metadata": {},
          "output_type": "execute_result"
        }
      ]
    },
    {
      "cell_type": "code",
      "metadata": {
        "id": "1901b03b",
        "outputId": "a4052476-97d8-4ba3-f920-b7c7e5f00f6a"
      },
      "source": [
        "# same id as arr. So same as `arr`\n",
        "print(id(a3))"
      ],
      "id": "1901b03b",
      "execution_count": null,
      "outputs": [
        {
          "name": "stdout",
          "output_type": "stream",
          "text": [
            "1880376004160\n"
          ]
        }
      ]
    },
    {
      "cell_type": "code",
      "metadata": {
        "id": "7428c491"
      },
      "source": [
        "a3"
      ],
      "id": "7428c491",
      "execution_count": null,
      "outputs": []
    },
    {
      "cell_type": "code",
      "metadata": {
        "id": "fcccb21a"
      },
      "source": [
        "arr"
      ],
      "id": "fcccb21a",
      "execution_count": null,
      "outputs": []
    },
    {
      "cell_type": "markdown",
      "metadata": {
        "id": "6e27a1eb"
      },
      "source": [
        "To iterate, use `arr.flat()`."
      ],
      "id": "6e27a1eb"
    },
    {
      "cell_type": "code",
      "metadata": {
        "id": "2a65b0c1",
        "outputId": "dd18c599-d219-4b9d-d387-984612ec95ab"
      },
      "source": [
        "for element in arr.flat:\n",
        "    print(element)"
      ],
      "id": "2a65b0c1",
      "execution_count": null,
      "outputs": [
        {
          "name": "stdout",
          "output_type": "stream",
          "text": [
            "1\n",
            "2\n",
            "3\n",
            "4\n",
            "5\n",
            "6\n"
          ]
        }
      ]
    },
    {
      "cell_type": "markdown",
      "metadata": {
        "id": "07951ddc"
      },
      "source": [
        "<div class=\"alert alert-info\" style=\"background-color:#006666; color:white; padding:0px 10px; border-radius:5px;\"><h2 style='margin:7px 5px; font-size:16px'>Mini Challenge</h2>\n",
        "</div>"
      ],
      "id": "07951ddc"
    },
    {
      "cell_type": "markdown",
      "metadata": {
        "id": "11c7ba85"
      },
      "source": [
        "Reshape the following array to a 2D array containing 4 rows. Try doing it without calculating the number of columns required.\n",
        "\n",
        "__Input__\n",
        "```python\n",
        "a = np.arange(24)\n",
        "```"
      ],
      "id": "11c7ba85"
    },
    {
      "cell_type": "markdown",
      "metadata": {
        "id": "cf36920d"
      },
      "source": [
        "__Solution__"
      ],
      "id": "cf36920d"
    },
    {
      "cell_type": "code",
      "metadata": {
        "id": "eb180ebe"
      },
      "source": [
        ""
      ],
      "id": "eb180ebe",
      "execution_count": null,
      "outputs": []
    },
    {
      "cell_type": "code",
      "metadata": {
        "id": "0fad9bd4"
      },
      "source": [
        ""
      ],
      "id": "0fad9bd4",
      "execution_count": null,
      "outputs": []
    },
    {
      "cell_type": "code",
      "metadata": {
        "id": "d4ffea40"
      },
      "source": [
        ""
      ],
      "id": "d4ffea40",
      "execution_count": null,
      "outputs": []
    },
    {
      "cell_type": "code",
      "metadata": {
        "id": "4e253b47"
      },
      "source": [
        ""
      ],
      "id": "4e253b47",
      "execution_count": null,
      "outputs": []
    },
    {
      "cell_type": "code",
      "metadata": {
        "id": "a1f85610"
      },
      "source": [
        ""
      ],
      "id": "a1f85610",
      "execution_count": null,
      "outputs": []
    },
    {
      "cell_type": "code",
      "metadata": {
        "id": "46f629fc"
      },
      "source": [
        ""
      ],
      "id": "46f629fc",
      "execution_count": null,
      "outputs": []
    },
    {
      "cell_type": "code",
      "metadata": {
        "id": "c210c713"
      },
      "source": [
        ""
      ],
      "id": "c210c713",
      "execution_count": null,
      "outputs": []
    },
    {
      "cell_type": "code",
      "metadata": {
        "id": "f5b8d1f9"
      },
      "source": [
        ""
      ],
      "id": "f5b8d1f9",
      "execution_count": null,
      "outputs": []
    },
    {
      "cell_type": "code",
      "metadata": {
        "id": "13549c8d"
      },
      "source": [
        ""
      ],
      "id": "13549c8d",
      "execution_count": null,
      "outputs": []
    },
    {
      "cell_type": "code",
      "metadata": {
        "id": "ff1a3bea"
      },
      "source": [
        ""
      ],
      "id": "ff1a3bea",
      "execution_count": null,
      "outputs": []
    },
    {
      "cell_type": "code",
      "metadata": {
        "id": "f7f1c1d9"
      },
      "source": [
        ""
      ],
      "id": "f7f1c1d9",
      "execution_count": null,
      "outputs": []
    },
    {
      "cell_type": "code",
      "metadata": {
        "id": "e951b03b"
      },
      "source": [
        ""
      ],
      "id": "e951b03b",
      "execution_count": null,
      "outputs": []
    },
    {
      "cell_type": "code",
      "metadata": {
        "id": "c18234f0",
        "outputId": "903a1c95-7108-45c2-ba68-ebf2f684fa38"
      },
      "source": [
        "# 1.\n",
        "a = np.arange(24)\n",
        "a.reshape(4,6)"
      ],
      "id": "c18234f0",
      "execution_count": null,
      "outputs": [
        {
          "data": {
            "text/plain": [
              "array([[ 0,  1,  2,  3,  4,  5],\n",
              "       [ 6,  7,  8,  9, 10, 11],\n",
              "       [12, 13, 14, 15, 16, 17],\n",
              "       [18, 19, 20, 21, 22, 23]])"
            ]
          },
          "execution_count": 25,
          "metadata": {},
          "output_type": "execute_result"
        }
      ]
    },
    {
      "cell_type": "code",
      "metadata": {
        "id": "0e887d31",
        "outputId": "19e95d54-b1da-413c-b68d-16f27ba3665a"
      },
      "source": [
        "# 2. Better solution\n",
        "a = np.arange(24)\n",
        "a.reshape(4,-1)"
      ],
      "id": "0e887d31",
      "execution_count": null,
      "outputs": [
        {
          "data": {
            "text/plain": [
              "array([[ 0,  1,  2,  3,  4,  5],\n",
              "       [ 6,  7,  8,  9, 10, 11],\n",
              "       [12, 13, 14, 15, 16, 17],\n",
              "       [18, 19, 20, 21, 22, 23]])"
            ]
          },
          "execution_count": 26,
          "metadata": {},
          "output_type": "execute_result"
        }
      ]
    },
    {
      "cell_type": "code",
      "metadata": {
        "id": "c2816cd1"
      },
      "source": [
        ""
      ],
      "id": "c2816cd1",
      "execution_count": null,
      "outputs": []
    }
  ]
}